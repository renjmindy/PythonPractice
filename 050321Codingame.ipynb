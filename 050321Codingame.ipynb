{
 "cells": [
  {
   "cell_type": "markdown",
   "id": "photographic-authority",
   "metadata": {},
   "source": [
    "Write last digit of number raised to the specified power.\n",
    "\n",
    "### Input\n",
    "\n",
    "Integer N to raise\n",
    "\n",
    "Integer P power\n",
    "\n",
    "\n",
    "### Output\n",
    "\n",
    "Integer R\n",
    "\n",
    "### Constraints \n",
    "\n",
    "0 < N < 10^19\n",
    "\n",
    "0 < P < 10^6\n",
    "\n",
    "### Example\n",
    "\n",
    "`Input`\n",
    "\n",
    "7 \n",
    "\n",
    "2\n",
    "\n",
    "`Output`\n",
    "\n",
    "9"
   ]
  },
  {
   "cell_type": "code",
   "execution_count": null,
   "id": "indirect-render",
   "metadata": {},
   "outputs": [],
   "source": [
    "import sys\n",
    "import math\n",
    "\n",
    "# Auto-generated code below aims at helping you parse\n",
    "# the standard input according to the problem statement.\n",
    "\n",
    "n = int(input())\n",
    "p = int(input())\n",
    "\n",
    "# Write an answer using print\n",
    "# To debug: print(\"Debug message...\", file=sys.stderr, flush=True)\n",
    "\n",
    "number = n**p\n",
    "nList = list(number)\n",
    "\n",
    "R = nList[-1]\n",
    "\n",
    "print(\"R:\", R)"
   ]
  },
  {
   "cell_type": "code",
   "execution_count": 1,
   "id": "every-enemy",
   "metadata": {},
   "outputs": [
    {
     "name": "stdout",
     "output_type": "stream",
     "text": [
      "['4', '9']\n",
      "9\n"
     ]
    }
   ],
   "source": [
    "n=7\n",
    "p=2\n",
    "\n",
    "number=n**p\n",
    "nList=list(str(number))\n",
    "\n",
    "print(nList)\n",
    "\n",
    "R=nList[-1]\n",
    "print(R)"
   ]
  },
  {
   "cell_type": "code",
   "execution_count": null,
   "id": "instrumental-fence",
   "metadata": {},
   "outputs": [],
   "source": []
  }
 ],
 "metadata": {
  "kernelspec": {
   "display_name": "learn-env",
   "language": "python",
   "name": "learn-env"
  },
  "language_info": {
   "codemirror_mode": {
    "name": "ipython",
    "version": 3
   },
   "file_extension": ".py",
   "mimetype": "text/x-python",
   "name": "python",
   "nbconvert_exporter": "python",
   "pygments_lexer": "ipython3",
   "version": "3.8.8"
  }
 },
 "nbformat": 4,
 "nbformat_minor": 5
}
