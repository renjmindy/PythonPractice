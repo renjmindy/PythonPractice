{
 "cells": [
  {
   "cell_type": "markdown",
   "metadata": {},
   "source": [
    "Create a function that takes a string and returns a new string with its first and last characters swapped, except under two conditions:\n",
    "\n",
    "If the length of the string is less than two, return \"Incompatible.\".\n",
    "\n",
    "If the first and last characters are the same, return \"Two's a pair.\".\n",
    "\n",
    "**Examples**\n",
    "\n",
    "flipEndChars(\"Cat, dog, and mouse.\") ➞ \".at, dog, and mouseC\"\n",
    "\n",
    "flipEndChars(\"ada\") ➞ \"Two's a pair.\"\n",
    "\n",
    "flipEndChars(\"Ada\") ➞ \"adA\"\n",
    "\n",
    "flipEndChars(\"z\") ➞ \"Incompatible.\"\n",
    "\n",
    "**Notes**\n",
    "\n",
    "Tests are case sensitive (e.g. \"A\" and \"a\" are not the same character)."
   ]
  },
  {
   "cell_type": "code",
   "execution_count": 1,
   "metadata": {},
   "outputs": [],
   "source": [
    "def cal_stringReverse(s):\n",
    "    \n",
    "    if len(list(s)) < 2:\n",
    "        return 'Incompatible.'\n",
    "    \n",
    "    elif list(s)[0] == list(s)[-1]:\n",
    "        return 'Two\\'s a pair.'\n",
    "    \n",
    "    else:\n",
    "        return ''.join(list(s[-1]) + list(s[1:-1]) + list(s[0]))"
   ]
  },
  {
   "cell_type": "code",
   "execution_count": 2,
   "metadata": {},
   "outputs": [
    {
     "data": {
      "text/plain": [
       "'.at, dog, and mouseC'"
      ]
     },
     "execution_count": 2,
     "metadata": {},
     "output_type": "execute_result"
    }
   ],
   "source": [
    "cal_stringReverse(\"Cat, dog, and mouse.\")"
   ]
  },
  {
   "cell_type": "code",
   "execution_count": 3,
   "metadata": {},
   "outputs": [
    {
     "data": {
      "text/plain": [
       "\"Two's a pair.\""
      ]
     },
     "execution_count": 3,
     "metadata": {},
     "output_type": "execute_result"
    }
   ],
   "source": [
    "cal_stringReverse(\"ada\")"
   ]
  },
  {
   "cell_type": "code",
   "execution_count": 4,
   "metadata": {},
   "outputs": [
    {
     "data": {
      "text/plain": [
       "'adA'"
      ]
     },
     "execution_count": 4,
     "metadata": {},
     "output_type": "execute_result"
    }
   ],
   "source": [
    "cal_stringReverse(\"Ada\")"
   ]
  },
  {
   "cell_type": "code",
   "execution_count": 5,
   "metadata": {},
   "outputs": [
    {
     "data": {
      "text/plain": [
       "'Incompatible.'"
      ]
     },
     "execution_count": 5,
     "metadata": {},
     "output_type": "execute_result"
    }
   ],
   "source": [
    "cal_stringReverse(\"z\")"
   ]
  },
  {
   "cell_type": "code",
   "execution_count": null,
   "metadata": {},
   "outputs": [],
   "source": []
  }
 ],
 "metadata": {
  "kernelspec": {
   "display_name": "learn-env",
   "language": "python",
   "name": "learn-env"
  },
  "language_info": {
   "codemirror_mode": {
    "name": "ipython",
    "version": 3
   },
   "file_extension": ".py",
   "mimetype": "text/x-python",
   "name": "python",
   "nbconvert_exporter": "python",
   "pygments_lexer": "ipython3",
   "version": "3.8.5"
  }
 },
 "nbformat": 4,
 "nbformat_minor": 4
}
