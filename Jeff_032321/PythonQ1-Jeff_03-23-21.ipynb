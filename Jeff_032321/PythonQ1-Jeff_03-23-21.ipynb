{
 "cells": [
  {
   "cell_type": "markdown",
   "id": "level-unemployment",
   "metadata": {},
   "source": [
    "## Q1: Array Operations: Next Greater Elements (NGE)"
   ]
  },
  {
   "cell_type": "markdown",
   "id": "verbal-railway",
   "metadata": {},
   "source": [
    "### Input Format\n",
    "\n",
    "The first line of input contains an integer **N**, denoting the size of the array.\n",
    "\n",
    "The next line contains **N** number of space-separated integers denoting the elements of array, **arr**. \n",
    "\n",
    "\n",
    "### Sample Input\n",
    "\n",
    "5     -- denotes N\n",
    "\n",
    "5 3 10 15 20 -- denotes N elements of array **arr**\n",
    "\n",
    "\n",
    "### Output Format\n",
    "\n",
    "The output should be in integer and should show all the elements of the array **result**, containing the NGE of each and every element separated by whitespace each and -1 if the NGE to be right.     \n",
    "\n",
    "\n",
    "### Sample Output\n",
    "\n",
    "10 10 15 20 -1\n",
    "\n",
    "\n",
    "### Explanation\n",
    "\n",
    "The NGE of **5** is **10**. Hence, **result[0]=10**.\n",
    "\n",
    "The NGE of **3** is **10**. Hence, **result[1]=10**.\n",
    "\n",
    "The NGE of **10** is **15**. Hence, **result[2]=15**.\n",
    "\n",
    "The NGE of **15** is **20**. Hence, **result[3]=20**.\n",
    "\n",
    "The NGE of **20** does not exist as it is the rightmost integer in the array. \n",
    "\n",
    "Hence, **result[4]=-1**.\n",
    "\n",
    "Therefore, the answer is **10 10 15 20 -1**."
   ]
  },
  {
   "cell_type": "code",
   "execution_count": 1,
   "id": "applied-woman",
   "metadata": {},
   "outputs": [],
   "source": [
    "def nextGreaterElement(N, A):\n",
    "    \n",
    "    result = []\n",
    "    \n",
    "    for n_i in range(0, N, 1):\n",
    "        for n_f in range(n_i+1, N, 1):\n",
    "            if A[n_f] > A[n_i]:\n",
    "                result.append(A[n_f])\n",
    "                break\n",
    "            else:\n",
    "                continue\n",
    "                \n",
    "    result.append(-1)            \n",
    "    print(result)\n",
    "    \n",
    "    return result"
   ]
  },
  {
   "cell_type": "code",
   "execution_count": 2,
   "id": "sealed-tuesday",
   "metadata": {},
   "outputs": [
    {
     "name": "stdout",
     "output_type": "stream",
     "text": [
      "[10, 10, 15, 20, -1]\n"
     ]
    },
    {
     "data": {
      "text/plain": [
       "[10, 10, 15, 20, -1]"
      ]
     },
     "execution_count": 2,
     "metadata": {},
     "output_type": "execute_result"
    }
   ],
   "source": [
    "N = 5\n",
    "A = [5, 3, 10, 15, 20]\n",
    "nextGreaterElement(N, A)"
   ]
  },
  {
   "cell_type": "code",
   "execution_count": null,
   "id": "reduced-measure",
   "metadata": {},
   "outputs": [],
   "source": []
  }
 ],
 "metadata": {
  "kernelspec": {
   "display_name": "learn-env",
   "language": "python",
   "name": "learn-env"
  },
  "language_info": {
   "codemirror_mode": {
    "name": "ipython",
    "version": 3
   },
   "file_extension": ".py",
   "mimetype": "text/x-python",
   "name": "python",
   "nbconvert_exporter": "python",
   "pygments_lexer": "ipython3",
   "version": "3.8.8"
  }
 },
 "nbformat": 4,
 "nbformat_minor": 5
}
