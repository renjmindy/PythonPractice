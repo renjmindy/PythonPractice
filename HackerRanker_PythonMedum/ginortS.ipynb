{
 "cells": [
  {
   "attachments": {
    "image.png": {
     "image/png": "[encoded data removed]"
    }
   },
   "cell_type": "markdown",
   "id": "empirical-clarity",
   "metadata": {},
   "source": [
    "## ginortS\n",
    "\n",
    "You are given a string **S**.\n",
    "\n",
    "**S** contains alphanumeric characters only.\n",
    "\n",
    "![image.png](attachment:image.png)\n",
    "\n",
    "Your task is to sort the string **S** in the following manner:\n",
    "\n",
    "* All sorted lowercase letters are ahead of uppercase letters.\n",
    "\n",
    "* All sorted uppercase letters are ahead of digits.\n",
    "\n",
    "* All sorted odd digits are ahead of sorted even digits.\n",
    "\n",
    "### Input Format\n",
    "\n",
    "A single line of input contains the string **S**.\n",
    "\n",
    "### Constraints\n",
    "\n",
    "* **0 < len(S) < 1000**\n",
    "\n",
    "### Output Format\n",
    "\n",
    "Output the sorted string **S**.\n",
    "\n",
    "### Sample Input\n",
    "\n",
    "`Sorting1234`\n",
    "\n",
    "### Sample Output\n",
    "\n",
    "`ginortS1324`"
   ]
  },
  {
   "cell_type": "code",
   "execution_count": 1,
   "id": "settled-index",
   "metadata": {},
   "outputs": [],
   "source": [
    "def ginortS(A):\n",
    "    \n",
    "    aList = list(A)\n",
    "    lList = []\n",
    "    uList = []\n",
    "    oList = []\n",
    "    eList = []\n",
    "    \n",
    "    for ai in aList:\n",
    "        \n",
    "        if ai.isdigit():\n",
    "            if int(ai) % 2 == 0:\n",
    "                eList.append(ai)\n",
    "            else:\n",
    "                oList.append(ai)\n",
    "        else:\n",
    "            if ai == ai.lower():\n",
    "                lList.append(ai)\n",
    "            else:\n",
    "                uList.append(ai) \n",
    "                \n",
    "    return ''.join(sorted(lList)+sorted(uList)+sorted(oList)+sorted(eList))\n",
    "        "
   ]
  },
  {
   "cell_type": "code",
   "execution_count": 2,
   "id": "adjusted-chart",
   "metadata": {},
   "outputs": [
    {
     "data": {
      "text/plain": [
       "'ginortS1324'"
      ]
     },
     "execution_count": 2,
     "metadata": {},
     "output_type": "execute_result"
    }
   ],
   "source": [
    "A = 'Sorting1234'\n",
    "ginortS(A)"
   ]
  },
  {
   "cell_type": "markdown",
   "id": "structural-charge",
   "metadata": {},
   "source": [
    "ginortS1324"
   ]
  },
  {
   "cell_type": "code",
   "execution_count": 3,
   "id": "warming-billy",
   "metadata": {},
   "outputs": [
    {
     "data": {
      "text/plain": [
       "'abcdefghijklmnopqrstuvwxyzABCDEFGHIJKLMNOPQRSTUVWXYZ1357902468'"
      ]
     },
     "execution_count": 3,
     "metadata": {},
     "output_type": "execute_result"
    }
   ],
   "source": [
    "A = '1qaz2wsx3edc4rfv5tgb6yhn7ujm8ik9ol0pQWERTYUIOPASDFGHJKLZXCVBNM'\n",
    "ginortS(A)"
   ]
  },
  {
   "cell_type": "markdown",
   "id": "third-senate",
   "metadata": {},
   "source": [
    "abcdefghijklmnopqrstuvwxyzABCDEFGHIJKLMNOPQRSTUVWXYZ1357902468"
   ]
  },
  {
   "cell_type": "code",
   "execution_count": 4,
   "id": "cardiovascular-toronto",
   "metadata": {},
   "outputs": [
    {
     "data": {
      "text/plain": [
       "'defghjqrtwyABCDEFGHIJKLMNOPQRSTUVWXYZ1113335557779990222444666888'"
      ]
     },
     "execution_count": 4,
     "metadata": {},
     "output_type": "execute_result"
    }
   ],
   "source": [
    "A = 'qwerty123456789dfghj123456789QWERTYUIOPASDFGHJKLZXCVBNM0123456789'\n",
    "ginortS(A)"
   ]
  },
  {
   "cell_type": "markdown",
   "id": "international-second",
   "metadata": {},
   "source": [
    "defghjqrtwyABCDEFGHIJKLMNOPQRSTUVWXYZ1113335557779990222444666888"
   ]
  },
  {
   "cell_type": "code",
   "execution_count": 5,
   "id": "spread-coordinator",
   "metadata": {},
   "outputs": [
    {
     "data": {
      "text/plain": [
       "'dddddddddddddddddeeeeeeeeeeeeeeefffffffffffggggggggggggggggghhhhhhhhhhhhhhhjjjjjjjjjjjjjjjjjjjjqqqqqqqqqqqqqqrrrrrrrrrrrrrrtttttttttttttttwwwwwwwwwwwwwwyyyyyyyyyyyyyyAAAAAAAAAAAAAAAAAAAABBBBBBBBBBCCCCCCCCCCCCCCCCCDDDDDDDDDDDEEEEEEEEEEEFFFFFFFFFFFFFFFGGGGGGGGGGGGGGHHHHHHHHHHHHHHHHHHHHHHHHHIIIIIIIIIIIIIIIIIIIIIIIIIIJJJJJJJJJJJJJJJJJJJJJJKKKKKKKKKKKKKKKKLLLLLLLLLLLLLLLLLMMMMMMMMMMMMMNNNNNNNNNNOOOOOOOOOOOPPPPPPPPPPPPPPPPPPQQQQQQQQQQQQQQRRRRRRRRRRRRRSSSSSSSSSSSSSSSSSTTTTTTTTTTTTTTTTTUUUUUUUUUUUUUUUVVVVVVVVVVVVVVVVVVVWWWWWWWWWWWWWWWWWWWWXXXXXXXXXXXXXYYYYYYYYYYZZZZZZZZZZZZZ111111111111111111111111111111111111111133333333333333333333333333333333333333333333333333355555555555555555555555555555555555555777777777777777777777777777777777777777777999999999999999999999999999999999999999999999900000000000002222222222222222222222222222222222222222222222222244444444444444444444444444444444444444444444446666666666666666666666666666666666666666666666666668888888888888888888888888888888888888888888888888'"
      ]
     },
     "execution_count": 5,
     "metadata": {},
     "output_type": "execute_result"
    }
   ],
   "source": [
    "A = 'JWPXjjL7YUD62dHRJ7h8rLB6rN144Y7h84CXS8KU76MSyV44h62X84VFJ3KA13481t8r7HW0r72h431F56C244JEw6E28I21qHXdH9M66qe1IJjd62892R22OGW35wN3O4tRI95S448e23BD83C6C7Fw32r335A028JIqSUVGXE7MS98PIU9IK4f36L5TdHIAr79JSw59Pe1UWj9GwWLUWT6313L7Jw60287T9E1L939HZAM25tVHr64fTIt29FI5E22PWd985hIg3445333gJ98PyfW13yLQtjV6Q68BwXeBCJ1CODO67Wd9590C7g7KMMjS9GPXZFhU3MhSNLZ993deWjZV5QGg58I764r2VREfAH3Zje3tg729FOV144E2983S6eB6W1qK5SH54V87Y28eSCCdG36FyA4GBP4548P591T65962P3IRj528LQhNy18YX8Nt79UjQV0D396Tj81ZyR76IhWW1Qh6B51U26d6q8wP26JO9yW3V1AO28JA7TQVWdGCLK4TRKwQ8J341M183A160P9TFG68ND3Ttg4CrQ02553KZg8H1942J9HP8A8328C72QtRAOLQMTCEqeIU8wHW4RN2e629C3HC65qeJ904IO04Yt203XTTY5NI5LyH142g18hIgPg4US37SN1V06Ud727VfBy6GS38KJKNf4H2AIQ2YtJO1Z9Y22Zed91f64A6DJGKqH05yrV17J5DrLQ4tKd4HT31U35S5M2w98KUC33XyAtSL8EIU6rW73r62ry9546qCf5691H4dIRQPKAJ85jdYPIXVwehEA9ZfHYj673H63wIy883IqMRMjgHq9LV148G1PJ1W84W7Z8FTLI1A2FIH9EW46jReJ6j18D5qd939t796hjFjwXe722g797X12Z8B0FI3D6Zh77MAgg2GSF313752j26d5qf94677O43qLh6PTFKG8V4At1y9Vf6AR352gHBjPT1D775775H7g9KHF48gD'\n",
    "ginortS(A)"
   ]
  },
  {
   "cell_type": "markdown",
   "id": "greatest-sigma",
   "metadata": {},
   "source": [
    "ddddddddddddddddd\n",
    "\n",
    "eeeeeeeeeeeeeee\n",
    "\n",
    "fffffffffff\n",
    "\n",
    "ggggggggggggggggg\n",
    "\n",
    "hhhhhhhhhhhhhhh\n",
    "\n",
    "jjjjjjjjjjjjjjjjjjjj\n",
    "\n",
    "qqqqqqqqqqqqqq\n",
    "\n",
    "rrrrrrrrrrrrrr\n",
    "\n",
    "ttttttttttttttt\n",
    "\n",
    "wwwwwwwwwwwwww\n",
    "\n",
    "yyyyyyyyyyyyyy\n",
    "\n",
    "AAAAAAAAAAAAAAAAAAAA\n",
    "\n",
    "BBBBBBBBBB\n",
    "\n",
    "CCCCCCCCCCCCCCCCC\n",
    "\n",
    "DDDDDDDDDDD\n",
    "\n",
    "EEEEEEEEEEE\n",
    "\n",
    "FFFFFFFFFFFFFFF\n",
    "\n",
    "GGGGGGGGGGGGGG\n",
    "\n",
    "HHHHHHHHHHHHHHHHHHHHHHHHH\n",
    "\n",
    "IIIIIIIIIIIIIIIIIIIIIIIIII\n",
    "\n",
    "JJJJJJJJJJJJJJJJJJJJJJ\n",
    "\n",
    "KKKKKKKKKKKKKKKK\n",
    "\n",
    "LLLLLLLLLLLLLLLLL\n",
    "\n",
    "MMMMMMMMMMMMM\n",
    "\n",
    "NNNNNNNNNN\n",
    "\n",
    "OOOOOOOOOOO\n",
    "\n",
    "PPPPPPPPPPPPPPPPPP\n",
    "\n",
    "QQQQQQQQQQQQQQ\n",
    "\n",
    "RRRRRRRRRRRRR\n",
    "\n",
    "SSSSSSSSSSSSSSSSS\n",
    "\n",
    "TTTTTTTTTTTTTTTTT\n",
    "\n",
    "UUUUUUUUUUUUUUU\n",
    "\n",
    "VVVVVVVVVVVVVVVVVVV\n",
    "\n",
    "WWWWWWWWWWWWWWWWWWWW\n",
    "\n",
    "XXXXXXXXXXXXX\n",
    "\n",
    "YYYYYYYYYY\n",
    "\n",
    "ZZZZZZZZZZZZZ\n",
    "\n",
    "1111111111111111111111111111111111111111\n",
    "\n",
    "333333333333333333333333333333333333333333333333333\n",
    "\n",
    "55555555555555555555555555555555555555\n",
    "\n",
    "777777777777777777777777777777777777777777\n",
    "\n",
    "9999999999999999999999999999999999999999999999\n",
    "\n",
    "0000000000000\n",
    "\n",
    "22222222222222222222222222222222222222222222222222\n",
    "\n",
    "4444444444444444444444444444444444444444444444\n",
    "\n",
    "666666666666666666666666666666666666666666666666666\n",
    "\n",
    "8888888888888888888888888888888888888888888888888"
   ]
  },
  {
   "cell_type": "code",
   "execution_count": 6,
   "id": "injured-cooling",
   "metadata": {},
   "outputs": [
    {
     "data": {
      "text/plain": [
       "'dddddddddddddddddeeeeeeeeeeeeeeeeeeffffffffffffffffffgggggggghhhhhhhhhhhhhhhhjjjjjjjjjjjjjjjjjjqqqqqqqqqqqqqqqqqrrrrrrrrrrrrrrrrrrrrttttttttttwwwwwwwwwwwwwwwwwwwwwyyyyyyyyyyyyyyyyyyAAAAAAAAAAAAAAABBBBBBBBBBBBBCCCCCCCCCDDDDDDDDDDDDDDDEEEEEEEEEEEEFFFFFFFFFFFFFFGGGGGGGGGGGHHHHHHHHHHHHHHHHHHHHHHHHIIIIIIIIIIIIIIIJJJJJJJJJJJJJJJJJJJJJJJKKKKKKKKLLLLLLLLLLLLLLLLLLLMMMMMMMMMMMMMMMMMMMMMMMMMMNNNNNNNNNNNNNNNOOOOOOOOOOOOOOOOOPPPPPPPPPPPQQQQQQQQQQQQQRRRRRRRRRRRRRSSSSSSSSSSSSSSSTTTTTTTTTTTTTTUUUUUUUUUUUUUUVVVVVVVVVVVVVVVVVVVVWWWWWWWWWWWWWWWWWXXXXXXXXXXXXXYYYYYYYYYZZZZZZZZZZ1111111111111111111111111111111111111111111111111111333333333333333333333333333333333333333333333333333335555555555555555555555555555555555555555555555555555777777777777777777777777777777777777777799999999999999999999999999999999999900000000000222222222222222222222222222222222222222222444444444444444444444444444444444444444444444444444444466666666666666666666666666666666666666668888888888888888888888888888888888888888888'"
      ]
     },
     "execution_count": 6,
     "metadata": {},
     "output_type": "execute_result"
    }
   ],
   "source": [
    "A = 'I86E24gV3dfNQ2NVI2P2T5UdVyqPw8jN0EACrH31X3174LIdr5jd21ML5w2t3229QdQq85PAhUX5LU33h6347qe21458Nd7j7L5802wJe126w0rEL89VIw94M7G56fy39HJ11XMF3A515fI745E5fEjy9D91SI1LA83M4M578S40j35K7rJhM1fHUDTQW36WKwS2fMq5G4GA8q3SF4RgE213Wf9BK1C49yRwB87jMQOWV3615HUMq6Y7D9yHtT1It422J574IhDw6yT1GSGTTH53fN1OHY5GeD94941JOC4FV1NEj7Dq496Z463h1F5FVJ3RQ5P45N4452rGK8U3J18M1LGMMj4LLYVw17BIfZUhZMgV482Ij462O19Vt813N57N4wNS8hTqF3WHO4Dq79yLJLP9WjwTwC75e66DX34697W1tM19K8VP3qqgVJ4MRdHX4BMfO666dP9B3BS14LwDhZ65LhHwQeTY98MMjqJ5etq7X2YWrhYeVMyj15HI754W7XKZhJ93W2qXJ1C83M2Fe6445HeR1873r262fHM88XQ3L558Q8yH574Rw88rAw4U0rJJ8j2Q932M59ROqVwG3D3jXfIMX639EfINGJ6BgS3r6tWH7ZUV841127dK6JAeES61T72LeeW7r31Aw76eAy73wU6R43Z65jf0hW8rR81hPJFe5T27VLrM6DgTyBJU4yrS6qRht6P7y99Xw93R12Lq7e4UPM1A9ZEWSI8rAfH3Z5S5A3SeYDyJ1140h4dJUOO9F1IQ8M705e6YH5WJ31H5OHyY442rB9392FL7DR35FO14f2K42A18J0d14FEWj83TA0568w16dd52843NO867gT64VH5VU429r648CB9B9rSF9QCPf276dXGO5rOB3499d6841OB0852Af8455y3HH52rj3R57183822d8tO321e124V47N1J3OHNV3SQ3j1DyLt5HhC7F67CZd3DWyEgN7'\n",
    "ginortS(A)"
   ]
  },
  {
   "cell_type": "markdown",
   "id": "adopted-england",
   "metadata": {},
   "source": [
    "ddddddddddddddddd\n",
    "\n",
    "eeeeeeeeeeeeeeeeee\n",
    "\n",
    "ffffffffffffffffff\n",
    "\n",
    "gggggggg\n",
    "\n",
    "hhhhhhhhhhhhhhhh\n",
    "\n",
    "jjjjjjjjjjjjjjjjjj\n",
    "\n",
    "qqqqqqqqqqqqqqqqq\n",
    "\n",
    "rrrrrrrrrrrrrrrrrrrr\n",
    "\n",
    "tttttttttt\n",
    "\n",
    "wwwwwwwwwwwwwwwwwwwww\n",
    "\n",
    "yyyyyyyyyyyyyyyyyy\n",
    "\n",
    "AAAAAAAAAAAAAAA\n",
    "\n",
    "BBBBBBBBBBBBB\n",
    "\n",
    "CCCCCCCCC\n",
    "\n",
    "DDDDDDDDDDDDDDD\n",
    "\n",
    "EEEEEEEEEEEE\n",
    "\n",
    "FFFFFFFFFFFFFF\n",
    "\n",
    "GGGGGGGGGGG\n",
    "\n",
    "HHHHHHHHHHHHHHHHHHHHHHHH\n",
    "\n",
    "IIIIIIIIIIIIIII\n",
    "\n",
    "JJJJJJJJJJJJJJJJJJJJJJJ\n",
    "\n",
    "KKKKKKKK\n",
    "\n",
    "LLLLLLLLLLLLLLLLLLL\n",
    "\n",
    "MMMMMMMMMMMMMMMMMMMMMMMMMM\n",
    "\n",
    "NNNNNNNNNNNNNNN\n",
    "\n",
    "OOOOOOOOOOOOOOOOO\n",
    "\n",
    "PPPPPPPPPPP\n",
    "\n",
    "QQQQQQQQQQQQQ\n",
    "\n",
    "RRRRRRRRRRRRR\n",
    "\n",
    "SSSSSSSSSSSSSSS\n",
    "\n",
    "TTTTTTTTTTTTTT\n",
    "\n",
    "UUUUUUUUUUUUUU\n",
    "\n",
    "VVVVVVVVVVVVVVVVVVVV\n",
    "\n",
    "WWWWWWWWWWWWWWWWW\n",
    "\n",
    "XXXXXXXXXXXXX\n",
    "\n",
    "YYYYYYYYY\n",
    "\n",
    "ZZZZZZZZZZ\n",
    "\n",
    "1111111111111111111111111111111111111111111111111111\n",
    "\n",
    "33333333333333333333333333333333333333333333333333333\n",
    "\n",
    "5555555555555555555555555555555555555555555555555555\n",
    "\n",
    "7777777777777777777777777777777777777777\n",
    "\n",
    "999999999999999999999999999999999999\n",
    "\n",
    "00000000000\n",
    "\n",
    "222222222222222222222222222222222222222222\n",
    "\n",
    "4444444444444444444444444444444444444444444444444444444\n",
    "\n",
    "6666666666666666666666666666666666666666\n",
    "\n",
    "8888888888888888888888888888888888888888888"
   ]
  },
  {
   "cell_type": "code",
   "execution_count": 7,
   "id": "published-coach",
   "metadata": {},
   "outputs": [
    {
     "data": {
      "text/plain": [
       "'aacekknrHR'"
      ]
     },
     "execution_count": 7,
     "metadata": {},
     "output_type": "execute_result"
    }
   ],
   "source": [
    "A = 'HackerRank'\n",
    "ginortS(A)"
   ]
  },
  {
   "cell_type": "markdown",
   "id": "double-huntington",
   "metadata": {},
   "source": [
    "aacekknrHR"
   ]
  },
  {
   "cell_type": "code",
   "execution_count": null,
   "id": "pressed-stock",
   "metadata": {},
   "outputs": [],
   "source": []
  }
 ],
 "metadata": {
  "kernelspec": {
   "display_name": "learn-env",
   "language": "python",
   "name": "learn-env"
  },
  "language_info": {
   "codemirror_mode": {
    "name": "ipython",
    "version": 3
   },
   "file_extension": ".py",
   "mimetype": "text/x-python",
   "name": "python",
   "nbconvert_exporter": "python",
   "pygments_lexer": "ipython3",
   "version": "3.8.8"
  }
 },
 "nbformat": 4,
 "nbformat_minor": 5
}
