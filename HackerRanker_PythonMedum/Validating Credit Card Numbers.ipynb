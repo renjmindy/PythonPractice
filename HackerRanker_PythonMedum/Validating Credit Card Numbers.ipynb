{
 "cells": [
  {
   "cell_type": "markdown",
   "id": "collectible-basket",
   "metadata": {},
   "source": [
    "## Validating Credit Card Numbers\n",
    "\n",
    "You and Fredrick are good friends. Yesterday, Fredrick received **N** credit cards from **ABCD Bank**. He wants to verify whether his credit card numbers are valid or not. You happen to be great at regex so he is asking for your help!\n",
    "\n",
    "A valid credit card from **ABCD Bank** has the following characteristics:\n",
    "\n",
    "► It must start with a **4**, **5** or **6**.\n",
    "\n",
    "► It must contain exactly **16** digits.\n",
    "\n",
    "► It must only consist of digits (**0**-**9**).\n",
    "\n",
    "► It may have digits in groups of **4**, separated by one hyphen **\"-\"**.\n",
    "\n",
    "► It must NOT use any other separator like ' ' , '_', etc.\n",
    "\n",
    "► It must NOT have **4** or more consecutive repeated digits.\n",
    "\n",
    "### Examples:\n",
    "\n",
    "#### Valid Credit Card Numbers\n",
    "\n",
    "`4253625879615786`\n",
    "\n",
    "`4424424424442444`\n",
    "\n",
    "`5122-2368-7954-3214`\n",
    "\n",
    "#### Invalid Credit Card Numbers\n",
    "\n",
    "`42536258796157867       #17 digits in card number → Invalid`\n",
    "\n",
    "`4424444424442444        #Consecutive digits are repeating 4 or more times → Invalid`\n",
    "\n",
    "`5122-2368-7954 - 3214   #Separators other than '-' are used → Invalid`\n",
    "\n",
    "`44244x4424442444        #Contains non digit characters → Invalid`\n",
    "\n",
    "`0525362587961578        #Doesn't start with 4, 5 or 6 → Invalid`\n",
    "\n",
    "### Input Format\n",
    "\n",
    "The first line of input contains an integer **N**.\n",
    "\n",
    "The next **N** lines contain credit card numbers.\n",
    "\n",
    "### Constraints\n",
    "\n",
    "**0 < N < 100**\n",
    "\n",
    "### Output Format\n",
    "\n",
    "Print 'Valid' if the credit card number is valid. Otherwise, print 'Invalid'. Do not print the quotes.\n",
    "\n",
    "### Sample Input\n",
    "\n",
    "`6`\n",
    "\n",
    "`4123456789123456`\n",
    "\n",
    "`5123-4567-8912-3456`\n",
    "\n",
    "`61234-567-8912-3456`\n",
    "\n",
    "`4123356789123456`\n",
    "\n",
    "`5133-3367-8912-3456`\n",
    "\n",
    "`5123 - 3567 - 8912 - 3456`\n",
    "\n",
    "### Sample Output\n",
    "\n",
    "`Valid`\n",
    "\n",
    "`Valid`\n",
    "\n",
    "`Invalid`\n",
    "\n",
    "`Valid`\n",
    "\n",
    "`Invalid`\n",
    "\n",
    "`Invalid`\n",
    "\n",
    "### Explanation\n",
    "\n",
    "4123456789123456 : **Valid**\n",
    "\n",
    "5123-4567-8912-3456 : **Valid**\n",
    "\n",
    "61234-`567`-8912-3456 : **Invalid**, because the card number is not divided into equal groups of **4**.\n",
    "\n",
    "4123356789123456 : **Valid**\n",
    "\n",
    "51`33`-`33`67-8912-3456 : **Invalid**, consecutive digits **3333** is repeating **4** times.\n",
    "\n",
    "5123 -- 4567 -- 8912 -- 3456 : **Invalid**, because space '  ' and - are used as separators."
   ]
  },
  {
   "cell_type": "code",
   "execution_count": 1,
   "id": "perceived-correspondence",
   "metadata": {},
   "outputs": [],
   "source": [
    "import numpy as np\n",
    "import re"
   ]
  },
  {
   "cell_type": "code",
   "execution_count": 2,
   "id": "numeric-lobby",
   "metadata": {},
   "outputs": [],
   "source": [
    "def validate_card(N, A):\n",
    "    \n",
    "    result = []\n",
    "    \n",
    "    sList = ['4', '5', '6']\n",
    "    \n",
    "    for n in range(0, N, 1):\n",
    "        \n",
    "        aList = list(A[n])\n",
    "        bList = [i for i in aList if i.isdigit() == True]\n",
    "        pass1 = False\n",
    "        pass2 = False\n",
    "        pass3 = False\n",
    "        pass4 = False\n",
    "        \n",
    "        if aList[0] in sList and len(bList) == 16 and ''.join(bList).isdigit():\n",
    "            pass1 = True\n",
    "        else:\n",
    "            pass1 = False\n",
    "        \n",
    "        if pass1:\n",
    "            hList = []\n",
    "            \n",
    "            if '-' not in aList:\n",
    "                pass2 = True\n",
    "            else:\n",
    "                for i in range(0, len(aList), 1):\n",
    "                    if aList[i] == '-':\n",
    "                        hList.append(i+1)\n",
    "                    else:\n",
    "                        continue\n",
    "                        \n",
    "            for i in hList:\n",
    "                if i % 5 != 0 or i == 0:\n",
    "                    pass2 = False\n",
    "                    break\n",
    "                else:\n",
    "                    pass2 = True\n",
    "            \n",
    "        if pass1 and pass2:\n",
    "            \n",
    "            if ' ' not in aList and '_' not in aList:\n",
    "                pass3 = True\n",
    "            else:\n",
    "                pass3 = False\n",
    "                \n",
    "        if pass1 and pass2 and pass3:\n",
    "            found = False\n",
    "            cDict = dict()\n",
    "            \n",
    "            for i in range(0, len(aList), 1):\n",
    "                cDict[aList[i]] = cDict.get(aList[i], 0) + 1\n",
    "                \n",
    "            for v in cDict.values():\n",
    "                if v >= 4:\n",
    "                    found = True\n",
    "                    break\n",
    "                else:\n",
    "                    found = False\n",
    "            \n",
    "            if found:\n",
    "                \n",
    "                for k, v in cDict.items():\n",
    "                    cList = []\n",
    "                    dList = []\n",
    "                    if v >= 4:\n",
    "                        #print(k,' ',v)\n",
    "                        for i in range(0, len(bList), 1):\n",
    "                            if bList[i] == k:\n",
    "                                cList.append(i+1)\n",
    "                            else:\n",
    "                                continue\n",
    "                        dStr = ''.join(str(np.diff(np.array(cList))))\n",
    "                        #print(cList,' ',dStr)\n",
    "                        if dStr.find('1 1 1') == 1:\n",
    "                            pass4 = False\n",
    "                            break\n",
    "                        else:\n",
    "                            pass4 = True\n",
    "                    else:\n",
    "                        continue\n",
    "                        \n",
    "            else:\n",
    "                pass4 = True\n",
    "                \n",
    "        print(pass1,' ',pass2,' ',pass3,' ',pass4)        \n",
    "                \n",
    "        if pass1 and pass2 and pass3 and pass4:\n",
    "            result.append('Valid')\n",
    "        else:\n",
    "            result.append('Invalid')\n",
    "            \n",
    "    return ', '.join(result)"
   ]
  },
  {
   "cell_type": "code",
   "execution_count": 3,
   "id": "close-partition",
   "metadata": {},
   "outputs": [
    {
     "name": "stdout",
     "output_type": "stream",
     "text": [
      "True   True   True   True\n",
      "True   True   True   True\n",
      "True   False   False   False\n",
      "True   True   True   True\n",
      "True   True   True   False\n",
      "True   False   False   False\n"
     ]
    },
    {
     "data": {
      "text/plain": [
       "'Valid, Valid, Invalid, Valid, Invalid, Invalid'"
      ]
     },
     "execution_count": 3,
     "metadata": {},
     "output_type": "execute_result"
    }
   ],
   "source": [
    "N = 6\n",
    "A = ['4123456789123456', '5123-4567-8912-3456', '61234-567-8912-3456', '4123356789123456', '5133-3367-8912-3456', \n",
    "     '5123 - 3567 - 8912 - 3456']\n",
    "validate_card(N, A)"
   ]
  },
  {
   "cell_type": "markdown",
   "id": "limiting-daily",
   "metadata": {},
   "source": [
    "Valid, Valid, Invalid, Valid, Invalid, Invalid"
   ]
  },
  {
   "cell_type": "code",
   "execution_count": 4,
   "id": "three-revelation",
   "metadata": {},
   "outputs": [
    {
     "name": "stdout",
     "output_type": "stream",
     "text": [
      "False   False   False   False\n",
      "True   True   True   True\n",
      "True   True   True   True\n",
      "False   False   False   False\n",
      "True   True   True   True\n"
     ]
    },
    {
     "data": {
      "text/plain": [
       "'Invalid, Valid, Valid, Invalid, Valid'"
      ]
     },
     "execution_count": 4,
     "metadata": {},
     "output_type": "execute_result"
    }
   ],
   "source": [
    "N = 5\n",
    "A = ['7165863385679329', '6175824393389297', '5252248277877418', '9563584181869815', '5179123424576876']\n",
    "validate_card(N, A)"
   ]
  },
  {
   "cell_type": "markdown",
   "id": "hidden-express",
   "metadata": {},
   "source": [
    "Invalid, Valid, Valid, Invalid, Valid"
   ]
  },
  {
   "cell_type": "code",
   "execution_count": 5,
   "id": "demographic-yemen",
   "metadata": {},
   "outputs": [
    {
     "name": "stdout",
     "output_type": "stream",
     "text": [
      "False   False   False   False\n",
      "True   True   True   True\n",
      "True   True   True   True\n",
      "False   False   False   False\n",
      "True   True   True   True\n"
     ]
    },
    {
     "data": {
      "text/plain": [
       "'Invalid, Valid, Valid, Invalid, Valid'"
      ]
     },
     "execution_count": 5,
     "metadata": {},
     "output_type": "execute_result"
    }
   ],
   "source": [
    "N = 5\n",
    "A = ['7165863385679329', '6175824393389297', '5252248277877418', '9563584181869815', '5179123424576876']\n",
    "validate_card(N, A)"
   ]
  },
  {
   "cell_type": "markdown",
   "id": "pediatric-river",
   "metadata": {},
   "source": [
    "Invalid, Valid, Valid, Invalid, Valid"
   ]
  },
  {
   "cell_type": "code",
   "execution_count": 6,
   "id": "regulation-operation",
   "metadata": {},
   "outputs": [
    {
     "name": "stdout",
     "output_type": "stream",
     "text": [
      "False   False   False   False\n",
      "True   True   True   True\n",
      "False   False   False   False\n",
      "False   False   False   False\n",
      "False   False   False   False\n",
      "False   False   False   False\n",
      "True   True   True   True\n",
      "False   False   False   False\n",
      "False   False   False   False\n",
      "False   False   False   False\n",
      "False   False   False   False\n",
      "False   False   False   False\n",
      "False   False   False   False\n",
      "True   True   True   True\n",
      "False   False   False   False\n",
      "False   False   False   False\n",
      "False   False   False   False\n",
      "True   True   True   True\n",
      "False   False   False   False\n",
      "False   False   False   False\n",
      "True   True   True   True\n",
      "True   True   True   True\n",
      "False   False   False   False\n",
      "True   True   True   True\n",
      "False   False   False   False\n",
      "True   True   True   True\n",
      "True   True   True   True\n",
      "False   False   False   False\n",
      "True   True   True   True\n",
      "True   True   True   True\n",
      "False   False   False   False\n",
      "False   False   False   False\n",
      "True   True   True   True\n",
      "False   False   False   False\n",
      "False   False   False   False\n",
      "False   False   False   False\n",
      "True   True   True   True\n",
      "True   True   True   True\n",
      "True   True   True   True\n",
      "False   False   False   False\n",
      "False   False   False   False\n",
      "True   True   True   True\n",
      "False   False   False   False\n",
      "False   False   False   False\n",
      "False   False   False   False\n",
      "False   False   False   False\n",
      "False   False   False   False\n",
      "False   False   False   False\n",
      "False   False   False   False\n",
      "True   True   True   True\n"
     ]
    },
    {
     "data": {
      "text/plain": [
       "'Invalid, Valid, Invalid, Invalid, Invalid, Invalid, Valid, Invalid, Invalid, Invalid, Invalid, Invalid, Invalid, Valid, Invalid, Invalid, Invalid, Valid, Invalid, Invalid, Valid, Valid, Invalid, Valid, Invalid, Valid, Valid, Invalid, Valid, Valid, Invalid, Invalid, Valid, Invalid, Invalid, Invalid, Valid, Valid, Valid, Invalid, Invalid, Valid, Invalid, Invalid, Invalid, Invalid, Invalid, Invalid, Invalid, Valid'"
      ]
     },
     "execution_count": 6,
     "metadata": {},
     "output_type": "execute_result"
    }
   ],
   "source": [
    "N = 50\n",
    "A = ['1182387522195848', '4898285859544556', '3533946521218854', '2178579985193175', '9691928949545344',\n",
    "     '1327576477684519', '6885867822596993', '1958129523778579', '2357676157819124', '9832746248713726',\n",
    "     '3673159777236652', '8626186974574971', '9687622296992497', '6731749895254584', '8231635922318254',\n",
    "     '7728878259735616', '3347275338764373', '6624557432269847', '3164653818478977', '7683817293887423',\n",
    "     '4654491168789767', '6942469919536219', '8434524674271379', '6619249165433473', '8842787232483367',\n",
    "     '5349898497837349', '4841565975496529', '7635659522159832', '6699889899699968', '5274676861386577',\n",
    "     '7261479482325831', '9855821811363989', '5462941623272486', '2168457338741692', '3493828267535654',\n",
    "     '7688277563695358', '4621162653647299', '5588937472734175', '6313634439334582', '2621731928824298',\n",
    "     '9356326214767474', '6399396262113367', '7326622854597675', '2179646384144599', '8723731421194264',\n",
    "     '9893925198222769', '8493394862176119', '9182146786584817', '7865278423923993', '5437343432579992']\n",
    "validate_card(N, A)"
   ]
  },
  {
   "cell_type": "markdown",
   "id": "mental-flight",
   "metadata": {},
   "source": [
    "Invalid, Valid, Invalid, Invalid, Invalid, Invalid, Valid, Invalid, Invalid, Invalid, Invalid, Invalid, Invalid, Valid, Invalid, Invalid, Invalid, Valid, Invalid, Invalid, Valid, Valid, Invalid, Valid, Invalid, Valid, Valid, Invalid, Valid, Valid, Invalid, Invalid, Valid, Invalid, Invalid, Invalid, Valid, Valid, Valid, Invalid, Invalid, Valid, Invalid, Invalid, Invalid, Invalid, Invalid, Invalid, Invalid, Valid"
   ]
  },
  {
   "cell_type": "code",
   "execution_count": 7,
   "id": "several-gamma",
   "metadata": {},
   "outputs": [
    {
     "name": "stdout",
     "output_type": "stream",
     "text": [
      "False   False   False   False\n",
      "False   False   False   False\n",
      "True   True   True   False\n",
      "True   True   True   True\n",
      "False   False   False   False\n",
      "True   True   True   True\n"
     ]
    },
    {
     "data": {
      "text/plain": [
       "'Invalid, Invalid, Invalid, Valid, Invalid, Valid'"
      ]
     },
     "execution_count": 7,
     "metadata": {},
     "output_type": "execute_result"
    }
   ],
   "source": [
    "N = 6\n",
    "A = ['3695-7963-915827-75', '3143-4672-8798-2968-2968', '6444-4444-4444-4918', '6865396515642918', '6865396515642', \n",
    "     '4695-7963-9778-2775']\n",
    "validate_card(N, A)"
   ]
  },
  {
   "cell_type": "markdown",
   "id": "interracial-sampling",
   "metadata": {},
   "source": [
    "Invalid, Invalid, Invalid, Valid, Invalid, Valid"
   ]
  },
  {
   "cell_type": "code",
   "execution_count": 8,
   "id": "elect-shock",
   "metadata": {},
   "outputs": [
    {
     "name": "stdout",
     "output_type": "stream",
     "text": [
      "False   False   False   False\n",
      "False   False   False   False\n",
      "True   False   False   False\n",
      "True   True   True   True\n"
     ]
    },
    {
     "data": {
      "text/plain": [
       "'Invalid, Invalid, Invalid, Valid'"
      ]
     },
     "execution_count": 8,
     "metadata": {},
     "output_type": "execute_result"
    }
   ],
   "source": [
    "N = 4\n",
    "A = ['3695-7963-  5827-75', '4143-4672-8798-2968-2968', '6865---------------3965---------------1564-------------2918',\n",
    "     '6865396515642918']\n",
    "validate_card(N, A)"
   ]
  },
  {
   "cell_type": "markdown",
   "id": "gorgeous-screening",
   "metadata": {},
   "source": [
    "Invalid, Invalid, Invalid, Valid"
   ]
  },
  {
   "cell_type": "code",
   "execution_count": null,
   "id": "married-fountain",
   "metadata": {},
   "outputs": [],
   "source": []
  }
 ],
 "metadata": {
  "kernelspec": {
   "display_name": "learn-env",
   "language": "python",
   "name": "learn-env"
  },
  "language_info": {
   "codemirror_mode": {
    "name": "ipython",
    "version": 3
   },
   "file_extension": ".py",
   "mimetype": "text/x-python",
   "name": "python",
   "nbconvert_exporter": "python",
   "pygments_lexer": "ipython3",
   "version": "3.8.8"
  }
 },
 "nbformat": 4,
 "nbformat_minor": 5
}
