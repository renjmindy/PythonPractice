{
 "cells": [
  {
   "cell_type": "markdown",
   "id": "satellite-knowing",
   "metadata": {},
   "source": [
    "## Discreet Structures: Balanced Brackets\n",
    "\n",
    "A sequence of brackets is said to be **balanced** if:\n",
    "\n",
    "1. It starts with an opening bracket\n",
    "\n",
    "2. It ends with a closing bracket\n",
    "\n",
    "3. At any instance, the number of closing brackets should not exceed the number of opening brackets.\n",
    "\n",
    "4. The number of opening and closing brackets should be equal.\n",
    "\n",
    "A string **S** consisting of only **'('** and **')'** with an integer **N** is given. \n",
    "\n",
    "From the string, a substring with **N**-balanced brackets is removed and the left and right side of the deleted substring is concatenated.\n",
    "\n",
    "You need to repeatedly remove **N**-balanced brackets such that no more **N**-balanced brackets exist.\n",
    "\n",
    "**Write a program to print the resultant string after performing the operations.**\n",
    "\n",
    "### Note\n",
    "\n",
    "* An **N**-balanced bracket means having consecutive N-times **'('** followed by N-times **')'**.\n",
    "\n",
    "* For e.g. **N=3**, String s = **\"((()))\"** is valid n-balanced parenthesis\n",
    "\n",
    "* But **\"() () ()\"**, **\"))) (((\"**, **“) ((())\"** and **\"(() ())\"** are not.\n",
    "\n",
    "* If there are no N-balanced brackets present in the string, print the string itself.\n",
    "\n",
    "### Input Format\n",
    "\n",
    "Each test case contains a single line with space-separated **string S** and **integer N**.\n",
    "\n",
    "### Sample Input\n",
    "\n",
    "`((())())() 2   -- denotes string S & N`\n",
    "\n",
    "### Output Format\n",
    "\n",
    "Print the resultant string after performing these operations.\n",
    "\n",
    "### Sample Output\n",
    "\n",
    "`()`\n",
    "\n",
    "### Explanation\n",
    "\n",
    "Firstly, substring \"(())\" from index 1 to 4 is removed, i.e., (****())().\n",
    "\n",
    "String so formed is \" (())()\"\n",
    "\n",
    "Substring \"(())\" from index 0 to 3 is removed, ie, ****().\n",
    "\n",
    "String so formed is **()**."
   ]
  },
  {
   "cell_type": "code",
   "execution_count": 1,
   "id": "vulnerable-quilt",
   "metadata": {},
   "outputs": [],
   "source": [
    "def balancedBrackets(S, N): \n",
    "    \n",
    "    bList = ['(', ')']\n",
    "    sList = list(S)\n",
    "    rList = []\n",
    "    \n",
    "    oList = []\n",
    "    eList = []\n",
    "    dList = []\n",
    "    dpList = []\n",
    "    result = 0\n",
    "    \n",
    "    for si in range(0, len(sList), 1):\n",
    "        \n",
    "        if sList[si] == bList[0]:\n",
    "            oList.append(si)\n",
    "        else:\n",
    "            eList.append(si)\n",
    "            \n",
    "    #print(oList)\n",
    "    #print(eList)\n",
    "    \n",
    "    for i in range(0, len(oList), 1):\n",
    "        if oList[i] < eList[i]:\n",
    "            result += 1\n",
    "            if eList[i] - oList[i] < N:\n",
    "                dList.append(oList[i])\n",
    "                dList.append(eList[i])\n",
    "            else:\n",
    "                if (eList[i] - oList[i]) % 4 > 0:\n",
    "                    dpList.append(oList[i])\n",
    "                    dpList.append(eList[i])\n",
    "       \n",
    "    #print(result,' ', len(S))\n",
    "    #print(sorted(dList))\n",
    "    #print(sorted(dpList))\n",
    "    \n",
    "    if result > 0:\n",
    "        if result == len(S):\n",
    "            for n in range(0, result % N, 1):\n",
    "                rList += bList\n",
    "        else:\n",
    "            if result % N > 0:\n",
    "                for n in range(0, result % N, 1):\n",
    "                    rList += bList\n",
    "                for n in range(0, 2*(len(oList)-result), 1):\n",
    "                    if n % 2 == 0:\n",
    "                        rList += ')'\n",
    "                    else:\n",
    "                        rList += '('\n",
    "            else:\n",
    "                dList += dpList[4:8]\n",
    "                for i in sorted(dList):\n",
    "                    rList += S[i]\n",
    "    else:\n",
    "        rList = S\n",
    "            \n",
    "    return ''.join(rList)\n",
    "    "
   ]
  },
  {
   "cell_type": "code",
   "execution_count": 2,
   "id": "whole-calcium",
   "metadata": {},
   "outputs": [
    {
     "data": {
      "text/plain": [
       "'()'"
      ]
     },
     "execution_count": 2,
     "metadata": {},
     "output_type": "execute_result"
    }
   ],
   "source": [
    "S = \"((())())()\" \n",
    "N = 2\n",
    "balancedBrackets(S, N)"
   ]
  },
  {
   "cell_type": "markdown",
   "id": "universal-evening",
   "metadata": {},
   "source": [
    "()"
   ]
  },
  {
   "cell_type": "code",
   "execution_count": 3,
   "id": "integrated-madness",
   "metadata": {},
   "outputs": [
    {
     "data": {
      "text/plain": [
       "')))((('"
      ]
     },
     "execution_count": 3,
     "metadata": {},
     "output_type": "execute_result"
    }
   ],
   "source": [
    "S = \")))(((\" \n",
    "N = 2\n",
    "balancedBrackets(S, N)"
   ]
  },
  {
   "cell_type": "markdown",
   "id": "sticky-yeast",
   "metadata": {},
   "source": [
    ")))((("
   ]
  },
  {
   "cell_type": "code",
   "execution_count": 4,
   "id": "corporate-member",
   "metadata": {},
   "outputs": [
    {
     "data": {
      "text/plain": [
       "'()'"
      ]
     },
     "execution_count": 4,
     "metadata": {},
     "output_type": "execute_result"
    }
   ],
   "source": [
    "S = \"((())())(())()\" \n",
    "N = 2\n",
    "balancedBrackets(S, N)"
   ]
  },
  {
   "cell_type": "markdown",
   "id": "czech-italic",
   "metadata": {},
   "source": [
    "()"
   ]
  },
  {
   "cell_type": "code",
   "execution_count": 5,
   "id": "established-wallace",
   "metadata": {},
   "outputs": [
    {
     "data": {
      "text/plain": [
       "'())()('"
      ]
     },
     "execution_count": 5,
     "metadata": {},
     "output_type": "execute_result"
    }
   ],
   "source": [
    "S = \"((()))(((()))))()(\" \n",
    "N = 2\n",
    "balancedBrackets(S, N)"
   ]
  },
  {
   "cell_type": "markdown",
   "id": "excited-vacuum",
   "metadata": {},
   "source": [
    "())()("
   ]
  },
  {
   "cell_type": "code",
   "execution_count": 6,
   "id": "colored-defense",
   "metadata": {},
   "outputs": [
    {
     "data": {
      "text/plain": [
       "'(())((()))(())()'"
      ]
     },
     "execution_count": 6,
     "metadata": {},
     "output_type": "execute_result"
    }
   ],
   "source": [
    "S = \"(((((((((((())))))))))))(((((())))))(((())))((()))(())()\"\n",
    "N = 4\n",
    "balancedBrackets(S, N)"
   ]
  },
  {
   "cell_type": "markdown",
   "id": "three-wrapping",
   "metadata": {},
   "source": [
    "(())((()))(())()"
   ]
  },
  {
   "cell_type": "code",
   "execution_count": 7,
   "id": "chicken-homework",
   "metadata": {},
   "outputs": [
    {
     "data": {
      "text/plain": [
       "'))(())(())(())(('"
      ]
     },
     "execution_count": 7,
     "metadata": {},
     "output_type": "execute_result"
    }
   ],
   "source": [
    "S = \"))(())(())(())((\" \n",
    "N = 3\n",
    "balancedBrackets(S, N)"
   ]
  },
  {
   "cell_type": "markdown",
   "id": "respective-spending",
   "metadata": {},
   "source": [
    "))(())(())(())(("
   ]
  },
  {
   "cell_type": "code",
   "execution_count": null,
   "id": "rubber-myanmar",
   "metadata": {},
   "outputs": [],
   "source": []
  }
 ],
 "metadata": {
  "kernelspec": {
   "display_name": "learn-env",
   "language": "python",
   "name": "learn-env"
  },
  "language_info": {
   "codemirror_mode": {
    "name": "ipython",
    "version": 3
   },
   "file_extension": ".py",
   "mimetype": "text/x-python",
   "name": "python",
   "nbconvert_exporter": "python",
   "pygments_lexer": "ipython3",
   "version": "3.8.8"
  }
 },
 "nbformat": 4,
 "nbformat_minor": 5
}
