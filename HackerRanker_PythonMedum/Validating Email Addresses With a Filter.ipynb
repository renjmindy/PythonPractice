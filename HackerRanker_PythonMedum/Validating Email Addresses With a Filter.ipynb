{
 "cells": [
  {
   "cell_type": "markdown",
   "id": "motivated-medication",
   "metadata": {},
   "source": [
    "## Validating Email Addresses With a Filter\n",
    "\n",
    "You are given an integer **N** followed by **N** email addresses. Your task is to print a list containing only valid email addresses in lexicographical order.\n",
    "\n",
    "Valid email addresses must follow these rules:\n",
    "\n",
    "* It must have the username@websitename.extension format type.\n",
    "\n",
    "* The username can only contain letters, digits, dashes and underscores.\n",
    "\n",
    "* The website name can only have letters and digits.\n",
    "\n",
    "* The maximum length of the extension is **3**.\n",
    "\n",
    "### Concept\n",
    "\n",
    "A filter takes a function returning True or False and applies it to a sequence, returning a list of only those members of the sequence where the function returned True. A Lambda function can be used with filters.\n",
    "\n",
    "Let's say you have to make a list of the squares of integers from **0** to **9** (both included).\n",
    "\n",
    "`>> l = list(range(10))`\n",
    "\n",
    "`>> l = list(map(lambda x:x*x, l))`\n",
    "\n",
    "Now, you only require those elements that are greater than **10** but less than **80**.\n",
    "\n",
    "`>> l = list(filter(lambda x: x > 10 and x < 80, l))`\n",
    "\n",
    "Easy, isn't it?\n",
    "\n",
    "### Input Format\n",
    "\n",
    "The first line of input is the integer **N**, the number of email addresses.\n",
    "\n",
    "**N** lines follow, each containing a string.\n",
    "\n",
    "### Constraints\n",
    "\n",
    "Each line is a non-empty string.\n",
    "\n",
    "### Output Format\n",
    "\n",
    "Output a list containing the valid email addresses in lexicographical order. If the list is empty, just output an empty list, [].\n",
    "\n",
    "### Sample Input\n",
    "\n",
    "3\n",
    "\n",
    "lara@hackerrank.com\n",
    "\n",
    "brian-23@hackerrank.com\n",
    "\n",
    "britts_54@hackerrank.com\n",
    "\n",
    "### Sample Output\n",
    "\n",
    "['brian-23@hackerrank.com', 'britts_54@hackerrank.com', 'lara@hackerrank.com']\n"
   ]
  },
  {
   "cell_type": "code",
   "execution_count": 1,
   "id": "hearing-calgary",
   "metadata": {},
   "outputs": [],
   "source": [
    "import re"
   ]
  },
  {
   "cell_type": "code",
   "execution_count": 2,
   "id": "subtle-diesel",
   "metadata": {},
   "outputs": [],
   "source": [
    "def fun(s):\n",
    "    \n",
    "    # return True if s is a valid email, else return False\n",
    "    result = []\n",
    "    \n",
    "    for es in s:\n",
    "        \n",
    "        si = list(es)\n",
    "        \n",
    "        #print(si)\n",
    "        \n",
    "        uList = []\n",
    "        wList = []\n",
    "        eList = []\n",
    "        cList = []\n",
    "        \n",
    "        countAt = 0\n",
    "        countDt = 0\n",
    "        \n",
    "        for i in si:\n",
    "            \n",
    "            if countAt == 0 and countDt == 0:\n",
    "                if i != '@':\n",
    "                    uList.append(''.join(i))\n",
    "                else:\n",
    "                    countAt += 1\n",
    "            \n",
    "            elif countAt == 1 and countDt == 0:\n",
    "                if i != '.':\n",
    "                    wList.append(''.join(i))\n",
    "                else:\n",
    "                    countDt += 1\n",
    "                \n",
    "            elif countAt == 1 and countDt == 1:\n",
    "                eList.append(''.join(i))\n",
    "            \n",
    "            else:\n",
    "                print('something beyond!')\n",
    "            \n",
    "        #print('username:', uList)\n",
    "        #print('websitename:', wList)\n",
    "        #print('extension:', eList)\n",
    "        \n",
    "        if re.match(\"^[a-zA-Z0-9_-]*$\", ''.join(uList)) and len(uList) > 0:\n",
    "        #if re.match(\"^[\\w\\d_-]*$\", ''.join(uList)):\n",
    "            cList.append(1)\n",
    "        else:\n",
    "            cList.append(-1)\n",
    "        \n",
    "        if re.match(\"^[a-zA-Z0-9]*$\", ''.join(wList)) and len(wList) > 0:\n",
    "        #if re.match(\"^[\\w\\d]*$\", ''.join(wList)):\n",
    "            cList.append(1)\n",
    "        else:\n",
    "            cList.append(-1)\n",
    "            \n",
    "        if len(eList) <= 3 and len(eList) > 0:\n",
    "            cList.append(1)\n",
    "        else:\n",
    "            cList.append(-1)\n",
    "            \n",
    "        if sum(cList) == 3:\n",
    "            result.append(es)\n",
    "    \n",
    "    return sorted(result)\n",
    "    "
   ]
  },
  {
   "cell_type": "markdown",
   "id": "approximate-complaint",
   "metadata": {},
   "source": [
    "def filter_mail(emails):\n",
    "    \n",
    "    return list(filter(fun, emails))\n",
    "    \n",
    "#### function that filters vowels\n",
    "def fun(variable):\n",
    "\n",
    "    letters = ['a', 'e', 'i', 'o', 'u']\n",
    "\n",
    "    if (variable in letters):\n",
    "    \n",
    "        return True\n",
    "        \n",
    "    else:\n",
    "    \n",
    "        return False\n",
    "  \n",
    "#### sequence\n",
    "sequence = ['g', 'e', 'e', 'j', 'k', 's', 'p', 'r']\n",
    "  \n",
    "#### using filter function\n",
    "filtered = filter(fun, sequence)\n",
    "  \n",
    "print('The filtered letters are:')\n",
    "\n",
    "for s in filtered:\n",
    "\n",
    "    print(s)"
   ]
  },
  {
   "cell_type": "code",
   "execution_count": 3,
   "id": "lyric-notebook",
   "metadata": {},
   "outputs": [
    {
     "data": {
      "text/plain": [
       "['brian-23@hackerrank.com', 'britts_54@hackerrank.com', 'lara@hackerrank.com']"
      ]
     },
     "execution_count": 3,
     "metadata": {},
     "output_type": "execute_result"
    }
   ],
   "source": [
    "N = 3\n",
    "emails = ['lara@hackerrank.com', 'brian-23@hackerrank.com', 'britts_54@hackerrank.com']\n",
    "fun(emails)\n",
    "#filtered_emails = filter_mail(emails)\n",
    "#filtered_emails.sort()\n",
    "#print(filtered_emails)"
   ]
  },
  {
   "cell_type": "markdown",
   "id": "impossible-hypothetical",
   "metadata": {},
   "source": [
    "['brian-23@hackerrank.com', 'britts_54@hackerrank.com', 'lara@hackerrank.com']"
   ]
  },
  {
   "cell_type": "code",
   "execution_count": 4,
   "id": "bulgarian-startup",
   "metadata": {},
   "outputs": [
    {
     "data": {
      "text/plain": [
       "['iota_98@hackerrank.com']"
      ]
     },
     "execution_count": 4,
     "metadata": {},
     "output_type": "execute_result"
    }
   ],
   "source": [
    "N = 2\n",
    "emails = ['harsh@gmail', 'iota_98@hackerrank.com']\n",
    "fun(emails)\n",
    "#filtered_emails = filter_mail(emails)\n",
    "#filtered_emails.sort()\n",
    "#print(filtered_emails)"
   ]
  },
  {
   "cell_type": "markdown",
   "id": "imperial-affiliate",
   "metadata": {},
   "source": [
    "['iota_98@hackerrank.com']"
   ]
  },
  {
   "cell_type": "code",
   "execution_count": 5,
   "id": "burning-action",
   "metadata": {},
   "outputs": [
    {
     "data": {
      "text/plain": [
       "['dheeraj-234@gmail.com', 'harsh_1234@rediff.in', 'kunal_shin@iop.az']"
      ]
     },
     "execution_count": 5,
     "metadata": {},
     "output_type": "execute_result"
    }
   ],
   "source": [
    "N = 5\n",
    "emails = ['dheeraj-234@gmail.com', 'itsallcrap', 'harsh_1234@rediff.in', 'kunal_shin@iop.az', 'matt23@@india.in']\n",
    "fun(emails)\n",
    "#filtered_emails = filter_mail(emails)\n",
    "#filtered_emails.sort()\n",
    "#print(filtered_emails)"
   ]
  },
  {
   "cell_type": "markdown",
   "id": "corporate-travel",
   "metadata": {},
   "source": [
    "['dheeraj-234@gmail.com', 'harsh_1234@rediff.in', 'kunal_shin@iop.az']"
   ]
  },
  {
   "cell_type": "code",
   "execution_count": 6,
   "id": "romantic-liberty",
   "metadata": {},
   "outputs": [
    {
     "data": {
      "text/plain": [
       "['fjladfk_iasdfad234@sdlkjf23335.in', 'prashant24_@gmail.com']"
      ]
     },
     "execution_count": 6,
     "metadata": {},
     "output_type": "execute_result"
    }
   ],
   "source": [
    "N = 3\n",
    "emails = ['fjladfk_iasdfad234@sdlkjf23335.in', 'ha@git@int.cz', 'prashant24_@gmail.com']\n",
    "fun(emails)\n",
    "#filtered_emails = filter_mail(emails)\n",
    "#filtered_emails.sort()\n",
    "#print(filtered_emails)"
   ]
  },
  {
   "cell_type": "markdown",
   "id": "bearing-scheduling",
   "metadata": {},
   "source": [
    "['fjladfk_iasdfad234@sdlkjf23335.in', 'prashant24_@gmail.com']"
   ]
  },
  {
   "cell_type": "code",
   "execution_count": 7,
   "id": "electrical-assumption",
   "metadata": {},
   "outputs": [
    {
     "data": {
      "text/plain": [
       "[]"
      ]
     },
     "execution_count": 7,
     "metadata": {},
     "output_type": "execute_result"
    }
   ],
   "source": [
    "N = 5\n",
    "emails = ['its@gmail.com1', 'mike13445@yahoomail9.server', 'rase23@ha_ch.com', 'daniyal@gmail.coma', 'thatisit@thatisit']\n",
    "fun(emails)\n",
    "#filtered_emails = filter_mail(emails)\n",
    "#filtered_emails.sort()\n",
    "#print(filtered_emails)"
   ]
  },
  {
   "cell_type": "markdown",
   "id": "amino-closure",
   "metadata": {},
   "source": [
    "[]"
   ]
  },
  {
   "cell_type": "code",
   "execution_count": 8,
   "id": "boolean-young",
   "metadata": {},
   "outputs": [
    {
     "data": {
      "text/plain": [
       "[]"
      ]
     },
     "execution_count": 8,
     "metadata": {},
     "output_type": "execute_result"
    }
   ],
   "source": [
    "N = 5\n",
    "emails = ['itsme@gmail', '@something', '@something.com', '@something.co1', 'sone.com']\n",
    "fun(emails)\n",
    "#filtered_emails = filter_mail(emails)\n",
    "#filtered_emails.sort()\n",
    "#print(filtered_emails)"
   ]
  },
  {
   "cell_type": "markdown",
   "id": "center-synthesis",
   "metadata": {},
   "source": [
    "[]"
   ]
  },
  {
   "cell_type": "code",
   "execution_count": 9,
   "id": "upset-problem",
   "metadata": {},
   "outputs": [
    {
     "data": {
      "text/plain": [
       "['fill@google1.com', 'ill@google.com']"
      ]
     },
     "execution_count": 9,
     "metadata": {},
     "output_type": "execute_result"
    }
   ],
   "source": [
    "N = 3\n",
    "emails = ['iu89_in.plus@google.com', 'ill@google.com', 'fill@google1.com']\n",
    "fun(emails)\n",
    "#filtered_emails = filter_mail(emails)\n",
    "#filtered_emails.sort()\n",
    "#print(filtered_emails)"
   ]
  },
  {
   "cell_type": "markdown",
   "id": "behind-filename",
   "metadata": {},
   "source": [
    "['fill@google1.com', 'ill@google.com']"
   ]
  },
  {
   "cell_type": "code",
   "execution_count": 10,
   "id": "professional-investigation",
   "metadata": {},
   "outputs": [
    {
     "data": {
      "text/plain": [
       "['learnpoint@learningpoint.net']"
      ]
     },
     "execution_count": 10,
     "metadata": {},
     "output_type": "execute_result"
    }
   ],
   "source": [
    "N = 3\n",
    "emails = ['learn.point@learningpoint.net', 'learnpoint@learningpoint.net', 'learnpoint@learningpoint.net1']\n",
    "fun(emails)\n",
    "#filtered_emails = filter_mail(emails)\n",
    "#filtered_emails.sort()\n",
    "#print(filtered_emails)"
   ]
  },
  {
   "cell_type": "markdown",
   "id": "constant-serve",
   "metadata": {},
   "source": [
    "['learnpoint@learningpoint.net']"
   ]
  },
  {
   "cell_type": "code",
   "execution_count": 11,
   "id": "fuzzy-diamond",
   "metadata": {},
   "outputs": [
    {
     "data": {
      "text/plain": [
       "[]"
      ]
     },
     "execution_count": 11,
     "metadata": {},
     "output_type": "execute_result"
    }
   ],
   "source": [
    "N = 3\n",
    "emails = ['it!%^#$@w3.com', '674&*($@djfj.in', 'itsnothing']\n",
    "fun(emails)\n",
    "#filtered_emails = filter_mail(emails)\n",
    "#filtered_emails.sort()\n",
    "#print(filtered_emails)"
   ]
  },
  {
   "cell_type": "markdown",
   "id": "norwegian-month",
   "metadata": {},
   "source": [
    "[]"
   ]
  },
  {
   "cell_type": "code",
   "execution_count": null,
   "id": "uniform-republic",
   "metadata": {},
   "outputs": [],
   "source": []
  }
 ],
 "metadata": {
  "kernelspec": {
   "display_name": "learn-env",
   "language": "python",
   "name": "learn-env"
  },
  "language_info": {
   "codemirror_mode": {
    "name": "ipython",
    "version": 3
   },
   "file_extension": ".py",
   "mimetype": "text/x-python",
   "name": "python",
   "nbconvert_exporter": "python",
   "pygments_lexer": "ipython3",
   "version": "3.8.8"
  }
 },
 "nbformat": 4,
 "nbformat_minor": 5
}
