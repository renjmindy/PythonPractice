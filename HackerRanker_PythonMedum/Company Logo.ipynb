{
 "cells": [
  {
   "cell_type": "markdown",
   "id": "olympic-department",
   "metadata": {},
   "source": [
    "## Company Logo\n",
    "\n",
    "A newly opened multinational brand has decided to base their company logo on the three most common characters in the company name. They are now trying out various combinations of company names and logos based on this condition. Given a string **s**, which is the company name in lowercase letters, your task is to find the top three most common characters in the string.\n",
    "\n",
    "* Print the three most common characters along with their occurrence count.\n",
    "\n",
    "* Sort in descending order of occurrence count.\n",
    "\n",
    "* If the occurrence count is the same, sort the characters in alphabetical order.\n",
    "\n",
    "For example, according to the conditions described above,\n",
    "\n",
    "**GOOGLE** would have it's logo with the letters **G**, **O**, **E**.\n",
    "\n",
    "### Input Format\n",
    "\n",
    "A single line of input containing the string, **S**.\n",
    "\n",
    "### Constraints\n",
    "\n",
    "* **3 < len(S) <= 10^4**\n",
    "\n",
    "* **S** has at least **3** distinct characters\n",
    "\n",
    "### Output Format\n",
    "\n",
    "Print the three most common characters along with their occurrence count each on a separate line.\n",
    "\n",
    "Sort output in descending order of occurrence count.\n",
    "\n",
    "If the occurrence count is the same, sort the characters in alphabetical order.\n",
    "\n",
    "### Sample Input 0\n",
    "\n",
    "aabbbccde\n",
    "\n",
    "### Sample Output 0\n",
    "\n",
    "b 3\n",
    "\n",
    "a 2\n",
    "\n",
    "c 2\n",
    "\n",
    "### Explanation 0\n",
    "\n",
    "\n",
    "**aabbbccde**\n",
    "\n",
    "Here, b occurs **3** times. It is printed first.\n",
    "Both a and c occur **2** times. So, a is printed in the second line and c in the third line because a comes before c in the alphabet.\n",
    "\n",
    "**Note**: The string **S** has at least **3** distinct characters."
   ]
  },
  {
   "cell_type": "code",
   "execution_count": 1,
   "id": "included-duration",
   "metadata": {},
   "outputs": [],
   "source": [
    "def logo_count(N, A):\n",
    "    \n",
    "    aList = list(A)\n",
    "    aDict = dict()\n",
    "    sDict = dict()\n",
    "    fDict = dict()\n",
    "    vList = []\n",
    "    vSetL = []\n",
    "    sList = []\n",
    "    \n",
    "    for ai in aList:\n",
    "        aDict[ai] = aDict.get(ai, 0) + 1\n",
    "        \n",
    "    saList = sorted(aDict.items(), key=lambda x:x[1], reverse=True)\n",
    "    #print(saList)\n",
    "    \n",
    "    for sa in saList:\n",
    "        vList.append(sa[1])\n",
    "        \n",
    "    vSetL = sorted(list(set(vList)), reverse=True)\n",
    "    #print(vSetL)\n",
    "        \n",
    "    for sa in saList:\n",
    "        sDict.setdefault(sa[1], []).append(sa[0])\n",
    "    #print(sDict)\n",
    "        \n",
    "    for k, v in sDict.items():\n",
    "        if len(sDict[k]) > 1:\n",
    "            #print('debugging:', sorted(sDict[k]))\n",
    "            for vi in sorted(sDict[k]):\n",
    "                fDict[vi] = k\n",
    "        else:\n",
    "            fDict[v[0]] = k\n",
    "    #print(fDict)\n",
    "    sList = sorted(fDict.items(), key=lambda x:x[1], reverse=True)[:N]   \n",
    "            \n",
    "    return sList"
   ]
  },
  {
   "cell_type": "code",
   "execution_count": 2,
   "id": "stainless-ministry",
   "metadata": {},
   "outputs": [
    {
     "name": "stdout",
     "output_type": "stream",
     "text": [
      "[('b', 3), ('a', 2), ('c', 2)]\n"
     ]
    }
   ],
   "source": [
    "N = 3\n",
    "A = \"aabbbccde\"\n",
    "print(logo_count(N, A))"
   ]
  },
  {
   "cell_type": "markdown",
   "id": "incorrect-decision",
   "metadata": {},
   "source": [
    "b 3\n",
    "\n",
    "a 2\n",
    "\n",
    "c 2"
   ]
  },
  {
   "cell_type": "code",
   "execution_count": 3,
   "id": "sporting-style",
   "metadata": {},
   "outputs": [
    {
     "name": "stdout",
     "output_type": "stream",
     "text": [
      "[('a', 1), ('b', 1), ('c', 1)]\n"
     ]
    }
   ],
   "source": [
    "N = 3\n",
    "A = \"qwertyuiopasdfghjklzxcvbnm\"\n",
    "print(logo_count(N, A))"
   ]
  },
  {
   "cell_type": "markdown",
   "id": "stock-baltimore",
   "metadata": {},
   "source": [
    "a 1\n",
    "\n",
    "b 1\n",
    "\n",
    "c 1"
   ]
  },
  {
   "cell_type": "code",
   "execution_count": 4,
   "id": "capable-favorite",
   "metadata": {},
   "outputs": [
    {
     "name": "stdout",
     "output_type": "stream",
     "text": [
      "[('a', 419), ('w', 416), ('y', 415)]\n"
     ]
    }
   ],
   "source": [
    "N = 3\n",
    "A = \"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\"\n",
    "print(logo_count(N, A))"
   ]
  },
  {
   "cell_type": "markdown",
   "id": "first-beauty",
   "metadata": {},
   "source": [
    "a 419\n",
    "\n",
    "w 416\n",
    "\n",
    "y 415"
   ]
  },
  {
   "cell_type": "code",
   "execution_count": 5,
   "id": "spatial-glasgow",
   "metadata": {},
   "outputs": [
    {
     "name": "stdout",
     "output_type": "stream",
     "text": [
      "[('o', 12), ('m', 11), ('n', 11)]\n"
     ]
    }
   ],
   "source": [
    "N = 3\n",
    "A = \"szrmtbttyyaymadobvwniwmozojggfbtswdiocewnqsjrkimhovimghixqryqgzhgbakpncwupcadwvglmupbexijimonxdowqsjinqzytkooacwkchatuwpsoxwvgrrejkukcvyzbkfnzfvrthmtfvmbppkdebswfpspxnelhqnjlgntqzsprmhcnuomrvuyolvzlni\"\n",
    "print(logo_count(N, A))"
   ]
  },
  {
   "cell_type": "markdown",
   "id": "opponent-laugh",
   "metadata": {},
   "source": [
    "o 12\n",
    "\n",
    "m 11\n",
    "\n",
    "n 11"
   ]
  },
  {
   "cell_type": "code",
   "execution_count": 6,
   "id": "fixed-assumption",
   "metadata": {},
   "outputs": [
    {
     "name": "stdout",
     "output_type": "stream",
     "text": [
      "[('m', 47), ('n', 46), ('w', 46)]\n"
     ]
    }
   ],
   "source": [
    "N = 3\n",
    "A = \"tctesvgnclzykpmbcqixlonfidpdjbynrcpxsjmucpeyormenrjbibafpzkquminfnnbizgbpxeovefuykjrcebfnntvyamkgykcnvjqxvnprwrarpcgrjoucywgfnbnysgwzymcxyachlpsglosflsubqhvobedbtzuqmvgyvrpeclcsoeemysuyuejpjtahnrzmebztrjtzhhjtqlmhttxdnjilqsqymmhjmlzikkdzasshfktbfsaozyhaduyqcufucqxxuksnfjaiwacvlyiimfrzyxwobrfoalhmowcobbpwuqpwvlstbngxjrebfnckbcagoacmfuzvmqxefiwqkgfwgghxbulvhqiaqewdmmizjfgyymchohejdpsnnpvmtgqzxkesnrikywoolootuuikapycpxhkrplyuhzhndxckbvaynkzreybomwuemxtgmrjxbysarlsemwambppmrumivznuaqskzgpamfsjwwrjvtwyqpainuyyfmwnegjlmanqwvshvpsbpeykfwykdumdgjlkuwoxwqctihfdwvxrefggsxmjtxmpdcigjertcxwennzyamqpahytneybgmdyupusarhemazvozdqurftdvbnavynrsdzxjebjrdatbkoezdgwznplqqzakozjecyewsidawuxfpusmeusantzdglridxnwvbgwjcaofbplnwyxtmwerskdzwhgxfdqbpfhymlgwtvqeehnnhwgklxqkdjgmfxvuxwwpmnqxsaiitfehhbqdyveqfrqjjfnggmhjrgldgctnhzrrqdtbunxxcuwibqkjdickhrtbznevczqoidnfmtaveysysrgbhctwxmevuutrwyriugtuvhuxkqapfjyplczgekxisffoivofobqmipqxzunlrrtcmaivvhbfjvgywwtqubwszqwjtskyuxljhinqrhcgddejurivukcspaazjjwwloreqlreqjifwsv\"\n",
    "print(logo_count(N, A))"
   ]
  },
  {
   "cell_type": "markdown",
   "id": "spectacular-article",
   "metadata": {},
   "source": [
    "m 47\n",
    "\n",
    "n 46\n",
    "\n",
    "w 46"
   ]
  },
  {
   "cell_type": "code",
   "execution_count": 7,
   "id": "clear-eagle",
   "metadata": {},
   "outputs": [
    {
     "name": "stdout",
     "output_type": "stream",
     "text": [
      "[('p', 49), ('x', 49), ('i', 47)]\n"
     ]
    }
   ],
   "source": [
    "N = 3\n",
    "A = \"ybzhgdrefvdnjyfoswjuslbpuvtvfgzvnpayvjwzxkdpnbdnrsodnqhpqspojipjwgxaltzoikuucixfsoueknofvsohtqtvxvihtsevdojscucxwnivgzjazfsznswxbjylqejlgpkppwezlxhfhwuphrnqfdiowmeikwdozhjwmcneixidypdikthxxvppjakeffvhpmsxijiolpybpntbiuehpwkobetpglwxexuoxgwdbcsfvskkczxluccfkrwmpvbknadmbivdrypxtlmbnvqvcnoyciqcfnpkenvwkkosvsnxiqibkirlikwsdcnqruirprxhlenlrxahfiyhfgvbwqehddnqdtfgzwbyudmirkqmzkhxcwqxxvyrtrrmsezyvuanpcjisbfywzqesxyxlulaxamyedjyautncorctzanmosfpuescfqhrydrsohttsohvpkqppxdjsefcnelearcrypndesagvybsnzikxjqyzsvcpiypmkjaihrouvcajsxxsnsavasoxgigbhfxhbtivoyoflmmjmtxrxrsezgzcfkqiczphapeugunnyhpzpeisgohuuuchqcjbhvzojsaiecebllqevoakkfsdwqfuaozouhdgnuludvdcojalzztzkfmqxagdrlcekwyxerosaeplyzgjxwbiowidwgdnmdekjinuseaswpvmnpolistdinevfcfzlognzzfrlfoogxhyiwrfeaplrryyvyygxwgqbpaxcgrzfbhcsmbxeinwgmkpgzbdnoxdppkdvewajsnujyrojmiuvimgpkbhjmxsgaalyyovdipfeyiaeybyyvhdyacyuljzhmhtnvoapcijurxjbjalunfhtbvaiffutjxpvaedxyvrrqckxecqkniienwmmtkpwmpqkvhjigzqmtuouuxwmhohxyauzuakyvaekvyrjuuqgtcfptsuczdbeeloffdqewalyyygokdxor\"\n",
    "print(logo_count(N, A))"
   ]
  },
  {
   "cell_type": "markdown",
   "id": "automatic-bottom",
   "metadata": {},
   "source": [
    "p 49\n",
    "\n",
    "x 49\n",
    "\n",
    "i 47"
   ]
  },
  {
   "cell_type": "code",
   "execution_count": null,
   "id": "recognized-pennsylvania",
   "metadata": {},
   "outputs": [],
   "source": []
  }
 ],
 "metadata": {
  "kernelspec": {
   "display_name": "learn-env",
   "language": "python",
   "name": "learn-env"
  },
  "language_info": {
   "codemirror_mode": {
    "name": "ipython",
    "version": 3
   },
   "file_extension": ".py",
   "mimetype": "text/x-python",
   "name": "python",
   "nbconvert_exporter": "python",
   "pygments_lexer": "ipython3",
   "version": "3.8.8"
  }
 },
 "nbformat": 4,
 "nbformat_minor": 5
}
