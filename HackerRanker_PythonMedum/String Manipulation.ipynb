{
 "cells": [
  {
   "cell_type": "markdown",
   "id": "applied-syndrome",
   "metadata": {},
   "source": [
    "## String Manipulation \n",
    "\n",
    "You are given **N strings**, each string is either an int, a long, a double or none of the above, i.e. just a string.\n",
    "\n",
    "You are required to count the total number of int, long, double and other strings (which are not any of the three) in the N strings.\n",
    "\n",
    "If the string is an int, it will be considered as an int only, and it will not affect the count of long or double. Similarly, if a string is long, it will not affect the count of double.\n",
    "\n",
    "In most programming languages, there are 3 commonly used data types:\n",
    "\n",
    "* **int** - an integer between **-2,147,483,648** and **2,147,483,647**.\n",
    "\n",
    "* **long** - an integer between **-9,223,372,036,854,775,808** and **9,223,372,036,854,775,807**.\n",
    "\n",
    "* **double** - a real number between **-1.79769313486231570E+308** and **1.79769313486231570E+308**.\n",
    "\n",
    "**Find and print the total number of int, long, double and other strings among the N strings.**\n",
    "\n",
    "### Note\n",
    "\n",
    "* An **int** is also a **long** and **double**, and a **long** is also a **double**\n",
    "\n",
    "### Input Format\n",
    "\n",
    "The first line of input contains a single integer **N** denoting the number of input strings.  \n",
    "\n",
    "The next N lines contain a string **S**.\n",
    "\n",
    "**S** is either an integer number, a real number or a regular string of characters {a-z, A-Z, 0-9, '.'}\n",
    "\n",
    "### Sample Input\n",
    "\n",
    "`6`\n",
    "\n",
    "`123456`\n",
    "\n",
    "`123456123456123456`\n",
    "\n",
    "`123456123456123456.123456123456123456`\n",
    "\n",
    "`123456123456123456.123456123456123456.123456123456123456`\n",
    "\n",
    "`abcdef`\n",
    "\n",
    "`45a.23`\n",
    "\n",
    "### Output Format\n",
    "\n",
    "Output 4 integers denoting the count of int, long, double and regular strings respectively among the N strings.\n",
    "\n",
    "### Sample Output\n",
    "\n",
    "`1 1 1 3`"
   ]
  },
  {
   "cell_type": "code",
   "execution_count": 1,
   "id": "secret-sessions",
   "metadata": {},
   "outputs": [],
   "source": [
    "def dataTypeCounter(N, value):\n",
    "    \n",
    "    countN = 0\n",
    "    countL = 0\n",
    "    countD = 0\n",
    "    countS = 0\n",
    "    \n",
    "    for n in range(0, N, 1):\n",
    "        \n",
    "        findN = False\n",
    "        \n",
    "        try: \n",
    "            value[n] == float(value[n])\n",
    "                \n",
    "            if float(value[n]) > -2147483648 and float(value[n]) < 2147483647:\n",
    "                if '.' not in value[n]:\n",
    "                    #print(value[n])\n",
    "                    FindN = True\n",
    "                    countN += 1\n",
    "                    \n",
    "            elif float(value[n]) > -9223372036854775808 and float(value[n]) < 9223372036854775807 and findN == False:\n",
    "                if '.' not in value[n]:\n",
    "                    #print(value[n])\n",
    "                    countL += 1\n",
    "                \n",
    "            else:\n",
    "                #print(value[n])\n",
    "                #print('beyond')\n",
    "                countD += 1\n",
    "            \n",
    "        except Exception as e:\n",
    "            #print(e)\n",
    "            countS += 1\n",
    "            \n",
    "    if countD != N - countS - countN - countL:\n",
    "        countD = N - countS - countN - countL \n",
    "            \n",
    "    return countN, countL, countD, countS"
   ]
  },
  {
   "cell_type": "code",
   "execution_count": 2,
   "id": "cleared-patch",
   "metadata": {},
   "outputs": [
    {
     "data": {
      "text/plain": [
       "(1, 1, 1, 3)"
      ]
     },
     "execution_count": 2,
     "metadata": {},
     "output_type": "execute_result"
    }
   ],
   "source": [
    "N = 6\n",
    "value = ['123456', '123456123456123456', '123456123456123456.123456123456123456', '123456123456123456.123456123456123456.123456123456123456', 'abcdef', '45a.23']\n",
    "dataTypeCounter(N, value)"
   ]
  },
  {
   "cell_type": "markdown",
   "id": "broken-screw",
   "metadata": {},
   "source": [
    "1 1 1 3 "
   ]
  },
  {
   "cell_type": "code",
   "execution_count": 3,
   "id": "given-rocket",
   "metadata": {},
   "outputs": [
    {
     "data": {
      "text/plain": [
       "(3, 1, 3, 3)"
      ]
     },
     "execution_count": 3,
     "metadata": {},
     "output_type": "execute_result"
    }
   ],
   "source": [
    "N = 10 \n",
    "value = ['Ok921np3CBhdC777IjHXMNgrAtqZJW5nkcvIzCXZcT', \n",
    "         'FcllGGXCyi7643Rp0QryNfA.3XvUCGAVNN89ERiuqWjPHuYn', \n",
    "         '7', '7.79816653546852E22', '8.434597980560202E69', '865997311', \n",
    "         '91713888418031745', '385763320', '9.870908039667745E74', '4nEHP2']\n",
    "dataTypeCounter(N, value)"
   ]
  },
  {
   "cell_type": "markdown",
   "id": "actual-wages",
   "metadata": {},
   "source": [
    "3 1 3 3"
   ]
  },
  {
   "cell_type": "code",
   "execution_count": 4,
   "id": "visible-restaurant",
   "metadata": {},
   "outputs": [
    {
     "data": {
      "text/plain": [
       "(1, 1, 4, 4)"
      ]
     },
     "execution_count": 4,
     "metadata": {},
     "output_type": "execute_result"
    }
   ],
   "source": [
    "N = 10 \n",
    "value = ['3.4948703399907227E64', 's7Exu', '5ZZIUvWO', '399023798', \n",
    "         'd7189wVWvhHmE48QBzqAFy8bXC8nAOwb', '281669337335135425', \n",
    "         '8.619398385033757E54', 'ivIwqtlAnd3QbS5FZ4p', '1.5844490907103497E87', \n",
    "         '4.2096543783575635']\n",
    "dataTypeCounter(N, value)"
   ]
  },
  {
   "cell_type": "markdown",
   "id": "processed-density",
   "metadata": {},
   "source": [
    "1 1 4 4"
   ]
  },
  {
   "cell_type": "code",
   "execution_count": 5,
   "id": "infrared-poverty",
   "metadata": {},
   "outputs": [
    {
     "data": {
      "text/plain": [
       "(1, 7, 6, 6)"
      ]
     },
     "execution_count": 5,
     "metadata": {},
     "output_type": "execute_result"
    }
   ],
   "source": [
    "N = 20 \n",
    "value = ['.T7YzaFmY19UcJNlnrQ8n5PlGqzmRmPWXSTvZTnJY5J', \n",
    "         '256843832646451265', 'CweXQWSHV9B.6TfTl0ebnSEm', \n",
    "         '700283486057007233', '3.0721966230022747E81', \n",
    "         '7.15747466355304E23', '9.007858210553325E39', \n",
    "         '8.764274453412214E93', 'ZCW5Yb0CJ1yCY3qPAJ', \n",
    "         '642167384304181121', 'Nvb4mJ90WmKfrG9HEbAxE1zD7c.0', \n",
    "         '2.7961665743256296E94', '619020717581792129', \n",
    "         '39840071062729137', '3.0375711528645208E16', \n",
    "         'dI1c.H72t.c3j8Qko', '943505203529260417', \n",
    "         '437842715338542657', 'yyWMLAa.5VL3xCf', '566407262']\n",
    "dataTypeCounter(N, value)"
   ]
  },
  {
   "cell_type": "markdown",
   "id": "favorite-honolulu",
   "metadata": {},
   "source": [
    "1 7 6 6"
   ]
  },
  {
   "cell_type": "code",
   "execution_count": 6,
   "id": "bizarre-divide",
   "metadata": {},
   "outputs": [
    {
     "data": {
      "text/plain": [
       "(1, 4, 1, 1)"
      ]
     },
     "execution_count": 6,
     "metadata": {},
     "output_type": "execute_result"
    }
   ],
   "source": [
    "N = 7 \n",
    "value = ['105882945036338433', '825451196530380673', '982712878407912193', \n",
    "         '9.802899796662464E77', '945258492498429057', 'W5SDRG..7', '774143472']\n",
    "dataTypeCounter(N, value)"
   ]
  },
  {
   "cell_type": "markdown",
   "id": "innocent-plymouth",
   "metadata": {},
   "source": [
    "1 4 1 1"
   ]
  },
  {
   "cell_type": "code",
   "execution_count": 7,
   "id": "following-hello",
   "metadata": {},
   "outputs": [
    {
     "data": {
      "text/plain": [
       "(1, 2, 1, 1)"
      ]
     },
     "execution_count": 7,
     "metadata": {},
     "output_type": "execute_result"
    }
   ],
   "source": [
    "N = 5 \n",
    "value = ['105882945036338433', '825451196530380673', '9.802899796662464E77', \n",
    "         'W5SDRG..7', '774143472']\n",
    "dataTypeCounter(N, value)"
   ]
  },
  {
   "cell_type": "markdown",
   "id": "leading-elements",
   "metadata": {},
   "source": [
    "1 2 1 1"
   ]
  },
  {
   "cell_type": "code",
   "execution_count": null,
   "id": "serious-solid",
   "metadata": {},
   "outputs": [],
   "source": []
  }
 ],
 "metadata": {
  "kernelspec": {
   "display_name": "learn-env",
   "language": "python",
   "name": "learn-env"
  },
  "language_info": {
   "codemirror_mode": {
    "name": "ipython",
    "version": 3
   },
   "file_extension": ".py",
   "mimetype": "text/x-python",
   "name": "python",
   "nbconvert_exporter": "python",
   "pygments_lexer": "ipython3",
   "version": "3.8.8"
  }
 },
 "nbformat": 4,
 "nbformat_minor": 5
}
