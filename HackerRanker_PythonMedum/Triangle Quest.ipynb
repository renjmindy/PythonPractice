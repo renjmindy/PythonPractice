{
 "cells": [
  {
   "cell_type": "markdown",
   "id": "unable-cream",
   "metadata": {},
   "source": [
    "## Triangle Quest\n",
    "\n",
    "You are given a positive integer **N**. Print a numerical triangle of height **N-1** like the one below:\n",
    "\n",
    "``\n",
    "1\n",
    "22\n",
    "333\n",
    "4444\n",
    "55555\n",
    "......\n",
    "``\n",
    "\n",
    "Can you do it using only **arithmetic operations, a single for loop and print statement?**\n",
    "\n",
    "Use no more than two lines. The first line (the for statement) is already written for you. You have to complete the print statement.\n",
    "\n",
    "**Note**: Using anything related to strings will give a score of .\n",
    "\n",
    "### Input Format\n",
    "\n",
    "A single line containing integer, **N**.\n",
    "\n",
    "### Constraints\n",
    "\n",
    "1 <= N <= 9\n",
    "\n",
    "### Output Format\n",
    "\n",
    "Print **N-1** lines as explained above.\n",
    "\n",
    "### Sample Input\n",
    "\n",
    "``\n",
    "5\n",
    "``\n",
    "\n",
    "### Sample Output\n",
    "\n",
    "``\n",
    "1\n",
    "22\n",
    "333\n",
    "4444\n",
    "``"
   ]
  },
  {
   "cell_type": "code",
   "execution_count": 1,
   "id": "under-submission",
   "metadata": {},
   "outputs": [
    {
     "name": "stdout",
     "output_type": "stream",
     "text": [
      "1\n",
      "22\n",
      "333\n",
      "4444\n"
     ]
    }
   ],
   "source": [
    "N = 5\n",
    "for i in range(1, N, 1):\n",
    "    print((10**i//9)*i)"
   ]
  },
  {
   "cell_type": "code",
   "execution_count": null,
   "id": "august-dryer",
   "metadata": {},
   "outputs": [],
   "source": []
  }
 ],
 "metadata": {
  "kernelspec": {
   "display_name": "learn-env",
   "language": "python",
   "name": "learn-env"
  },
  "language_info": {
   "codemirror_mode": {
    "name": "ipython",
    "version": 3
   },
   "file_extension": ".py",
   "mimetype": "text/x-python",
   "name": "python",
   "nbconvert_exporter": "python",
   "pygments_lexer": "ipython3",
   "version": "3.8.8"
  }
 },
 "nbformat": 4,
 "nbformat_minor": 5
}
