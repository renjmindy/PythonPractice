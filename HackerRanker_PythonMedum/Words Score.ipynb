{
 "cells": [
  {
   "cell_type": "markdown",
   "id": "described-residence",
   "metadata": {},
   "source": [
    "## Words Score\n",
    "\n",
    "In this challenge, the task is to debug the existing code to successfully execute all provided test files.\n",
    "\n",
    "Consider that vowels in the alphabet are a, e, i, o, u and y.\n",
    "\n",
    "Function score_words takes a list of lowercase words as an argument and returns a score as follows:\n",
    "\n",
    "The score of a single word is **2** if the word contains an even number of vowels. Otherwise, the score of this word is **1**. The score for the whole list of words is the sum of scores of all words in the list.\n",
    "\n",
    "Debug the given function score_words such that it returns a correct score.\n",
    "\n",
    "Your function will be tested on several cases by the locked template code.\n",
    "\n",
    "### Input Format\n",
    "\n",
    "The input is read by the provided locked code template. In the first line, there is a single integer  denoting the number of words. In the second line, there are **n** space-separated lowercase words.\n",
    "\n",
    "### Constraints\n",
    "\n",
    "* **1 <= n <= 20**\n",
    "\n",
    "* Each word has at most **20** letters and all letters are English lowercase letters\n",
    "\n",
    "### Output Format\n",
    "\n",
    "The output is produced by the provided and locked code template. It calls function score_words with the list of words read from the input as the argument and prints the returned score to the output.\n",
    "\n",
    "### Sample Input 0\n",
    "\n",
    "`2`\n",
    "\n",
    "`hacker book`\n",
    "\n",
    "### Sample Output 0\n",
    "\n",
    "`4`\n",
    "\n",
    "### Explanation 0\n",
    "\n",
    "There are two words in the input: hacker and book. The score of the word hacker is **2** because it contains an even number of vowels, i.e. **2** vowels, and the score of book is **2** for the same reason. Thus the total score is **2+2=4**.\n",
    "\n",
    "### Sample Input 1\n",
    "\n",
    "`3`\n",
    "\n",
    "`programming is awesome`\n",
    "\n",
    "### Sample Output 1\n",
    "\n",
    "`4`\n",
    "\n",
    "### Explanation 1\n",
    "\n",
    "There are **3** words in the input: programming, is and awesome. The score of programming is **1** since it contains **3** vowels, an odd number of vowels. The score of is is also **1** because it has an odd number of vowels. The score of awesome is **2** since it contains **4** vowels, an even number of vowels. Thus, the total score is **1+1+2=4**."
   ]
  },
  {
   "cell_type": "markdown",
   "id": "marine-joseph",
   "metadata": {},
   "source": [
    "def is_vowel(letter):\n",
    "\n",
    "    return letter in ['a', 'e', 'i', 'o', 'u', 'y']"
   ]
  },
  {
   "cell_type": "code",
   "execution_count": 1,
   "id": "approved-worthy",
   "metadata": {},
   "outputs": [],
   "source": [
    "def score_words(N, words):\n",
    "    \n",
    "    vList = ['a', 'e', 'i', 'o', 'u', 'y']\n",
    "    \n",
    "    wList = list(words.split(' '))\n",
    "    \n",
    "    result = 0\n",
    "    \n",
    "    for n in range(0, N):\n",
    "        nVowels = 0\n",
    "        for w in wList[n]:\n",
    "            if w in vList:\n",
    "                nVowels += 1\n",
    "        if nVowels % 2 == 0:\n",
    "            result += 2\n",
    "        else:\n",
    "            result += 1\n",
    "    \n",
    "    return result"
   ]
  },
  {
   "cell_type": "code",
   "execution_count": 2,
   "id": "independent-jason",
   "metadata": {},
   "outputs": [
    {
     "data": {
      "text/plain": [
       "4"
      ]
     },
     "execution_count": 2,
     "metadata": {},
     "output_type": "execute_result"
    }
   ],
   "source": [
    "N = 2\n",
    "words = \"hacker book\"\n",
    "score_words(N, words)"
   ]
  },
  {
   "cell_type": "markdown",
   "id": "saved-canal",
   "metadata": {},
   "source": [
    "4"
   ]
  },
  {
   "cell_type": "code",
   "execution_count": 3,
   "id": "failing-brazilian",
   "metadata": {},
   "outputs": [
    {
     "data": {
      "text/plain": [
       "4"
      ]
     },
     "execution_count": 3,
     "metadata": {},
     "output_type": "execute_result"
    }
   ],
   "source": [
    "N = 3\n",
    "words = \"programming is awesome\"\n",
    "score_words(N, words)"
   ]
  },
  {
   "cell_type": "markdown",
   "id": "blessed-inside",
   "metadata": {},
   "source": [
    "4"
   ]
  },
  {
   "cell_type": "code",
   "execution_count": 4,
   "id": "economic-genetics",
   "metadata": {},
   "outputs": [
    {
     "data": {
      "text/plain": [
       "8"
      ]
     },
     "execution_count": 4,
     "metadata": {},
     "output_type": "execute_result"
    }
   ],
   "source": [
    "N = 7\n",
    "words = \"motmjatlirwxbkqbhkh ujxxfuabn nsgvtsbiexrjww kpcnzkgukfiwwlcptyc rvkhqdudg hjanmpuacpghbbyvax jgavhhhj\"\n",
    "score_words(N, words)"
   ]
  },
  {
   "cell_type": "markdown",
   "id": "bibliographic-moldova",
   "metadata": {},
   "source": [
    "8"
   ]
  },
  {
   "cell_type": "code",
   "execution_count": 5,
   "id": "early-wallet",
   "metadata": {},
   "outputs": [
    {
     "data": {
      "text/plain": [
       "7"
      ]
     },
     "execution_count": 5,
     "metadata": {},
     "output_type": "execute_result"
    }
   ],
   "source": [
    "N = 5\n",
    "words = \"vuv tpikawrurtmtcrs ajhgby tbnvycfnc bdczzgqygrpvoploooab\"\n",
    "score_words(N, words)"
   ]
  },
  {
   "cell_type": "markdown",
   "id": "assisted-looking",
   "metadata": {},
   "source": [
    "7"
   ]
  },
  {
   "cell_type": "code",
   "execution_count": 6,
   "id": "brazilian-implement",
   "metadata": {},
   "outputs": [
    {
     "data": {
      "text/plain": [
       "7"
      ]
     },
     "execution_count": 6,
     "metadata": {},
     "output_type": "execute_result"
    }
   ],
   "source": [
    "N = 5\n",
    "words = \"nawdqzszrlvnetjzlvvo yicpmhpdnneuujxck qvzzaohijlinv hed khya\"\n",
    "score_words(N, words)"
   ]
  },
  {
   "cell_type": "markdown",
   "id": "frank-yellow",
   "metadata": {},
   "source": [
    "7"
   ]
  },
  {
   "cell_type": "code",
   "execution_count": 7,
   "id": "computational-partition",
   "metadata": {},
   "outputs": [
    {
     "data": {
      "text/plain": [
       "13"
      ]
     },
     "execution_count": 7,
     "metadata": {},
     "output_type": "execute_result"
    }
   ],
   "source": [
    "N = 7\n",
    "words = \"fbibepbwicbq vqpyywkbvkyjzsmhydvh gn axkzfhkyjcgyoaspzex mcrzwd cohtzztocconrmbzle znimrpssdsbkma\"\n",
    "score_words(N, words)"
   ]
  },
  {
   "cell_type": "markdown",
   "id": "hawaiian-moses",
   "metadata": {},
   "source": [
    "13"
   ]
  },
  {
   "cell_type": "code",
   "execution_count": 8,
   "id": "catholic-operations",
   "metadata": {},
   "outputs": [
    {
     "data": {
      "text/plain": [
       "6"
      ]
     },
     "execution_count": 8,
     "metadata": {},
     "output_type": "execute_result"
    }
   ],
   "source": [
    "N = 4\n",
    "words = \"lcfsnnhbiwjpyn bysdtsnrp llevkowqmkriztmgzl tbplwxh\"\n",
    "score_words(N, words)"
   ]
  },
  {
   "cell_type": "markdown",
   "id": "invisible-cherry",
   "metadata": {},
   "source": [
    "6"
   ]
  },
  {
   "cell_type": "code",
   "execution_count": 9,
   "id": "muslim-relationship",
   "metadata": {},
   "outputs": [
    {
     "data": {
      "text/plain": [
       "14"
      ]
     },
     "execution_count": 9,
     "metadata": {},
     "output_type": "execute_result"
    }
   ],
   "source": [
    "N = 10\n",
    "words = \"dkkbcyx eewlqcnujguugob w unjcwq xghkyiwkzcojcaj smsehtspdhmtbjiqoye o yhigvnueggo muuvktkgfmbfq evyusixxixbn\"\n",
    "score_words(N, words)"
   ]
  },
  {
   "cell_type": "markdown",
   "id": "recovered-bolivia",
   "metadata": {},
   "source": [
    "14"
   ]
  },
  {
   "cell_type": "code",
   "execution_count": 10,
   "id": "legendary-chemistry",
   "metadata": {},
   "outputs": [
    {
     "data": {
      "text/plain": [
       "27"
      ]
     },
     "execution_count": 10,
     "metadata": {},
     "output_type": "execute_result"
    }
   ],
   "source": [
    "N = 18\n",
    "words = \"ehopcjxxlblxcjz nkrvqnvjpg vwxtg fbjrjpjjhurihqjogbzv iocoyvctjox tpuyibwaby gb dawslcofcaz iowjrcncn siblrumdncwefeirftg fwgbjjcsvyihrkjfza pvek wfuqjvdzmpvq toaqnplkefvvhzzckj ucwmjxutkclh rizmiavejafewt wxfnotyzilyumnopfeyz hxdbxuytxmnbbddc\"\n",
    "score_words(N, words)"
   ]
  },
  {
   "cell_type": "markdown",
   "id": "heated-colon",
   "metadata": {},
   "source": [
    "27"
   ]
  },
  {
   "cell_type": "code",
   "execution_count": 11,
   "id": "ordered-overhead",
   "metadata": {},
   "outputs": [
    {
     "data": {
      "text/plain": [
       "31"
      ]
     },
     "execution_count": 11,
     "metadata": {},
     "output_type": "execute_result"
    }
   ],
   "source": [
    "N = 19\n",
    "words = \"lfaoklxt ny ofwkdpcagynwsxj oiw lzrqawiljymnso ksxjhmpojdnds wsgljmpmzibl mwsvqz kwjk bkdmwgidvypggzd st zryelpuzufmmtbhezych g tcavhcezcdxzf ybddabfmiqptksfd mffyqqm gro bwl iacrscoumh\"\n",
    "score_words(N, words)"
   ]
  },
  {
   "cell_type": "markdown",
   "id": "funky-grass",
   "metadata": {},
   "source": [
    "31"
   ]
  },
  {
   "cell_type": "code",
   "execution_count": 12,
   "id": "frozen-nepal",
   "metadata": {},
   "outputs": [
    {
     "data": {
      "text/plain": [
       "12"
      ]
     },
     "execution_count": 12,
     "metadata": {},
     "output_type": "execute_result"
    }
   ],
   "source": [
    "N = 9\n",
    "words = \"ckaxoakvbaeqfqs cifiu nijgmgrscnnxajdk kwfavkpjr bsn vqlxhroslsfeczhktr eofebgskvihpgosgtdsx cmi ikory\"\n",
    "score_words(N, words)"
   ]
  },
  {
   "cell_type": "markdown",
   "id": "curious-hybrid",
   "metadata": {},
   "source": [
    "12"
   ]
  },
  {
   "cell_type": "code",
   "execution_count": 13,
   "id": "historical-secret",
   "metadata": {},
   "outputs": [
    {
     "data": {
      "text/plain": [
       "14"
      ]
     },
     "execution_count": 13,
     "metadata": {},
     "output_type": "execute_result"
    }
   ],
   "source": [
    "N = 8\n",
    "words = \"xrihnnslrncdwq vdctdghmgkrjuhyjk urntsmnksblmau kzxmdiqba qygjktceqpz nfjlpfyiqb jwqdxajedhruuflkdz nuhokuvmxbhpak\"\n",
    "score_words(N, words)"
   ]
  },
  {
   "cell_type": "markdown",
   "id": "welsh-drinking",
   "metadata": {},
   "source": [
    "14"
   ]
  },
  {
   "cell_type": "code",
   "execution_count": null,
   "id": "fossil-complaint",
   "metadata": {},
   "outputs": [],
   "source": []
  }
 ],
 "metadata": {
  "kernelspec": {
   "display_name": "learn-env",
   "language": "python",
   "name": "learn-env"
  },
  "language_info": {
   "codemirror_mode": {
    "name": "ipython",
    "version": 3
   },
   "file_extension": ".py",
   "mimetype": "text/x-python",
   "name": "python",
   "nbconvert_exporter": "python",
   "pygments_lexer": "ipython3",
   "version": "3.8.8"
  }
 },
 "nbformat": 4,
 "nbformat_minor": 5
}
