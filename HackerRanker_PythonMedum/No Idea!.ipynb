{
 "cells": [
  {
   "cell_type": "markdown",
   "id": "specified-honolulu",
   "metadata": {},
   "source": [
    "## No Idea!\n",
    "\n",
    "There is an array of n integers. There are also **2 disjoint sets**, **A** and **B**, each containing m integers. You like all the integers in set A and dislike all the integers in set B. Your initial happiness is 0. For each i integer in the array, if i belongs to A, you add 1 to your happiness. If i belongs to B, you add -1 to your happiness. Otherwise, your happiness does not change. Output your final happiness at the end.\n",
    "\n",
    "**Note**: Since **A** and **B** are sets, they have no repeated elements. However, the array might contain duplicate elements.\n",
    "\n",
    "### Constraints\n",
    "\n",
    "* 1 <= n <= 10^5\n",
    "\n",
    "* 1 <= m <= 10^5\n",
    "\n",
    "* 1 <= Any interger in the input <= 10^9\n",
    "\n",
    "### Input Format\n",
    "\n",
    "The first line contains integers n and m separated by a space.\n",
    "\n",
    "The second line contains n integers, the elements of the array.\n",
    "\n",
    "The third and fourth lines contain m integers, A and B, respectively.\n",
    "\n",
    "### Output Format\n",
    "\n",
    "Output a single integer, your total happiness.\n",
    "\n",
    "### Sample Input\n",
    "\n",
    "``\n",
    "3 2\n",
    "1 5 3\n",
    "3 1\n",
    "5 7\n",
    "``\n",
    "\n",
    "### Sample Output\n",
    "\n",
    "``\n",
    "1\n",
    "``\n",
    "\n",
    "### Explanation\n",
    "\n",
    "You gain 1 unit of happiness for elements 3 and 1 in set A. You lose 1 unit for 5 in set B. The element 7 in set B does not exist in the array so it is not included in the calculation.\n",
    "\n",
    "Hence, the total happiness is 2 - 1 = 1."
   ]
  },
  {
   "cell_type": "code",
   "execution_count": 1,
   "id": "photographic-arabic",
   "metadata": {},
   "outputs": [
    {
     "name": "stdout",
     "output_type": "stream",
     "text": [
      "1\n"
     ]
    }
   ],
   "source": [
    "n = 3\n",
    "m = 2\n",
    "dList = [1, 5, 3]\n",
    "aList = [3, 1]\n",
    "bList = [5, 7]\n",
    "\n",
    "print(sum([(i in aList) - (i in bList) for i in dList]))"
   ]
  },
  {
   "cell_type": "code",
   "execution_count": null,
   "id": "artistic-federal",
   "metadata": {},
   "outputs": [],
   "source": []
  }
 ],
 "metadata": {
  "kernelspec": {
   "display_name": "learn-env",
   "language": "python",
   "name": "learn-env"
  },
  "language_info": {
   "codemirror_mode": {
    "name": "ipython",
    "version": 3
   },
   "file_extension": ".py",
   "mimetype": "text/x-python",
   "name": "python",
   "nbconvert_exporter": "python",
   "pygments_lexer": "ipython3",
   "version": "3.8.8"
  }
 },
 "nbformat": 4,
 "nbformat_minor": 5
}
