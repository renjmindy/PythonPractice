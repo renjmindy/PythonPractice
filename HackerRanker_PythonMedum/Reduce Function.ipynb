{
 "cells": [
  {
   "cell_type": "markdown",
   "id": "bored-beatles",
   "metadata": {},
   "source": [
    "## Reduce Function\n",
    "\n",
    "Given a list of rational numbers,find their product.\n",
    "\n",
    "### Concept\n",
    "\n",
    "The `reduce()` function applies a function of two arguments cumulatively on a list of objects in succession from left to right to reduce it to one value. Say you have a list, say `[1,2,3]` and you have to find its sum.\n",
    "\n",
    "`>>> reduce(lambda x, y : x + y, [1,2,3])\n",
    "6`\n",
    "\n",
    "You can also define an initial value. If it is specified, the function will assume initial value as the value given, and then reduce. It is equivalent to adding the initial value at the beginning of the list. For example:\n",
    "\n",
    "`>>> reduce(lambda x, y : x + y, [1,2,3], -3)\n",
    "3`\n",
    "\n",
    "`>>> from fractions import gcd`\n",
    "\n",
    "`>>> reduce(gcd, [2,4,8], 3)\n",
    " 1`\n",
    " \n",
    "### Input Format\n",
    "\n",
    "First line contains **n**, the number of rational numbers.\n",
    "\n",
    "The **i^th** of next **n** lines contain two integers each, the numerator(**N_i**) and denominator(**D_i**) of the **i^th** rational number in the list.\n",
    "\n",
    "### Constraints\n",
    "\n",
    "* **1 <= n <= 100**\n",
    "\n",
    "* **1 <= N_i, D_i <= 10^9**\n",
    "\n",
    "### Output Format\n",
    "\n",
    "Print only one line containing the numerator and denominator of the product of the numbers in the list in its simplest form, i.e. numerator and denominator have no common divisor other than **1**.\n",
    "\n",
    "### Sample Input 0\n",
    "\n",
    "3\n",
    "\n",
    "1 2\n",
    "\n",
    "3 4\n",
    "\n",
    "10 6\n",
    "\n",
    "### Sample Output 0\n",
    "\n",
    "5 8\n",
    "\n",
    "### Explanation 0\n",
    "\n",
    "Required product is (1/2)(3/4)(10/6) = (5/8)"
   ]
  },
  {
   "cell_type": "code",
   "execution_count": 1,
   "id": "square-winner",
   "metadata": {},
   "outputs": [],
   "source": [
    "from fractions import Fraction\n",
    "from functools import reduce"
   ]
  },
  {
   "cell_type": "code",
   "execution_count": 2,
   "id": "fantastic-equation",
   "metadata": {},
   "outputs": [],
   "source": [
    "def product(N, fracs):\n",
    "    # complete this line with a reduce statement\n",
    "    t = reduce(lambda x, y : x*y, fracs)\n",
    "    return t.numerator, t.denominator"
   ]
  },
  {
   "cell_type": "code",
   "execution_count": 3,
   "id": "subtle-remark",
   "metadata": {},
   "outputs": [
    {
     "data": {
      "text/plain": [
       "(5, 8)"
      ]
     },
     "execution_count": 3,
     "metadata": {},
     "output_type": "execute_result"
    }
   ],
   "source": [
    "N = 3\n",
    "fracs = [Fraction(1,2), Fraction(3,4), Fraction(10,6)]\n",
    "product(N, fracs)"
   ]
  },
  {
   "cell_type": "code",
   "execution_count": null,
   "id": "solved-stevens",
   "metadata": {},
   "outputs": [],
   "source": []
  }
 ],
 "metadata": {
  "kernelspec": {
   "display_name": "learn-env",
   "language": "python",
   "name": "learn-env"
  },
  "language_info": {
   "codemirror_mode": {
    "name": "ipython",
    "version": 3
   },
   "file_extension": ".py",
   "mimetype": "text/x-python",
   "name": "python",
   "nbconvert_exporter": "python",
   "pygments_lexer": "ipython3",
   "version": "3.8.8"
  }
 },
 "nbformat": 4,
 "nbformat_minor": 5
}
