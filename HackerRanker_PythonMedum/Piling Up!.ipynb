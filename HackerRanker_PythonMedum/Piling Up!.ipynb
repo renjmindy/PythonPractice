{
 "cells": [
  {
   "cell_type": "markdown",
   "id": "presidential-classification",
   "metadata": {},
   "source": [
    "## Piling Up!\n",
    "\n",
    "There is a horizontal row of **n** cubes. The length of each cube is given. You need to create a new vertical pile of cubes. The new pile should follow these directions: if **cube_i** is on top of **cube_j** then **sideLength_j >= sideLength_i**.\n",
    "\n",
    "When stacking the cubes, you can only pick up either the leftmost or the rightmost cube each time. Print \"Yes\" if it is possible to stack the cubes. Otherwise, print \"No\". Do not print the quotation marks.\n",
    "\n",
    "### Input Format\n",
    "\n",
    "The first line contains a single integer **T**, the number of test cases.\n",
    "\n",
    "For each test case, there are **2** lines.\n",
    "\n",
    "The first line of each test case contains **n**, the number of cubes.\n",
    "\n",
    "The second line contains **n** space separated integers, denoting the sideLengths of each cube in that order.\n",
    "\n",
    "### Constraints \n",
    "\n",
    "**1 <= T <= 5**\n",
    "\n",
    "**1 <= n <= 10^5**\n",
    "\n",
    "**1 <= sideLength < 2^31**\n",
    "\n",
    "### Output Format\n",
    "\n",
    "For each test case, output a single line containing either \"Yes\" or \"No\" without the quotes.\n",
    "\n",
    "### Sample Input\n",
    "\n",
    "2\n",
    "\n",
    "6\n",
    "\n",
    "4 3 2 1 3 4\n",
    "\n",
    "3\n",
    "\n",
    "1 3 2\n",
    "\n",
    "### Sample Output\n",
    "\n",
    "Yes\n",
    "\n",
    "No\n",
    "\n",
    "### Explanation\n",
    "\n",
    "In the first test case, pick in this order: **left - 4, right - 4, left - 3, right - 3, left - 2, right - 1**.\n",
    "\n",
    "In the second test case, no order gives an appropriate arrangement of vertical cubes. **3** will always come after either **1** or **2**."
   ]
  },
  {
   "cell_type": "code",
   "execution_count": 1,
   "id": "unusual-upper",
   "metadata": {},
   "outputs": [],
   "source": [
    "def pile_up(T, n, l):\n",
    "    \n",
    "    result = []\n",
    "    \n",
    "    for t in range(0, T):\n",
    "        \n",
    "        sum_dL = 0\n",
    "        sum_dR = 0\n",
    "        \n",
    "        dLList = []\n",
    "        dRList = []\n",
    "        \n",
    "        for ni in range(0, (N[t]//2)-1, 1):\n",
    "            dLList.append(L[t][ni+1] - L[t][ni])\n",
    "            #print(t, ' ', L[t][ni+1], ' ', L[t][ni])\n",
    "            \n",
    "        for ni in range(N[t]-1, N[t]//2, -1):\n",
    "            dRList.append(L[t][ni-1] - L[t][ni])\n",
    "            #print(t, ' ', L[t][ni-1], ' ', L[t][ni])\n",
    "            \n",
    "        #print(dLList, ' ', dRList)\n",
    "            \n",
    "        sum_dL = sum(dLList)\n",
    "        sum_dR = sum(dRList)\n",
    "        \n",
    "        #print (sum_dL, ' ', sum_dR)\n",
    "        \n",
    "        if (sum_dL < 0 and sum_dR < 0) or (sum_dL + sum_dR < 0):\n",
    "            result.append('Yes')\n",
    "        else:\n",
    "            result.append('No')\n",
    "            \n",
    "    return result"
   ]
  },
  {
   "cell_type": "code",
   "execution_count": 2,
   "id": "dutch-knight",
   "metadata": {},
   "outputs": [
    {
     "data": {
      "text/plain": [
       "['Yes', 'No']"
      ]
     },
     "execution_count": 2,
     "metadata": {},
     "output_type": "execute_result"
    }
   ],
   "source": [
    "T = 2\n",
    "N = [6, 3]\n",
    "L = [(4, 3, 2, 1, 3, 4), (1, 3, 2)]\n",
    "pile_up(T, N, L)"
   ]
  },
  {
   "cell_type": "markdown",
   "id": "tested-smell",
   "metadata": {},
   "source": [
    "Yes\n",
    "\n",
    "No"
   ]
  },
  {
   "cell_type": "code",
   "execution_count": 3,
   "id": "dominant-switzerland",
   "metadata": {},
   "outputs": [
    {
     "data": {
      "text/plain": [
       "['Yes']"
      ]
     },
     "execution_count": 3,
     "metadata": {},
     "output_type": "execute_result"
    }
   ],
   "source": [
    "T = 1\n",
    "N = [10]\n",
    "L = [(1000000842, 1000000721, 1000000671, 1000000663, 1000000626, 1000000520, 1000000126, 999999978, 1000000266, 1000000501)]\n",
    "pile_up(T, N, L)"
   ]
  },
  {
   "cell_type": "markdown",
   "id": "illegal-strategy",
   "metadata": {},
   "source": [
    "Yes"
   ]
  },
  {
   "cell_type": "code",
   "execution_count": null,
   "id": "healthy-crawford",
   "metadata": {},
   "outputs": [],
   "source": []
  }
 ],
 "metadata": {
  "kernelspec": {
   "display_name": "learn-env",
   "language": "python",
   "name": "learn-env"
  },
  "language_info": {
   "codemirror_mode": {
    "name": "ipython",
    "version": 3
   },
   "file_extension": ".py",
   "mimetype": "text/x-python",
   "name": "python",
   "nbconvert_exporter": "python",
   "pygments_lexer": "ipython3",
   "version": "3.8.8"
  }
 },
 "nbformat": 4,
 "nbformat_minor": 5
}
