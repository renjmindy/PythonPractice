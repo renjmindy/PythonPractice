{
 "cells": [
  {
   "cell_type": "markdown",
   "id": "presidential-classification",
   "metadata": {},
   "source": [
    "## Piling Up!\n",
    "\n",
    "There is a horizontal row of **n** cubes. The length of each cube is given. You need to create a new vertical pile of cubes. The new pile should follow these directions: if **cube_i** is on top of **cube_j** then **sideLength_j >= sideLength_i**.\n",
    "\n",
    "When stacking the cubes, you can only pick up either the leftmost or the rightmost cube each time. Print \"Yes\" if it is possible to stack the cubes. Otherwise, print \"No\". Do not print the quotation marks.\n",
    "\n",
    "### Input Format\n",
    "\n",
    "The first line contains a single integer **T**, the number of test cases.\n",
    "\n",
    "For each test case, there are **2** lines.\n",
    "\n",
    "The first line of each test case contains **n**, the number of cubes.\n",
    "\n",
    "The second line contains **n** space separated integers, denoting the sideLengths of each cube in that order.\n",
    "\n",
    "### Constraints \n",
    "\n",
    "**1 <= T <= 5**\n",
    "\n",
    "**1 <= n <= 10^5**\n",
    "\n",
    "**1 <= sideLength < 2^31**\n",
    "\n",
    "### Output Format\n",
    "\n",
    "For each test case, output a single line containing either \"Yes\" or \"No\" without the quotes.\n",
    "\n",
    "### Sample Input\n",
    "\n",
    "2\n",
    "\n",
    "6\n",
    "\n",
    "4 3 2 1 3 4\n",
    "\n",
    "3\n",
    "\n",
    "1 3 2\n",
    "\n",
    "### Sample Output\n",
    "\n",
    "Yes\n",
    "\n",
    "No\n",
    "\n",
    "### Explanation\n",
    "\n",
    "In the first test case, pick in this order: **left - 4, right - 4, left - 3, right - 3, left - 2, right - 1**.\n",
    "\n",
    "In the second test case, no order gives an appropriate arrangement of vertical cubes. **3** will always come after either **1** or **2**."
   ]
  },
  {
   "cell_type": "code",
   "execution_count": 1,
   "id": "unusual-upper",
   "metadata": {},
   "outputs": [],
   "source": [
    "def pile_up(T, n, l):\n",
    "    \n",
    "    result = []\n",
    "    \n",
    "    for t in range(0, T):\n",
    "        \n",
    "        sum_dL = 0\n",
    "        sum_dR = 0\n",
    "        \n",
    "        dLList = []\n",
    "        dRList = []\n",
    "        \n",
    "        for ni in range(0, (N[t]//2)-1, 1):\n",
    "            dLList.append(L[t][ni+1] - L[t][ni])\n",
    "            #print(t, ' ', L[t][ni+1], ' ', L[t][ni])\n",
    "            \n",
    "        for ni in range(N[t]-1, N[t]//2, -1):\n",
    "            dRList.append(L[t][ni-1] - L[t][ni])\n",
    "            #print(t, ' ', L[t][ni-1], ' ', L[t][ni])\n",
    "            \n",
    "        #print(dLList, ' ', dRList)\n",
    "            \n",
    "        sum_dL = sum(dLList)\n",
    "        sum_dR = sum(dRList)\n",
    "        \n",
    "        #print (sum_dL, ' ', sum_dR)\n",
    "        \n",
    "        if (sum_dL <= 0 and sum_dR <= 0) or (sum_dL + sum_dR <= 0):\n",
    "            result.append('Yes')\n",
    "        else:\n",
    "            result.append('No')\n",
    "            \n",
    "    return result"
   ]
  },
  {
   "cell_type": "code",
   "execution_count": 2,
   "id": "dutch-knight",
   "metadata": {},
   "outputs": [
    {
     "data": {
      "text/plain": [
       "['Yes', 'No']"
      ]
     },
     "execution_count": 2,
     "metadata": {},
     "output_type": "execute_result"
    }
   ],
   "source": [
    "T = 2\n",
    "N = [6, 3]\n",
    "L = [(4, 3, 2, 1, 3, 4), (1, 3, 2)]\n",
    "pile_up(T, N, L)"
   ]
  },
  {
   "cell_type": "markdown",
   "id": "tested-smell",
   "metadata": {},
   "source": [
    "Yes\n",
    "\n",
    "No"
   ]
  },
  {
   "cell_type": "code",
   "execution_count": 3,
   "id": "dominant-switzerland",
   "metadata": {},
   "outputs": [
    {
     "data": {
      "text/plain": [
       "['Yes']"
      ]
     },
     "execution_count": 3,
     "metadata": {},
     "output_type": "execute_result"
    }
   ],
   "source": [
    "T = 1\n",
    "N = [10]\n",
    "L = [(1000000842, 1000000721, 1000000671, 1000000663, 1000000626, 1000000520, 1000000126, 999999978, 1000000266, 1000000501)]\n",
    "pile_up(T, N, L)"
   ]
  },
  {
   "cell_type": "markdown",
   "id": "illegal-strategy",
   "metadata": {},
   "source": [
    "Yes"
   ]
  },
  {
   "cell_type": "code",
   "execution_count": 4,
   "id": "healthy-crawford",
   "metadata": {},
   "outputs": [
    {
     "data": {
      "text/plain": [
       "['No']"
      ]
     },
     "execution_count": 4,
     "metadata": {},
     "output_type": "execute_result"
    }
   ],
   "source": [
    "T = 1\n",
    "N = [10]\n",
    "L = [(105965242, 494136789, 450676517, 36179826, 473818721, 461541657, 144408199, 760779501, 863646256, 76190127)]\n",
    "pile_up(T, N, L)"
   ]
  },
  {
   "cell_type": "markdown",
   "id": "detected-strength",
   "metadata": {},
   "source": [
    "No"
   ]
  },
  {
   "cell_type": "code",
   "execution_count": 5,
   "id": "organizational-horizontal",
   "metadata": {},
   "outputs": [
    {
     "data": {
      "text/plain": [
       "['Yes']"
      ]
     },
     "execution_count": 5,
     "metadata": {},
     "output_type": "execute_result"
    }
   ],
   "source": [
    "T = 1\n",
    "N = [2]\n",
    "L = [(63642354, 583909562)]\n",
    "pile_up(T, N, L)"
   ]
  },
  {
   "cell_type": "markdown",
   "id": "naked-revelation",
   "metadata": {},
   "source": [
    "Yes"
   ]
  },
  {
   "cell_type": "code",
   "execution_count": 6,
   "id": "liberal-burlington",
   "metadata": {},
   "outputs": [
    {
     "data": {
      "text/plain": [
       "['Yes']"
      ]
     },
     "execution_count": 6,
     "metadata": {},
     "output_type": "execute_result"
    }
   ],
   "source": [
    "T = 1\n",
    "N = [3]\n",
    "L = [(427731488, 922935208, 973233245)]\n",
    "pile_up(T, N, L)"
   ]
  },
  {
   "cell_type": "markdown",
   "id": "japanese-major",
   "metadata": {},
   "source": [
    "Yes"
   ]
  },
  {
   "cell_type": "code",
   "execution_count": 7,
   "id": "alien-tournament",
   "metadata": {},
   "outputs": [
    {
     "data": {
      "text/plain": [
       "['Yes']"
      ]
     },
     "execution_count": 7,
     "metadata": {},
     "output_type": "execute_result"
    }
   ],
   "source": [
    "T = 1\n",
    "N = [100]\n",
    "L = [(1000000875, 1000000842, 1000000812, 1000000748, 1000000746, 1000000728, 1000000715, 1000000688, 1000000678, 1000000662, \n",
    "      1000000632, 1000000620, 1000000617, 1000000593, 1000000593, 1000000591, 1000000577, 1000000575, 1000000575, 1000000519, \n",
    "      1000000478, 1000000457, 1000000439, 1000000420, 1000000397, 1000000368, 1000000363, 1000000349, 1000000330, 1000000308, \n",
    "      1000000302, 1000000250, 1000000242, 1000000233, 1000000231, 1000000197, 1000000168, 1000000150, 1000000148, 1000000138, \n",
    "      1000000112, 1000000080, 1000000015, 1000000010, 999999997, 999999982, 999999981, 999999955, 999999920, 999999915, \n",
    "      999999912, 999999904, 999999907, 999999915, 999999938, 999999943, 999999974, 999999981, 999999985, 1000000011, 1000000111, \n",
    "      1000000123, 1000000143, 1000000180, 1000000188, 1000000191, 1000000196, 1000000201, 1000000240, 1000000264, 1000000275, \n",
    "      1000000314, 1000000319, 1000000331, 1000000357, 1000000380, 1000000383, 1000000426, 1000000429, 1000000435, 1000000451, \n",
    "      1000000480, 1000000488, 1000000582, 1000000598, 1000000617, 1000000666, 1000000683, 1000000717, 1000000727, 1000000739, \n",
    "      1000000743, 1000000767, 1000000789, 1000000802, 1000000811, 1000000848, 1000000852, 1000000853, 1000000869)]\n",
    "pile_up(T, N, L)"
   ]
  },
  {
   "cell_type": "markdown",
   "id": "recovered-drove",
   "metadata": {},
   "source": [
    "Yes"
   ]
  },
  {
   "cell_type": "code",
   "execution_count": 8,
   "id": "prompt-blackjack",
   "metadata": {},
   "outputs": [
    {
     "data": {
      "text/plain": [
       "['No']"
      ]
     },
     "execution_count": 8,
     "metadata": {},
     "output_type": "execute_result"
    }
   ],
   "source": [
    "T = 1\n",
    "N = [3]\n",
    "L = [(488028917, 637472922, 617949858)]\n",
    "pile_up(T, N, L)"
   ]
  },
  {
   "cell_type": "markdown",
   "id": "saved-leadership",
   "metadata": {},
   "source": [
    "No"
   ]
  },
  {
   "cell_type": "code",
   "execution_count": null,
   "id": "alert-bankruptcy",
   "metadata": {},
   "outputs": [],
   "source": []
  }
 ],
 "metadata": {
  "kernelspec": {
   "display_name": "learn-env",
   "language": "python",
   "name": "learn-env"
  },
  "language_info": {
   "codemirror_mode": {
    "name": "ipython",
    "version": 3
   },
   "file_extension": ".py",
   "mimetype": "text/x-python",
   "name": "python",
   "nbconvert_exporter": "python",
   "pygments_lexer": "ipython3",
   "version": "3.8.8"
  }
 },
 "nbformat": 4,
 "nbformat_minor": 5
}
