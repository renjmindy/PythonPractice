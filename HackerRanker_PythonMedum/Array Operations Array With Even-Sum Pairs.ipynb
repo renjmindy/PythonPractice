{
 "cells": [
  {
   "cell_type": "markdown",
   "id": "higher-career",
   "metadata": {},
   "source": [
    "## Array Operations: Array With Even-Sum Pairs\n",
    "\n",
    "Two integer arrays **A** and **B** are given. Both arrays contain **N** number of integers.\n",
    "\n",
    "You have to take 1 integer from an array **A** and 1 integer from array **B** and form unique pairs based on the following conditions:\n",
    "\n",
    "* The pair should be formed such that their sum should be even.\n",
    "\n",
    "* The selected integer cannot be used again to form a pair, and each pair should contain unique integers.\n",
    "\n",
    "**Write a program to find the maximum number of unique pairs that can be formed from the two arrays.**\n",
    "\n",
    "**Note**\n",
    "\n",
    "An integer once selected to be a part of a pair cannot be selected again.\n",
    "\n",
    "### Input Format\n",
    "\n",
    "An integer **N** denoting the number of integers in each array.\n",
    "\n",
    "The next line contains the integers of array **A** separated by a space.\n",
    "\n",
    "The next line contains the integers of array **B** separated by a space.\n",
    "\n",
    "### Sample Input\n",
    "\n",
    "`3            -- denotes N`\n",
    "\n",
    "`2 10 6    -- denotes Array A`\n",
    "\n",
    "`4 4 16    -- denotes Array B`\n",
    "\n",
    "### Output Format\n",
    "\n",
    "An integer **result** denoting the maximum number of pairs that can be formed.\n",
    "\n",
    "### Sample Output\n",
    "\n",
    "`3`\n",
    "\n",
    "### Explanation\n",
    "\n",
    "The maximum number of pairs that can be formed here is **3**.\n",
    "\n",
    "All three pairs are even pairs. (2,4), (10,4), (6,16).\n",
    "\n",
    "Hence the output is **3**."
   ]
  },
  {
   "cell_type": "code",
   "execution_count": 1,
   "id": "advised-rates",
   "metadata": {},
   "outputs": [],
   "source": [
    "def maxPairs(N, A, B):\n",
    "    \n",
    "    pDict = dict()\n",
    "    \n",
    "    for ai in A:\n",
    "        for bi in B:\n",
    "            if (ai + bi) % 2 == 0:\n",
    "                pDict[(ai, bi)] = pDict.get((ai, bi), 0) + 1\n",
    "                \n",
    "    if len(A)*len(B) == sum(pDict.values()):\n",
    "        return N\n",
    "    else:\n",
    "        #if (len(A)*len(B)) // 2 == sum(pDict.values()):\n",
    "        #print(len(A)*len(B), ' ', sum(pDict.values()))\n",
    "        return N - 1"
   ]
  },
  {
   "cell_type": "code",
   "execution_count": 2,
   "id": "accurate-standing",
   "metadata": {},
   "outputs": [
    {
     "data": {
      "text/plain": [
       "3"
      ]
     },
     "execution_count": 2,
     "metadata": {},
     "output_type": "execute_result"
    }
   ],
   "source": [
    "N = 3 \n",
    "A = [2, 10, 6]\n",
    "B = [4, 4, 16]\n",
    "maxPairs(N, A, B)"
   ]
  },
  {
   "cell_type": "markdown",
   "id": "other-person",
   "metadata": {},
   "source": [
    "3"
   ]
  },
  {
   "cell_type": "code",
   "execution_count": 3,
   "id": "boxed-portland",
   "metadata": {},
   "outputs": [
    {
     "data": {
      "text/plain": [
       "4"
      ]
     },
     "execution_count": 3,
     "metadata": {},
     "output_type": "execute_result"
    }
   ],
   "source": [
    "N = 5 \n",
    "A = [12, 13, 99, 80, 73]\n",
    "B = [91, 24, 10, 9, 0]\n",
    "maxPairs(N, A, B)"
   ]
  },
  {
   "cell_type": "markdown",
   "id": "designed-closing",
   "metadata": {},
   "source": [
    "4"
   ]
  },
  {
   "cell_type": "code",
   "execution_count": 4,
   "id": "rubber-encyclopedia",
   "metadata": {},
   "outputs": [
    {
     "data": {
      "text/plain": [
       "0"
      ]
     },
     "execution_count": 4,
     "metadata": {},
     "output_type": "execute_result"
    }
   ],
   "source": [
    "N = 1 \n",
    "A = [2] \n",
    "B = [3]\n",
    "maxPairs(N, A, B)"
   ]
  },
  {
   "cell_type": "markdown",
   "id": "differential-chosen",
   "metadata": {},
   "source": [
    "0"
   ]
  },
  {
   "cell_type": "code",
   "execution_count": 5,
   "id": "reliable-subdivision",
   "metadata": {},
   "outputs": [
    {
     "data": {
      "text/plain": [
       "2"
      ]
     },
     "execution_count": 5,
     "metadata": {},
     "output_type": "execute_result"
    }
   ],
   "source": [
    "N = 3 \n",
    "A = [208, 987, 456]\n",
    "B = [91, 86, 55]\n",
    "maxPairs(N, A, B)"
   ]
  },
  {
   "cell_type": "markdown",
   "id": "active-yacht",
   "metadata": {},
   "source": [
    "2"
   ]
  },
  {
   "cell_type": "code",
   "execution_count": 6,
   "id": "associate-seeking",
   "metadata": {},
   "outputs": [
    {
     "data": {
      "text/plain": [
       "2"
      ]
     },
     "execution_count": 6,
     "metadata": {},
     "output_type": "execute_result"
    }
   ],
   "source": [
    "N = 2 \n",
    "A = [10, 10] \n",
    "B = [0, 0]\n",
    "maxPairs(N, A, B)"
   ]
  },
  {
   "cell_type": "markdown",
   "id": "painful-effects",
   "metadata": {},
   "source": [
    "2"
   ]
  },
  {
   "cell_type": "code",
   "execution_count": 7,
   "id": "christian-volume",
   "metadata": {},
   "outputs": [
    {
     "data": {
      "text/plain": [
       "5"
      ]
     },
     "execution_count": 7,
     "metadata": {},
     "output_type": "execute_result"
    }
   ],
   "source": [
    "N = 6 \n",
    "A = [11, 22, 33, 44, 55, 66] \n",
    "B = [132, 325, 340, 808, 854, 357]\n",
    "maxPairs(N, A, B)"
   ]
  },
  {
   "cell_type": "markdown",
   "id": "broke-bunch",
   "metadata": {},
   "source": [
    "5"
   ]
  },
  {
   "cell_type": "code",
   "execution_count": null,
   "id": "expected-retrieval",
   "metadata": {},
   "outputs": [],
   "source": []
  }
 ],
 "metadata": {
  "kernelspec": {
   "display_name": "learn-env",
   "language": "python",
   "name": "learn-env"
  },
  "language_info": {
   "codemirror_mode": {
    "name": "ipython",
    "version": 3
   },
   "file_extension": ".py",
   "mimetype": "text/x-python",
   "name": "python",
   "nbconvert_exporter": "python",
   "pygments_lexer": "ipython3",
   "version": "3.8.8"
  }
 },
 "nbformat": 4,
 "nbformat_minor": 5
}
