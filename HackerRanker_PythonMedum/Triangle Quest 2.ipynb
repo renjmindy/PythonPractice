{
 "cells": [
  {
   "cell_type": "markdown",
   "id": "referenced-bible",
   "metadata": {},
   "source": [
    "## Triangle Quest 2\n",
    "\n",
    "You are given a positive integer **N**.\n",
    "Your task is to print a palindromic triangle of size **N**.\n",
    "\n",
    "For example, a palindromic triangle of size **5** is:\n",
    "\n",
    "``\n",
    "1\n",
    "121\n",
    "12321\n",
    "1234321\n",
    "123454321\n",
    "``\n",
    "\n",
    "You can't take more than two lines. The first line (a for-statement) is already written for you.\n",
    "\n",
    "You have to complete the code using exactly one print statement.\n",
    "\n",
    "### Note:\n",
    "\n",
    "Using anything related to strings will give a score of 0.\n",
    "\n",
    "Using more than one for-statement will give a score of 0.\n",
    "\n",
    "### Input Format\n",
    "\n",
    "A single line of input containing the integer N.\n",
    "\n",
    "### Constraints\n",
    "\n",
    "* 0 < N < 10\n",
    "\n",
    "### Output Format\n",
    "\n",
    "Print the palindromic triangle of size **N** as explained above.\n",
    "\n",
    "### Sample Input\n",
    "\n",
    "``\n",
    "5\n",
    "``\n",
    "\n",
    "### Sample Output\n",
    "\n",
    "``\n",
    "1\n",
    "121\n",
    "12321\n",
    "1234321\n",
    "123454321\n",
    "``"
   ]
  },
  {
   "cell_type": "code",
   "execution_count": 1,
   "id": "geographic-consumer",
   "metadata": {},
   "outputs": [
    {
     "name": "stdout",
     "output_type": "stream",
     "text": [
      "1\n",
      "121\n",
      "12321\n",
      "1234321\n",
      "123454321\n"
     ]
    }
   ],
   "source": [
    "N = 5\n",
    "for i in range(1, N+1, 1):\n",
    "    print((10**i//9)**2)"
   ]
  },
  {
   "cell_type": "code",
   "execution_count": null,
   "id": "temporal-michigan",
   "metadata": {},
   "outputs": [],
   "source": []
  }
 ],
 "metadata": {
  "kernelspec": {
   "display_name": "learn-env",
   "language": "python",
   "name": "learn-env"
  },
  "language_info": {
   "codemirror_mode": {
    "name": "ipython",
    "version": 3
   },
   "file_extension": ".py",
   "mimetype": "text/x-python",
   "name": "python",
   "nbconvert_exporter": "python",
   "pygments_lexer": "ipython3",
   "version": "3.8.8"
  }
 },
 "nbformat": 4,
 "nbformat_minor": 5
}
