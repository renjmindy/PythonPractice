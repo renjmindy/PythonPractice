{
 "cells": [
  {
   "cell_type": "code",
   "execution_count": 1,
   "id": "median-draft",
   "metadata": {},
   "outputs": [
    {
     "name": "stdout",
     "output_type": "stream",
     "text": [
      "<__main__.Passenger object at 0x000001F9F99D9640>\n",
      "<__main__.Passenger object at 0x000001F9F99D95E0>\n",
      "<__main__.Driver object at 0x000001F9F9997190>\n",
      "<__main__.Ride object at 0x000001F9F9CEDE50>\n",
      "<__main__.Ride object at 0x000001F9F9DE7730>\n"
     ]
    }
   ],
   "source": [
    "import numpy as np\n",
    "\n",
    "# Import the entire file\n",
    "#import ride\n",
    "\n",
    "# Import only the Ride class\n",
    "#from ride import Ride\n",
    "\n",
    "class Ride:\n",
    "    pass\n",
    "\n",
    "# Import only the Driver class\n",
    "class Driver:\n",
    "    pass\n",
    "\n",
    "class Passenger:\n",
    "    pass\n",
    "\n",
    "# Two instances of the Passenger class\n",
    "meryl = Passenger()\n",
    "daniel = Passenger()\n",
    "\n",
    "print(meryl)\n",
    "print(daniel)\n",
    "\n",
    "# One instance of the Driver class\n",
    "flatiron_taxi = Driver()\n",
    "print(flatiron_taxi)\n",
    "\n",
    "# Two instances of the Ride class\n",
    "ride_to_school = Ride()\n",
    "ride_home = Ride()\n",
    "\n",
    "print(ride_to_school)\n",
    "print(ride_home)"
   ]
  },
  {
   "cell_type": "code",
   "execution_count": 2,
   "id": "miniature-niagara",
   "metadata": {},
   "outputs": [],
   "source": [
    "def make_a_bark():\n",
    "        print('ruff ruff !!!')\n",
    "        pass"
   ]
  },
  {
   "cell_type": "code",
   "execution_count": 3,
   "id": "natural-horizon",
   "metadata": {},
   "outputs": [],
   "source": [
    "class Dog:\n",
    "    \n",
    "    def bark(self):\n",
    "        return \"I'm an instance method! Oh and... ruff ruff!\""
   ]
  },
  {
   "cell_type": "code",
   "execution_count": 4,
   "id": "young-colonial",
   "metadata": {},
   "outputs": [
    {
     "name": "stdout",
     "output_type": "stream",
     "text": [
      "ruff ruff !!!\n"
     ]
    },
    {
     "data": {
      "text/plain": [
       "\"I'm an instance method! Oh and... ruff ruff!\""
      ]
     },
     "execution_count": 4,
     "metadata": {},
     "output_type": "execute_result"
    }
   ],
   "source": [
    "rex = Dog()\n",
    "rex.mabark = make_a_bark\n",
    "rex.mabark()\n",
    "rex.bark()"
   ]
  },
  {
   "cell_type": "code",
   "execution_count": 5,
   "id": "mobile-tennis",
   "metadata": {},
   "outputs": [],
   "source": [
    "class newDog:\n",
    "    \n",
    "    def bark(self):\n",
    "        return 'I am actually going to bark this time. bark!'\n",
    "        \n",
    "    def who_am_i(self):\n",
    "        return self"
   ]
  },
  {
   "cell_type": "code",
   "execution_count": 6,
   "id": "palestinian-enemy",
   "metadata": {},
   "outputs": [
    {
     "name": "stdout",
     "output_type": "stream",
     "text": [
      "1. <__main__.newDog object at 0x000001F9F99D96D0>\n",
      "2. <__main__.newDog object at 0x000001F9F99D96D0>\n",
      "3. True\n",
      "4. True\n"
     ]
    }
   ],
   "source": [
    "fido = newDog()\n",
    "print(\"1.\", fido.who_am_i()) # Check return value of method\n",
    "print(\"2.\", fido) # Comparing return of the fido instance object\n",
    "\n",
    "# Let's create another rex\n",
    "another_rex = newDog()\n",
    "print(\"3.\", fido == fido.who_am_i()) \n",
    "print(\"4.\", another_rex == another_rex.who_am_i()) \n",
    "# again asserting that `self` is equal to the instance object on which who_am_i was called"
   ]
  },
  {
   "cell_type": "code",
   "execution_count": 7,
   "id": "lined-customer",
   "metadata": {},
   "outputs": [],
   "source": [
    "class Driver:\n",
    "    \n",
    "    def greeting(self):\n",
    "        return \"Hey, how are you?\"\n",
    "    \n",
    "    def ask_for_destination(self):\n",
    "        return \"Where would you like to go today?\""
   ]
  },
  {
   "cell_type": "code",
   "execution_count": 8,
   "id": "beginning-choir",
   "metadata": {},
   "outputs": [],
   "source": [
    "class Passenger:\n",
    "    \n",
    "    def reply_greeting(self):\n",
    "        return \"I am doing well!\"\n",
    "    \n",
    "    def in_a_hurry(self):\n",
    "        return \"Punch it! They're on our tail!\""
   ]
  },
  {
   "cell_type": "code",
   "execution_count": 9,
   "id": "sapphire-recipient",
   "metadata": {},
   "outputs": [],
   "source": [
    "daniel = Driver() # driver\n",
    "niky = Passenger() # passenger"
   ]
  },
  {
   "cell_type": "code",
   "execution_count": 10,
   "id": "alert-astrology",
   "metadata": {},
   "outputs": [
    {
     "name": "stdout",
     "output_type": "stream",
     "text": [
      "Hey, how are you?\n",
      "Punch it! They're on our tail!\n"
     ]
    }
   ],
   "source": [
    "polite_greeting = daniel.greeting()\n",
    "print(polite_greeting)\n",
    "no_time_to_talk = niky.in_a_hurry()\n",
    "print(no_time_to_talk)"
   ]
  },
  {
   "cell_type": "code",
   "execution_count": 11,
   "id": "quarterly-taiwan",
   "metadata": {},
   "outputs": [],
   "source": [
    "# Create Lion class\n",
    "class Lion:\n",
    "    \n",
    "    def speak(self):\n",
    "        return \"Roar\""
   ]
  },
  {
   "cell_type": "code",
   "execution_count": 12,
   "id": "secure-dominican",
   "metadata": {},
   "outputs": [],
   "source": [
    "# Create Tiger class\n",
    "class Tiger:\n",
    "    \n",
    "    def speak(self):\n",
    "        return \"Meow\""
   ]
  },
  {
   "cell_type": "code",
   "execution_count": 13,
   "id": "matched-credits",
   "metadata": {},
   "outputs": [],
   "source": [
    "# Create Elephant class\n",
    "class Elephant:\n",
    "    \n",
    "    def speak(self):\n",
    "        return \"woo-I'm-an-elephant!\""
   ]
  },
  {
   "cell_type": "code",
   "execution_count": 14,
   "id": "baking-celtic",
   "metadata": {},
   "outputs": [
    {
     "name": "stdout",
     "output_type": "stream",
     "text": [
      "Roar\n",
      "Meow\n",
      "woo-I'm-an-elephant!\n"
     ]
    }
   ],
   "source": [
    "simba = Lion()\n",
    "tony = Tiger()\n",
    "dumbo = Elephant()\n",
    "zoo = [simba, tony, dumbo]\n",
    "for animal in zoo:\n",
    "    print(animal.speak())"
   ]
  },
  {
   "cell_type": "code",
   "execution_count": 15,
   "id": "desperate-boston",
   "metadata": {},
   "outputs": [],
   "source": [
    "class Driver:\n",
    "    pass\n",
    "\n",
    "class Passenger:\n",
    "    pass"
   ]
  },
  {
   "cell_type": "code",
   "execution_count": 16,
   "id": "waiting-feedback",
   "metadata": {},
   "outputs": [],
   "source": [
    "# Assign a driver instance\n",
    "driver = Driver() \n",
    "\n",
    "# Give the driver instance object 'miles_driven' of 100000\n",
    "driver.miles_driven = 100000"
   ]
  },
  {
   "cell_type": "code",
   "execution_count": 17,
   "id": "transsexual-debate",
   "metadata": {},
   "outputs": [],
   "source": [
    "# Assign a passenger instance\n",
    "passenger = Passenger() \n",
    "\n",
    "# Give the passenger instance object a 'rating' of 4.9\n",
    "passenger.rating = 4.9"
   ]
  },
  {
   "cell_type": "code",
   "execution_count": 18,
   "id": "illegal-father",
   "metadata": {},
   "outputs": [],
   "source": [
    "def find_driver_by_name(drivers, name):\n",
    "    # Write your code here\n",
    "    for driver in drivers:\n",
    "        if driver.name == name:\n",
    "            return driver.name\n",
    "\n",
    "    print(f\"Sorry, we couldn't find a driver with the name, {name}! :(\")\n",
    "    return 'None'"
   ]
  },
  {
   "cell_type": "code",
   "execution_count": 19,
   "id": "rocky-aurora",
   "metadata": {},
   "outputs": [],
   "source": [
    "# Create drivers with relevant attributes\n",
    "alex_driver = Driver()\n",
    "alex_driver.name = \"alex\"\n",
    "alex_driver.rating = 9.0\n",
    "\n",
    "michelle_driver = Driver()\n",
    "michelle_driver.name = \"michelle\"\n",
    "michelle_driver.rating = 8.0\n",
    "\n",
    "jake_driver = Driver()\n",
    "jake_driver.name = \"jake\"\n",
    "jake_driver.rating = 9.7\n",
    "\n",
    "ashleigh_driver = Driver()\n",
    "ashleigh_driver.name = \"ashleigh\"\n",
    "ashleigh_driver.rating = 8.75\n",
    "\n",
    "list_of_drivers = [alex_driver, michelle_driver, jake_driver, ashleigh_driver]"
   ]
  },
  {
   "cell_type": "code",
   "execution_count": 20,
   "id": "biblical-carnival",
   "metadata": {},
   "outputs": [
    {
     "data": {
      "text/plain": [
       "'jake'"
      ]
     },
     "execution_count": 20,
     "metadata": {},
     "output_type": "execute_result"
    }
   ],
   "source": [
    "# Find \"jake\"\n",
    "output_1 = find_driver_by_name(list_of_drivers, \"jake\")\n",
    "output_1"
   ]
  },
  {
   "cell_type": "code",
   "execution_count": 21,
   "id": "primary-transaction",
   "metadata": {},
   "outputs": [
    {
     "data": {
      "text/plain": [
       "'michelle'"
      ]
     },
     "execution_count": 21,
     "metadata": {},
     "output_type": "execute_result"
    }
   ],
   "source": [
    "# Find \"michelle\"\n",
    "output_2 = find_driver_by_name(list_of_drivers, \"michelle\")\n",
    "output_2"
   ]
  },
  {
   "cell_type": "code",
   "execution_count": 22,
   "id": "secret-furniture",
   "metadata": {},
   "outputs": [
    {
     "name": "stdout",
     "output_type": "stream",
     "text": [
      "Sorry, we couldn't find a driver with the name, allison! :(\n"
     ]
    },
    {
     "data": {
      "text/plain": [
       "'None'"
      ]
     },
     "execution_count": 22,
     "metadata": {},
     "output_type": "execute_result"
    }
   ],
   "source": [
    "# Find \"allison\"\n",
    "output_3 = find_driver_by_name(list_of_drivers, \"allison\")\n",
    "output_3"
   ]
  },
  {
   "cell_type": "code",
   "execution_count": 23,
   "id": "together-romance",
   "metadata": {},
   "outputs": [
    {
     "data": {
      "text/plain": [
       "str"
      ]
     },
     "execution_count": 23,
     "metadata": {},
     "output_type": "execute_result"
    }
   ],
   "source": [
    "type(output_3)"
   ]
  },
  {
   "cell_type": "code",
   "execution_count": 24,
   "id": "hawaiian-absorption",
   "metadata": {},
   "outputs": [],
   "source": [
    "# Write your function here that returns the list of \n",
    "# instance objects whose name starts with the given substring\n",
    "def name_starts_with(drivers, substring):\n",
    "    # Write your code here\n",
    "    nList = []\n",
    "    for driver in drivers:\n",
    "        if driver.name.startswith(substring):\n",
    "            nList.append(driver.name)\n",
    "\n",
    "    if len(nList) > 0:\n",
    "        return nList\n",
    "    else:\n",
    "        return 'None'"
   ]
  },
  {
   "cell_type": "code",
   "execution_count": 25,
   "id": "physical-serum",
   "metadata": {},
   "outputs": [
    {
     "data": {
      "text/plain": [
       "['alex', 'ashleigh']"
      ]
     },
     "execution_count": 25,
     "metadata": {},
     "output_type": "execute_result"
    }
   ],
   "source": [
    "# Drivers whose name start with 'a'\n",
    "output_4 = name_starts_with(list_of_drivers, \"a\")\n",
    "output_4"
   ]
  },
  {
   "cell_type": "code",
   "execution_count": 26,
   "id": "english-edward",
   "metadata": {},
   "outputs": [],
   "source": [
    "# Write your function here that returns the driver with the highest rating\n",
    "def highest_rated_driver(drivers):\n",
    "    # Write your code here\n",
    "    maxRating = -1e-6\n",
    "    driverName = ''\n",
    "    for driver in drivers:\n",
    "        if driver.rating > maxRating:\n",
    "            maxRating = driver.rating\n",
    "            driverName = driver.name\n",
    "    \n",
    "    return driverName"
   ]
  },
  {
   "cell_type": "code",
   "execution_count": 27,
   "id": "moved-knowing",
   "metadata": {},
   "outputs": [
    {
     "data": {
      "text/plain": [
       "'jake'"
      ]
     },
     "execution_count": 27,
     "metadata": {},
     "output_type": "execute_result"
    }
   ],
   "source": [
    "# Find the driver with the highest rating\n",
    "output_5 = highest_rated_driver(list_of_drivers)\n",
    "output_5"
   ]
  },
  {
   "cell_type": "code",
   "execution_count": 28,
   "id": "impossible-cartridge",
   "metadata": {},
   "outputs": [],
   "source": [
    "class NewDriver:\n",
    "    \n",
    "    def passenger_names(self):\n",
    "        nList = []\n",
    "        for passenger in self.passengers:\n",
    "            nList.append(passenger.name)\n",
    "            \n",
    "        return nList"
   ]
  },
  {
   "cell_type": "code",
   "execution_count": 29,
   "id": "coordinate-violin",
   "metadata": {},
   "outputs": [],
   "source": [
    "# Passengers \n",
    "alex_passenger = Passenger()\n",
    "alex_passenger.name = \"alex\"\n",
    "\n",
    "michelle_passenger = Passenger()\n",
    "michelle_passenger.name = \"michelle\"\n",
    "\n",
    "jake_passenger = Passenger()\n",
    "jake_passenger.name = \"jake\"\n",
    "\n",
    "ashleigh_passenger = Passenger()\n",
    "ashleigh_passenger.name = \"ashleigh\"\n",
    "\n",
    "list_of_passengers = [alex_passenger, michelle_passenger, jake_passenger, ashleigh_passenger]"
   ]
  },
  {
   "cell_type": "code",
   "execution_count": 30,
   "id": "greater-thing",
   "metadata": {},
   "outputs": [
    {
     "name": "stdout",
     "output_type": "stream",
     "text": [
      "['alex', 'michelle', 'jake', 'ashleigh']\n"
     ]
    }
   ],
   "source": [
    "# Instantiate a NewDriver class object\n",
    "best_driver = NewDriver() \n",
    "\n",
    "# Add the name attribute and assign it 'Garol'\n",
    "best_driver.name = 'Garol'\n",
    "\n",
    "# Add the car_make attribute and assign it 'toyota'\n",
    "best_driver.car_make = 'toyota'\n",
    "\n",
    "# Add the car_model attribute and assign it 'camry'\n",
    "best_driver.car_model = 'camry'\n",
    "\n",
    "# Add the age attribute and assign it 30\n",
    "best_driver.age = 30\n",
    "\n",
    "# Add the passengers attribute and assign it to list_of_passengers\n",
    "best_driver.passengers = list_of_passengers\n",
    "\n",
    "# Find the names of the passengers\n",
    "names_of_passengers = best_driver.passenger_names()\n",
    "print(names_of_passengers)"
   ]
  },
  {
   "cell_type": "code",
   "execution_count": 31,
   "id": "mechanical-mistress",
   "metadata": {},
   "outputs": [
    {
     "name": "stdout",
     "output_type": "stream",
     "text": [
      "1. {}\n",
      "2. Hi, how are you?\n",
      "3. Yum that was delish!\n",
      "4. {'name': 'Gail', 'age': 29, 'weight': 'None of your business!', 'hungry': False}\n"
     ]
    }
   ],
   "source": [
    "class Person():\n",
    "    \n",
    "    def say_hello(self):\n",
    "        return 'Hi, how are you?'\n",
    "        \n",
    "    def eat_breakfast(self):\n",
    "        self.hungry = False\n",
    "        return 'Yum that was delish!'\n",
    "\n",
    "gail = Person()\n",
    "print('1.', vars(gail))\n",
    "gail.name = 'Gail'\n",
    "gail.age = 29\n",
    "gail.weight = 'None of your business!'\n",
    "print('2.', gail.say_hello())\n",
    "print('3.', gail.eat_breakfast())\n",
    "print('4.', vars(gail))"
   ]
  },
  {
   "cell_type": "code",
   "execution_count": 32,
   "id": "worthy-timer",
   "metadata": {},
   "outputs": [
    {
     "name": "stdout",
     "output_type": "stream",
     "text": [
      "1.  Hi, my name is Gail. It is a pleasure to meet you!\n",
      "2.  Hi, my name is the Snail. It is a pleasure to meet you!\n"
     ]
    }
   ],
   "source": [
    "class Person():\n",
    "    \n",
    "    def introduce(self):\n",
    "        return f'Hi, my name is {self.name}. It is a pleasure to meet you!'\n",
    "    \n",
    "    def say_hello(self):\n",
    "        return 'Hi, how are you?'\n",
    "        \n",
    "    def eat_breakfast(self):\n",
    "        self.hungry = False\n",
    "        return 'Yum that was delish!'\n",
    "        \n",
    "gail = Person()\n",
    "gail.name = 'Gail'\n",
    "the_snail = Person()\n",
    "the_snail.name = 'the Snail'\n",
    "print('1. ', gail.introduce())\n",
    "print('2. ', the_snail.introduce())"
   ]
  },
  {
   "cell_type": "code",
   "execution_count": 33,
   "id": "sorted-banks",
   "metadata": {},
   "outputs": [
    {
     "data": {
      "text/plain": [
       "\"Hi, my name is the Snail! What wildly overcast weather we're having, right?!\""
      ]
     },
     "execution_count": 33,
     "metadata": {},
     "output_type": "execute_result"
    }
   ],
   "source": [
    "def say_hello_and_weather(instance_obj, weather_pattern):\n",
    "    return f\"Hi, my name is {instance_obj.name}! What wildly {weather_pattern} weather we're having, right?!\"\n",
    "\n",
    "say_hello_and_weather(the_snail, 'overcast')"
   ]
  },
  {
   "cell_type": "code",
   "execution_count": 34,
   "id": "verbal-thunder",
   "metadata": {},
   "outputs": [
    {
     "name": "stdout",
     "output_type": "stream",
     "text": [
      "1.  Hi, my name is the Snail! What wildly humid weather we're having, right?!\n"
     ]
    }
   ],
   "source": [
    "class Person():\n",
    "\n",
    "    def say_hello_and_weather(self, weather_pattern):\n",
    "        # we are using self instead of instance_obj because we know self represents the instance object\n",
    "        return f\"Hi, my name is {self.name}! What wildly {weather_pattern} weather we're having, right?!\"\n",
    "\n",
    "the_snail = Person()\n",
    "the_snail.name = 'the Snail'\n",
    "print('1. ', the_snail.say_hello_and_weather('humid'))\n",
    "# notice that we are ONLY passing in the weather pattern argument\n",
    "# instance methods **implicitly** pass in the instance object as the **first** argument"
   ]
  },
  {
   "cell_type": "code",
   "execution_count": 35,
   "id": "public-circus",
   "metadata": {},
   "outputs": [
    {
     "name": "stdout",
     "output_type": "stream",
     "text": [
      "1.  29\n",
      "2.  Happy Birthday to the Snail (aka ME)! Can't believe I'm 30?!\n",
      "3.  30\n"
     ]
    }
   ],
   "source": [
    "class Person():\n",
    "\n",
    "    def happy_birthday(self):\n",
    "        self.age += 1\n",
    "        return f\"Happy Birthday to {self.name} (aka ME)! Can't believe I'm {self.age}?!\"\n",
    "\n",
    "the_snail = Person()\n",
    "the_snail.name = 'the Snail'\n",
    "the_snail.age = 29\n",
    "print('1. ', the_snail.age)\n",
    "print('2. ', the_snail.happy_birthday())\n",
    "print('3. ', the_snail.age)"
   ]
  },
  {
   "cell_type": "code",
   "execution_count": 36,
   "id": "unavailable-tradition",
   "metadata": {},
   "outputs": [
    {
     "name": "stdout",
     "output_type": "stream",
     "text": [
      "1.  True\n",
      "Hunger is being relieved\n",
      "2.  Wow, that really hit the spot! I am so full, but more importantly, I'm not hangry anymore!\n",
      "3.  False\n",
      "4.  Oh, I don't think I can eat another bite. Thank you, though!\n"
     ]
    }
   ],
   "source": [
    "class Person():\n",
    "\n",
    "    def eat_sandwhich(self):\n",
    "        if (self.hungry):\n",
    "            self.relieve_hunger()\n",
    "            return \"Wow, that really hit the spot! I am so full, but more importantly, I'm not hangry anymore!\"\n",
    "        else:\n",
    "            return \"Oh, I don't think I can eat another bite. Thank you, though!\"\n",
    "    \n",
    "    def relieve_hunger(self):\n",
    "        print(\"Hunger is being relieved\")\n",
    "        self.hungry = False\n",
    "\n",
    "the_snail = Person()\n",
    "the_snail.name = 'the Snail'\n",
    "the_snail.hungry = True\n",
    "print('1. ', the_snail.hungry)\n",
    "print('2. ', the_snail.eat_sandwhich())\n",
    "print('3. ', the_snail.hungry)\n",
    "print('4. ', the_snail.eat_sandwhich())"
   ]
  },
  {
   "cell_type": "code",
   "execution_count": 37,
   "id": "geological-credit",
   "metadata": {},
   "outputs": [
    {
     "name": "stdout",
     "output_type": "stream",
     "text": [
      "1.  Matthew\n",
      "2.  Mitchell\n",
      "3.  100\n",
      "4.  4.9\n",
      "5.  Hello! I'll be your driver today. My name is Matthew Mitchell.\n"
     ]
    }
   ],
   "source": [
    "# Define Driver Class here with properties for each instance variable\n",
    "class Driver:\n",
    "    \n",
    "    def greet_passenger(self):\n",
    "        return f\"Hello! I'll be your driver today. My name is {self.first} {self.last}.\"\n",
    "    \n",
    "# Define Driver Class here with properties for each instance variable\n",
    "driver = Driver()\n",
    "driver.first = 'Matthew'\n",
    "driver.last = 'Mitchell'\n",
    "driver.miles_driven = 100\n",
    "driver.rating = 4.9\n",
    "\n",
    "# Create an instance with the above 4 attributes and then call the greet_passenger method\n",
    "print('1. ', driver.first)\n",
    "print('2. ', driver.last)\n",
    "print('3. ', driver.miles_driven)\n",
    "print('4. ', driver.rating)\n",
    "print('5. ', driver.greet_passenger())"
   ]
  },
  {
   "cell_type": "code",
   "execution_count": 38,
   "id": "auburn-trail",
   "metadata": {},
   "outputs": [
    {
     "name": "stdout",
     "output_type": "stream",
     "text": [
      "1.  Ron\n",
      "2.  Burgundy\n",
      "3.  !!! RON BURGUNDY !!!\n"
     ]
    }
   ],
   "source": [
    "# Define Passenger Class here with properties for each instance variable\n",
    "class Passenger:\n",
    "    \n",
    "    def yell_name(self):\n",
    "        return f\"!!! {self.first.upper()} {self.last.upper()} !!!\"\n",
    "    \n",
    "# Create an instance of the passenger class with the first and last attributes. Then call the yell_name method\n",
    "passenger = Passenger()\n",
    "passenger.first = 'Ron'\n",
    "passenger.last = 'Burgundy'\n",
    "\n",
    "print('1. ', passenger.first)\n",
    "print('2. ', passenger.last)\n",
    "print('3. ', passenger.yell_name())"
   ]
  },
  {
   "cell_type": "code",
   "execution_count": 39,
   "id": "green-deposit",
   "metadata": {},
   "outputs": [
    {
     "data": {
      "text/plain": [
       "'Bob'"
      ]
     },
     "execution_count": 39,
     "metadata": {},
     "output_type": "execute_result"
    }
   ],
   "source": [
    "class Person:\n",
    "    \n",
    "    def set_name(self, name):\n",
    "        self.name = name\n",
    "    def set_job(self, job):\n",
    "        self.job = job\n",
    "        \n",
    "bob = Person()\n",
    "bob.set_name('Bob')\n",
    "bob.name"
   ]
  },
  {
   "cell_type": "code",
   "execution_count": 40,
   "id": "isolated-duplicate",
   "metadata": {},
   "outputs": [
    {
     "name": "stdout",
     "output_type": "stream",
     "text": [
      "Bob\n",
      "Carpenter\n",
      "\n",
      "\n",
      "None\n",
      "None\n",
      "\n",
      "\n",
      "None\n",
      "Carpenter\n",
      "\n",
      "\n",
      "Bob\n",
      "Carpenter\n"
     ]
    }
   ],
   "source": [
    "class Person:\n",
    "    \n",
    "    def __init__(self, name=None, job=None):\n",
    "        self.name = name\n",
    "        self.job = job\n",
    "        \n",
    "bob = Person('Bob', 'Carpenter')\n",
    "print(bob.name)\n",
    "print(bob.job)\n",
    "\n",
    "print('\\n')\n",
    "someone = Person()\n",
    "print(someone.name)\n",
    "print(someone.job)\n",
    "\n",
    "print('\\n')\n",
    "governer = Person(job = 'Carpenter')\n",
    "print(governer.name)\n",
    "print(governer.job)\n",
    "\n",
    "print('\\n')\n",
    "bob = Person('Bob', 'Carpenter')\n",
    "print(bob.name)\n",
    "print(bob.job)"
   ]
  },
  {
   "cell_type": "code",
   "execution_count": 41,
   "id": "derived-alliance",
   "metadata": {},
   "outputs": [
    {
     "name": "stdout",
     "output_type": "stream",
     "text": [
      "Dale\n",
      "Earnhardt\n",
      "driving\n"
     ]
    }
   ],
   "source": [
    "class Driver:\n",
    "    \n",
    "    def __init__(self, first='Dale', last='Earnhardt', occupation='driving'):\n",
    "        self.first = first\n",
    "        self.last = last\n",
    "        self.occupation = occupation\n",
    "        \n",
    "dale_earnhardt = Driver() # Initialize Dale Earnhardt here\n",
    "print(dale_earnhardt.first) # \"Dale\"\n",
    "print(dale_earnhardt.last) # \"Earnhardt\"\n",
    "print(dale_earnhardt.occupation) # \"driving\""
   ]
  },
  {
   "cell_type": "code",
   "execution_count": 42,
   "id": "greater-garlic",
   "metadata": {},
   "outputs": [
    {
     "name": "stdout",
     "output_type": "stream",
     "text": [
      "Jerry\n",
      "Seinfeld\n",
      "jerry.seinfeld@mailinator.com\n",
      "0\n"
     ]
    }
   ],
   "source": [
    "class Passenger:\n",
    "    \n",
    "    def __init__(self, first='Jerry', last='Seinfeld', email='jerry.seinfeld@mailinator.com', rides_taken=0):\n",
    "        self.first = first\n",
    "        self.last = last\n",
    "        self.email = email\n",
    "        self.rides_taken = rides_taken\n",
    "        \n",
    "jerry = Passenger() # Initialize Mr. Seinfeld here\n",
    "print(jerry.first) # \"Jerry\"\n",
    "print(jerry.last) # \"Seinfeld\"\n",
    "print(jerry.email) # \"jerry.seinfeld@mailinator.com\"\n",
    "print(jerry.rides_taken) # 0"
   ]
  },
  {
   "cell_type": "code",
   "execution_count": 43,
   "id": "laughing-rider",
   "metadata": {},
   "outputs": [],
   "source": [
    "class Business():\n",
    "    \n",
    "    def __init__(self, name=None, biz_type=None, city=None, customers = []):\n",
    "        self.name = name\n",
    "        self.biz_type = biz_type\n",
    "        self.city = city\n",
    "        self.customers = customers\n",
    "        \n",
    "    def add_customer(self, customer):\n",
    "        self.customers.append(customer)\n",
    "        \n",
    "    def top_n_customers(self, n):\n",
    "        top_n = sorted(self.customers, key = lambda x: x.total_spent, reverse=True)[:n]\n",
    "        for c in top_n:\n",
    "            print(c.name, c.total_spent)"
   ]
  },
  {
   "cell_type": "code",
   "execution_count": 44,
   "id": "spare-retention",
   "metadata": {},
   "outputs": [],
   "source": [
    "class Customer():\n",
    "    \n",
    "    def __init__(self, name=None, orders=[], location=None):\n",
    "        self.name = name\n",
    "        self.orders = orders\n",
    "        self.location = location\n",
    "        self.total_spent = sum([i['item_cost']*i['quantity'] for i in orders])\n",
    "        \n",
    "    def add_order(self, item_name, item_cost, quantity):\n",
    "        self.orders.append({'item_name': item_name, 'item_cost':item_cost, 'quantity':quantity})\n",
    "        self.total_spent += item_cost * quantity"
   ]
  },
  {
   "cell_type": "code",
   "execution_count": 45,
   "id": "established-bunny",
   "metadata": {},
   "outputs": [
    {
     "name": "stdout",
     "output_type": "stream",
     "text": [
      "[{'item_name': 'sweater', 'item_cost': 24.99, 'quantity': 1}]\n",
      "24.99\n"
     ]
    }
   ],
   "source": [
    "startup = Business('etsy_store2076', 'crafts')\n",
    "customer1 = Customer(name='Bob', orders=[])\n",
    "customer1.add_order('sweater', 24.99, 1)\n",
    "print(customer1.orders)\n",
    "print(customer1.total_spent)"
   ]
  },
  {
   "cell_type": "code",
   "execution_count": 46,
   "id": "processed-harvest",
   "metadata": {},
   "outputs": [],
   "source": [
    "names = ['Liam',  'Emma', 'Noah','Olivia','William','Ava',\n",
    "         'James','Isabella','Logan','Sophia','Benjamin','Mia','Mason',\n",
    "         'Charlotte','Elijah','Amelia','Oliver','Evelyn','Jacob','Abigail']\n",
    "items = [('sweater',50), ('scarf', 35), ('gloves', 20), ('hat', 20)]\n",
    "\n",
    "for i in range(10):\n",
    "    customer = Customer(name=np.random.choice(names)) # Create a customer\n",
    "    n_orders = np.random.randint(1, 5) # Create an order or two, or three, or four, or five!\n",
    "    for order_n in range(n_orders):\n",
    "        idx = np.random.choice(len(items)) # np.random.choice doesn't work with nested lists; workaround\n",
    "        item = items[idx]\n",
    "        item_name = item[0]\n",
    "        item_price = item[1]\n",
    "        quantity = np.random.randint(1, 4)\n",
    "        customer.add_order(item_name, item_price, quantity)\n",
    "    # Add the customer to our business\n",
    "    startup.add_customer(customer)"
   ]
  },
  {
   "cell_type": "code",
   "execution_count": 47,
   "id": "confidential-animation",
   "metadata": {},
   "outputs": [
    {
     "name": "stdout",
     "output_type": "stream",
     "text": [
      "James 1470\n",
      "Charlotte 1400\n",
      "James 1280\n",
      "Emma 1010\n",
      "Mia 970\n",
      "James 1470\n",
      "Charlotte 1400\n",
      "James 1280\n",
      "Emma 1010\n",
      "Mia 970\n",
      "Charlotte 635\n",
      "William 365\n",
      "Isabella 345\n",
      "Jacob 305\n",
      "Emma 235\n"
     ]
    }
   ],
   "source": [
    "startup.top_n_customers(5)\n",
    "startup.top_n_customers(50)"
   ]
  },
  {
   "cell_type": "code",
   "execution_count": 48,
   "id": "filled-chance",
   "metadata": {},
   "outputs": [],
   "source": [
    "class School:\n",
    "    \n",
    "    def __init__(self, name, roster={}):\n",
    "        self.name = name\n",
    "        self.roster = roster\n",
    "        \n",
    "    def add_student(self, name, grade):\n",
    "        if grade not in self.roster.keys():\n",
    "            self.roster[grade] = [name]\n",
    "        else:    \n",
    "            self.roster[grade].append(name)\n",
    "            \n",
    "    def grade(self, grade):\n",
    "        return self.roster[grade]\n",
    "    \n",
    "    def sort_roster(self):\n",
    "        new_dict = self.roster\n",
    "        for k in new_dict.keys():\n",
    "            new_dict[k].sort()\n",
    "            \n",
    "        return new_dict"
   ]
  },
  {
   "cell_type": "code",
   "execution_count": 49,
   "id": "extra-robertson",
   "metadata": {},
   "outputs": [
    {
     "name": "stdout",
     "output_type": "stream",
     "text": [
      "{}\n",
      "{12: ['Peter Piper']}\n",
      "{12: ['Peter Piper'], 9: ['Kelly Slater'], 10: ['Tony Hawk', 'Ryan Sheckler'], 11: ['Bethany Hamilton']}\n",
      "['Tony Hawk', 'Ryan Sheckler']\n",
      "['Peter Piper']\n",
      "{12: ['Peter Piper'], 9: ['Kelly Slater'], 10: ['Ryan Sheckler', 'Tony Hawk'], 11: ['Bethany Hamilton']}\n"
     ]
    }
   ],
   "source": [
    "school = School('Middletown High School')\n",
    "print(school.roster) \n",
    "school.add_student(\"Peter Piper\", 12)\n",
    "print(school.roster) # {\"12\": [\"Peter Piper\"]}\n",
    "school.add_student(\"Kelly Slater\", 9)\n",
    "school.add_student(\"Tony Hawk\", 10)\n",
    "school.add_student(\"Ryan Sheckler\", 10)\n",
    "school.add_student(\"Bethany Hamilton\", 11)\n",
    "print(school.roster) # {9: [\"Kelly Slater\"], 10: [\"Tony Hawk\", \"Ryan Sheckler\"], 11: [\"Bethany Hamilton\"], 12: [\"Peter Piper\"]}\n",
    "print(school.grade(10)) # [\"Tony Hawk\", \"Ryan Sheckler\"]\n",
    "print(school.grade(12)) # [\"Peter Piper\"]\n",
    "print(school.sort_roster())"
   ]
  },
  {
   "cell_type": "code",
   "execution_count": 50,
   "id": "advance-member",
   "metadata": {},
   "outputs": [],
   "source": [
    "class ShoppingCart:\n",
    "    \n",
    "    def __init__(self, emp_discount=None):\n",
    "        self.total = 0\n",
    "        self.emp_discount = emp_discount\n",
    "        self.items = []\n",
    "    \n",
    "    def add_item(self, name, price, quantity=1):\n",
    "        self.total += price * quantity\n",
    "        self.items.append({\"name\":name, \"price\":price, \"quantity\":quantity})\n",
    "        return self.total\n",
    "    \n",
    "    def mean_item_price(self):\n",
    "        total_items = [q[\"quantity\"] for q in self.items]\n",
    "        return self.total/sum(total_items)\n",
    "    \n",
    "    def median_item_price(self):\n",
    "        pList = [item['price'] for item in self.items for n in range(0, item['quantity'])]\n",
    "        spList = sorted(pList)\n",
    "        return self.find_median(spList)\n",
    "    \n",
    "    def find_median(self, pList):\n",
    "        if len(pList) % 2 != 0:\n",
    "            return pList[len(pList)//2]\n",
    "        else:\n",
    "            return (pList[len(pList)//2] + pList[len(pList)//2-1])/2\n",
    "    \n",
    "    def apply_discount(self):\n",
    "        if self.emp_discount == None:\n",
    "            return \"Sorry, there is no discount to apply to your cart :(\"\n",
    "        else:\n",
    "            return self.total * (1 - self.emp_discount * 0.01) \n",
    "    \n",
    "    def void_last_item(self):\n",
    "        if self.items[-1] != None:\n",
    "            self.total = sum([item['price'] * item['quantity'] for item in self.items[:-1]])\n",
    "            self.total += sum([item['price'] * (item['quantity'] - 1 ) for item in self.items[-1:]])\n",
    "            return self.total\n",
    "        else:\n",
    "            return \"There are no items in your cart!\""
   ]
  },
  {
   "cell_type": "code",
   "execution_count": 51,
   "id": "cross-retention",
   "metadata": {},
   "outputs": [
    {
     "name": "stdout",
     "output_type": "stream",
     "text": [
      "0\n",
      "None\n",
      "[]\n",
      "45.99\n",
      "56.49\n",
      "206.49\n",
      "41.298\n",
      "50.0\n"
     ]
    }
   ],
   "source": [
    "shopping_cart = ShoppingCart()\n",
    "print(shopping_cart.total)\n",
    "print(shopping_cart.emp_discount)\n",
    "print(shopping_cart.items)\n",
    "print(shopping_cart.add_item(\"rainbow sandals\", 45.99)) # 45.99\n",
    "print(shopping_cart.add_item(\"agyle socks\", 10.50)) # 56.49\n",
    "print(shopping_cart.add_item(\"jeans\", 50.00, 3)) # 206.49\n",
    "print(shopping_cart.mean_item_price()) # 41.29\n",
    "print(shopping_cart.median_item_price()) # 50.00"
   ]
  },
  {
   "cell_type": "code",
   "execution_count": 52,
   "id": "labeled-membership",
   "metadata": {},
   "outputs": [
    {
     "name": "stdout",
     "output_type": "stream",
     "text": [
      "45.0\n",
      "60.0\n",
      "48.0\n",
      "1060.0\n",
      "848.0\n",
      "Sorry, there is no discount to apply to your cart :(\n"
     ]
    }
   ],
   "source": [
    "discount_shopping_cart = ShoppingCart(20)\n",
    "print(discount_shopping_cart.add_item(\"rainbow sandals\", 45.00)) # 45.00\n",
    "print(discount_shopping_cart.add_item(\"agyle socks\", 15.00)) # 60.00\n",
    "print(discount_shopping_cart.apply_discount()) # 48.00\n",
    "print(discount_shopping_cart.add_item(\"macbook air\", 1000.00)) # 1060.00\n",
    "print(discount_shopping_cart.apply_discount()) # 848.00\n",
    "print(shopping_cart.apply_discount()) # Sorry, there is no discount to apply to your cart :("
   ]
  },
  {
   "cell_type": "code",
   "execution_count": 53,
   "id": "processed-treaty",
   "metadata": {},
   "outputs": [
    {
     "name": "stdout",
     "output_type": "stream",
     "text": [
      "156.49\n"
     ]
    },
    {
     "data": {
      "text/plain": [
       "156.49"
      ]
     },
     "execution_count": 53,
     "metadata": {},
     "output_type": "execute_result"
    }
   ],
   "source": [
    "print(shopping_cart.void_last_item())\n",
    "shopping_cart.total # 156.49"
   ]
  },
  {
   "cell_type": "code",
   "execution_count": 54,
   "id": "favorite-archive",
   "metadata": {},
   "outputs": [],
   "source": [
    "class Drummer(object):\n",
    "\n",
    "    def __init__(self):\n",
    "        self.name = \"Ringo\"\n",
    "        self.role = \"Drummer\"\n",
    "\n",
    "    def tune_instrument(self):\n",
    "        pass\n",
    "\n",
    "    def practice(self):\n",
    "        pass\n",
    "\n",
    "    def perform(self):\n",
    "        pass\n",
    "\n",
    "class Singer(object):\n",
    "\n",
    "    def __init__(self):\n",
    "        self.name = \"John\"\n",
    "        self.role = \"Singer\"\n",
    "\n",
    "    def tune_instrument(self):\n",
    "        pass\n",
    "\n",
    "    def practice(self):\n",
    "        pass\n",
    "\n",
    "    def perform(self):\n",
    "        pass\n",
    "\n",
    "class Guitarist(object):\n",
    "    \n",
    "    def __init__(self):\n",
    "        self.name = 'George'\n",
    "        self.role = 'Guitarist'\n",
    "        self.instrument_type = 'Stringed Instrument'\n",
    "        \n",
    "    def tune_instrument(self):\n",
    "        print('Tune the strings!')\n",
    "        \n",
    "    def practice(self):\n",
    "        print('Strumming the old 6 string!')\n",
    "        \n",
    "    def perform(self):\n",
    "        print('Hello, New  York!')\n",
    "\n",
    "class Bass_Guitarist(Guitarist):\n",
    "    \n",
    "    def __init__(self):\n",
    "        super().__init__()\n",
    "        self.name = 'Paul'\n",
    "        self.role = 'Guitarist'\n",
    "        \n",
    "    def practice(self):\n",
    "        print('I play the Seinfeld Theme Song when I get bored')\n",
    "        \n",
    "    def perform(self):\n",
    "        super().perform()\n",
    "        print('Thanks for coming out!')"
   ]
  },
  {
   "cell_type": "code",
   "execution_count": 55,
   "id": "incorporate-organ",
   "metadata": {},
   "outputs": [
    {
     "name": "stdout",
     "output_type": "stream",
     "text": [
      "Stringed Instrument\n",
      "Stringed Instrument\n",
      "Tune the strings!\n",
      "Tune the strings!\n",
      "Strumming the old 6 string!\n",
      "I play the Seinfeld Theme Song when I get bored\n",
      "Hello, New  York!\n",
      "Hello, New  York!\n",
      "Thanks for coming out!\n"
     ]
    }
   ],
   "source": [
    "george = Guitarist()\n",
    "paul = Bass_Guitarist()\n",
    "print(george.instrument_type)\n",
    "print(paul.instrument_type)\n",
    "george.tune_instrument()\n",
    "paul.tune_instrument()\n",
    "george.practice()\n",
    "paul.practice()\n",
    "george.perform()\n",
    "paul.perform()"
   ]
  },
  {
   "cell_type": "code",
   "execution_count": 56,
   "id": "statistical-sacrifice",
   "metadata": {},
   "outputs": [],
   "source": [
    "class Musician(object):\n",
    "    \n",
    "    def __init__(self, name): # We'll set name at instantiation time to demonstrate passing in arguments to super().__init__()\n",
    "        self.name = name\n",
    "        self.band = \"The Beatles\"\n",
    "    \n",
    "    def tune_instrument(self):\n",
    "        print(\"Tuning Instrument!\")\n",
    "    \n",
    "    def practice(self):\n",
    "        print(\"Practicing!\")\n",
    "        \n",
    "    def perform(self):\n",
    "        print(\"Hello New York!\")\n",
    "        \n",
    "class Singer(Musician):\n",
    "    \n",
    "    def __init__(self, name):\n",
    "        super().__init__(name)  # Notice how we pass in name argument from init to the super().__init() method, because it expects it\n",
    "        self.role = \"Singer\"\n",
    "        \n",
    "    def tune_instrument(self):\n",
    "        print(\"No tuning needed -- I'm a singer!\")\n",
    "    \n",
    "class Guitarist(Musician):\n",
    "    \n",
    "    def __init__(self, name):\n",
    "        super().__init__(name)\n",
    "        self.role = \"Guitarist\"\n",
    "        \n",
    "    def practice(self):\n",
    "        print(\"Strumming the old 6 string!\")\n",
    "        \n",
    "class Bass_Guitarist(Guitarist):\n",
    "    \n",
    "    def __init__(self, name):\n",
    "        super().__init__(name)\n",
    "        self.role = \"Bass Guitarist\"\n",
    "        \n",
    "    def practice(self):\n",
    "        print(\"I play the Seinfeld Theme Song when I get bored\")\n",
    "        \n",
    "    def perform(self):\n",
    "        super().perform()\n",
    "        print(\"Thanks for coming out!\")\n",
    "        \n",
    "class Drummer(Musician):\n",
    "    \n",
    "    def __init__(self, name):\n",
    "        super().__init__(name)\n",
    "        self.role = \"Drummer\"\n",
    "        \n",
    "    def tune_instrument(self):\n",
    "        print('Where did I put those drum sticks?')\n",
    "        \n",
    "    def practice(self):\n",
    "        print('Why does my chair still say \"Pete Best\"?')    "
   ]
  },
  {
   "cell_type": "code",
   "execution_count": 57,
   "id": "apparent-drilling",
   "metadata": {},
   "outputs": [
    {
     "name": "stdout",
     "output_type": "stream",
     "text": [
      "John Lennon is the Singer!\n",
      "Ringo Starr is the Drummer!\n",
      "George Harrison is the Guitarist!\n",
      "Paul McCartney is the Bass Guitarist!\n",
      "No tuning needed -- I'm a singer!\n",
      "Where did I put those drum sticks?\n",
      "Tuning Instrument!\n",
      "Tuning Instrument!\n",
      "Hello New York!\n",
      "Hello New York!\n",
      "Hello New York!\n",
      "Hello New York!\n",
      "Thanks for coming out!\n",
      "Hello New York!\n",
      "Hello New York!\n",
      "Hello New York!\n",
      "Hello New York!\n",
      "Thanks for coming out!\n"
     ]
    }
   ],
   "source": [
    "john = Singer('John Lennon')\n",
    "paul = Bass_Guitarist('Paul McCartney')\n",
    "ringo = Drummer('Ringo Starr')\n",
    "george = Guitarist('George Harrison')\n",
    "\n",
    "the_beatles = [john, ringo, george, paul]\n",
    "\n",
    "for musician in the_beatles:\n",
    "    print('{} is the {}!'.format(musician.name, musician.role))\n",
    "    \n",
    "for musician in the_beatles:\n",
    "    musician.tune_instrument()\n",
    "    \n",
    "for musician in the_beatles:\n",
    "    musician.perform()\n",
    "    \n",
    "for musician in the_beatles:\n",
    "    musician.perform()"
   ]
  },
  {
   "cell_type": "code",
   "execution_count": 58,
   "id": "light-grade",
   "metadata": {},
   "outputs": [],
   "source": [
    "class Animal(object):\n",
    "    \n",
    "    def __init__(self, name, weight):\n",
    "        self.name = name\n",
    "        self.size = None\n",
    "        self.weight = weight\n",
    "        self.species = None\n",
    "        self.food_type = None\n",
    "        self.nocturnal = False\n",
    "        \n",
    "    def sleep(self):\n",
    "        if self.nocturnal:\n",
    "            print(f\"the animal: {self.name} sleeps during day\")\n",
    "        else:\n",
    "            print(f\"the animal: {self.name} sleeps during night\")\n",
    "            \n",
    "    def eat(self, food):\n",
    "        if food == 'plants':\n",
    "            if self.food_type == 'herbivore' or self.food_type == 'omnivore':\n",
    "                print(f\"the animal: {self.name} ({self.species}) thinks {food} is yummy!\")\n",
    "            else:\n",
    "                print(\"I don't eat this!\")\n",
    "        elif food == 'meat':\n",
    "            if self.food_type == 'carnivore' or self.food_type == 'omnivore':\n",
    "                print(f\"the animal: {self.name} ({self.species}) thinks {food} is yummy!\")\n",
    "            else:\n",
    "                print(\"I don't eat this!\")\n",
    "        else:\n",
    "            if self.food_type == 'omnivore':\n",
    "                print(f\"the animal: {self.name} ({self.species}) thinks {food} is yummy!\")\n",
    "            else:\n",
    "                print(\"I don't eat this!\")\n",
    "                \n",
    "class Elephant(Animal):\n",
    "    \n",
    "    def __init__(self, name, weight):\n",
    "        super().__init__(name, weight)\n",
    "        self.species = 'elephant'\n",
    "        self.size = 'enormous'\n",
    "        self.food_type = 'herbivore'\n",
    "        self.nocturnal = False\n",
    "        \n",
    "class Tiger(Animal):\n",
    "    \n",
    "    def __init__(self, name, weight):\n",
    "        super().__init__(name, weight)\n",
    "        self.species = 'tiger'\n",
    "        self.size = 'large'\n",
    "        self.food_type = 'carnivore'\n",
    "        self.nocturnal = True\n",
    "        \n",
    "class Raccoon(Animal):\n",
    "    \n",
    "    def __init__(self, name, weight):\n",
    "        super().__init__(name, weight)\n",
    "        self.species = 'raccoon'\n",
    "        self.size = 'small'\n",
    "        self.food_type = 'omnivore'\n",
    "        self.nocturnal = True\n",
    "        \n",
    "class Gorilla(Animal):\n",
    "    \n",
    "     def __init__(self, name, weight):\n",
    "        super().__init__(name, weight)\n",
    "        self.species = 'gorilla'\n",
    "        self.size = 'large'\n",
    "        self.food_type = 'herbivore'\n",
    "        self.nocturnal = False    "
   ]
  },
  {
   "cell_type": "code",
   "execution_count": 59,
   "id": "general-contributor",
   "metadata": {},
   "outputs": [],
   "source": [
    "def add_animal_to_zoo(zoo, animal_type, name, weight):\n",
    "    \n",
    "    animal = None\n",
    "    \n",
    "    if animal_type == 'Gorilla':\n",
    "        animal = Gorilla(name, weight)\n",
    "    elif animal_type == 'Raccoon':\n",
    "        animal = Raccoon(name, weight)\n",
    "    elif animal_type == 'Tiger':\n",
    "        animal = Tiger(name, weight)\n",
    "    else:\n",
    "        animal = Elephant(name, weight)\n",
    "        \n",
    "    zoo.append(animal)\n",
    "    \n",
    "    return zoo"
   ]
  },
  {
   "cell_type": "code",
   "execution_count": 60,
   "id": "studied-stress",
   "metadata": {},
   "outputs": [
    {
     "data": {
      "text/plain": [
       "[<__main__.Elephant at 0x1f9f9e92820>,\n",
       " <__main__.Elephant at 0x1f9f9e92d60>,\n",
       " <__main__.Raccoon at 0x1f9f9e921f0>,\n",
       " <__main__.Raccoon at 0x1f9f9e92160>,\n",
       " <__main__.Gorilla at 0x1f9f9e92b20>,\n",
       " <__main__.Tiger at 0x1f9f9e92f10>,\n",
       " <__main__.Tiger at 0x1f9f9e92be0>,\n",
       " <__main__.Tiger at 0x1f9f9e926a0>]"
      ]
     },
     "execution_count": 60,
     "metadata": {},
     "output_type": "execute_result"
    }
   ],
   "source": [
    "animal_list = ['Elephant', 'Elephant', 'Raccoon', 'Raccoon', 'Gorilla', 'Tiger', 'Tiger', 'Tiger']\n",
    "\n",
    "zoo = []\n",
    "\n",
    "for animal in animal_list:\n",
    "    zoo = add_animal_to_zoo(zoo, animal, 'name', 250)\n",
    "\n",
    "zoo"
   ]
  },
  {
   "cell_type": "code",
   "execution_count": 61,
   "id": "dense-discrimination",
   "metadata": {},
   "outputs": [],
   "source": [
    "def feed_animals(zoo, time='Day'):\n",
    "    \n",
    "    for animal in zoo:\n",
    "        if time == 'Day':\n",
    "            if animal.nocturnal == False:\n",
    "                if animal.food_type == 'carnivore':\n",
    "                    animal.eat('meat')\n",
    "                else:\n",
    "                    animal.eat('plants')\n",
    "        else:\n",
    "             if animal.nocturnal == True:\n",
    "                if animal.food_type == 'carnivore':\n",
    "                    animal.eat('meat')\n",
    "                else:\n",
    "                    animal.eat('plants')"
   ]
  },
  {
   "cell_type": "code",
   "execution_count": 62,
   "id": "catholic-metadata",
   "metadata": {},
   "outputs": [
    {
     "name": "stdout",
     "output_type": "stream",
     "text": [
      "the animal: name (elephant) thinks plants is yummy!\n",
      "the animal: name (elephant) thinks plants is yummy!\n",
      "the animal: name (gorilla) thinks plants is yummy!\n"
     ]
    }
   ],
   "source": [
    "feed_animals(zoo)"
   ]
  },
  {
   "cell_type": "code",
   "execution_count": 63,
   "id": "elect-convergence",
   "metadata": {},
   "outputs": [
    {
     "name": "stdout",
     "output_type": "stream",
     "text": [
      "the animal: name (raccoon) thinks plants is yummy!\n",
      "the animal: name (raccoon) thinks plants is yummy!\n",
      "the animal: name (tiger) thinks meat is yummy!\n",
      "the animal: name (tiger) thinks meat is yummy!\n",
      "the animal: name (tiger) thinks meat is yummy!\n"
     ]
    }
   ],
   "source": [
    "feed_animals(zoo, 'Night')"
   ]
  },
  {
   "cell_type": "code",
   "execution_count": null,
   "id": "dedicated-central",
   "metadata": {},
   "outputs": [],
   "source": []
  }
 ],
 "metadata": {
  "kernelspec": {
   "display_name": "learn-env",
   "language": "python",
   "name": "learn-env"
  },
  "language_info": {
   "codemirror_mode": {
    "name": "ipython",
    "version": 3
   },
   "file_extension": ".py",
   "mimetype": "text/x-python",
   "name": "python",
   "nbconvert_exporter": "python",
   "pygments_lexer": "ipython3",
   "version": "3.8.8"
  }
 },
 "nbformat": 4,
 "nbformat_minor": 5
}
