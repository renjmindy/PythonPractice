{
 "cells": [
  {
   "cell_type": "markdown",
   "id": "injured-cycling",
   "metadata": {},
   "source": [
    "## Abbreviation"
   ]
  },
  {
   "attachments": {
    "image.png": {
     "image/png": "[encoded data removed]"
    }
   },
   "cell_type": "markdown",
   "id": "homeless-support",
   "metadata": {},
   "source": [
    "You can perform the following operations on the string, a:\n",
    "\n",
    "1. Capitalize zero or more of a's lowercase letters.\n",
    "\n",
    "2. Delete all of the remaining lowercase letters in a.\n",
    "\n",
    "Given two strings, a and b, determine if it's possible to make a equal to b as described. If so, print `YES` on a new line. Otherwise, print `NO`.\n",
    "\n",
    "For example, given a = AbcDE and b = ABDE, in a we can convert b and delete c to match b. If a = AbcDE and b = AFDE, matching is not possible because letters may only be capitalized or discarded, not changed.\n",
    "\n",
    "### Function Description\n",
    "\n",
    "Complete the function *abbreviation* in the editor below. It must return either *YES* or *NO*.\n",
    "\n",
    "abbreviation has the following parameter(s):\n",
    "\n",
    "* a: the string to modify\n",
    "\n",
    "* b: the string to match\n",
    "\n",
    "### Input Format\n",
    "\n",
    "The first line contains a single integer q, the number of queries.\n",
    "\n",
    "Each of the next q pairs of lines is as follows:\n",
    "\n",
    "- The first line of each query contains a single string, a.\n",
    "\n",
    "- The second line of each query contains a single string, b.\n",
    "\n",
    "### Constraints\n",
    "\n",
    "* 1 <= q <= 10\n",
    "\n",
    "* 1 <= |a|, |b| <= 1000\n",
    "\n",
    "* String a consists only of uppercase and lowercase English letters, ascii[A-Za-z].\n",
    "\n",
    "* String b consists only of uppercase English letters, ascii[A-Z].\n",
    "\n",
    "### Output Format\n",
    "\n",
    "For each query, print `YES` on a new line if it's possible to make string a equal to string b. Otherwise, print `NO`.\n",
    "\n",
    "### Sample Input\n",
    "\n",
    "1\n",
    "\n",
    "daBcd\n",
    "\n",
    "ABC\n",
    "\n",
    "### Sample Output\n",
    "\n",
    "YES\n",
    "\n",
    "### Explanation\n",
    "\n",
    "![image.png](attachment:image.png)\n",
    "\n",
    "We have a = `daBcd` and b = `ABC`. We perform the following operation:\n",
    "\n",
    "1. Capitalize the letters `a` and `c` in a so that a = `dABCd`.\n",
    "\n",
    "2. Delete all the remaining lowercase letters in a so that a = `ABC`.\n",
    "\n",
    "Because we were able to successfully convert a to b, we print `YES` on a new line."
   ]
  },
  {
   "cell_type": "code",
   "execution_count": 1,
   "id": "rapid-representative",
   "metadata": {},
   "outputs": [],
   "source": [
    "#!/bin/python3\n",
    "\n",
    "import math\n",
    "import os\n",
    "import random\n",
    "import re\n",
    "import sys"
   ]
  },
  {
   "cell_type": "code",
   "execution_count": 2,
   "id": "outside-transcription",
   "metadata": {},
   "outputs": [],
   "source": [
    "# Complete the abbreviation function below.\n",
    "def abbreviation(Q, a, b):\n",
    "    \n",
    "    match = \"\"\n",
    "    result = []\n",
    "\n",
    "    for q in range(0, Q):\n",
    "        \n",
    "        aList = list(a[q])\n",
    "        bList = list(b[q])\n",
    "        cList = []\n",
    "        dList = []\n",
    "        \n",
    "        for ai in aList:\n",
    "            if ai.upper() in bList:\n",
    "                cList.append(ai.upper())\n",
    "            else:\n",
    "                cList.append(ai)\n",
    "        \n",
    "        for c in cList:\n",
    "            if c == c.upper():\n",
    "                dList.append(c)\n",
    "            \n",
    "        if dList == bList:\n",
    "            match = 'YES'\n",
    "        else:\n",
    "            match = 'NO'\n",
    "            \n",
    "        print(bList, ' ', dList, ' ', match)\n",
    "        \n",
    "        result.append(match)\n",
    "    \n",
    "    return result"
   ]
  },
  {
   "cell_type": "code",
   "execution_count": 3,
   "id": "moderate-coral",
   "metadata": {},
   "outputs": [
    {
     "name": "stdout",
     "output_type": "stream",
     "text": [
      "['A', 'B', 'C']   ['A', 'B', 'C']   YES\n"
     ]
    },
    {
     "data": {
      "text/plain": [
       "['YES']"
      ]
     },
     "execution_count": 3,
     "metadata": {},
     "output_type": "execute_result"
    }
   ],
   "source": [
    "Q = 1\n",
    "a = ['daBcd']\n",
    "b = ['ABC']\n",
    "abbreviation(Q, a, b)"
   ]
  },
  {
   "cell_type": "code",
   "execution_count": 4,
   "id": "rough-grade",
   "metadata": {},
   "outputs": [
    {
     "name": "stdout",
     "output_type": "stream",
     "text": [
      "['P']   ['P']   YES\n",
      "['A', 'P', 'Z', 'N', 'C']   ['A', 'P', 'Z', 'N']   NO\n",
      "['L', 'J', 'J', 'M']   ['L', 'D', 'J', 'A', 'N']   NO\n",
      "['U', 'M', 'K', 'F', 'W']   ['U', 'M', 'K', 'F', 'W']   YES\n",
      "['K']   ['K', 'X', 'Q']   NO\n",
      "['L', 'I', 'T']   ['L', 'I', 'T']   YES\n",
      "['Q', 'Y', 'C', 'H']   ['Q', 'Y', 'C', 'H']   YES\n",
      "['D', 'F', 'I', 'Q', 'G']   ['D', 'F', 'I', 'Q', 'G']   YES\n",
      "['Y', 'O', 'C', 'N']   ['Y', 'O', 'C']   NO\n",
      "['H', 'U', 'V', 'P', 'W']   ['J', 'H', 'M', 'W', 'Y']   NO\n"
     ]
    },
    {
     "data": {
      "text/plain": [
       "['YES', 'NO', 'NO', 'YES', 'NO', 'YES', 'YES', 'YES', 'NO', 'NO']"
      ]
     },
     "execution_count": 4,
     "metadata": {},
     "output_type": "execute_result"
    }
   ],
   "source": [
    "Q = 10\n",
    "a = ['Pi', 'AfPZN', 'LDJAN', 'UMKFW', 'KXzQ', 'LIT', 'QYCH', 'DFIQG', 'sYOCa', 'JHMWY'] \n",
    "b = ['P', 'APZNC', 'LJJM', 'UMKFW', 'K', 'LIT', 'QYCH', 'DFIQG', 'YOCN', 'HUVPW']\n",
    "abbreviation(Q, a, b)"
   ]
  },
  {
   "cell_type": "code",
   "execution_count": 5,
   "id": "referenced-fabric",
   "metadata": {},
   "outputs": [
    {
     "name": "stdout",
     "output_type": "stream",
     "text": [
      "['A', 'F', 'E']   ['A', 'C', 'E']   NO\n",
      "['E', 'F', 'G']   ['E', 'F', 'G', 'H']   NO\n",
      "['E', 'F', 'H']   ['E', 'F', 'H']   YES\n"
     ]
    },
    {
     "data": {
      "text/plain": [
       "['NO', 'NO', 'YES']"
      ]
     },
     "execution_count": 5,
     "metadata": {},
     "output_type": "execute_result"
    }
   ],
   "source": [
    "Q = 3\n",
    "a = ['AbCdE', 'beFgH', 'beFgH']\n",
    "b = ['AFE', 'EFG', 'EFH']\n",
    "abbreviation(Q, a, b)"
   ]
  },
  {
   "cell_type": "code",
   "execution_count": null,
   "id": "strong-shock",
   "metadata": {},
   "outputs": [],
   "source": [
    "#!/bin/python3\n",
    "\n",
    "import math\n",
    "import os\n",
    "import random\n",
    "import re\n",
    "import sys\n",
    "\n",
    "# Complete the abbreviation function below.\n",
    "def abbreviation(a, b):\n",
    "    \n",
    "    match = \"\"\n",
    "    \n",
    "    aList = list(a)\n",
    "    bList = list(b)\n",
    "    cList = []\n",
    "    dList = []\n",
    "    \n",
    "    for ai in aList:\n",
    "        if ai.upper() in bList:\n",
    "            cList.append(ai.upper())\n",
    "        else:\n",
    "            cList.append(ai)\n",
    "            \n",
    "    for c in cList:\n",
    "        if c == c.upper():\n",
    "            dList.append(c)\n",
    "            \n",
    "    if dList == bList:\n",
    "        match = 'YES'\n",
    "    else:\n",
    "        match = 'NO'\n",
    "        \n",
    "    #print(bList, ' ', dList, ' ', match)\n",
    "        \n",
    "    return match\n",
    "\n",
    "if __name__ == '__main__':\n",
    "    fptr = open(os.environ['OUTPUT_PATH'], 'w')\n",
    "\n",
    "    q = int(input())\n",
    "\n",
    "    for q_itr in range(q):\n",
    "        \n",
    "        a = input()\n",
    "        #print(a)\n",
    "\n",
    "        b = input()\n",
    "        #print(b)\n",
    "\n",
    "        result = abbreviation(a, b)\n",
    "\n",
    "        fptr.write(result + '\\n')\n",
    "\n",
    "    fptr.close()\n"
   ]
  }
 ],
 "metadata": {
  "kernelspec": {
   "display_name": "learn-env",
   "language": "python",
   "name": "learn-env"
  },
  "language_info": {
   "codemirror_mode": {
    "name": "ipython",
    "version": 3
   },
   "file_extension": ".py",
   "mimetype": "text/x-python",
   "name": "python",
   "nbconvert_exporter": "python",
   "pygments_lexer": "ipython3",
   "version": "3.8.8"
  }
 },
 "nbformat": 4,
 "nbformat_minor": 5
}
