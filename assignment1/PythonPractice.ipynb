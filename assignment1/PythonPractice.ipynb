{
 "cells": [
  {
   "cell_type": "markdown",
   "metadata": {},
   "source": [
    "## Run Python Programs"
   ]
  },
  {
   "cell_type": "markdown",
   "metadata": {},
   "source": [
    "Q1: print name"
   ]
  },
  {
   "cell_type": "code",
   "execution_count": 1,
   "metadata": {},
   "outputs": [
    {
     "name": "stdout",
     "output_type": "stream",
     "text": [
      "Mindy Chunmin Jen\n",
      "Mindy C. Jen\n"
     ]
    }
   ],
   "source": [
    "print('Mindy Chunmin Jen')\n",
    "print('Mindy C. Jen')"
   ]
  },
  {
   "cell_type": "markdown",
   "metadata": {},
   "source": [
    "Q2: print song lyrics"
   ]
  },
  {
   "cell_type": "code",
   "execution_count": 2,
   "metadata": {},
   "outputs": [
    {
     "name": "stdout",
     "output_type": "stream",
     "text": [
      "\n",
      "Where the weak are finally strong\n",
      "Where the righteous right the wrongs\n",
      "Still looking for a home\n",
      "In a world where I belong\n",
      "A world where I belong\n",
      "\n",
      "On the final day I die\n",
      "I want to hold my head up high\n",
      "I want to tell you that I tried\n",
      "To live it like a song\n",
      "\n",
      "And when I reach the other side\n",
      "I want to look you in the eye\n",
      "And know that I've arrived\n",
      "In a world where I belong\n",
      "In a world where I belong\n",
      "In a world where I belong\n",
      "Where I belong\n",
      "Where I belong\n",
      "Where I belong\n",
      "Where I belong\n"
     ]
    }
   ],
   "source": [
    "print('\\nWhere the weak are finally strong\\nWhere the righteous right the wrongs\\nStill looking for a home\\n' \n",
    "'In a world where I belong\\nA world where I belong\\n\\nOn the final day I die\\nI want to hold my head up high\\n' \n",
    "'I want to tell you that I tried\\nTo live it like a song\\n\\nAnd when I reach the other side\\nI want to look you in the eye\\n'\n",
    "'And know that I\\'ve arrived\\nIn a world where I belong\\nIn a world where I belong\\nIn a world where I belong\\n'\n",
    "'Where I belong\\nWhere I belong\\nWhere I belong\\nWhere I belong')"
   ]
  },
  {
   "cell_type": "markdown",
   "metadata": {},
   "source": [
    "## Variables"
   ]
  },
  {
   "cell_type": "markdown",
   "metadata": {},
   "source": [
    "Q3: make a program that displays several numbers"
   ]
  },
  {
   "cell_type": "code",
   "execution_count": 3,
   "metadata": {},
   "outputs": [
    {
     "name": "stdout",
     "output_type": "stream",
     "text": [
      "0 1 2 3 4 5 6 7 8 9 "
     ]
    }
   ],
   "source": [
    "for i in range(0, 10): print(i,end=\" \")"
   ]
  },
  {
   "cell_type": "markdown",
   "metadata": {},
   "source": [
    "Q4: make a program that solves and shows the summation of 64+32"
   ]
  },
  {
   "cell_type": "code",
   "execution_count": 4,
   "metadata": {},
   "outputs": [],
   "source": [
    "def sum_nums(a, b):\n",
    "    return a + b"
   ]
  },
  {
   "cell_type": "code",
   "execution_count": 5,
   "metadata": {},
   "outputs": [
    {
     "data": {
      "text/plain": [
       "96"
      ]
     },
     "execution_count": 5,
     "metadata": {},
     "output_type": "execute_result"
    }
   ],
   "source": [
    "sum_nums(64, 32)"
   ]
  },
  {
   "cell_type": "markdown",
   "metadata": {},
   "source": [
    "Q5: do the same as above, but sum x + y"
   ]
  },
  {
   "cell_type": "code",
   "execution_count": 6,
   "metadata": {},
   "outputs": [],
   "source": [
    "def sum_nums(x, y):\n",
    "    return x + y"
   ]
  },
  {
   "cell_type": "code",
   "execution_count": 7,
   "metadata": {},
   "outputs": [
    {
     "data": {
      "text/plain": [
       "96"
      ]
     },
     "execution_count": 7,
     "metadata": {},
     "output_type": "execute_result"
    }
   ],
   "source": [
    "sum_nums(64, 32)"
   ]
  },
  {
   "cell_type": "markdown",
   "metadata": {},
   "source": [
    "## Strings"
   ]
  },
  {
   "cell_type": "markdown",
   "metadata": {},
   "source": [
    "Q6: make program that displays favorite actor"
   ]
  },
  {
   "cell_type": "code",
   "execution_count": 8,
   "metadata": {},
   "outputs": [
    {
     "name": "stdout",
     "output_type": "stream",
     "text": [
      "Bridget Moynahan\n"
     ]
    }
   ],
   "source": [
    "print('Bridget Moynahan')"
   ]
  },
  {
   "cell_type": "markdown",
   "metadata": {},
   "source": [
    "Q7: print lucky inside s"
   ]
  },
  {
   "cell_type": "code",
   "execution_count": 9,
   "metadata": {},
   "outputs": [
    {
     "name": "stdout",
     "output_type": "stream",
     "text": [
      "lucky\n"
     ]
    }
   ],
   "source": [
    "s = 'lucky'\n",
    "print(f'{s}')"
   ]
  },
  {
   "cell_type": "markdown",
   "metadata": {},
   "source": [
    "Q8: print current day"
   ]
  },
  {
   "cell_type": "code",
   "execution_count": 10,
   "metadata": {},
   "outputs": [
    {
     "name": "stdout",
     "output_type": "stream",
     "text": [
      "2021-03-19\n"
     ]
    }
   ],
   "source": [
    "from datetime import date \n",
    "print(date.today())"
   ]
  },
  {
   "cell_type": "code",
   "execution_count": 11,
   "metadata": {},
   "outputs": [
    {
     "name": "stdout",
     "output_type": "stream",
     "text": [
      "2021-03-19 04:22:45.705615\n"
     ]
    }
   ],
   "source": [
    "from datetime import datetime\n",
    "print(datetime.now())"
   ]
  },
  {
   "cell_type": "markdown",
   "metadata": {},
   "source": [
    "## String Replace"
   ]
  },
  {
   "cell_type": "markdown",
   "metadata": {},
   "source": [
    "Q9: test string replace"
   ]
  },
  {
   "cell_type": "code",
   "execution_count": 12,
   "metadata": {},
   "outputs": [
    {
     "name": "stdout",
     "output_type": "stream",
     "text": [
      " Nancy is busy now. \n",
      " Mindy is busy now.\n"
     ]
    }
   ],
   "source": [
    "s = 'Nancy is busy now.'\n",
    "print('',s,'\\n',s.replace('Nancy', 'Mindy'))"
   ]
  },
  {
   "cell_type": "markdown",
   "metadata": {},
   "source": [
    "Q10: string can be replaced twice, indicated by the third argument in str.replace() (above)"
   ]
  },
  {
   "cell_type": "code",
   "execution_count": 13,
   "metadata": {},
   "outputs": [
    {
     "name": "stdout",
     "output_type": "stream",
     "text": [
      " holla wow holla amazing holla great \n",
      " 'hello' wow 'hello' amazing 'hello' great\n"
     ]
    }
   ],
   "source": [
    "s = 'holla wow holla amazing holla great'\n",
    "print('',s,'\\n',s.replace('holla', '\\'hello\\''))"
   ]
  },
  {
   "cell_type": "code",
   "execution_count": 14,
   "metadata": {},
   "outputs": [
    {
     "name": "stdout",
     "output_type": "stream",
     "text": [
      " holla wow holla amazing holla great \n",
      " 'hello' wow 'hello' amazing holla great\n"
     ]
    }
   ],
   "source": [
    "s = 'holla wow holla amazing holla great'\n",
    "print('',s,'\\n',s.replace('holla', '\\'hello\\'', 2))"
   ]
  },
  {
   "cell_type": "markdown",
   "metadata": {},
   "source": [
    "replace works with both words and phrases, it just depends on the input to the function"
   ]
  },
  {
   "cell_type": "markdown",
   "metadata": {},
   "source": [
    "## String Find"
   ]
  },
  {
   "cell_type": "markdown",
   "metadata": {},
   "source": [
    "Q12: is string.find() case sensitive?"
   ]
  },
  {
   "cell_type": "code",
   "execution_count": 15,
   "metadata": {},
   "outputs": [
    {
     "name": "stdout",
     "output_type": "stream",
     "text": [
      "-1\n"
     ]
    }
   ],
   "source": [
    "s = 'Nancy is busy now.'\n",
    "is_found = s.find('nancy')\n",
    "print(is_found)"
   ]
  },
  {
   "cell_type": "markdown",
   "metadata": {},
   "source": [
    "Q13: what if occurence appears twice in string?"
   ]
  },
  {
   "cell_type": "code",
   "execution_count": 16,
   "metadata": {},
   "outputs": [
    {
     "name": "stdout",
     "output_type": "stream",
     "text": [
      "-1\n"
     ]
    }
   ],
   "source": [
    "s = 'How is everything going? How about grabbing something to eat?'\n",
    "is_found = s.find('how')\n",
    "print(is_found)"
   ]
  },
  {
   "cell_type": "code",
   "execution_count": 17,
   "metadata": {},
   "outputs": [
    {
     "name": "stdout",
     "output_type": "stream",
     "text": [
      "0\n"
     ]
    }
   ],
   "source": [
    "s = 'How is everything going? How about grabbing something to eat?'\n",
    "is_found = s.find('How')\n",
    "print(is_found)"
   ]
  },
  {
   "cell_type": "code",
   "execution_count": 18,
   "metadata": {},
   "outputs": [
    {
     "name": "stdout",
     "output_type": "stream",
     "text": [
      "0\n"
     ]
    }
   ],
   "source": [
    "s = 'How is everything going? How about grabbing something to eat?'\n",
    "is_found = s.find('How', 0, 100)\n",
    "print(is_found)"
   ]
  },
  {
   "cell_type": "code",
   "execution_count": 19,
   "metadata": {},
   "outputs": [
    {
     "name": "stdout",
     "output_type": "stream",
     "text": [
      "25\n"
     ]
    }
   ],
   "source": [
    "s = 'How is everything going? How about grabbing something to eat?'\n",
    "is_found = s.find('How', 10, 100)\n",
    "print(is_found)"
   ]
  },
  {
   "cell_type": "markdown",
   "metadata": {},
   "source": [
    "Q14: Write a program that asks console input and searches for a query."
   ]
  },
  {
   "cell_type": "code",
   "execution_count": 21,
   "metadata": {},
   "outputs": [
    {
     "name": "stdout",
     "output_type": "stream",
     "text": [
      "What is your name: Mindy Jen\n",
      "How old are you: 41\n",
      "What is the current year: 2021\n",
      "Mindy Jen will be 100 years old in the year 2080\n"
     ]
    }
   ],
   "source": [
    "name = input(\"What is your name: \")\n",
    "age = int(input(\"How old are you: \"))\n",
    "current_year = int(input(\"What is the current year: \"))\n",
    "year = str((current_year - age) + 100)\n",
    "print(name + \" will be 100 years old in the year \" + year)"
   ]
  },
  {
   "cell_type": "code",
   "execution_count": 22,
   "metadata": {},
   "outputs": [
    {
     "name": "stdout",
     "output_type": "stream",
     "text": [
      "enter a string to be checked:Hello Kitty\n",
      "-1\n"
     ]
    }
   ],
   "source": [
    "value = input(\"enter a string to be checked:\")\n",
    "print(value.find(\"hello\"))"
   ]
  },
  {
   "cell_type": "markdown",
   "metadata": {},
   "source": [
    "## String Join"
   ]
  },
  {
   "cell_type": "markdown",
   "metadata": {},
   "source": [
    "Q15: Create a list of words and join them, like the example above."
   ]
  },
  {
   "cell_type": "code",
   "execution_count": 23,
   "metadata": {},
   "outputs": [
    {
     "name": "stdout",
     "output_type": "stream",
     "text": [
      "a b c\n"
     ]
    }
   ],
   "source": [
    "s = \" \";\n",
    "seq = (\"a\", \"b\", \"c\");\n",
    "print(s.join(seq))"
   ]
  },
  {
   "cell_type": "markdown",
   "metadata": {},
   "source": [
    "Q16: Try changing the separator string from a space to an underscore."
   ]
  },
  {
   "cell_type": "code",
   "execution_count": 24,
   "metadata": {},
   "outputs": [
    {
     "name": "stdout",
     "output_type": "stream",
     "text": [
      "a_b_c\n"
     ]
    }
   ],
   "source": [
    "s = \"_\";\n",
    "seq = (\"a\", \"b\", \"c\");\n",
    "print(s.join(seq))"
   ]
  },
  {
   "cell_type": "markdown",
   "metadata": {},
   "source": [
    "## String Split"
   ]
  },
  {
   "cell_type": "markdown",
   "metadata": {},
   "source": [
    "Q17: Can a string be split on multiple characters?"
   ]
  },
  {
   "cell_type": "code",
   "execution_count": 25,
   "metadata": {},
   "outputs": [
    {
     "name": "stdout",
     "output_type": "stream",
     "text": [
      "['welcome', 'to', 'the', 'jungle']\n"
     ]
    }
   ],
   "source": [
    "s = \"welcome to the jungle\"\n",
    "x = s.split()\n",
    "print(x)"
   ]
  },
  {
   "cell_type": "code",
   "execution_count": 26,
   "metadata": {},
   "outputs": [
    {
     "name": "stdout",
     "output_type": "stream",
     "text": [
      "w, e, l, c, o, m, e,  , t, o,  , t, h, e,  , j, u, n, g, l, e, "
     ]
    }
   ],
   "source": [
    "for i in s: print(i, end=\", \")"
   ]
  },
  {
   "cell_type": "markdown",
   "metadata": {},
   "source": [
    "Q18: Can you split a string this string?: World,Earth,America,Canada"
   ]
  },
  {
   "cell_type": "code",
   "execution_count": 27,
   "metadata": {},
   "outputs": [
    {
     "name": "stdout",
     "output_type": "stream",
     "text": [
      "['World', 'Earth', 'America', 'Canada']\n"
     ]
    }
   ],
   "source": [
    "s = \"World,Earth,America,Canada\"\n",
    "x = s.split(\",\")\n",
    "print(x)"
   ]
  },
  {
   "cell_type": "markdown",
   "metadata": {},
   "source": [
    "Q19: Given an article, can you split it based on phrases?"
   ]
  },
  {
   "cell_type": "markdown",
   "metadata": {},
   "source": [
    "yes. it's simply `s.split('phrase')`"
   ]
  },
  {
   "cell_type": "markdown",
   "metadata": {},
   "source": [
    "## Random Numbers"
   ]
  },
  {
   "cell_type": "markdown",
   "metadata": {},
   "source": [
    "Q20: Make a program that creates a random number and stores it into x."
   ]
  },
  {
   "cell_type": "code",
   "execution_count": 28,
   "metadata": {},
   "outputs": [
    {
     "name": "stdout",
     "output_type": "stream",
     "text": [
      "6 8 "
     ]
    }
   ],
   "source": [
    "import random\n",
    "for i in range(2):\n",
    "    x = random.randint(2,9)\n",
    "    print(x, end=\" \")"
   ]
  },
  {
   "cell_type": "code",
   "execution_count": 29,
   "metadata": {},
   "outputs": [
    {
     "name": "stdout",
     "output_type": "stream",
     "text": [
      "50 42 8 38 52 "
     ]
    }
   ],
   "source": [
    "for i in range(5):\n",
    "    x = random.randrange(2,60,2)\n",
    "    print(x, end=\" \")"
   ]
  },
  {
   "cell_type": "code",
   "execution_count": 30,
   "metadata": {},
   "outputs": [
    {
     "name": "stdout",
     "output_type": "stream",
     "text": [
      "0.6995324985375853 0.5499894970501836 0.9435189495918116 0.8255757502251884 0.26145078704928537 "
     ]
    }
   ],
   "source": [
    "for i in range(5):\n",
    "    x = random.random()\n",
    "    print(x, end=\" \")"
   ]
  },
  {
   "cell_type": "code",
   "execution_count": 31,
   "metadata": {},
   "outputs": [
    {
     "name": "stdout",
     "output_type": "stream",
     "text": [
      "1.0054570395480997 3.6884686694703683 3.0114293925243896 5.099236298153439 1.7238350197281394 "
     ]
    }
   ],
   "source": [
    "for i in range(5):\n",
    "    x = random.uniform(6, 1)\n",
    "    print(x, end=\" \")"
   ]
  },
  {
   "cell_type": "code",
   "execution_count": 32,
   "metadata": {},
   "outputs": [
    {
     "name": "stdout",
     "output_type": "stream",
     "text": [
      "5 5 5 "
     ]
    }
   ],
   "source": [
    "for i in range(3):\n",
    "    x = random.choice([1,2,3,4,5,6,7,8,9])\n",
    "    print(x, end=\" \")"
   ]
  },
  {
   "cell_type": "markdown",
   "metadata": {},
   "source": [
    "Q21: Make a program that prints 3 random numbers."
   ]
  },
  {
   "cell_type": "code",
   "execution_count": 33,
   "metadata": {},
   "outputs": [
    {
     "name": "stdout",
     "output_type": "stream",
     "text": [
      "0.6589537056752383 0.4839641431747437 0.6881377351911245 "
     ]
    }
   ],
   "source": [
    "for i in range(3):\n",
    "    x = random.random()\n",
    "    print(x, end=\" \")"
   ]
  },
  {
   "cell_type": "markdown",
   "metadata": {},
   "source": [
    "Q22: Create a program that generates 100 random numbers and find the frequency of each number"
   ]
  },
  {
   "cell_type": "code",
   "execution_count": 34,
   "metadata": {},
   "outputs": [
    {
     "name": "stdout",
     "output_type": "stream",
     "text": [
      "0.245, 0.866, 0.734, 0.919, 0.816, 0.986, 0.241, 0.977, 0.206, 0.366, 0.875, 0.747, 0.133, 0.544, 0.079, 0.256, 0.681, 0.244, 0.09, 0.661, 0.265, 0.216, 0.768, 0.827, 0.263, 0.585, 0.456, 0.551, 0.424, 0.544, 0.892, 0.788, 0.877, 0.873, 0.625, 0.682, 0.33, 0.047, 0.565, 0.957, 0.322, 0.833, 0.006, 0.333, 0.527, 0.897, 0.478, 0.846, 0.616, 0.908, 0.294, 0.293, 0.314, 0.454, 0.353, 0.963, 0.114, 0.915, 0.461, 0.955, 0.645, 0.442, 0.871, 0.048, 0.458, 0.102, 0.654, 0.929, 0.656, 0.457, 0.975, 0.597, 0.627, 0.263, 0.883, 0.705, 0.787, 0.852, 0.137, 0.166, 0.06, 0.181, 0.569, 0.092, 0.909, 0.207, 0.09, 0.814, 0.365, 0.426, 0.501, 0.819, 0.498, 0.997, 0.125, 0.897, 0.052, 0.021, 0.722, 0.969 "
     ]
    },
    {
     "data": {
      "image/png": "[encoded data removed]",
      "text/plain": [
       "<Figure size 432x288 with 1 Axes>"
      ]
     },
     "metadata": {
      "needs_background": "light"
     },
     "output_type": "display_data"
    }
   ],
   "source": [
    "import matplotlib.pyplot as plt\n",
    "%matplotlib inline\n",
    "import random\n",
    "import numpy as np\n",
    "\n",
    "xList = []\n",
    "yList = []\n",
    "kDict = {}\n",
    "\n",
    "for i in range(100):\n",
    "    x = round(random.random(), 3)\n",
    "    if i < 99: print(x, end=\", \")\n",
    "    else: print(x, end=\" \")\n",
    "    xList.append(i)\n",
    "    yList.append(x)\n",
    "    kDict[x] = kDict.get(x, 0) + 1\n",
    "    \n",
    "plt.plot(np.array(xList), np.array(yList), label='Sample Data')\n",
    "plt.legend()\n",
    "plt.show()"
   ]
  },
  {
   "cell_type": "code",
   "execution_count": 35,
   "metadata": {},
   "outputs": [
    {
     "name": "stdout",
     "output_type": "stream",
     "text": [
      "{0.245: 1, 0.866: 1, 0.734: 1, 0.919: 1, 0.816: 1, 0.986: 1, 0.241: 1, 0.977: 1, 0.206: 1, 0.366: 1, 0.875: 1, 0.747: 1, 0.133: 1, 0.544: 2, 0.079: 1, 0.256: 1, 0.681: 1, 0.244: 1, 0.09: 2, 0.661: 1, 0.265: 1, 0.216: 1, 0.768: 1, 0.827: 1, 0.263: 2, 0.585: 1, 0.456: 1, 0.551: 1, 0.424: 1, 0.892: 1, 0.788: 1, 0.877: 1, 0.873: 1, 0.625: 1, 0.682: 1, 0.33: 1, 0.047: 1, 0.565: 1, 0.957: 1, 0.322: 1, 0.833: 1, 0.006: 1, 0.333: 1, 0.527: 1, 0.897: 2, 0.478: 1, 0.846: 1, 0.616: 1, 0.908: 1, 0.294: 1, 0.293: 1, 0.314: 1, 0.454: 1, 0.353: 1, 0.963: 1, 0.114: 1, 0.915: 1, 0.461: 1, 0.955: 1, 0.645: 1, 0.442: 1, 0.871: 1, 0.048: 1, 0.458: 1, 0.102: 1, 0.654: 1, 0.929: 1, 0.656: 1, 0.457: 1, 0.975: 1, 0.597: 1, 0.627: 1, 0.883: 1, 0.705: 1, 0.787: 1, 0.852: 1, 0.137: 1, 0.166: 1, 0.06: 1, 0.181: 1, 0.569: 1, 0.092: 1, 0.909: 1, 0.207: 1, 0.814: 1, 0.365: 1, 0.426: 1, 0.501: 1, 0.819: 1, 0.498: 1, 0.997: 1, 0.125: 1, 0.052: 1, 0.021: 1, 0.722: 1, 0.969: 1}\n"
     ]
    }
   ],
   "source": [
    "print(kDict)"
   ]
  },
  {
   "cell_type": "markdown",
   "metadata": {},
   "source": [
    "## Keyboard Inputs"
   ]
  },
  {
   "cell_type": "markdown",
   "metadata": {},
   "source": [
    "Q23: Make a program that asks a phone number. "
   ]
  },
  {
   "cell_type": "code",
   "execution_count": 36,
   "metadata": {},
   "outputs": [
    {
     "name": "stdout",
     "output_type": "stream",
     "text": [
      "enter your phone number:1234567890\n",
      "Your phone number is: 1234567890\n"
     ]
    }
   ],
   "source": [
    "phone_number = input(\"enter your phone number:\")\n",
    "print(f\"Your phone number is: {phone_number}\")"
   ]
  },
  {
   "cell_type": "markdown",
   "metadata": {},
   "source": [
    "Q24: Make a program that asks the users preferred programming language."
   ]
  },
  {
   "cell_type": "code",
   "execution_count": 37,
   "metadata": {},
   "outputs": [
    {
     "name": "stdout",
     "output_type": "stream",
     "text": [
      "enter your preferred programming language:ROOT-C++\n",
      "Your phone number is: ROOT-C++\n"
     ]
    }
   ],
   "source": [
    "program_language = input(\"enter your preferred programming language:\")\n",
    "print(f\"Your phone number is: {program_language}\")"
   ]
  },
  {
   "cell_type": "markdown",
   "metadata": {},
   "source": [
    "## If-Statements"
   ]
  },
  {
   "cell_type": "markdown",
   "metadata": {},
   "source": [
    "Q25: Make a program that asks the number between 1 and 10. If the number is out of range the \n",
    "program should display “invalid number”."
   ]
  },
  {
   "cell_type": "code",
   "execution_count": 38,
   "metadata": {},
   "outputs": [],
   "source": [
    "def checkNum(a):\n",
    "    \n",
    "    range = bool(a >= 1 and a <= 10)\n",
    "    \n",
    "    if not range: print(\"invalid number\")\n",
    "    else: print(f\"I am {a}!\")\n",
    "        \n",
    "    pass"
   ]
  },
  {
   "cell_type": "code",
   "execution_count": 39,
   "metadata": {},
   "outputs": [
    {
     "name": "stdout",
     "output_type": "stream",
     "text": [
      "I am 10!\n",
      "invalid number\n"
     ]
    }
   ],
   "source": [
    "checkNum(10)\n",
    "checkNum(100)"
   ]
  },
  {
   "cell_type": "markdown",
   "metadata": {},
   "source": [
    "Q26: Make a program that asks a password."
   ]
  },
  {
   "cell_type": "code",
   "execution_count": 41,
   "metadata": {},
   "outputs": [
    {
     "name": "stdout",
     "output_type": "stream",
     "text": [
      "Please enter the password:wasspord\n",
      "password correct!\n"
     ]
    }
   ],
   "source": [
    "password = input(\"Please enter the password:\")\n",
    "if password == \"wasspord\": print(\"password correct!\")\n",
    "else: print(\"password incorrect!\")"
   ]
  },
  {
   "cell_type": "markdown",
   "metadata": {},
   "source": [
    "## For-loops"
   ]
  },
  {
   "cell_type": "markdown",
   "metadata": {},
   "source": [
    "Q27: Make a program that lists the countries in the set \n",
    "\n",
    "clist = ['Canada','USA','Mexico','Australia']"
   ]
  },
  {
   "cell_type": "code",
   "execution_count": 42,
   "metadata": {},
   "outputs": [
    {
     "name": "stdout",
     "output_type": "stream",
     "text": [
      "Canada USA Mexico Australia "
     ]
    }
   ],
   "source": [
    "clist = ['Canada','USA','Mexico','Australia']\n",
    "for i in clist: print(i, end=\" \")"
   ]
  },
  {
   "cell_type": "markdown",
   "metadata": {},
   "source": [
    "Q28: Create a loop that counts from 0 to 100"
   ]
  },
  {
   "cell_type": "code",
   "execution_count": 43,
   "metadata": {},
   "outputs": [
    {
     "name": "stdout",
     "output_type": "stream",
     "text": [
      "0 1 2 3 4 5 6 7 8 9 10 11 12 13 14 15 16 17 18 19 20 21 22 23 24 25 26 27 28 29 30 31 32 33 34 35 36 37 38 39 40 41 42 43 44 45 46 47 48 49 50 51 52 53 54 55 56 57 58 59 60 61 62 63 64 65 66 67 68 69 70 71 72 73 74 75 76 77 78 79 80 81 82 83 84 85 86 87 88 89 90 91 92 93 94 95 96 97 98 99 100 "
     ]
    }
   ],
   "source": [
    "for i in range(0, 101): print(i, end=\" \")"
   ]
  },
  {
   "cell_type": "markdown",
   "metadata": {},
   "source": [
    "Q29: Make a multiplication table using a loop"
   ]
  },
  {
   "cell_type": "code",
   "execution_count": 44,
   "metadata": {},
   "outputs": [
    {
     "name": "stdout",
     "output_type": "stream",
     "text": [
      "1 2 3 4 5 6 7 8 9 10 \n",
      "2 4 6 8 10 12 14 16 18 20 \n",
      "3 6 9 12 15 18 21 24 27 30 \n",
      "4 8 12 16 20 24 28 32 36 40 \n",
      "5 10 15 20 25 30 35 40 45 50 \n",
      "6 12 18 24 30 36 42 48 54 60 \n",
      "7 14 21 28 35 42 49 56 63 70 \n",
      "8 16 24 32 40 48 56 64 72 80 \n",
      "9 18 27 36 45 54 63 72 81 90 \n",
      "10 20 30 40 50 60 70 80 90 100 \n"
     ]
    }
   ],
   "source": [
    "for i in range(1, 11): \n",
    "    for j in range(1, 11):\n",
    "        print(i * j, end=\" \")\n",
    "    print()"
   ]
  },
  {
   "cell_type": "markdown",
   "metadata": {},
   "source": [
    "Q30: Output the numbers 1 to 10 backwards using a loop"
   ]
  },
  {
   "cell_type": "code",
   "execution_count": 45,
   "metadata": {},
   "outputs": [
    {
     "name": "stdout",
     "output_type": "stream",
     "text": [
      "10 9 8 7 6 5 4 3 2 "
     ]
    }
   ],
   "source": [
    "for i in range(10, 1, -1): print(i, end=\" \")"
   ]
  },
  {
   "cell_type": "markdown",
   "metadata": {},
   "source": [
    "Q31: Create a loop that counts all even numbers to 10"
   ]
  },
  {
   "cell_type": "code",
   "execution_count": 46,
   "metadata": {},
   "outputs": [
    {
     "name": "stdout",
     "output_type": "stream",
     "text": [
      "0 2 4 6 8 10 "
     ]
    }
   ],
   "source": [
    "for i in range(0, 11, 1):\n",
    "    if i % 2 == 0: print(i, end=\" \")"
   ]
  },
  {
   "cell_type": "markdown",
   "metadata": {},
   "source": [
    "Q32: Create a loop that sums the numbers from 100 to 200"
   ]
  },
  {
   "cell_type": "code",
   "execution_count": 47,
   "metadata": {},
   "outputs": [
    {
     "name": "stdout",
     "output_type": "stream",
     "text": [
      "15150\n"
     ]
    }
   ],
   "source": [
    "a = 0\n",
    "for i in range(100, 201, 1): a += i\n",
    "print(a)"
   ]
  },
  {
   "cell_type": "markdown",
   "metadata": {},
   "source": [
    "## While-loops"
   ]
  },
  {
   "cell_type": "markdown",
   "metadata": {},
   "source": [
    "Q33: Make a program that lists the countries in the set below using a while loop.\n",
    "\n",
    "clist = [\"Canada\",\"USA\",\"Mexico\"]"
   ]
  },
  {
   "cell_type": "code",
   "execution_count": 48,
   "metadata": {},
   "outputs": [
    {
     "name": "stdout",
     "output_type": "stream",
     "text": [
      "Canada USA Mexico "
     ]
    }
   ],
   "source": [
    "clist = [\"Canada\",\"USA\",\"Mexico\"]\n",
    "i = 0\n",
    "while i < len(clist): \n",
    "    print(clist[i], end=\" \")\n",
    "    i += 1"
   ]
  },
  {
   "cell_type": "markdown",
   "metadata": {},
   "source": [
    "Q34: What‟s the difference between a while loop and a for loop?"
   ]
  },
  {
   "cell_type": "markdown",
   "metadata": {},
   "source": [
    "* for loop will run for a set amount of iterations\n",
    "\n",
    "* while loop will run until condition is false. itll run while true"
   ]
  },
  {
   "cell_type": "markdown",
   "metadata": {},
   "source": [
    "Q35: Can you sum numbers in a while loop?"
   ]
  },
  {
   "cell_type": "code",
   "execution_count": 49,
   "metadata": {},
   "outputs": [
    {
     "name": "stdout",
     "output_type": "stream",
     "text": [
      "4950\n"
     ]
    }
   ],
   "source": [
    "a = 0\n",
    "i = 0\n",
    "while i < 100: \n",
    "    a += i\n",
    "    i += 1\n",
    "    \n",
    "print(a)"
   ]
  },
  {
   "cell_type": "markdown",
   "metadata": {},
   "source": [
    "Q36: Can a for loop be used inside a while loop?"
   ]
  },
  {
   "cell_type": "code",
   "execution_count": 50,
   "metadata": {},
   "outputs": [
    {
     "name": "stdout",
     "output_type": "stream",
     "text": [
      "171700\n"
     ]
    }
   ],
   "source": [
    "a = 0\n",
    "i = 0\n",
    "while i < 100:\n",
    "    i += 1\n",
    "    for j in range(0, i+1):\n",
    "        a += j\n",
    "        \n",
    "print(a)"
   ]
  },
  {
   "cell_type": "markdown",
   "metadata": {},
   "source": [
    "## Functions"
   ]
  },
  {
   "cell_type": "markdown",
   "metadata": {},
   "source": [
    "Q37: Make a function that sums the list mylist = [1,2,3,4,5]"
   ]
  },
  {
   "cell_type": "code",
   "execution_count": 51,
   "metadata": {},
   "outputs": [
    {
     "data": {
      "text/plain": [
       "15"
      ]
     },
     "execution_count": 51,
     "metadata": {},
     "output_type": "execute_result"
    }
   ],
   "source": [
    "mylist = [1,2,3,4,5]\n",
    "def sum_nums(dlist):\n",
    "    a = 0\n",
    "    for i in dlist: a += i\n",
    "    return a\n",
    "\n",
    "sum_nums(mylist)"
   ]
  },
  {
   "cell_type": "markdown",
   "metadata": {},
   "source": [
    "Q38: Can functions be called inside a function?"
   ]
  },
  {
   "cell_type": "code",
   "execution_count": 52,
   "metadata": {},
   "outputs": [],
   "source": [
    "def double(n):\n",
    "    def add(n):\n",
    "        return n+n\n",
    "    return add(n)"
   ]
  },
  {
   "cell_type": "code",
   "execution_count": 53,
   "metadata": {},
   "outputs": [
    {
     "data": {
      "text/plain": [
       "4"
      ]
     },
     "execution_count": 53,
     "metadata": {},
     "output_type": "execute_result"
    }
   ],
   "source": [
    "double(2)"
   ]
  },
  {
   "cell_type": "markdown",
   "metadata": {},
   "source": [
    "Q39: Can a function call itself? (hint: recursion)"
   ]
  },
  {
   "cell_type": "code",
   "execution_count": 54,
   "metadata": {},
   "outputs": [],
   "source": [
    "def add(n):\n",
    "    def add(n):\n",
    "        return n+n\n",
    "    return add(n)"
   ]
  },
  {
   "cell_type": "code",
   "execution_count": 55,
   "metadata": {},
   "outputs": [
    {
     "data": {
      "text/plain": [
       "4"
      ]
     },
     "execution_count": 55,
     "metadata": {},
     "output_type": "execute_result"
    }
   ],
   "source": [
    "add(2)"
   ]
  },
  {
   "cell_type": "markdown",
   "metadata": {},
   "source": [
    "Q40: Can variables defined in a function be used in another function? (hint: scope)"
   ]
  },
  {
   "cell_type": "code",
   "execution_count": 56,
   "metadata": {},
   "outputs": [],
   "source": [
    "def add(n):\n",
    "    m = n+n\n",
    "    def add(n):\n",
    "        return m\n",
    "    return m"
   ]
  },
  {
   "cell_type": "code",
   "execution_count": 57,
   "metadata": {},
   "outputs": [
    {
     "data": {
      "text/plain": [
       "4"
      ]
     },
     "execution_count": 57,
     "metadata": {},
     "output_type": "execute_result"
    }
   ],
   "source": [
    "add(2)"
   ]
  },
  {
   "cell_type": "markdown",
   "metadata": {},
   "source": [
    "## Lists"
   ]
  },
  {
   "cell_type": "markdown",
   "metadata": {},
   "source": [
    "Q41: Make a program that displays the states in the U.S.\n",
    "\n",
    "states = [ 'Alabama', .. ,'Wyoming' ] "
   ]
  },
  {
   "cell_type": "code",
   "execution_count": 58,
   "metadata": {},
   "outputs": [],
   "source": [
    "statesList = [\"AL\",\"AK\",\"AZ\",\"AR\",\"CA\",\"CO\",\"CT\",\"DE\",\"FL\",\"GA\",\"HI\",\"ID\",\"IL\",\"IN\",\"IA\",\"KS\",\n",
    "              \"KY\",\"LA\",\"ME\",\"MD\",\"MA\",\"MI\",\"MN\",\"MS\",\"MO\",\"MT\",\"NE\",\"NV\",\"NH\",\"NJ\",\"NM\",\"NY\",\n",
    "              \"NC\",\"ND\",\"OH\",\"OK\",\"OR\",\"PA\",\"RI\",\"SC\",\"SD\",\"TN\",\"TX\",\"UT\",\"VT\",\"VA\",\"WA\",\"WV\",\n",
    "              \"WI\",\"WY\",\"DC\"]\n",
    "\n",
    "StatesList = [\"Alabama\",\"Alaska\",\"Arizona\",\"Arkansas\",\"California\",\"Colorado\",\"Connecticut\",\"Delaware\",\"Florida\",\n",
    "              \"Georgia\",\"Hawaii\",\"Idaho\",\"Illinois\",\"Indiana\",\"Iowa\",\"Kansas\",\"Kentucky\",\"Louisiana\",\"Maine\",\"Maryland\",\n",
    "              \"Massachusetts\",\"Michigan\",\"Minnesota\",\"Mississippi\",\"Missouri\",\"Montana\",\"Nebraska\",\"Nevada\",\"New Hampshire\",\n",
    "              \"New Jersey\",\"New Mexico\",\"New York\",\"North Carolina\",\"North Dakota\",\"Ohio\",\"Oklahoma\",\"Oregon\",\"Pennsylvania\",\n",
    "              \"Rhode Island\",\"South Calorina\",\"South Dakota\",\"Tennessee\",\"Texas\",\"Utah\",\"Vermone\",\"Virginia\",\"Washington\",\n",
    "              \"West Virginia\",\"Wisconsin\",\"Wyoming\",\"Washington DC\"]"
   ]
  },
  {
   "cell_type": "code",
   "execution_count": 59,
   "metadata": {},
   "outputs": [
    {
     "name": "stdout",
     "output_type": "stream",
     "text": [
      "AL - Alabama, AK - Alaska, AZ - Arizona, AR - Arkansas, CA - California, CO - Colorado, CT - Connecticut, DE - Delaware, FL - Florida, GA - Georgia, HI - Hawaii, ID - Idaho, IL - Illinois, IN - Indiana, IA - Iowa, KS - Kansas, KY - Kentucky, LA - Louisiana, ME - Maine, MD - Maryland, MA - Massachusetts, MI - Michigan, MN - Minnesota, MS - Mississippi, MO - Missouri, MT - Montana, NE - Nebraska, NV - Nevada, NH - New Hampshire, NJ - New Jersey, NM - New Mexico, NY - New York, NC - North Carolina, ND - North Dakota, OH - Ohio, OK - Oklahoma, OR - Oregon, PA - Pennsylvania, RI - Rhode Island, SC - South Calorina, SD - South Dakota, TN - Tennessee, TX - Texas, UT - Utah, VT - Vermone, VA - Virginia, WA - Washington, WV - West Virginia, WI - Wisconsin, WY - Wyoming, DC - Washington DC "
     ]
    }
   ],
   "source": [
    "counter = 0\n",
    "\n",
    "for i in statesList: \n",
    "    if counter < len(statesList)-1:\n",
    "        print(i, end=\" - \")\n",
    "        print(StatesList[counter], end=\", \")\n",
    "    else:\n",
    "        print(i, end=\" - \")\n",
    "        print(StatesList[counter], end=\" \")\n",
    "    counter += 1"
   ]
  },
  {
   "cell_type": "markdown",
   "metadata": {},
   "source": [
    "Q42: Display all states starting with the letter M"
   ]
  },
  {
   "cell_type": "code",
   "execution_count": 60,
   "metadata": {},
   "outputs": [
    {
     "name": "stdout",
     "output_type": "stream",
     "text": [
      "ME  MD  MA  MI  MN  MS  MO  MT  "
     ]
    }
   ],
   "source": [
    "for i in statesList: \n",
    "    if i.startswith(\"M\"): print(i, end=\"  \")"
   ]
  },
  {
   "cell_type": "markdown",
   "metadata": {},
   "source": [
    "## List Operations"
   ]
  },
  {
   "cell_type": "markdown",
   "metadata": {},
   "source": [
    "Q43: Given the list y = [6,4,2] add the items 12, 8 and 4."
   ]
  },
  {
   "cell_type": "code",
   "execution_count": 61,
   "metadata": {},
   "outputs": [
    {
     "name": "stdout",
     "output_type": "stream",
     "text": [
      "[6, 4, 2, 12, 8, 4]\n"
     ]
    }
   ],
   "source": [
    "y = [6,4,2] \n",
    "a = [12, 8, 4]\n",
    "y += a \n",
    "#y.extend(a)\n",
    "print(y)"
   ]
  },
  {
   "cell_type": "markdown",
   "metadata": {},
   "source": [
    "Q44: Change the 2nd item of the list to 3."
   ]
  },
  {
   "cell_type": "code",
   "execution_count": 62,
   "metadata": {},
   "outputs": [
    {
     "name": "stdout",
     "output_type": "stream",
     "text": [
      "[6, 3, 2, 12, 8, 4]\n"
     ]
    }
   ],
   "source": [
    "y[1] = 3\n",
    "print(y)"
   ]
  },
  {
   "cell_type": "markdown",
   "metadata": {},
   "source": [
    "## Sorting List"
   ]
  },
  {
   "cell_type": "markdown",
   "metadata": {},
   "source": [
    "Q45:  Given a list with pairs, sort on the first element\n",
    "\n",
    "x = [(3,6),(4,7),(5,9),(8,4),(3,1)]"
   ]
  },
  {
   "cell_type": "code",
   "execution_count": 63,
   "metadata": {},
   "outputs": [
    {
     "name": "stdout",
     "output_type": "stream",
     "text": [
      "[(8, 4), (5, 9), (4, 7), (3, 6), (3, 1)]\n",
      "[(3, 6), (3, 1), (4, 7), (5, 9), (8, 4)]\n"
     ]
    }
   ],
   "source": [
    "x = [(3,6),(4,7),(5,9),(8,4),(3,1)]\n",
    "x1 = sorted(x, key=lambda x:x[0], reverse=True)\n",
    "x2 = sorted(x, key=lambda x:x[0], reverse=False)\n",
    "print(x1)\n",
    "print(x2)"
   ]
  },
  {
   "cell_type": "markdown",
   "metadata": {},
   "source": [
    "Q46: Now sort on the second element"
   ]
  },
  {
   "cell_type": "code",
   "execution_count": 64,
   "metadata": {},
   "outputs": [
    {
     "name": "stdout",
     "output_type": "stream",
     "text": [
      "[(5, 9), (4, 7), (3, 6), (8, 4), (3, 1)]\n",
      "[(3, 1), (8, 4), (3, 6), (4, 7), (5, 9)]\n"
     ]
    }
   ],
   "source": [
    "x = [(3,6),(4,7),(5,9),(8,4),(3,1)]\n",
    "x1 = sorted(x, key=lambda x:x[1], reverse=True)\n",
    "x2 = sorted(x, key=lambda x:x[1], reverse=False)\n",
    "print(x1)\n",
    "print(x2)"
   ]
  },
  {
   "cell_type": "markdown",
   "metadata": {},
   "source": [
    "## Range Function"
   ]
  },
  {
   "cell_type": "markdown",
   "metadata": {},
   "source": [
    "Q47: Create a list of one thousand numbers"
   ]
  },
  {
   "cell_type": "code",
   "execution_count": 65,
   "metadata": {},
   "outputs": [
    {
     "name": "stdout",
     "output_type": "stream",
     "text": [
      "[1, 2, 3, 4, 5, 6, 7, 8, 9, 10, 11, 12, 13, 14, 15, 16, 17, 18, 19, 20, 21, 22, 23, 24, 25, 26, 27, 28, 29, 30, 31, 32, 33, 34, 35, 36, 37, 38, 39, 40, 41, 42, 43, 44, 45, 46, 47, 48, 49, 50]\n"
     ]
    }
   ],
   "source": [
    "onekList = [i for i in range(1, 1001)]\n",
    "print(onekList[:50])"
   ]
  },
  {
   "cell_type": "markdown",
   "metadata": {},
   "source": [
    "Q48: Get the largest and smallest number from that list"
   ]
  },
  {
   "cell_type": "code",
   "execution_count": 66,
   "metadata": {},
   "outputs": [
    {
     "name": "stdout",
     "output_type": "stream",
     "text": [
      "1000\n",
      "1\n"
     ]
    }
   ],
   "source": [
    "print(max(onekList))\n",
    "print(min(onekList))"
   ]
  },
  {
   "cell_type": "markdown",
   "metadata": {},
   "source": [
    "Q49: Create two lists, an even and odd one."
   ]
  },
  {
   "cell_type": "code",
   "execution_count": 67,
   "metadata": {},
   "outputs": [
    {
     "name": "stdout",
     "output_type": "stream",
     "text": [
      "[0, 2, 4, 6, 8, 10, 12, 14, 16, 18, 20, 22, 24, 26, 28, 30, 32, 34, 36, 38, 40, 42, 44, 46, 48, 50, 52, 54, 56, 58, 60, 62, 64, 66, 68, 70, 72, 74, 76, 78, 80, 82, 84, 86, 88, 90, 92, 94, 96, 98]\n",
      "[1, 3, 5, 7, 9, 11, 13, 15, 17, 19, 21, 23, 25, 27, 29, 31, 33, 35, 37, 39, 41, 43, 45, 47, 49, 51, 53, 55, 57, 59, 61, 63, 65, 67, 69, 71, 73, 75, 77, 79, 81, 83, 85, 87, 89, 91, 93, 95, 97, 99]\n"
     ]
    }
   ],
   "source": [
    "eList = []\n",
    "oList = []\n",
    "for i in range(0, 1001):\n",
    "    if i%2 == 0: eList.append(i)\n",
    "    else: oList.append(i)\n",
    "        \n",
    "print(eList[:50])\n",
    "print(oList[:50])"
   ]
  },
  {
   "cell_type": "markdown",
   "metadata": {},
   "source": [
    "## Dictionary"
   ]
  },
  {
   "cell_type": "markdown",
   "metadata": {},
   "source": [
    "Q50: Make a mapping from countries to country short codes"
   ]
  },
  {
   "cell_type": "code",
   "execution_count": 68,
   "metadata": {},
   "outputs": [],
   "source": [
    "statesDict = {}\n",
    "counter = 0\n",
    "for i in StatesList:\n",
    "    statesDict[i] = statesList[counter] \n",
    "    counter += 1"
   ]
  },
  {
   "cell_type": "markdown",
   "metadata": {},
   "source": [
    "Q51: Print each item (key and value)"
   ]
  },
  {
   "cell_type": "code",
   "execution_count": 69,
   "metadata": {},
   "outputs": [
    {
     "name": "stdout",
     "output_type": "stream",
     "text": [
      "{'Alabama': 'AL', 'Alaska': 'AK', 'Arizona': 'AZ', 'Arkansas': 'AR', 'California': 'CA', 'Colorado': 'CO', 'Connecticut': 'CT', 'Delaware': 'DE', 'Florida': 'FL', 'Georgia': 'GA', 'Hawaii': 'HI', 'Idaho': 'ID', 'Illinois': 'IL', 'Indiana': 'IN', 'Iowa': 'IA', 'Kansas': 'KS', 'Kentucky': 'KY', 'Louisiana': 'LA', 'Maine': 'ME', 'Maryland': 'MD', 'Massachusetts': 'MA', 'Michigan': 'MI', 'Minnesota': 'MN', 'Mississippi': 'MS', 'Missouri': 'MO', 'Montana': 'MT', 'Nebraska': 'NE', 'Nevada': 'NV', 'New Hampshire': 'NH', 'New Jersey': 'NJ', 'New Mexico': 'NM', 'New York': 'NY', 'North Carolina': 'NC', 'North Dakota': 'ND', 'Ohio': 'OH', 'Oklahoma': 'OK', 'Oregon': 'OR', 'Pennsylvania': 'PA', 'Rhode Island': 'RI', 'South Calorina': 'SC', 'South Dakota': 'SD', 'Tennessee': 'TN', 'Texas': 'TX', 'Utah': 'UT', 'Vermone': 'VT', 'Virginia': 'VA', 'Washington': 'WA', 'West Virginia': 'WV', 'Wisconsin': 'WI', 'Wyoming': 'WY', 'Washington DC': 'DC'}\n"
     ]
    }
   ],
   "source": [
    "print(statesDict)"
   ]
  },
  {
   "cell_type": "markdown",
   "metadata": {},
   "source": [
    "## Read File"
   ]
  },
  {
   "cell_type": "markdown",
   "metadata": {},
   "source": [
    "Q52: Read a file and number every line"
   ]
  },
  {
   "cell_type": "code",
   "execution_count": 70,
   "metadata": {},
   "outputs": [],
   "source": [
    "L1 = ['Where the weak are finally strong\\n','Where the righteous right the wrongs\\n','Still looking for a home\\n', \n",
    "      'In a world where I belong\\n','A world where I belong\\n','On the final day I die\\n','I want to hold my head up high\\n',  \n",
    "      'I want to tell you that I tried\\n','To live it like a song\\n','And when I reach the other side\\n', \n",
    "      'I want to look you in the eye\\n', 'And know that I\\'ve arrived\\n','In a world where I belong\\n', \n",
    "      'In a world where I belong\\n','In a world where I belong\\n','Where I belong\\n','Where I belong\\n', \n",
    "      'Where I belong\\n','Where I belong']"
   ]
  },
  {
   "cell_type": "code",
   "execution_count": 71,
   "metadata": {},
   "outputs": [
    {
     "name": "stdout",
     "output_type": "stream",
     "text": [
      "Line1: Where the weak are finally strong\n",
      "Line2: Where the righteous right the wrongs\n",
      "Line3: Still looking for a home\n",
      "Line4: In a world where I belong\n",
      "Line5: A world where I belong\n",
      "Line6: On the final day I die\n",
      "Line7: I want to hold my head up high\n",
      "Line8: I want to tell you that I tried\n",
      "Line9: To live it like a song\n",
      "Line10: And when I reach the other side\n",
      "Line11: I want to look you in the eye\n",
      "Line12: And know that I've arrived\n",
      "Line13: In a world where I belong\n",
      "Line14: In a world where I belong\n",
      "Line15: In a world where I belong\n",
      "Line16: Where I belong\n",
      "Line17: Where I belong\n",
      "Line18: Where I belong\n",
      "Line19: Where I belong\n"
     ]
    }
   ],
   "source": [
    "# writing to file\n",
    "file1 = open('myfile.txt', 'w')\n",
    "file1.writelines(L1)\n",
    "file1.close()\n",
    "# Using readlines()\n",
    "file1 = open('myfile.txt', 'r')\n",
    "Lines = file1.readlines()\n",
    "count = 0\n",
    "# Strips the newline character\n",
    "for line in Lines:\n",
    "    count += 1\n",
    "    print(\"Line{}: {}\".format(count, line.strip()))"
   ]
  },
  {
   "cell_type": "markdown",
   "metadata": {},
   "source": [
    "Q53: Find out what the program does if the file doesn't exist."
   ]
  },
  {
   "cell_type": "markdown",
   "metadata": {},
   "source": [
    "error message: file not accessible"
   ]
  },
  {
   "cell_type": "markdown",
   "metadata": {},
   "source": [
    "Q54: What happens if you create a file with another user and try to open it?"
   ]
  },
  {
   "cell_type": "markdown",
   "metadata": {},
   "source": [
    "you will be unable to open it"
   ]
  },
  {
   "cell_type": "markdown",
   "metadata": {},
   "source": [
    "## Write File"
   ]
  },
  {
   "cell_type": "markdown",
   "metadata": {},
   "source": [
    "Q55: Write the text “Take it easy” to a file"
   ]
  },
  {
   "cell_type": "code",
   "execution_count": 72,
   "metadata": {},
   "outputs": [
    {
     "name": "stdout",
     "output_type": "stream",
     "text": [
      "['Take it easy']\n"
     ]
    }
   ],
   "source": [
    "file2 = open('myfile2.txt', 'w')\n",
    "file2.write(\"Take it easy\")\n",
    "file2.close()\n",
    "\n",
    "file2 = open('myfile2.txt', 'r')\n",
    "Lines = file2.readlines()\n",
    "print(Lines)"
   ]
  },
  {
   "cell_type": "markdown",
   "metadata": {},
   "source": [
    "Q56: Write the line open(“text.txt”) to a file"
   ]
  },
  {
   "cell_type": "code",
   "execution_count": 73,
   "metadata": {},
   "outputs": [
    {
     "name": "stdout",
     "output_type": "stream",
     "text": [
      "Using readlines()\n",
      "Line1: Open(\"text.txt\")\n"
     ]
    }
   ],
   "source": [
    "L2 = [\"Open(\\\"text.txt\\\")\"]\n",
    "with open(\"myfile3.txt\", \"w\") as fp:\n",
    "    fp.writelines(L2)\n",
    "    \n",
    "count = 0\n",
    "print(\"Using readlines()\")\n",
    " \n",
    "with open(\"myfile3.txt\") as fp:\n",
    "    Lines = fp.readlines()\n",
    "    for line in Lines:\n",
    "        count += 1\n",
    "        print(\"Line{}: {}\".format(count, line.strip()))"
   ]
  },
  {
   "cell_type": "markdown",
   "metadata": {},
   "source": [
    "## Nested Loops"
   ]
  },
  {
   "cell_type": "markdown",
   "metadata": {},
   "source": [
    "Q57: Given a tic-tac-toe board of 3x3, print every position"
   ]
  },
  {
   "cell_type": "code",
   "execution_count": 74,
   "metadata": {},
   "outputs": [
    {
     "name": "stdout",
     "output_type": "stream",
     "text": [
      "1 1\n",
      "1 2\n",
      "1 3\n",
      "2 1\n",
      "2 2\n",
      "2 3\n",
      "3 1\n",
      "3 2\n",
      "3 3\n"
     ]
    }
   ],
   "source": [
    "for i in range(1, 4):\n",
    "    for j in range(1, 4):\n",
    "        print(i,j)"
   ]
  },
  {
   "cell_type": "markdown",
   "metadata": {},
   "source": [
    "Q58: Create a program where every person meets the other\n",
    "\n",
    "persons = [ “John”, “Marissa”, “Pete”, “Dayton” ]"
   ]
  },
  {
   "cell_type": "code",
   "execution_count": 75,
   "metadata": {},
   "outputs": [
    {
     "name": "stdout",
     "output_type": "stream",
     "text": [
      "John meets Marissa, John meets Pete, John meets Dayton, Marissa meets Pete, Marissa meets Dayton, Pete meets Dayton, "
     ]
    }
   ],
   "source": [
    "persons = [\"John\", \"Marissa\", \"Pete\", \"Dayton\"]\n",
    "for p in range(0, len(persons)):\n",
    "    for q in range(p+1, len(persons)):\n",
    "        print(f\"{persons[p]} meets {persons[q]}\", end=\", \") "
   ]
  },
  {
   "cell_type": "markdown",
   "metadata": {},
   "source": [
    "Q59: If a normal for loop finishes in n steps O(n), how many steps has a nested loop?"
   ]
  },
  {
   "cell_type": "markdown",
   "metadata": {},
   "source": [
    "O(n^2)"
   ]
  },
  {
   "cell_type": "markdown",
   "metadata": {},
   "source": [
    "## Slices"
   ]
  },
  {
   "cell_type": "markdown",
   "metadata": {},
   "source": [
    "Q60: Take a slice of the list below:\n",
    "\n",
    "pizzas = [“Hawai”,”Pepperoni”,”Fromaggi”,”Napolitana”,”Diavoli”]"
   ]
  },
  {
   "cell_type": "code",
   "execution_count": 76,
   "metadata": {},
   "outputs": [
    {
     "name": "stdout",
     "output_type": "stream",
     "text": [
      "['Pepperoni', 'Fromaggi', 'Napolitana']\n"
     ]
    }
   ],
   "source": [
    "pizzas = [\"Hawai\",\"Pepperoni\",\"Fromaggi\",\"Napolitana\",\"Diavoli\"]\n",
    "print(pizzas[1:4])"
   ]
  },
  {
   "cell_type": "markdown",
   "metadata": {},
   "source": [
    "Q61: Given the text “Hello World”, take the slice “World”"
   ]
  },
  {
   "cell_type": "code",
   "execution_count": 77,
   "metadata": {},
   "outputs": [
    {
     "name": "stdout",
     "output_type": "stream",
     "text": [
      "World\n"
     ]
    }
   ],
   "source": [
    "s = \"Hello World\"\n",
    "print(s[6:11])"
   ]
  },
  {
   "cell_type": "markdown",
   "metadata": {},
   "source": [
    "## Multiple Return"
   ]
  },
  {
   "cell_type": "markdown",
   "metadata": {},
   "source": [
    "Q62: Create a function that returns a, b and a+b"
   ]
  },
  {
   "cell_type": "code",
   "execution_count": 78,
   "metadata": {},
   "outputs": [],
   "source": [
    "def sum_nums(a, b):\n",
    "    return a, b, a+b"
   ]
  },
  {
   "cell_type": "code",
   "execution_count": 79,
   "metadata": {},
   "outputs": [
    {
     "data": {
      "text/plain": [
       "(5, 6, 11)"
      ]
     },
     "execution_count": 79,
     "metadata": {},
     "output_type": "execute_result"
    }
   ],
   "source": [
    "sum_nums(5, 6)"
   ]
  },
  {
   "cell_type": "markdown",
   "metadata": {},
   "source": [
    "Q63: Create a function that returns 5 variables"
   ]
  },
  {
   "cell_type": "code",
   "execution_count": 80,
   "metadata": {},
   "outputs": [],
   "source": [
    "def five_vars(a, b, n):\n",
    "    varList = []\n",
    "    for i in range(1, n+1):\n",
    "        varList.append(a*b*i)\n",
    "    return varList"
   ]
  },
  {
   "cell_type": "code",
   "execution_count": 81,
   "metadata": {},
   "outputs": [
    {
     "data": {
      "text/plain": [
       "[30, 60, 90, 120, 150]"
      ]
     },
     "execution_count": 81,
     "metadata": {},
     "output_type": "execute_result"
    }
   ],
   "source": [
    "five_vars(5, 6, 5)"
   ]
  },
  {
   "cell_type": "markdown",
   "metadata": {},
   "source": [
    "## Scope"
   ]
  },
  {
   "cell_type": "markdown",
   "metadata": {},
   "source": [
    "Q64: Add a function reduce amount that changes the variable balance"
   ]
  },
  {
   "cell_type": "code",
   "execution_count": 82,
   "metadata": {},
   "outputs": [],
   "source": [
    "def reduce(balance, change):\n",
    "    return balance - change"
   ]
  },
  {
   "cell_type": "code",
   "execution_count": 83,
   "metadata": {},
   "outputs": [
    {
     "data": {
      "text/plain": [
       "990"
      ]
     },
     "execution_count": 83,
     "metadata": {},
     "output_type": "execute_result"
    }
   ],
   "source": [
    "reduce(1000, 10)"
   ]
  },
  {
   "cell_type": "markdown",
   "metadata": {},
   "source": [
    "Q65: Create a function with a local variable"
   ]
  },
  {
   "cell_type": "code",
   "execution_count": 84,
   "metadata": {},
   "outputs": [
    {
     "name": "stdout",
     "output_type": "stream",
     "text": [
      "x inside: global\n",
      "x outside: global\n"
     ]
    }
   ],
   "source": [
    "x = \"global\"\n",
    "\n",
    "def foo():\n",
    "    print(\"x inside:\", x)\n",
    "\n",
    "\n",
    "foo()\n",
    "print(\"x outside:\", x)"
   ]
  },
  {
   "cell_type": "code",
   "execution_count": 85,
   "metadata": {},
   "outputs": [
    {
     "name": "stdout",
     "output_type": "stream",
     "text": [
      "local\n"
     ]
    }
   ],
   "source": [
    "def foo():\n",
    "    y = \"local\"\n",
    "    print(y)\n",
    "\n",
    "foo()"
   ]
  },
  {
   "cell_type": "code",
   "execution_count": 86,
   "metadata": {},
   "outputs": [
    {
     "name": "stdout",
     "output_type": "stream",
     "text": [
      "global global \n",
      "local\n"
     ]
    }
   ],
   "source": [
    "x = \"global \"\n",
    "\n",
    "def foo():\n",
    "    global x\n",
    "    y = \"local\"\n",
    "    x = x * 2\n",
    "    print(x)\n",
    "    print(y)\n",
    "\n",
    "foo()"
   ]
  },
  {
   "cell_type": "code",
   "execution_count": 87,
   "metadata": {},
   "outputs": [
    {
     "name": "stdout",
     "output_type": "stream",
     "text": [
      "local x: 10\n",
      "global x: 5\n"
     ]
    }
   ],
   "source": [
    "x = 5\n",
    "\n",
    "def foo():\n",
    "    x = 10\n",
    "    print(\"local x:\", x)\n",
    "\n",
    "\n",
    "foo()\n",
    "print(\"global x:\", x)"
   ]
  },
  {
   "cell_type": "code",
   "execution_count": 88,
   "metadata": {},
   "outputs": [
    {
     "name": "stdout",
     "output_type": "stream",
     "text": [
      "inner: nonlocal\n",
      "outer: nonlocal\n"
     ]
    }
   ],
   "source": [
    "def outer():\n",
    "    x = \"local\"\n",
    "\n",
    "    def inner():\n",
    "        nonlocal x\n",
    "        x = \"nonlocal\"\n",
    "        print(\"inner:\", x)\n",
    "\n",
    "    inner()\n",
    "    print(\"outer:\", x)\n",
    "\n",
    "\n",
    "outer()"
   ]
  },
  {
   "cell_type": "markdown",
   "metadata": {},
   "source": [
    "## Time and date"
   ]
  },
  {
   "cell_type": "markdown",
   "metadata": {},
   "source": [
    "Q66: Print the date in format year-month-day"
   ]
  },
  {
   "cell_type": "code",
   "execution_count": 89,
   "metadata": {},
   "outputs": [
    {
     "name": "stdout",
     "output_type": "stream",
     "text": [
      "Today's date: 2021-03-19\n"
     ]
    }
   ],
   "source": [
    "from datetime import date\n",
    "today = date.today()\n",
    "print(\"Today's date:\", today)"
   ]
  },
  {
   "cell_type": "markdown",
   "metadata": {},
   "source": [
    "## Try except"
   ]
  },
  {
   "cell_type": "markdown",
   "metadata": {},
   "source": [
    "Q67: Can try-except be used to catch invalid keyboard input?"
   ]
  },
  {
   "cell_type": "code",
   "execution_count": 91,
   "metadata": {},
   "outputs": [
    {
     "name": "stdout",
     "output_type": "stream",
     "text": [
      "Enter number:5\n",
      "25\n"
     ]
    }
   ],
   "source": [
    "rawInput = input('Enter number:')\n",
    "\n",
    "try:\n",
    "    x = int(rawInput)\n",
    "    print(x*x)\n",
    "except:\n",
    "    print('Invalid input specified')"
   ]
  },
  {
   "cell_type": "markdown",
   "metadata": {},
   "source": [
    "Q68: Can try-except catch the error if a file can‟t be opened?"
   ]
  },
  {
   "cell_type": "code",
   "execution_count": 92,
   "metadata": {},
   "outputs": [
    {
     "name": "stdout",
     "output_type": "stream",
     "text": [
      "Could not open file\n",
      "Program continue\n"
     ]
    }
   ],
   "source": [
    "try: \n",
    "    f = open(\"test.txt\")\n",
    "except: \n",
    "    print('Could not open file')\n",
    "finally:\n",
    "    print('Program continue')"
   ]
  },
  {
   "cell_type": "markdown",
   "metadata": {},
   "source": [
    "Q69: When would you not use try-except?"
   ]
  },
  {
   "cell_type": "markdown",
   "metadata": {},
   "source": [
    "when dealing with errors, like out of memory "
   ]
  },
  {
   "cell_type": "markdown",
   "metadata": {},
   "source": [
    "# OOP exercises"
   ]
  },
  {
   "cell_type": "markdown",
   "metadata": {},
   "source": [
    "## Class"
   ]
  },
  {
   "cell_type": "markdown",
   "metadata": {},
   "source": [
    "Q70: Can you have more than one class in a file?"
   ]
  },
  {
   "cell_type": "markdown",
   "metadata": {},
   "source": [
    "yes"
   ]
  },
  {
   "cell_type": "markdown",
   "metadata": {},
   "source": [
    "Q71: Can multiple objects be created from the same class?"
   ]
  },
  {
   "cell_type": "markdown",
   "metadata": {},
   "source": [
    "yes"
   ]
  },
  {
   "cell_type": "markdown",
   "metadata": {},
   "source": [
    "Q72: Can objects create classes?"
   ]
  },
  {
   "cell_type": "markdown",
   "metadata": {},
   "source": [
    "no, objects are instances of classes"
   ]
  },
  {
   "cell_type": "markdown",
   "metadata": {},
   "source": [
    "Q73: Using the code above, create another object"
   ]
  },
  {
   "cell_type": "code",
   "execution_count": 93,
   "metadata": {},
   "outputs": [],
   "source": [
    "class Person:\n",
    "    \n",
    "    #getter method \n",
    "    def get_age(self): \n",
    "        return self._age \n",
    "      \n",
    "    #setter method \n",
    "    def set_age(self, x): \n",
    "        self._age = x \n",
    "\n",
    "    def leisure(self):\n",
    "        return 'drive my legacy'\n",
    "    \n",
    "    def location(self):\n",
    "        return 'Aurora, IL'"
   ]
  },
  {
   "cell_type": "code",
   "execution_count": 94,
   "metadata": {},
   "outputs": [
    {
     "name": "stdout",
     "output_type": "stream",
     "text": [
      "41\n",
      "drive my legacy\n",
      "Aurora, IL\n"
     ]
    }
   ],
   "source": [
    "Mindy = Person()\n",
    "Mindy.set_age(41)\n",
    "print(Mindy.get_age())\n",
    "print(Mindy.leisure())\n",
    "print(Mindy.location())"
   ]
  },
  {
   "cell_type": "markdown",
   "metadata": {},
   "source": [
    "Q74: Add a method to the class: location()"
   ]
  },
  {
   "cell_type": "markdown",
   "metadata": {},
   "source": [
    "done"
   ]
  },
  {
   "cell_type": "markdown",
   "metadata": {},
   "source": [
    "## Getter and Setter"
   ]
  },
  {
   "cell_type": "markdown",
   "metadata": {},
   "source": [
    "Q75: Add a variable age and create a getter and setter"
   ]
  },
  {
   "cell_type": "markdown",
   "metadata": {},
   "source": [
    "done"
   ]
  },
  {
   "cell_type": "markdown",
   "metadata": {},
   "source": [
    "Q76: Why would you use getter and setter methods?"
   ]
  },
  {
   "cell_type": "markdown",
   "metadata": {},
   "source": [
    "ensures data encapsulation, which avoids direct access to a specific variable "
   ]
  },
  {
   "cell_type": "markdown",
   "metadata": {},
   "source": [
    "## Modules"
   ]
  },
  {
   "cell_type": "markdown",
   "metadata": {},
   "source": [
    "Q77: Import the math module and call the sin function"
   ]
  },
  {
   "cell_type": "code",
   "execution_count": 95,
   "metadata": {},
   "outputs": [
    {
     "name": "stdout",
     "output_type": "stream",
     "text": [
      "-0.27941549819892586\n"
     ]
    }
   ],
   "source": [
    "import math\n",
    "print(math.sin(6))"
   ]
  },
  {
   "cell_type": "markdown",
   "metadata": {},
   "source": [
    "Q78: Create your own module with the function snake()"
   ]
  },
  {
   "cell_type": "code",
   "execution_count": 96,
   "metadata": {},
   "outputs": [],
   "source": [
    "def snake():\n",
    "    print(\"ssss im a slithery lil snake \")"
   ]
  },
  {
   "cell_type": "code",
   "execution_count": 97,
   "metadata": {},
   "outputs": [
    {
     "name": "stdout",
     "output_type": "stream",
     "text": [
      "ssss im a slithery lil snake \n"
     ]
    }
   ],
   "source": [
    "snake()"
   ]
  },
  {
   "cell_type": "markdown",
   "metadata": {},
   "source": [
    "## Inheritance"
   ]
  },
  {
   "cell_type": "markdown",
   "metadata": {},
   "source": [
    "Q79: Create a new class that inherits from the class App"
   ]
  },
  {
   "cell_type": "markdown",
   "metadata": {},
   "source": [
    "class parent_class_name extends App - class header"
   ]
  },
  {
   "cell_type": "markdown",
   "metadata": {},
   "source": [
    "Q80: Try to create a class that inherits from two super classes (multiple inheritance)"
   ]
  },
  {
   "cell_type": "markdown",
   "metadata": {},
   "source": [
    "class Base1:\n",
    "    \n",
    "    pass\n",
    "\n",
    "class Base2:\n",
    "    \n",
    "    pass\n",
    "\n",
    "class MultiClass(Base1, Base2):\n",
    "    \n",
    "    pass"
   ]
  },
  {
   "cell_type": "markdown",
   "metadata": {},
   "source": [
    "## Static Method"
   ]
  },
  {
   "cell_type": "markdown",
   "metadata": {},
   "source": [
    "Q81: Can a method inside a class be called without creating an object?"
   ]
  },
  {
   "cell_type": "markdown",
   "metadata": {},
   "source": [
    "yes - this is called a static method"
   ]
  },
  {
   "cell_type": "markdown",
   "metadata": {},
   "source": [
    "Q82: Why does not everybody like static methods?"
   ]
  },
  {
   "cell_type": "markdown",
   "metadata": {},
   "source": [
    "Static methods have limited use, because they don't have access to the attributes of an instance of a class, and they don't have access to the attributes of the class itself. Its not the best option for long-term use."
   ]
  },
  {
   "cell_type": "markdown",
   "metadata": {},
   "source": [
    "## Iterable"
   ]
  },
  {
   "cell_type": "markdown",
   "metadata": {},
   "source": [
    "Q83: What is an iterable?"
   ]
  },
  {
   "cell_type": "markdown",
   "metadata": {},
   "source": [
    "An iteratable is a Python object that can be used as a sequence. You can go to the next item of the sequence using the next() method. It’s a container object: it can only return one of its element at the time. "
   ]
  },
  {
   "cell_type": "markdown",
   "metadata": {},
   "source": [
    "Q84: Which types of data can be used with an iterable?"
   ]
  },
  {
   "cell_type": "markdown",
   "metadata": {},
   "source": [
    "Examples of iterables include all sequence types (such as list, str, and tuple) and some non-sequence types like dict, file objects, and objects of any classes you define with an __iter__() method or with a __getitem__() method that implements Sequence semantics"
   ]
  },
  {
   "cell_type": "markdown",
   "metadata": {},
   "source": [
    "## Classmethod"
   ]
  },
  {
   "cell_type": "markdown",
   "metadata": {},
   "source": [
    "Q85: What is a classmethod?"
   ]
  },
  {
   "cell_type": "markdown",
   "metadata": {},
   "source": [
    "A class method is a method that’s shared among all objects. Class methods can be can be called from instances and from the class itself"
   ]
  },
  {
   "cell_type": "markdown",
   "metadata": {},
   "source": [
    "Q86: How does a classmethod differ from a staticmethod?"
   ]
  },
  {
   "cell_type": "markdown",
   "metadata": {},
   "source": [
    "static method is not bound to any one class, while a class method is"
   ]
  },
  {
   "cell_type": "markdown",
   "metadata": {},
   "source": [
    "## Multiple Inheritance"
   ]
  },
  {
   "cell_type": "markdown",
   "metadata": {},
   "source": [
    "Q87: Do all programming languages support multiple inheritance?"
   ]
  },
  {
   "cell_type": "markdown",
   "metadata": {},
   "source": [
    "No - one example being java"
   ]
  },
  {
   "cell_type": "markdown",
   "metadata": {},
   "source": [
    "Q88: Why would you not use multiple inheritance?"
   ]
  },
  {
   "cell_type": "markdown",
   "metadata": {},
   "source": [
    "to prevent ambiguity"
   ]
  },
  {
   "cell_type": "markdown",
   "metadata": {},
   "source": [
    "Q89: Is there a limit to the number of classes you can inherit from?"
   ]
  },
  {
   "cell_type": "markdown",
   "metadata": {},
   "source": [
    "no"
   ]
  },
  {
   "cell_type": "code",
   "execution_count": null,
   "metadata": {},
   "outputs": [],
   "source": []
  }
 ],
 "metadata": {
  "kernelspec": {
   "display_name": "learn-env",
   "language": "python",
   "name": "learn-env"
  },
  "language_info": {
   "codemirror_mode": {
    "name": "ipython",
    "version": 3
   },
   "file_extension": ".py",
   "mimetype": "text/x-python",
   "name": "python",
   "nbconvert_exporter": "python",
   "pygments_lexer": "ipython3",
   "version": "3.8.5"
  }
 },
 "nbformat": 4,
 "nbformat_minor": 4
}
