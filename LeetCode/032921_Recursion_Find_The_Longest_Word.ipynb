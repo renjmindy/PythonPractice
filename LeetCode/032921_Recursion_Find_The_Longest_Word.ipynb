{
 "cells": [
  {
   "cell_type": "markdown",
   "metadata": {},
   "source": [
    "Write a recursive function that will return the longest word in a sentence. In cases where more than one word is found, return the first one.\n",
    "\n",
    "**Examples**\n",
    "\n",
    "findLongest(\"I will and ever will be gratefully and perpetually loving you Tesh!​😘​\") ➞ \"perpetually\"\n",
    "\n",
    "findLongest(\"A thing of beauty is a joy forever.\") ➞ \"forever\"\n",
    "\n",
    "findLongest(\"Forgetfulness is by all means powerless!\") ➞ \"forgetfulness\"\n",
    "\n",
    "findLongest(\"The word strengths is the longest and most commonly used word with a single vowel.\") ➞ \"strengths\"\n",
    "\n",
    "**Notes**\n",
    "\n",
    "Special characters and symbols don't count as part of the word.\n",
    "\n",
    "Return the longest word found in lowercase letters.\n",
    "\n",
    "You are expected to solve this challenge via a recursive approach."
   ]
  },
  {
   "cell_type": "code",
   "execution_count": 1,
   "metadata": {},
   "outputs": [],
   "source": [
    "def cal_longestWord(s):\n",
    "    \n",
    "    slist = list(s.split(' '))\n",
    "    sDict = dict()\n",
    "    \n",
    "    for s in slist:\n",
    "        s = s.replace('.', '').replace('!', '').replace('😘', '')\n",
    "        sDict.setdefault(len(s), []).append(s)\n",
    "        \n",
    "    ssDict = sorted(sDict.items(), key=lambda x:x[0], reverse=True)\n",
    "    \n",
    "    return ssDict[0][1][0]"
   ]
  },
  {
   "cell_type": "code",
   "execution_count": 2,
   "metadata": {},
   "outputs": [
    {
     "data": {
      "text/plain": [
       "'perpetually'"
      ]
     },
     "execution_count": 2,
     "metadata": {},
     "output_type": "execute_result"
    }
   ],
   "source": [
    "cal_longestWord(\"I will and ever will be gratefully and perpetually loving you Tesh!​😘\")"
   ]
  },
  {
   "cell_type": "code",
   "execution_count": 3,
   "metadata": {},
   "outputs": [
    {
     "data": {
      "text/plain": [
       "'forever'"
      ]
     },
     "execution_count": 3,
     "metadata": {},
     "output_type": "execute_result"
    }
   ],
   "source": [
    "cal_longestWord(\"A thing of beauty is a joy forever.\")"
   ]
  },
  {
   "cell_type": "code",
   "execution_count": 4,
   "metadata": {},
   "outputs": [
    {
     "data": {
      "text/plain": [
       "'Forgetfulness'"
      ]
     },
     "execution_count": 4,
     "metadata": {},
     "output_type": "execute_result"
    }
   ],
   "source": [
    "cal_longestWord(\"Forgetfulness is by all means powerless!\")"
   ]
  },
  {
   "cell_type": "code",
   "execution_count": 5,
   "metadata": {},
   "outputs": [
    {
     "data": {
      "text/plain": [
       "'strengths'"
      ]
     },
     "execution_count": 5,
     "metadata": {},
     "output_type": "execute_result"
    }
   ],
   "source": [
    "cal_longestWord(\"The word strengths is the longest and most commonly used word with a single vowel.\")"
   ]
  },
  {
   "cell_type": "code",
   "execution_count": null,
   "metadata": {},
   "outputs": [],
   "source": []
  }
 ],
 "metadata": {
  "kernelspec": {
   "display_name": "learn-env",
   "language": "python",
   "name": "learn-env"
  },
  "language_info": {
   "codemirror_mode": {
    "name": "ipython",
    "version": 3
   },
   "file_extension": ".py",
   "mimetype": "text/x-python",
   "name": "python",
   "nbconvert_exporter": "python",
   "pygments_lexer": "ipython3",
   "version": "3.8.5"
  }
 },
 "nbformat": 4,
 "nbformat_minor": 4
}
