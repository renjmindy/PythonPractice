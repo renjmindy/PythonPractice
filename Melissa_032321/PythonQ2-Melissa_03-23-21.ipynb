{
 "cells": [
  {
   "cell_type": "markdown",
   "id": "perceived-jacob",
   "metadata": {},
   "source": [
    "## Q2: Set Theory: Even Power  Set"
   ]
  },
  {
   "cell_type": "markdown",
   "id": "speaking-watershed",
   "metadata": {},
   "source": [
    "### Input Format\n",
    "\n",
    "The first line contains **N** denoting the size of the array.\n",
    "\n",
    "The next line contains **N** space-separated integers of the set.\n",
    "\n",
    "\n",
    "### Sample Input\n",
    "\n",
    "3     -- denotes N\n",
    "\n",
    "1 2 3 -- denotes string S\n",
    "\n",
    "\n",
    "### Constraints\n",
    "\n",
    "1 <= **N** <= 102\n",
    "\n",
    "1 <= **A[i]** <= 104\n",
    "\n",
    "\n",
    "### Output Format\n",
    "\n",
    "The output contains the number of sets from powerset having even size.\n",
    "\n",
    "\n",
    "### Sample Output\n",
    "\n",
    "4\n",
    "\n",
    "\n",
    "### Explanation\n",
    "\n",
    "Power set has collection of all subsets including null set, i.e. \n",
    "\n",
    "P = {(), (1), (2), (3), (1,2), (1,3), (2,3), (1,2,3)}\n",
    "\n",
    "Out of them, only 4 sets are of even size. \n",
    "\n",
    "They are: \n",
    "\n",
    "(): size 0.\n",
    "\n",
    "(1,2), (1,3) and (2,3) of size 2.\n",
    "\n",
    "Hence the output is **4**."
   ]
  },
  {
   "cell_type": "code",
   "execution_count": null,
   "id": "right-charge",
   "metadata": {},
   "outputs": [],
   "source": [
    "def powerSet(N, A):\n",
    "    \n",
    "    # this is default OUTPUT. You can change it\n",
    "    \n",
    "    result = -404\n",
    "    \n",
    "    # write your Logic here:\n",
    "    \n",
    "    \n",
    "    \n",
    "    # INPUT [uncomment & modify if required]\n",
    "    N = int(input())\n",
    "    temp = input().split()\n",
    "    A = list(map(int, temp))\n",
    "    \n",
    "    # OUTPUT [uncomment & modify if required]\n",
    "    print(powerSet(N,A))"
   ]
  },
  {
   "cell_type": "code",
   "execution_count": 1,
   "id": "prescription-farmer",
   "metadata": {},
   "outputs": [],
   "source": [
    "def powerSet(N, A):\n",
    "    \n",
    "    m = N // 2\n",
    "    #print('m:', m)\n",
    "    \n",
    "    result = 0\n",
    "    \n",
    "    num = 1\n",
    "    \n",
    "    for a in A:\n",
    "        num *= a\n",
    "        \n",
    "    #print('num:', num)\n",
    "    \n",
    "    for i in range(1, m+1, 1): \n",
    "        dem1 = 1\n",
    "        dem2 = 1\n",
    "        \n",
    "        for j in range(1, i*2+1): \n",
    "            dem1 *= j\n",
    "        for k in range(1, (N-(i*2))+1):\n",
    "            dem2 *= k\n",
    "            \n",
    "        #print('dem1:', dem1)\n",
    "        #print('dem2:', dem2)\n",
    "            \n",
    "        result += num / (dem1 * dem2)\n",
    "        \n",
    "        #print('\\t div:', num / (dem1 * dem2))\n",
    "        \n",
    "    result += 1\n",
    "    print(result)\n",
    "    \n",
    "    return result"
   ]
  },
  {
   "cell_type": "code",
   "execution_count": 2,
   "id": "tropical-truth",
   "metadata": {},
   "outputs": [
    {
     "name": "stdout",
     "output_type": "stream",
     "text": [
      "4.0\n"
     ]
    },
    {
     "data": {
      "text/plain": [
       "4.0"
      ]
     },
     "execution_count": 2,
     "metadata": {},
     "output_type": "execute_result"
    }
   ],
   "source": [
    "N = 3\n",
    "A = [1, 2, 3]\n",
    "powerSet(N, A)"
   ]
  },
  {
   "cell_type": "code",
   "execution_count": 3,
   "id": "mechanical-shadow",
   "metadata": {},
   "outputs": [
    {
     "name": "stdout",
     "output_type": "stream",
     "text": [
      "1\n"
     ]
    },
    {
     "data": {
      "text/plain": [
       "1"
      ]
     },
     "execution_count": 3,
     "metadata": {},
     "output_type": "execute_result"
    }
   ],
   "source": [
    "N = 1\n",
    "A = [1]\n",
    "powerSet(N, A)"
   ]
  },
  {
   "cell_type": "code",
   "execution_count": 4,
   "id": "diverse-concord",
   "metadata": {},
   "outputs": [
    {
     "name": "stdout",
     "output_type": "stream",
     "text": [
      "32.0\n"
     ]
    },
    {
     "data": {
      "text/plain": [
       "32.0"
      ]
     },
     "execution_count": 4,
     "metadata": {},
     "output_type": "execute_result"
    }
   ],
   "source": [
    "N = 6\n",
    "A = [1, 2, 3, 4, 5, 6]\n",
    "powerSet(N, A)"
   ]
  },
  {
   "cell_type": "code",
   "execution_count": 5,
   "id": "magnetic-medium",
   "metadata": {},
   "outputs": [
    {
     "name": "stdout",
     "output_type": "stream",
     "text": [
      "16384.0\n"
     ]
    },
    {
     "data": {
      "text/plain": [
       "16384.0"
      ]
     },
     "execution_count": 5,
     "metadata": {},
     "output_type": "execute_result"
    }
   ],
   "source": [
    "N = 15\n",
    "A = [1, 2, 3, 4, 5, 6, 7, 8, 9, 10, 11, 12, 13, 14, 15]\n",
    "powerSet(N, A)"
   ]
  },
  {
   "cell_type": "code",
   "execution_count": 6,
   "id": "wrong-judge",
   "metadata": {},
   "outputs": [
    {
     "name": "stdout",
     "output_type": "stream",
     "text": [
      "16.0\n"
     ]
    },
    {
     "data": {
      "text/plain": [
       "16.0"
      ]
     },
     "execution_count": 6,
     "metadata": {},
     "output_type": "execute_result"
    }
   ],
   "source": [
    "N = 5\n",
    "A = [1, 2, 3, 4, 5]\n",
    "powerSet(N, A)"
   ]
  },
  {
   "cell_type": "code",
   "execution_count": 7,
   "id": "collaborative-british",
   "metadata": {},
   "outputs": [
    {
     "name": "stdout",
     "output_type": "stream",
     "text": [
      "256.0\n"
     ]
    },
    {
     "data": {
      "text/plain": [
       "256.0"
      ]
     },
     "execution_count": 7,
     "metadata": {},
     "output_type": "execute_result"
    }
   ],
   "source": [
    "N = 9\n",
    "A = [1, 2, 3, 4, 5, 6, 7, 8, 9]\n",
    "powerSet(N, A)"
   ]
  },
  {
   "cell_type": "code",
   "execution_count": null,
   "id": "serial-ultimate",
   "metadata": {},
   "outputs": [],
   "source": []
  }
 ],
 "metadata": {
  "kernelspec": {
   "display_name": "learn-env",
   "language": "python",
   "name": "learn-env"
  },
  "language_info": {
   "codemirror_mode": {
    "name": "ipython",
    "version": 3
   },
   "file_extension": ".py",
   "mimetype": "text/x-python",
   "name": "python",
   "nbconvert_exporter": "python",
   "pygments_lexer": "ipython3",
   "version": "3.8.8"
  }
 },
 "nbformat": 4,
 "nbformat_minor": 5
}
