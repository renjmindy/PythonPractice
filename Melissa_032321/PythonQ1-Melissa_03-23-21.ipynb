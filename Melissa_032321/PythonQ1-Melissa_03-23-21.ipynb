{
 "cells": [
  {
   "cell_type": "markdown",
   "id": "sustainable-miracle",
   "metadata": {},
   "source": [
    "## Q1: Mathematical Calculations: Counting Subsequences"
   ]
  },
  {
   "cell_type": "markdown",
   "id": "false-roman",
   "metadata": {},
   "source": [
    "### Input Format\n",
    "\n",
    "The first line of input contains a single integer **N**.\n",
    "\n",
    "The next line contains the string *S* of size **N**.\n",
    "\n",
    "The next line contains an integer **Q** denoting the number of queries.\n",
    "\n",
    "Next, **Q** lines contain an index (i) in each line denoting a query. \n",
    "\n",
    "\n",
    "### Sample Input\n",
    "\n",
    "5     -- denotes N\n",
    "\n",
    "01111 -- denotes string S\n",
    "\n",
    "2     -- denotes Q\n",
    "\n",
    "0     -- denotes the query\n",
    "\n",
    "0     -- denotes the query\n",
    "\n",
    "\n",
    "### Output Format\n",
    "\n",
    "Each line prints the sum of the number of sequences.\n",
    "\n",
    "\n",
    "### Sample Output\n",
    "\n",
    "0\n",
    "\n",
    "1\n",
    "\n",
    "### Explanation\n",
    "\n",
    "String after query 1: 11111 - This sequence does not have either 01 or 10\n",
    "\n",
    "String after query 2: 01111 - This sequence has the subsequence 01.\n",
    "\n",
    "Hence, the output is\n",
    "\n",
    "0\n",
    "\n",
    "1"
   ]
  },
  {
   "cell_type": "code",
   "execution_count": null,
   "id": "temporal-slovak",
   "metadata": {},
   "outputs": [],
   "source": [
    "def NumberofSubsequences(N, S, queries, Q):\n",
    "    \n",
    "    # this is default OUTPUT. You can change it\n",
    "    \n",
    "    result = []\n",
    "    n = 0\n",
    "    \n",
    "    # write your Logic here:\n",
    "    \n",
    "    \n",
    "    \n",
    "    # OUTPUT [uncomment & modify if required]\n",
    "    # Print each result on next line\n",
    "    for i in result:\n",
    "        print(i)\n",
    "        \n",
    "        \n",
    "    # INPUT [uncomment & modify if required]\n",
    "    N = int(input())\n",
    "    S = str(input())\n",
    "    Q = int(input())\n",
    "    queries = []\n",
    "    \n",
    "    for i in range(Q):\n",
    "        queries.append(int(input()))"
   ]
  },
  {
   "cell_type": "code",
   "execution_count": 1,
   "id": "binding-buddy",
   "metadata": {},
   "outputs": [],
   "source": [
    "def NumberofSubsequences(N, S, queries, Q):\n",
    "    \n",
    "    result = []\n",
    "    #\n",
    "    #\n",
    "    # no way to flip a char in one string\n",
    "    # so we first convert a string to a list\n",
    "    # then, loop over each element and match\n",
    "    # now we can flip one single char if matched\n",
    "    #\n",
    "    #\n",
    "    NS = list(S)\n",
    "    #print('before flipping:', NS)\n",
    "    \n",
    "    for q in range(0, queries, 1):\n",
    "        \n",
    "        rn = 0\n",
    "        \n",
    "        S_1 = [] # first element in S\n",
    "        S_2 = [] # second element in S \n",
    "        S_3 = [] # sum of first and second elements in S\n",
    "             \n",
    "        if NS[Q[q]] == '0':\n",
    "            NS[Q[q]] = '1'\n",
    "            #print('>>> here', Q[q], NS[Q[q]])\n",
    "        else:\n",
    "            NS[Q[q]] = '0'\n",
    "            #print('>>> here', Q[q], NS[Q[q]])\n",
    "            \n",
    "        #print('after flipping:', NS)\n",
    "        \n",
    "        for n in range(0, N, 1): # 0 - (N-1)\n",
    "        \n",
    "            if n < N-1: # 0 - (N-2)\n",
    "                S_1.append(int(NS[n]))\n",
    "            \n",
    "            if n > 0: # 1 - (N-1)   \n",
    "                S_2.append(int(NS[n]))\n",
    "            \n",
    "        #print('S_1', S_1)\n",
    "        #print('S_2', S_2)\n",
    "            \n",
    "        for n in range(0, N-1, 1):\n",
    "            S_3.append(S_1[n] + S_2[n])\n",
    "            \n",
    "        #print('S_3', S_3)\n",
    "        \n",
    "        for n in range(0, len(S_3), 1):\n",
    "            # 01 or 10 : sum of either (0, 1) or (1, 0) equals to 1\n",
    "            if S_3[n] == 1:\n",
    "                rn += 1\n",
    "            else:\n",
    "                rn += 0\n",
    "                \n",
    "        result.append(rn)\n",
    "        \n",
    "    for i in result:\n",
    "        print(i)\n",
    "\n",
    "    return result"
   ]
  },
  {
   "cell_type": "code",
   "execution_count": 2,
   "id": "global-frontier",
   "metadata": {},
   "outputs": [
    {
     "name": "stdout",
     "output_type": "stream",
     "text": [
      "0\n",
      "1\n"
     ]
    },
    {
     "data": {
      "text/plain": [
       "[0, 1]"
      ]
     },
     "execution_count": 2,
     "metadata": {},
     "output_type": "execute_result"
    }
   ],
   "source": [
    "N = 5\n",
    "S = '01111'\n",
    "queries = 2\n",
    "Q = [0, 0]\n",
    "NumberofSubsequences(N, S, queries, Q)"
   ]
  },
  {
   "cell_type": "code",
   "execution_count": 3,
   "id": "loose-gravity",
   "metadata": {},
   "outputs": [
    {
     "name": "stdout",
     "output_type": "stream",
     "text": [
      "0\n"
     ]
    },
    {
     "data": {
      "text/plain": [
       "[0]"
      ]
     },
     "execution_count": 3,
     "metadata": {},
     "output_type": "execute_result"
    }
   ],
   "source": [
    "N = 1\n",
    "S = '0'\n",
    "queries = 1\n",
    "Q = [0]\n",
    "NumberofSubsequences(N, S, queries, Q)"
   ]
  },
  {
   "cell_type": "code",
   "execution_count": 4,
   "id": "guilty-probe",
   "metadata": {},
   "outputs": [
    {
     "name": "stdout",
     "output_type": "stream",
     "text": [
      "5\n",
      "7\n",
      "7\n",
      "7\n"
     ]
    },
    {
     "data": {
      "text/plain": [
       "[5, 7, 7, 7]"
      ]
     },
     "execution_count": 4,
     "metadata": {},
     "output_type": "execute_result"
    }
   ],
   "source": [
    "N = 10\n",
    "S = '1110000010'\n",
    "queries = 4\n",
    "Q = [4, 1, 5, 4]\n",
    "NumberofSubsequences(N, S, queries, Q)"
   ]
  },
  {
   "cell_type": "code",
   "execution_count": 5,
   "id": "contained-flour",
   "metadata": {},
   "outputs": [
    {
     "name": "stdout",
     "output_type": "stream",
     "text": [
      "53\n"
     ]
    },
    {
     "data": {
      "text/plain": [
       "[53]"
      ]
     },
     "execution_count": 5,
     "metadata": {},
     "output_type": "execute_result"
    }
   ],
   "source": [
    "N = 99\n",
    "S = '001011111010100101001101110111010110100001000001001010010100111100001001111011001001000111011010011'\n",
    "queries = 1\n",
    "Q = [36]\n",
    "NumberofSubsequences(N, S, queries, Q)"
   ]
  },
  {
   "cell_type": "code",
   "execution_count": 6,
   "id": "cosmetic-cedar",
   "metadata": {},
   "outputs": [
    {
     "name": "stdout",
     "output_type": "stream",
     "text": [
      "3\n",
      "3\n",
      "1\n",
      "2\n",
      "2\n",
      "2\n",
      "2\n",
      "4\n"
     ]
    },
    {
     "data": {
      "text/plain": [
       "[3, 3, 1, 2, 2, 2, 2, 4]"
      ]
     },
     "execution_count": 6,
     "metadata": {},
     "output_type": "execute_result"
    }
   ],
   "source": [
    "N = 10\n",
    "S = '0000100011'\n",
    "queries = 8\n",
    "Q = [5, 6, 7, 9, 3, 2, 1, 4]\n",
    "NumberofSubsequences(N, S, queries, Q)"
   ]
  },
  {
   "cell_type": "code",
   "execution_count": 7,
   "id": "alone-canvas",
   "metadata": {},
   "outputs": [
    {
     "name": "stdout",
     "output_type": "stream",
     "text": [
      "56\n",
      "57\n",
      "57\n",
      "55\n",
      "55\n",
      "53\n",
      "51\n",
      "51\n",
      "49\n",
      "51\n"
     ]
    },
    {
     "data": {
      "text/plain": [
       "[56, 57, 57, 55, 55, 53, 51, 51, 49, 51]"
      ]
     },
     "execution_count": 7,
     "metadata": {},
     "output_type": "execute_result"
    }
   ],
   "source": [
    "N = 99\n",
    "S = '001110101101011110100101011111101011110101101001010010101001101010010111000101100000110111110001100'\n",
    "queries = 10\n",
    "Q = [44, 0, 19, 23, 95, 48, 64, 8, 9, 35]\n",
    "NumberofSubsequences(N, S, queries, Q)"
   ]
  },
  {
   "cell_type": "code",
   "execution_count": null,
   "id": "small-pioneer",
   "metadata": {},
   "outputs": [],
   "source": []
  }
 ],
 "metadata": {
  "kernelspec": {
   "display_name": "learn-env",
   "language": "python",
   "name": "learn-env"
  },
  "language_info": {
   "codemirror_mode": {
    "name": "ipython",
    "version": 3
   },
   "file_extension": ".py",
   "mimetype": "text/x-python",
   "name": "python",
   "nbconvert_exporter": "python",
   "pygments_lexer": "ipython3",
   "version": "3.8.8"
  }
 },
 "nbformat": 4,
 "nbformat_minor": 5
}
