{
 "cells": [
  {
   "cell_type": "markdown",
   "metadata": {},
   "source": [
    "In-Text Twist, players try to score points by forming words using the letters from a 6-letter scrambled word. They win the round if they can successfully unscramble the 6-letter word.\n",
    "\n",
    "Create a function that takes in an array of already-guessed words, the unscrambled 6-letter word and returns the total number of points the player scored in a particular round using the following rubric:\n",
    "\n",
    "3-letter words are 1 pt\n",
    "\n",
    "4-letter words are 2 pts\n",
    "\n",
    "5-letter words are 3 pts\n",
    "\n",
    "6-letter words are 4 pts + 50 pt bonus (for unscrambling the word)\n",
    "\n",
    "Remember that invalid words (words that cannot be formed from the 6-letter unscrambled words) count as 0 pts.\n",
    "\n",
    "**Examples**\n",
    "\n",
    "totalPoints([\"cat\", \"create\", \"sat\"], \"caster\") ➞ 2\n",
    "\n",
    "// Since \"create\" is an invalid word.\n",
    "\n",
    "totalPoints([\"trance\", \"recant\"], \"recant\") ➞ 108\n",
    "\n",
    "// Since \"trance\" and \"recant\" score 54 pts each.\n",
    "\n",
    "totalPoints([\"dote\", \"dotes\", \"toes\", \"set\", \"dot\", \"dots\", \"sted\"], \"tossed\") ➞ 13\n",
    "\n",
    "// Since 2 + 3 + 2 + 1 + 1 + 2 + 2 = 13\n",
    "\n",
    "**Notes**\n",
    "\n",
    "If a 6-letter word has multiple anagrams, count each 6-letter unscramble as an additional 54 pts. For example, if the word is arches, and the player guessed arches and chaser, add 108 pts for both words"
   ]
  },
  {
   "cell_type": "code",
   "execution_count": 1,
   "metadata": {},
   "outputs": [],
   "source": [
    "from collections import Counter\n",
    "\n",
    "def cal_textTwist(arr, s):\n",
    "    \n",
    "    sdict = dict(Counter(s))\n",
    "    ddict = {3:1, 4:2, 5:3, 6:54}\n",
    "    sum_scores = 0\n",
    "    \n",
    "    for a in arr:\n",
    "        adict = dict(Counter(a))\n",
    "        klist = list(adict.keys())\n",
    "        not_found = False\n",
    "        for k in klist:\n",
    "            if k not in sdict.keys():\n",
    "                not_found = True\n",
    "                break\n",
    "            else:\n",
    "                if adict[k] > sdict[k]:\n",
    "                    not_found = True\n",
    "                    break\n",
    "        if not_found == False:\n",
    "            if len(klist) < 6:\n",
    "                sum_scores += (len(klist) - 2)\n",
    "            else:\n",
    "                sum_scores += 54\n",
    "        else:\n",
    "            sum_scores += 0\n",
    "            \n",
    "    return sum_scores"
   ]
  },
  {
   "cell_type": "code",
   "execution_count": 2,
   "metadata": {},
   "outputs": [
    {
     "data": {
      "text/plain": [
       "2"
      ]
     },
     "execution_count": 2,
     "metadata": {},
     "output_type": "execute_result"
    }
   ],
   "source": [
    "cal_textTwist([\"cat\", \"create\", \"sat\"], \"caster\")"
   ]
  },
  {
   "cell_type": "code",
   "execution_count": 3,
   "metadata": {},
   "outputs": [
    {
     "data": {
      "text/plain": [
       "108"
      ]
     },
     "execution_count": 3,
     "metadata": {},
     "output_type": "execute_result"
    }
   ],
   "source": [
    "cal_textTwist([\"trance\", \"recant\"], \"recant\")"
   ]
  },
  {
   "cell_type": "code",
   "execution_count": 4,
   "metadata": {},
   "outputs": [
    {
     "data": {
      "text/plain": [
       "13"
      ]
     },
     "execution_count": 4,
     "metadata": {},
     "output_type": "execute_result"
    }
   ],
   "source": [
    "cal_textTwist([\"dote\", \"dotes\", \"toes\", \"set\", \"dot\", \"dots\", \"sted\"], \"tossed\")"
   ]
  },
  {
   "cell_type": "code",
   "execution_count": null,
   "metadata": {},
   "outputs": [],
   "source": []
  }
 ],
 "metadata": {
  "kernelspec": {
   "display_name": "learn-env",
   "language": "python",
   "name": "learn-env"
  },
  "language_info": {
   "codemirror_mode": {
    "name": "ipython",
    "version": 3
   },
   "file_extension": ".py",
   "mimetype": "text/x-python",
   "name": "python",
   "nbconvert_exporter": "python",
   "pygments_lexer": "ipython3",
   "version": "3.8.5"
  }
 },
 "nbformat": 4,
 "nbformat_minor": 4
}
