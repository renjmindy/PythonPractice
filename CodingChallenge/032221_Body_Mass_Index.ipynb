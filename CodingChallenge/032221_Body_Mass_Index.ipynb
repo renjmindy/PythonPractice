{
 "cells": [
  {
   "cell_type": "markdown",
   "metadata": {},
   "source": [
    "Body Mass Index (BMI) is found by taking your weight in kilograms and dividing by the square of your height in meters. The BMI categories are:\n",
    "\n",
    "Underweight: <18.5\n",
    "\n",
    "Normal weight: 18.5–24.9\n",
    "\n",
    "Overweight: 25–29.9\n",
    "\n",
    "Obesity: BMI of 30 or greater\n",
    "\n",
    "Create a function that will accept weight and height (in kilos, pounds, meters, or inches) and return the BMI and the associated category. Round the BMI to the nearest tenth.\n",
    "\n",
    "**Examples**\n",
    "\n",
    "BMI(\"205 pounds\", \"73 inches\") ➞ \"27.0 Overweight\"\n",
    "\n",
    "BMI(\"55 kilos\", \"1.65 meters\") ➞ \"20.2 Normal weight\"\n",
    "\n",
    "BMI(\"154 pounds\", \"2 meters\") ➞ \"17.5 Underweight\"\n",
    "\n",
    "**Notes**\n",
    "\n",
    "1 inch = 0.0254 meter\n",
    "\n",
    "1 pound = 0.453592 kilo"
   ]
  },
  {
   "cell_type": "code",
   "execution_count": 1,
   "metadata": {},
   "outputs": [],
   "source": [
    "def cal_bmi(s1, s2):\n",
    "    \n",
    "    s1list = list(s1.split(' '))\n",
    "    s2list = list(s2.split(' '))\n",
    "    bmi = 0\n",
    "    \n",
    "    if s1list[-1] == 'kilos' and s2list[-1] == 'meters':\n",
    "        bmi = float(s1list[0]) / pow(float(s2list[0]), 2)\n",
    "    elif s1list[-1] == 'pounds' and s2list[-1] == 'meters':\n",
    "        bmi = (float(s1list[0]) * 0.45) / pow(float(s2list[0]), 2)\n",
    "    elif s1list[-1] == 'kilos' and s2list[-1] == 'inches':\n",
    "        bmi = float(s1list[0]) / pow(float(s2list[0])*2.54*(1./100), 2)\n",
    "    elif s1list[-1] == 'pounds' and s2list[-1] == 'inches':\n",
    "        bmi = (float(s1list[0]) * 0.45) / pow(float(s2list[0])*2.54*(1./100), 2)\n",
    "    else:\n",
    "        bmi = 0\n",
    "        \n",
    "    #print(bmi)\n",
    "        \n",
    "    if bmi > 0 and bmi <= 18.5:\n",
    "        return 'Underweight'\n",
    "    elif bmi > 18.5 and bmi <= 24.9:\n",
    "        return 'Normal weight'\n",
    "    elif bmi > 24.9 and bmi <= 29.9:\n",
    "        return 'Overweight'\n",
    "    elif bmi > 29.9:\n",
    "        return 'Obesity'\n",
    "    else:\n",
    "        return 'something must be wrong!!!'"
   ]
  },
  {
   "cell_type": "code",
   "execution_count": 2,
   "metadata": {},
   "outputs": [
    {
     "data": {
      "text/plain": [
       "'Overweight'"
      ]
     },
     "execution_count": 2,
     "metadata": {},
     "output_type": "execute_result"
    }
   ],
   "source": [
    "cal_bmi(\"205 pounds\", \"73 inches\") "
   ]
  },
  {
   "cell_type": "code",
   "execution_count": 3,
   "metadata": {},
   "outputs": [
    {
     "data": {
      "text/plain": [
       "'Normal weight'"
      ]
     },
     "execution_count": 3,
     "metadata": {},
     "output_type": "execute_result"
    }
   ],
   "source": [
    "cal_bmi(\"55 kilos\", \"1.65 meters\") "
   ]
  },
  {
   "cell_type": "code",
   "execution_count": 4,
   "metadata": {},
   "outputs": [
    {
     "data": {
      "text/plain": [
       "'Underweight'"
      ]
     },
     "execution_count": 4,
     "metadata": {},
     "output_type": "execute_result"
    }
   ],
   "source": [
    "cal_bmi(\"154 pounds\", \"2 meters\") "
   ]
  },
  {
   "cell_type": "code",
   "execution_count": null,
   "metadata": {},
   "outputs": [],
   "source": []
  }
 ],
 "metadata": {
  "kernelspec": {
   "display_name": "learn-env",
   "language": "python",
   "name": "learn-env"
  },
  "language_info": {
   "codemirror_mode": {
    "name": "ipython",
    "version": 3
   },
   "file_extension": ".py",
   "mimetype": "text/x-python",
   "name": "python",
   "nbconvert_exporter": "python",
   "pygments_lexer": "ipython3",
   "version": "3.8.5"
  }
 },
 "nbformat": 4,
 "nbformat_minor": 4
}
