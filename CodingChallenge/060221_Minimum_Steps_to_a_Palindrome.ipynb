{
 "cells": [
  {
   "cell_type": "markdown",
   "metadata": {},
   "source": [
    "Given an incomplete palindrome as a string, return the minimum letters needed to be added on to the end to make the string a palindrome.\n",
    "\n",
    "**Examples**\n",
    "\n",
    "minPalindromeSteps(\"race\") ➞ 3\n",
    "\n",
    "// Add 3 letters: \"car\" to make \"racecar\"\n",
    "\n",
    "minPalindromeSteps(\"mada\") ➞ 1\n",
    "\n",
    "// Add 1 letter: \"m\" to make \"madam\"\n",
    "\n",
    "minPalindromeSteps(\"mirror\") ➞ 3\n",
    "\n",
    "// Add 3 letters: \"rim\" to make \"mirrorrim\"\n",
    "\n",
    "**Notes**\n",
    "\n",
    "Trivially, words which are already palindromes should return 0."
   ]
  },
  {
   "cell_type": "code",
   "execution_count": 1,
   "metadata": {},
   "outputs": [],
   "source": [
    "def cal_minSteps(s):\n",
    "    \n",
    "    slist = list(s)\n",
    "    counter = 0\n",
    "    \n",
    "    for i in range(0, len(slist), 1):\n",
    "        rlist = slist[i:]\n",
    "        if rlist != rlist[::-1]:\n",
    "            counter += 1\n",
    "        else:\n",
    "            break\n",
    "            \n",
    "    return counter"
   ]
  },
  {
   "cell_type": "code",
   "execution_count": 2,
   "metadata": {},
   "outputs": [
    {
     "data": {
      "text/plain": [
       "3"
      ]
     },
     "execution_count": 2,
     "metadata": {},
     "output_type": "execute_result"
    }
   ],
   "source": [
    "cal_minSteps(\"race\")"
   ]
  },
  {
   "cell_type": "code",
   "execution_count": 3,
   "metadata": {},
   "outputs": [
    {
     "data": {
      "text/plain": [
       "1"
      ]
     },
     "execution_count": 3,
     "metadata": {},
     "output_type": "execute_result"
    }
   ],
   "source": [
    "cal_minSteps(\"mada\")"
   ]
  },
  {
   "cell_type": "code",
   "execution_count": 4,
   "metadata": {},
   "outputs": [
    {
     "data": {
      "text/plain": [
       "3"
      ]
     },
     "execution_count": 4,
     "metadata": {},
     "output_type": "execute_result"
    }
   ],
   "source": [
    "cal_minSteps(\"mirror\")"
   ]
  },
  {
   "cell_type": "code",
   "execution_count": null,
   "metadata": {},
   "outputs": [],
   "source": []
  }
 ],
 "metadata": {
  "kernelspec": {
   "display_name": "learn-env",
   "language": "python",
   "name": "learn-env"
  },
  "language_info": {
   "codemirror_mode": {
    "name": "ipython",
    "version": 3
   },
   "file_extension": ".py",
   "mimetype": "text/x-python",
   "name": "python",
   "nbconvert_exporter": "python",
   "pygments_lexer": "ipython3",
   "version": "3.8.5"
  }
 },
 "nbformat": 4,
 "nbformat_minor": 4
}
