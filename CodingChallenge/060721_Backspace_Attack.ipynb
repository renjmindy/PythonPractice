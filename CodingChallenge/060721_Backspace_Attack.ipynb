{
 "cells": [
  {
   "cell_type": "markdown",
   "metadata": {},
   "source": [
    "Suppose a hash # represents the BACKSPACE key being pressed. Write a function that transforms a string containing # into a string without any #.\n",
    "\n",
    "**Examples**\n",
    "\n",
    "erase(\"he##l#hel#llo\") ➞ \"hello\"\n",
    "\n",
    "erase(\"major# spar##ks\") ➞ \"majo spks\"\n",
    "\n",
    "erase(\"si###t boy\") ➞ \"t boy\"\n",
    "\n",
    "erase(\"####\") ➞ \"\"\n",
    "\n",
    "**Notes**\n",
    "\n",
    "In addition to characters, backspaces can also remove whitespaces.\n",
    "\n",
    "If the number of hashes exceeds the previous characters, remove those previous characters entirely (see example #3).\n",
    "\n",
    "If there only exist backspaces, return an empty string"
   ]
  },
  {
   "cell_type": "code",
   "execution_count": 1,
   "metadata": {},
   "outputs": [],
   "source": [
    "def cal_backspaceAttack(s):\n",
    "    \n",
    "    slist = list(s)\n",
    "    nlist = []\n",
    "    \n",
    "    for i, j in enumerate(slist):\n",
    "        if j != '#':\n",
    "            nlist.append(j)\n",
    "        else:\n",
    "            if nlist:\n",
    "                del nlist[-1]\n",
    "            \n",
    "    return ''.join(nlist)"
   ]
  },
  {
   "cell_type": "code",
   "execution_count": 2,
   "metadata": {},
   "outputs": [
    {
     "data": {
      "text/plain": [
       "'hello'"
      ]
     },
     "execution_count": 2,
     "metadata": {},
     "output_type": "execute_result"
    }
   ],
   "source": [
    "cal_backspaceAttack(\"he##l#hel#llo\")"
   ]
  },
  {
   "cell_type": "code",
   "execution_count": 3,
   "metadata": {},
   "outputs": [
    {
     "data": {
      "text/plain": [
       "'majo spks'"
      ]
     },
     "execution_count": 3,
     "metadata": {},
     "output_type": "execute_result"
    }
   ],
   "source": [
    "cal_backspaceAttack(\"major# spar##ks\")"
   ]
  },
  {
   "cell_type": "code",
   "execution_count": 4,
   "metadata": {},
   "outputs": [
    {
     "data": {
      "text/plain": [
       "'t boy'"
      ]
     },
     "execution_count": 4,
     "metadata": {},
     "output_type": "execute_result"
    }
   ],
   "source": [
    "cal_backspaceAttack(\"si###t boy\")"
   ]
  },
  {
   "cell_type": "code",
   "execution_count": 5,
   "metadata": {},
   "outputs": [
    {
     "data": {
      "text/plain": [
       "''"
      ]
     },
     "execution_count": 5,
     "metadata": {},
     "output_type": "execute_result"
    }
   ],
   "source": [
    "cal_backspaceAttack(\"####\")"
   ]
  },
  {
   "cell_type": "code",
   "execution_count": null,
   "metadata": {},
   "outputs": [],
   "source": []
  }
 ],
 "metadata": {
  "kernelspec": {
   "display_name": "learn-env",
   "language": "python",
   "name": "learn-env"
  },
  "language_info": {
   "codemirror_mode": {
    "name": "ipython",
    "version": 3
   },
   "file_extension": ".py",
   "mimetype": "text/x-python",
   "name": "python",
   "nbconvert_exporter": "python",
   "pygments_lexer": "ipython3",
   "version": "3.8.5"
  }
 },
 "nbformat": 4,
 "nbformat_minor": 4
}
