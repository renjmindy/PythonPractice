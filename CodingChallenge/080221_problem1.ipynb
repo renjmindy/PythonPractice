{
 "cells": [
  {
   "cell_type": "markdown",
   "id": "technological-balloon",
   "metadata": {},
   "source": [
    "Given two Strings A and B. Find the length of the Longest Common Subsequence (LCS) of the given Strings. Input: A = Minneapolis, B = Minnesota."
   ]
  },
  {
   "cell_type": "code",
   "execution_count": 1,
   "id": "monthly-dollar",
   "metadata": {},
   "outputs": [],
   "source": [
    "def cal_longestS(s1, s2):\n",
    "    \n",
    "    maxLen = max(len(s1), len(s2))\n",
    "    i = 0\n",
    "    \n",
    "    while i < maxLen:\n",
    "        if s1[0:i+1] != s2[0:i+1]:\n",
    "            return s1[0:i]\n",
    "        i += 1"
   ]
  },
  {
   "cell_type": "code",
   "execution_count": 2,
   "id": "traditional-aluminum",
   "metadata": {},
   "outputs": [
    {
     "data": {
      "text/plain": [
       "'Minne'"
      ]
     },
     "execution_count": 2,
     "metadata": {},
     "output_type": "execute_result"
    }
   ],
   "source": [
    "cal_longestS('Minneapolis', 'Minnesota')"
   ]
  },
  {
   "cell_type": "code",
   "execution_count": null,
   "id": "confirmed-japan",
   "metadata": {},
   "outputs": [],
   "source": []
  }
 ],
 "metadata": {
  "kernelspec": {
   "display_name": "learn-env",
   "language": "python",
   "name": "learn-env"
  },
  "language_info": {
   "codemirror_mode": {
    "name": "ipython",
    "version": 3
   },
   "file_extension": ".py",
   "mimetype": "text/x-python",
   "name": "python",
   "nbconvert_exporter": "python",
   "pygments_lexer": "ipython3",
   "version": "3.8.8"
  }
 },
 "nbformat": 4,
 "nbformat_minor": 5
}
