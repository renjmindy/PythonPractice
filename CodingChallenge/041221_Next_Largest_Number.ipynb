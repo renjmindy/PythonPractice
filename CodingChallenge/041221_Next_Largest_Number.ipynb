{
 "cells": [
  {
   "cell_type": "markdown",
   "metadata": {},
   "source": [
    "Write a function that returns the next number that can be created from the same digits as the input.\n",
    "\n",
    "**Examples**\n",
    "\n",
    "nextNumber(19) ➞ 91\n",
    "\n",
    "nextNumber(3542) ➞ 4235\n",
    "\n",
    "nextNumber(5432) ➞ 5432\n",
    "\n",
    "nextNumber(58943) ➞ 59348\n",
    "\n",
    "**Notes**\n",
    "\n",
    "If no larger number can be formed, return the number itself.\n",
    "\n",
    "Bonus: See if you can do this without generating all digit permutations."
   ]
  },
  {
   "cell_type": "code",
   "execution_count": 1,
   "metadata": {},
   "outputs": [],
   "source": [
    "def cal_nextNumber(n):\n",
    "    \n",
    "    nlist = list(str(n))\n",
    "    snlist = sorted(nlist)\n",
    "    \n",
    "    current = nlist[0]\n",
    "    nextNum = max(nlist)\n",
    "    \n",
    "    if current == nextNum:\n",
    "        return n\n",
    "    elif nlist[1] == nextNum:\n",
    "        fNum = snlist[snlist.index(current)+1]\n",
    "        snlist.remove(fNum)\n",
    "        return int(fNum + ''.join(snlist))\n",
    "    else:\n",
    "        fNum = snlist[snlist.index(current)]\n",
    "        sNum = snlist[snlist.index(nextNum)] \n",
    "        snlist.remove(current)\n",
    "        snlist.remove(nextNum)\n",
    "        return int(fNum + sNum + ''.join(snlist))"
   ]
  },
  {
   "cell_type": "code",
   "execution_count": 2,
   "metadata": {},
   "outputs": [
    {
     "data": {
      "text/plain": [
       "91"
      ]
     },
     "execution_count": 2,
     "metadata": {},
     "output_type": "execute_result"
    }
   ],
   "source": [
    "cal_nextNumber(19)"
   ]
  },
  {
   "cell_type": "code",
   "execution_count": 3,
   "metadata": {},
   "outputs": [
    {
     "data": {
      "text/plain": [
       "4235"
      ]
     },
     "execution_count": 3,
     "metadata": {},
     "output_type": "execute_result"
    }
   ],
   "source": [
    "cal_nextNumber(3542)"
   ]
  },
  {
   "cell_type": "code",
   "execution_count": 4,
   "metadata": {},
   "outputs": [
    {
     "data": {
      "text/plain": [
       "5432"
      ]
     },
     "execution_count": 4,
     "metadata": {},
     "output_type": "execute_result"
    }
   ],
   "source": [
    "cal_nextNumber(5432)"
   ]
  },
  {
   "cell_type": "code",
   "execution_count": 5,
   "metadata": {},
   "outputs": [
    {
     "data": {
      "text/plain": [
       "59348"
      ]
     },
     "execution_count": 5,
     "metadata": {},
     "output_type": "execute_result"
    }
   ],
   "source": [
    "cal_nextNumber(58943)"
   ]
  },
  {
   "cell_type": "code",
   "execution_count": null,
   "metadata": {},
   "outputs": [],
   "source": []
  }
 ],
 "metadata": {
  "kernelspec": {
   "display_name": "learn-env",
   "language": "python",
   "name": "learn-env"
  },
  "language_info": {
   "codemirror_mode": {
    "name": "ipython",
    "version": 3
   },
   "file_extension": ".py",
   "mimetype": "text/x-python",
   "name": "python",
   "nbconvert_exporter": "python",
   "pygments_lexer": "ipython3",
   "version": "3.8.5"
  }
 },
 "nbformat": 4,
 "nbformat_minor": 4
}
