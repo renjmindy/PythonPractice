{
 "cells": [
  {
   "cell_type": "markdown",
   "metadata": {},
   "source": [
    "Write a function that mimics the following described arithmetic operations.\n",
    "\n",
    "Starting with either 3 or 5 and given these operations:\n",
    "\n",
    "add 5\n",
    "\n",
    "multiply by 3\n",
    "\n",
    "You should say if it is possible to reach the target number n.\n",
    "\n",
    "**Examples**\n",
    "\n",
    "only5and3(14) ➞ true\n",
    "\n",
    "// 14 = 3*3 + 5\n",
    "\n",
    "only5and3(25) ➞ true\n",
    "\n",
    "// 25 = 5+5+5+5+5\n",
    "\n",
    "only5and3(7) ➞ false\n",
    "\n",
    "// There exists no path to the target number 7\n",
    "\n",
    "**Notes**\n",
    "\n",
    "Only addition and multiplication arithmetic operations are allowed.\n",
    "\n",
    "You can solve this problem recursively or algebraically."
   ]
  },
  {
   "cell_type": "code",
   "execution_count": 1,
   "metadata": {},
   "outputs": [],
   "source": [
    "def cal_fiveANDthree(n):\n",
    "    \n",
    "    while n > 1:\n",
    "        \n",
    "        if n % 3 > 0:\n",
    "            n -= 5\n",
    "            #print(n)\n",
    "        else:\n",
    "            n /= 3\n",
    "            #print(n)\n",
    "            \n",
    "    if n == 1 or n == 0:\n",
    "        return True\n",
    "    else:\n",
    "        return False"
   ]
  },
  {
   "cell_type": "code",
   "execution_count": 2,
   "metadata": {},
   "outputs": [
    {
     "data": {
      "text/plain": [
       "True"
      ]
     },
     "execution_count": 2,
     "metadata": {},
     "output_type": "execute_result"
    }
   ],
   "source": [
    "cal_fiveANDthree(14)"
   ]
  },
  {
   "cell_type": "code",
   "execution_count": 3,
   "metadata": {},
   "outputs": [
    {
     "data": {
      "text/plain": [
       "True"
      ]
     },
     "execution_count": 3,
     "metadata": {},
     "output_type": "execute_result"
    }
   ],
   "source": [
    "cal_fiveANDthree(25)"
   ]
  },
  {
   "cell_type": "code",
   "execution_count": 4,
   "metadata": {},
   "outputs": [
    {
     "data": {
      "text/plain": [
       "False"
      ]
     },
     "execution_count": 4,
     "metadata": {},
     "output_type": "execute_result"
    }
   ],
   "source": [
    "cal_fiveANDthree(7)"
   ]
  },
  {
   "cell_type": "code",
   "execution_count": null,
   "metadata": {},
   "outputs": [],
   "source": []
  }
 ],
 "metadata": {
  "kernelspec": {
   "display_name": "learn-env",
   "language": "python",
   "name": "learn-env"
  },
  "language_info": {
   "codemirror_mode": {
    "name": "ipython",
    "version": 3
   },
   "file_extension": ".py",
   "mimetype": "text/x-python",
   "name": "python",
   "nbconvert_exporter": "python",
   "pygments_lexer": "ipython3",
   "version": "3.8.5"
  }
 },
 "nbformat": 4,
 "nbformat_minor": 4
}
