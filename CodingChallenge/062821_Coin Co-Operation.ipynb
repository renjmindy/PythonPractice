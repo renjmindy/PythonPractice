{
 "cells": [
  {
   "cell_type": "markdown",
   "metadata": {},
   "source": [
    "Let's say that there exists a machine that gives out free coins, but with a twist!\n",
    "\n",
    "Separating two people is a wall, and this machine is placed in such a way that both people are able to access it. Spending a coin in this machine will give the person on the other side 3 coins and vice versa.\n",
    "\n",
    "If both people continually spend coins for each other (SHARING), then they'll both gain a net profit of 2 coins per turn. However, there is always the possibility for someone to act selfishly (STEALING): they spend no coins, yet they still receive the generous 3 coin gift from the other person!\n",
    "\n",
    "Here's an example of Red taking advantage of Green! Red chose to betray\n",
    "\n",
    "**The Challenge**\n",
    "\n",
    "Assuming that both people start with 3 coins each, create a function that calculates both people's final number of coins. You will be given two arrays of strings, with each string being the words \"share\" or \"steal\".\n",
    "\n",
    "**Examples**\n",
    "\n",
    "getCoinBalances([\"share\"], [\"share\"]) ➞ [5, 5]\n",
    "\n",
    "// Both people spend one coin, and receive 3 coins each.\n",
    "\n",
    "getCoinBalances([\"steal\"], [\"share\"]) ➞ [6, 2]\n",
    "\n",
    "// Person 1 gains 3 coins, while person 2 loses a coin.\n",
    "\n",
    "getCoinBalances([\"steal\"], [\"steal\"]) ➞ [3, 3]\n",
    "\n",
    "// Neither person spends any coins and so no one gets rewarded.\n",
    "\n",
    "getCoinBalances([\"share\", \"share\", \"share\"], [\"steal\", \"share\", \"steal\"]) ➞ [3, 11]\n",
    "\n",
    "**Notes**\n",
    "\n",
    "No tests will include a negative number of coins.\n",
    "\n",
    "All words will be given in lowercase.\n",
    "\n",
    "This challenge is adapted from a famous game theory example called the Prisoner's Dilemma."
   ]
  },
  {
   "cell_type": "code",
   "execution_count": 1,
   "metadata": {},
   "outputs": [],
   "source": [
    "def cal_coinexchange(arr1, arr2):\n",
    "    \n",
    "    coin1 = []\n",
    "    coin2 = []\n",
    "    \n",
    "    for i, j in enumerate(arr1):\n",
    "        if j == 'share' and arr2[i] == j:\n",
    "            coin1.append(2)\n",
    "            coin2.append(2)\n",
    "        elif j == 'share' and arr2[i] != j:\n",
    "                coin1.append(-1)\n",
    "                coin2.append(3)\n",
    "        else:\n",
    "            if j == arr2[i]:\n",
    "                coin1.append(0)\n",
    "                coin2.append(0)\n",
    "            else:\n",
    "                coin1.append(3)\n",
    "                coin2.append(-1)\n",
    "                \n",
    "    return [sum(coin1)+3, sum(coin2)+3]             "
   ]
  },
  {
   "cell_type": "code",
   "execution_count": 2,
   "metadata": {},
   "outputs": [
    {
     "data": {
      "text/plain": [
       "[5, 5]"
      ]
     },
     "execution_count": 2,
     "metadata": {},
     "output_type": "execute_result"
    }
   ],
   "source": [
    "cal_coinexchange([\"share\"], [\"share\"])"
   ]
  },
  {
   "cell_type": "code",
   "execution_count": 3,
   "metadata": {},
   "outputs": [
    {
     "data": {
      "text/plain": [
       "[6, 2]"
      ]
     },
     "execution_count": 3,
     "metadata": {},
     "output_type": "execute_result"
    }
   ],
   "source": [
    "cal_coinexchange([\"steal\"], [\"share\"])"
   ]
  },
  {
   "cell_type": "code",
   "execution_count": 4,
   "metadata": {},
   "outputs": [
    {
     "data": {
      "text/plain": [
       "[3, 3]"
      ]
     },
     "execution_count": 4,
     "metadata": {},
     "output_type": "execute_result"
    }
   ],
   "source": [
    "cal_coinexchange([\"steal\"], [\"steal\"])"
   ]
  },
  {
   "cell_type": "code",
   "execution_count": 5,
   "metadata": {},
   "outputs": [
    {
     "data": {
      "text/plain": [
       "[3, 11]"
      ]
     },
     "execution_count": 5,
     "metadata": {},
     "output_type": "execute_result"
    }
   ],
   "source": [
    "cal_coinexchange([\"share\", \"share\", \"share\"], [\"steal\", \"share\", \"steal\"])"
   ]
  },
  {
   "cell_type": "code",
   "execution_count": null,
   "metadata": {},
   "outputs": [],
   "source": []
  }
 ],
 "metadata": {
  "kernelspec": {
   "display_name": "learn-env",
   "language": "python",
   "name": "learn-env"
  },
  "language_info": {
   "codemirror_mode": {
    "name": "ipython",
    "version": 3
   },
   "file_extension": ".py",
   "mimetype": "text/x-python",
   "name": "python",
   "nbconvert_exporter": "python",
   "pygments_lexer": "ipython3",
   "version": "3.8.5"
  }
 },
 "nbformat": 4,
 "nbformat_minor": 4
}
