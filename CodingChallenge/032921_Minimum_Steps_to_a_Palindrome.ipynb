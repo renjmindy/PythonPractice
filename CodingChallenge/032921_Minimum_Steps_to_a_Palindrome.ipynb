{
 "cells": [
  {
   "cell_type": "markdown",
   "metadata": {},
   "source": [
    "Given an incomplete palindrome as a string, return the minimum letters needed to be added on to the end to make the string a palindrome.\n",
    "\n",
    "**Examples**\n",
    "\n",
    "minPalindromeSteps(\"race\") ➞ 3\n",
    "\n",
    "// Add 3 letters: \"car\" to make \"racecar\"\n",
    "\n",
    "minPalindromeSteps(\"mada\") ➞ 1\n",
    "\n",
    "// Add 1 letter: \"m\" to make \"madam\"\n",
    "\n",
    "minPalindromeSteps(\"mirror\") ➞ 3\n",
    "\n",
    "// Add 3 letters: \"rim\" to make \"mirrorrim\"\n",
    "\n",
    "**Notes**\n",
    "\n",
    "Trivially, words that are already palindromes should return 0."
   ]
  },
  {
   "cell_type": "code",
   "execution_count": 1,
   "metadata": {},
   "outputs": [],
   "source": [
    "def cal_minSteps(s):\n",
    "    \n",
    "    slist = list(s)\n",
    "    nlist = slist.copy()\n",
    "    \n",
    "    if slist == slist[::-1]:\n",
    "        return 0\n",
    "    \n",
    "    for i, j in enumerate(slist):\n",
    "        nlist.remove(j)\n",
    "        if nlist == nlist[::-1]:\n",
    "            return i + 1\n",
    "    "
   ]
  },
  {
   "cell_type": "code",
   "execution_count": 2,
   "metadata": {},
   "outputs": [
    {
     "data": {
      "text/plain": [
       "3"
      ]
     },
     "execution_count": 2,
     "metadata": {},
     "output_type": "execute_result"
    }
   ],
   "source": [
    "cal_minSteps(\"race\")"
   ]
  },
  {
   "cell_type": "code",
   "execution_count": 3,
   "metadata": {},
   "outputs": [
    {
     "data": {
      "text/plain": [
       "1"
      ]
     },
     "execution_count": 3,
     "metadata": {},
     "output_type": "execute_result"
    }
   ],
   "source": [
    "cal_minSteps(\"mada\")"
   ]
  },
  {
   "cell_type": "code",
   "execution_count": 4,
   "metadata": {},
   "outputs": [
    {
     "data": {
      "text/plain": [
       "3"
      ]
     },
     "execution_count": 4,
     "metadata": {},
     "output_type": "execute_result"
    }
   ],
   "source": [
    "cal_minSteps(\"mirror\")"
   ]
  },
  {
   "cell_type": "code",
   "execution_count": null,
   "metadata": {},
   "outputs": [],
   "source": []
  }
 ],
 "metadata": {
  "kernelspec": {
   "display_name": "learn-env",
   "language": "python",
   "name": "learn-env"
  },
  "language_info": {
   "codemirror_mode": {
    "name": "ipython",
    "version": 3
   },
   "file_extension": ".py",
   "mimetype": "text/x-python",
   "name": "python",
   "nbconvert_exporter": "python",
   "pygments_lexer": "ipython3",
   "version": "3.8.5"
  }
 },
 "nbformat": 4,
 "nbformat_minor": 4
}
