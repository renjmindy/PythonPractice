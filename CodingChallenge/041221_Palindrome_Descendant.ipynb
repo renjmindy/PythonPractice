{
 "cells": [
  {
   "cell_type": "markdown",
   "metadata": {},
   "source": [
    "A number may not be a palindrome, but its descendant can be. A number's direct child is created by summing each pair of adjacent digits to create the digits of the next number.\n",
    "\n",
    "For instance, 123312 is not a palindrome, but its next child 363 is, where: 3 = 1 + 2; 6 = 3 + 3; 3 = 1 + 2.\n",
    "\n",
    "Create a function that returns true if the number itself is a palindrome or any of its descendants down to the first 2 digit number (a 1-digit number is trivially a palindrome).\n",
    "\n",
    "**Examples**\n",
    "\n",
    "palindromedescendant(11211230) ➞ true\n",
    "\n",
    "// 11211230 ➞ 2333 ➞ 56 ➞ 11\n",
    "\n",
    "palindromeDescendant(13001120) ➞ true\n",
    "\n",
    "// 13001120 ➞ 4022 ➞ 44\n",
    "\n",
    "palindromeDescendant(23336014) ➞ true\n",
    "\n",
    "// 23336014 ➞ 5665\n",
    "\n",
    "palindromeDescendant(11) ➞ true\n",
    "\n",
    "// Number itself is a palindrome.\n",
    "\n",
    "**Notes**\n",
    "\n",
    "Numbers will always have an even number of digits."
   ]
  },
  {
   "cell_type": "code",
   "execution_count": 1,
   "metadata": {},
   "outputs": [],
   "source": [
    "def cal_palindrome(n):\n",
    "    \n",
    "    nlist = list(str(n))\n",
    "    \n",
    "    if len(nlist) % 2 != 0:\n",
    "        return False\n",
    "    else:\n",
    "        if nlist == nlist[::-1]:\n",
    "            return True\n",
    "        else:\n",
    "            msize = len(nlist)\n",
    "            while msize >= 2:\n",
    "                mlist = []\n",
    "                for i in range(0, len(nlist), 2):\n",
    "                    mlist.append(int(nlist[i])+int(nlist[i+1]))\n",
    "        \n",
    "                msize = len(mlist)\n",
    "                nlist = mlist.copy()\n",
    "                #print(msize, nlist)\n",
    "        \n",
    "                if nlist == nlist[::-1]:\n",
    "                    return True\n",
    "        \n",
    "            return False    "
   ]
  },
  {
   "cell_type": "code",
   "execution_count": 2,
   "metadata": {},
   "outputs": [
    {
     "data": {
      "text/plain": [
       "True"
      ]
     },
     "execution_count": 2,
     "metadata": {},
     "output_type": "execute_result"
    }
   ],
   "source": [
    "cal_palindrome(11211230)"
   ]
  },
  {
   "cell_type": "code",
   "execution_count": 3,
   "metadata": {},
   "outputs": [
    {
     "data": {
      "text/plain": [
       "True"
      ]
     },
     "execution_count": 3,
     "metadata": {},
     "output_type": "execute_result"
    }
   ],
   "source": [
    "cal_palindrome(13001120)"
   ]
  },
  {
   "cell_type": "code",
   "execution_count": 4,
   "metadata": {},
   "outputs": [
    {
     "data": {
      "text/plain": [
       "True"
      ]
     },
     "execution_count": 4,
     "metadata": {},
     "output_type": "execute_result"
    }
   ],
   "source": [
    "cal_palindrome(23336014)"
   ]
  },
  {
   "cell_type": "code",
   "execution_count": 5,
   "metadata": {},
   "outputs": [
    {
     "data": {
      "text/plain": [
       "True"
      ]
     },
     "execution_count": 5,
     "metadata": {},
     "output_type": "execute_result"
    }
   ],
   "source": [
    "cal_palindrome(11)"
   ]
  },
  {
   "cell_type": "code",
   "execution_count": null,
   "metadata": {},
   "outputs": [],
   "source": []
  }
 ],
 "metadata": {
  "kernelspec": {
   "display_name": "learn-env",
   "language": "python",
   "name": "learn-env"
  },
  "language_info": {
   "codemirror_mode": {
    "name": "ipython",
    "version": 3
   },
   "file_extension": ".py",
   "mimetype": "text/x-python",
   "name": "python",
   "nbconvert_exporter": "python",
   "pygments_lexer": "ipython3",
   "version": "3.8.5"
  }
 },
 "nbformat": 4,
 "nbformat_minor": 4
}
