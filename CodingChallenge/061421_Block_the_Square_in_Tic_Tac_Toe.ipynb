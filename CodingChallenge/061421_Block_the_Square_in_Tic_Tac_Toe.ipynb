{
 "cells": [
  {
   "cell_type": "markdown",
   "metadata": {},
   "source": [
    "Create a function that returns a number which can block the player from reaching 3 in a row in a game of Tic Tac Toe. The number given as an argument will correspond to a grid of Tic Tac Toe: topleft is 0, topright is 2, bottomleft is 6, and bottomright is 8.\n",
    "\n",
    "Create a function that takes two numbers a, b and returns another number.\n",
    "This number should be the final one in a line to block the player from winning.\n",
    "\n",
    "**Examples**\n",
    "\n",
    "blockPlayer(0, 3) ➞ 6\n",
    "\n",
    "blockPlayer(0, 4) ➞ 8\n",
    "\n",
    "blockPlayer(3, 5) ➞ 4\n",
    "\n",
    "**Notes**\n",
    "\n",
    "The values given will always have two filled squares in a line."
   ]
  },
  {
   "cell_type": "code",
   "execution_count": 1,
   "metadata": {},
   "outputs": [],
   "source": [
    "def cal_blockSquare(a, b):\n",
    "    \n",
    "    tlist = [0, 1, 2]\n",
    "    mlist = [3, 4, 5]\n",
    "    blist = [6, 7, 8]\n",
    "    llist = [0, 3, 6]\n",
    "    nlist = [1, 4, 7]\n",
    "    rlist = [2, 5, 8]\n",
    "    dlist = [0, 4, 8]\n",
    "    clist = [2, 4, 6]\n",
    "    \n",
    "    if a in tlist and b in tlist:\n",
    "        tlist.remove(a)\n",
    "        tlist.remove(b)\n",
    "        return tlist[0]\n",
    "    elif a in mlist and b in mlist:\n",
    "        mlist.remove(a)\n",
    "        mlist.remove(b)\n",
    "        return mlist[0]\n",
    "    elif a in blist and b in blist:\n",
    "        blist.remove(a)\n",
    "        blist.remove(b)\n",
    "        return blist[0]\n",
    "    elif a in llist and b in llist:\n",
    "        llist.remove(a)\n",
    "        llist.remove(b)\n",
    "        return llist[0]\n",
    "    elif a in nlist and b in nlist:\n",
    "        nlist.remove(a)\n",
    "        nlist.remove(b)\n",
    "        return nlist[0]\n",
    "    elif a in rlist and b in rlist:\n",
    "        rlist.remove(a)\n",
    "        rlist.remove(b)\n",
    "        return rlist[0]\n",
    "    elif a in dlist and b in dlist:\n",
    "        dlist.remove(a)\n",
    "        dlist.remove(b)\n",
    "        return dlist[0]\n",
    "    elif a in clist and b in clist:\n",
    "        clist.remove(a)\n",
    "        clist.remove(b)\n",
    "        return clist[0]\n",
    "    else:\n",
    "        return 'n/a'"
   ]
  },
  {
   "cell_type": "code",
   "execution_count": 2,
   "metadata": {},
   "outputs": [
    {
     "data": {
      "text/plain": [
       "6"
      ]
     },
     "execution_count": 2,
     "metadata": {},
     "output_type": "execute_result"
    }
   ],
   "source": [
    "cal_blockSquare(0, 3)"
   ]
  },
  {
   "cell_type": "code",
   "execution_count": 3,
   "metadata": {},
   "outputs": [
    {
     "data": {
      "text/plain": [
       "8"
      ]
     },
     "execution_count": 3,
     "metadata": {},
     "output_type": "execute_result"
    }
   ],
   "source": [
    "cal_blockSquare(0, 4)"
   ]
  },
  {
   "cell_type": "code",
   "execution_count": 4,
   "metadata": {},
   "outputs": [
    {
     "data": {
      "text/plain": [
       "4"
      ]
     },
     "execution_count": 4,
     "metadata": {},
     "output_type": "execute_result"
    }
   ],
   "source": [
    "cal_blockSquare(3, 5)"
   ]
  },
  {
   "cell_type": "code",
   "execution_count": null,
   "metadata": {},
   "outputs": [],
   "source": []
  }
 ],
 "metadata": {
  "kernelspec": {
   "display_name": "learn-env",
   "language": "python",
   "name": "learn-env"
  },
  "language_info": {
   "codemirror_mode": {
    "name": "ipython",
    "version": 3
   },
   "file_extension": ".py",
   "mimetype": "text/x-python",
   "name": "python",
   "nbconvert_exporter": "python",
   "pygments_lexer": "ipython3",
   "version": "3.8.5"
  }
 },
 "nbformat": 4,
 "nbformat_minor": 4
}
