{
 "cells": [
  {
   "cell_type": "markdown",
   "metadata": {},
   "source": [
    "Write a program that accepts three numbers from the user and prints \"increasing\" if the numbers are in increasing order, \"decreasing\" if the numbers are in decreasing order, and \"Neither increasing or decreasing order\" otherwise. Go to the editor\n",
    "\n",
    "**Test Data**\n",
    "\n",
    "Input first number: 1524\n",
    "\n",
    "Input second number: 2345\n",
    "\n",
    "Input third number: 3321\n",
    "\n",
    "**Expected Output :**\n",
    "\n",
    "Increasing order"
   ]
  },
  {
   "cell_type": "code",
   "execution_count": 1,
   "metadata": {},
   "outputs": [],
   "source": [
    "def cal_orderTrend(n):\n",
    "    \n",
    "    nlist = list(str(n))\n",
    "    slist = []\n",
    "    \n",
    "    for i in range(0, len(nlist)-1, 1):\n",
    "        if int(nlist[i+1]) - int(nlist[i]) > 0:\n",
    "            slist.append(1)\n",
    "        elif int(nlist[i+1]) - int(nlist[i]) < 0:\n",
    "            slist.append(-1)\n",
    "        else:\n",
    "            slist.append(0)\n",
    "            \n",
    "    if sum(slist) == len(nlist) - 1 or (0 in slist and sum(slist) == len(nlist) - 2):\n",
    "        return 'increasing'\n",
    "    elif sum(slist) == (-1) * (len(nlist) - 1) or (0 in slist and sum(slist) == (-1) * (len(nlist) - 2)):\n",
    "        return 'decreasing'\n",
    "    else:\n",
    "        return 'Neither increasing or decreasing order'"
   ]
  },
  {
   "cell_type": "code",
   "execution_count": 2,
   "metadata": {},
   "outputs": [
    {
     "data": {
      "text/plain": [
       "'Neither increasing or decreasing order'"
      ]
     },
     "execution_count": 2,
     "metadata": {},
     "output_type": "execute_result"
    }
   ],
   "source": [
    "cal_orderTrend(1524)"
   ]
  },
  {
   "cell_type": "code",
   "execution_count": 3,
   "metadata": {},
   "outputs": [
    {
     "data": {
      "text/plain": [
       "'increasing'"
      ]
     },
     "execution_count": 3,
     "metadata": {},
     "output_type": "execute_result"
    }
   ],
   "source": [
    "cal_orderTrend(2345)"
   ]
  },
  {
   "cell_type": "code",
   "execution_count": 4,
   "metadata": {},
   "outputs": [
    {
     "data": {
      "text/plain": [
       "'decreasing'"
      ]
     },
     "execution_count": 4,
     "metadata": {},
     "output_type": "execute_result"
    }
   ],
   "source": [
    "cal_orderTrend(3321)"
   ]
  },
  {
   "cell_type": "code",
   "execution_count": null,
   "metadata": {},
   "outputs": [],
   "source": []
  }
 ],
 "metadata": {
  "kernelspec": {
   "display_name": "learn-env",
   "language": "python",
   "name": "learn-env"
  },
  "language_info": {
   "codemirror_mode": {
    "name": "ipython",
    "version": 3
   },
   "file_extension": ".py",
   "mimetype": "text/x-python",
   "name": "python",
   "nbconvert_exporter": "python",
   "pygments_lexer": "ipython3",
   "version": "3.8.5"
  }
 },
 "nbformat": 4,
 "nbformat_minor": 4
}
