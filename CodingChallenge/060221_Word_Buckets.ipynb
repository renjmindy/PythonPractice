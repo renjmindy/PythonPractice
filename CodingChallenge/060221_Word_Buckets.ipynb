{
 "cells": [
  {
   "cell_type": "markdown",
   "metadata": {},
   "source": [
    "Write a function that divides a phrase into word buckets, with each bucket containing n or fewer characters. Only include full words inside each bucket.\n",
    "\n",
    "**Examples**\n",
    "\n",
    "bucketize(\"she sells sea shells by the sea\", 10)\n",
    "➞ [\"she sells\", \"sea shells\", \"by the sea\"]\n",
    "\n",
    "bucketize(\"the mouse jumped over the cheese\", 7)\n",
    "➞ [\"the\", \"mouse\", \"jumped\", \"over\", \"the\", \"cheese\"]\n",
    "\n",
    "bucketize(\"fairy dust coated the air\", 20)\n",
    "➞ [\"fairy dust coated\", \"the air\"]\n",
    "\n",
    "bucketize(\"a b c d e\", 2)\n",
    "➞ [\"a\", \"b\", \"c\", \"d\", \"e\"]\n",
    "\n",
    "**Notes**\n",
    "\n",
    "Spaces count as one character. Trim beginning and end spaces for each word bucket (see final example).\n",
    "\n",
    "If buckets are too small to hold a single word, return an empty array: []\n",
    "\n",
    "The final goal isn't to return just the words with a length equal (or lower) to the given n, but to return the entire given phrase bucketized (if possible). So, for the specific case of \"by\" the only word with a proper length, the phrase can't be bucketized, and the returned array has to be empty."
   ]
  },
  {
   "cell_type": "code",
   "execution_count": 1,
   "metadata": {},
   "outputs": [],
   "source": [
    "def cal_wordBuckets(s, n):\n",
    "    \n",
    "    slist = list(s.split(' '))\n",
    "    #print(slist)\n",
    "    word_counter = 0\n",
    "    nlist = []\n",
    "    rlist = []\n",
    "    \n",
    "    for i, j in enumerate(slist):\n",
    "        \n",
    "        word_counter += (len(list(j)) + 1)\n",
    "        \n",
    "        if word_counter <= n:\n",
    "            nlist.append(j)\n",
    "            #print(nlist, word_counter)\n",
    "        else:\n",
    "            rlist.append(' '.join(nlist))\n",
    "            word_counter = len(list(j))\n",
    "            nlist.clear()\n",
    "            nlist.append(j)\n",
    "            #print('\\t', nlist, word_counter)\n",
    "            \n",
    "    rlist.append(' '.join(nlist))\n",
    "    \n",
    "    return rlist"
   ]
  },
  {
   "cell_type": "code",
   "execution_count": 2,
   "metadata": {},
   "outputs": [
    {
     "data": {
      "text/plain": [
       "['she sells', 'sea shells', 'by the sea']"
      ]
     },
     "execution_count": 2,
     "metadata": {},
     "output_type": "execute_result"
    }
   ],
   "source": [
    "cal_wordBuckets(\"she sells sea shells by the sea\", 10)"
   ]
  },
  {
   "cell_type": "code",
   "execution_count": 3,
   "metadata": {},
   "outputs": [
    {
     "data": {
      "text/plain": [
       "['the', 'mouse', 'jumped', 'over', 'the', 'cheese']"
      ]
     },
     "execution_count": 3,
     "metadata": {},
     "output_type": "execute_result"
    }
   ],
   "source": [
    "cal_wordBuckets(\"the mouse jumped over the cheese\", 7)"
   ]
  },
  {
   "cell_type": "code",
   "execution_count": 4,
   "metadata": {},
   "outputs": [
    {
     "data": {
      "text/plain": [
       "['fairy dust coated', 'the air']"
      ]
     },
     "execution_count": 4,
     "metadata": {},
     "output_type": "execute_result"
    }
   ],
   "source": [
    "cal_wordBuckets(\"fairy dust coated the air\", 20)"
   ]
  },
  {
   "cell_type": "code",
   "execution_count": 5,
   "metadata": {},
   "outputs": [
    {
     "data": {
      "text/plain": [
       "['a', 'b', 'c', 'd', 'e']"
      ]
     },
     "execution_count": 5,
     "metadata": {},
     "output_type": "execute_result"
    }
   ],
   "source": [
    "cal_wordBuckets(\"a b c d e\", 2)"
   ]
  },
  {
   "cell_type": "code",
   "execution_count": null,
   "metadata": {},
   "outputs": [],
   "source": []
  }
 ],
 "metadata": {
  "kernelspec": {
   "display_name": "learn-env",
   "language": "python",
   "name": "learn-env"
  },
  "language_info": {
   "codemirror_mode": {
    "name": "ipython",
    "version": 3
   },
   "file_extension": ".py",
   "mimetype": "text/x-python",
   "name": "python",
   "nbconvert_exporter": "python",
   "pygments_lexer": "ipython3",
   "version": "3.8.5"
  }
 },
 "nbformat": 4,
 "nbformat_minor": 4
}
