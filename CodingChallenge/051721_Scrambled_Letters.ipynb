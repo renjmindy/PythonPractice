{
 "cells": [
  {
   "cell_type": "markdown",
   "metadata": {},
   "source": [
    "Write a function that receives an array of letters, an array of words (dictionary) and a mask. Return an array of words, sorted alphabetically, that match the given mask.\n",
    "\n",
    "**Examples**\n",
    "\n",
    "scrambled(['e', 'c', 'd', 'r', 'e', 'e'], [”red”, “dee”, “cede”, “reed”, “creed”, “decree”], “\\*re\\*\\*”) ➞ [“creed”]\n",
    "\n",
    "scrambled(['e', 'c', 'd', 'r', 'e', 'e'], [”red”, “dee”, “cede”, “reed”, “creed”, “decree”], “\\*\\*\\*”) ➞ [“dee”, “red”]\n",
    "\n",
    "**Notes**\n",
    "\n",
    "The length of a mask will never exceed the number of letters given (or the longest word in the dictionary)."
   ]
  },
  {
   "cell_type": "code",
   "execution_count": 1,
   "metadata": {},
   "outputs": [],
   "source": [
    "def cal_scrambledLetters(arr1, arr2, s):\n",
    "    \n",
    "    slist = list(s)\n",
    "    nlist = []\n",
    "    \n",
    "    for a in arr2:\n",
    "        if len(a) == len(slist):\n",
    "            nlist.append(a)\n",
    "            \n",
    "    return nlist"
   ]
  },
  {
   "cell_type": "code",
   "execution_count": 2,
   "metadata": {},
   "outputs": [
    {
     "data": {
      "text/plain": [
       "['creed']"
      ]
     },
     "execution_count": 2,
     "metadata": {},
     "output_type": "execute_result"
    }
   ],
   "source": [
    "cal_scrambledLetters(['e', 'c', 'd', 'r', 'e', 'e'], ['red', 'dee', 'cede', 'reed', 'creed', 'decree'], '*re**')"
   ]
  },
  {
   "cell_type": "code",
   "execution_count": 3,
   "metadata": {},
   "outputs": [
    {
     "data": {
      "text/plain": [
       "['red', 'dee']"
      ]
     },
     "execution_count": 3,
     "metadata": {},
     "output_type": "execute_result"
    }
   ],
   "source": [
    "cal_scrambledLetters(['e', 'c', 'd', 'r', 'e', 'e'], ['red', 'dee', 'cede', 'reed', 'creed', 'decree'], '***')"
   ]
  },
  {
   "cell_type": "code",
   "execution_count": null,
   "metadata": {},
   "outputs": [],
   "source": []
  }
 ],
 "metadata": {
  "kernelspec": {
   "display_name": "learn-env",
   "language": "python",
   "name": "learn-env"
  },
  "language_info": {
   "codemirror_mode": {
    "name": "ipython",
    "version": 3
   },
   "file_extension": ".py",
   "mimetype": "text/x-python",
   "name": "python",
   "nbconvert_exporter": "python",
   "pygments_lexer": "ipython3",
   "version": "3.8.5"
  }
 },
 "nbformat": 4,
 "nbformat_minor": 4
}
