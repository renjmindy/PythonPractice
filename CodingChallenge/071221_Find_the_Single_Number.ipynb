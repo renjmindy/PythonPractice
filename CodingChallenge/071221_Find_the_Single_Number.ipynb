{
 "cells": [
  {
   "cell_type": "markdown",
   "metadata": {},
   "source": [
    "Write a function that accepts an array of numbers (where each number appears three times except for one which appears only once) and finds that unique number in the array and returns it.\n",
    "\n",
    "**Examples**\n",
    "\n",
    "singleNumber([2, 2, 3, 2]) ➞ 3\n",
    "\n",
    "singleNumber([0, 1, 0, 1, 0, 1, 99]) ➞ 99\n",
    "\n",
    "singleNumber([-1, 2, -4, 20, -1, 2, -4, -4, 2, -1]) ➞ 20\n",
    "\n",
    "**Notes**\n",
    "\n",
    "The function needs to be efficient in order to run under 12,000 milliseconds."
   ]
  },
  {
   "cell_type": "code",
   "execution_count": 1,
   "metadata": {},
   "outputs": [],
   "source": [
    "from collections import Counter\n",
    "\n",
    "def cal_singleNumber(arr):\n",
    "    \n",
    "    aDict = dict(Counter(arr))\n",
    "    #minimum = min(sorted(aDict, key=aDict.get))\n",
    "    minimum = sorted(aDict.items(), key=lambda x:x[1])[0][0]\n",
    "    \n",
    "    return minimum"
   ]
  },
  {
   "cell_type": "code",
   "execution_count": 2,
   "metadata": {},
   "outputs": [
    {
     "data": {
      "text/plain": [
       "3"
      ]
     },
     "execution_count": 2,
     "metadata": {},
     "output_type": "execute_result"
    }
   ],
   "source": [
    "cal_singleNumber([2,2,3,2])"
   ]
  },
  {
   "cell_type": "code",
   "execution_count": 3,
   "metadata": {},
   "outputs": [
    {
     "data": {
      "text/plain": [
       "99"
      ]
     },
     "execution_count": 3,
     "metadata": {},
     "output_type": "execute_result"
    }
   ],
   "source": [
    "cal_singleNumber([0,1,0,1,0,1,99])"
   ]
  },
  {
   "cell_type": "code",
   "execution_count": 4,
   "metadata": {},
   "outputs": [
    {
     "data": {
      "text/plain": [
       "20"
      ]
     },
     "execution_count": 4,
     "metadata": {},
     "output_type": "execute_result"
    }
   ],
   "source": [
    "cal_singleNumber([-1,2,-4,20,-1,2,-4,-4,2,-1])"
   ]
  },
  {
   "cell_type": "code",
   "execution_count": null,
   "metadata": {},
   "outputs": [],
   "source": []
  }
 ],
 "metadata": {
  "kernelspec": {
   "display_name": "learn-env",
   "language": "python",
   "name": "learn-env"
  },
  "language_info": {
   "codemirror_mode": {
    "name": "ipython",
    "version": 3
   },
   "file_extension": ".py",
   "mimetype": "text/x-python",
   "name": "python",
   "nbconvert_exporter": "python",
   "pygments_lexer": "ipython3",
   "version": "3.8.5"
  }
 },
 "nbformat": 4,
 "nbformat_minor": 4
}
