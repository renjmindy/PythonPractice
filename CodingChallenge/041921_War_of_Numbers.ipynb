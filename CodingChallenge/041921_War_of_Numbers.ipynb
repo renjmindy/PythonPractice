{
 "cells": [
  {
   "cell_type": "markdown",
   "metadata": {},
   "source": [
    "There's a great war between the even and odd numbers. Many numbers already lost their life in this war and it's your task to end this. You have to determine which group sums larger: the even, or the odd. The larger group wins.\n",
    "\n",
    "Create a function that takes an array of integers, sums the even and odd numbers separately, then returns the difference between sum of even and odd numbers.\n",
    "\n",
    "**Examples**\n",
    "\n",
    "warOfNumbers([2, 8, 7, 5]) ➞ 2\n",
    "\n",
    "// 2 + 8 = 10\n",
    "\n",
    "// 7 + 5 = 12\n",
    "\n",
    "// 12 is larger than 10\n",
    "\n",
    "// So we return 12 - 10 = 2\n",
    "\n",
    "warOfNumbers([12, 90, 75]) ➞ 27\n",
    "\n",
    "warOfNumbers([5, 9, 45, 6, 2, 7, 34, 8, 6, 90, 5, 243]) ➞ 168\n",
    "\n",
    "**Notes**\n",
    "\n",
    "The given array contains only positive integers."
   ]
  },
  {
   "cell_type": "code",
   "execution_count": 1,
   "metadata": {},
   "outputs": [],
   "source": [
    "def cal_diffEvsO(arr):\n",
    "    \n",
    "    return abs(sum([i for i in arr if i % 2 == 0]) - sum([i for i in arr if i % 2 != 0]))"
   ]
  },
  {
   "cell_type": "code",
   "execution_count": 2,
   "metadata": {},
   "outputs": [
    {
     "data": {
      "text/plain": [
       "2"
      ]
     },
     "execution_count": 2,
     "metadata": {},
     "output_type": "execute_result"
    }
   ],
   "source": [
    "cal_diffEvsO([2, 8, 7, 5])"
   ]
  },
  {
   "cell_type": "code",
   "execution_count": 3,
   "metadata": {},
   "outputs": [
    {
     "data": {
      "text/plain": [
       "27"
      ]
     },
     "execution_count": 3,
     "metadata": {},
     "output_type": "execute_result"
    }
   ],
   "source": [
    "cal_diffEvsO([12, 90, 75])"
   ]
  },
  {
   "cell_type": "code",
   "execution_count": 4,
   "metadata": {},
   "outputs": [
    {
     "data": {
      "text/plain": [
       "168"
      ]
     },
     "execution_count": 4,
     "metadata": {},
     "output_type": "execute_result"
    }
   ],
   "source": [
    "cal_diffEvsO([5, 9, 45, 6, 2, 7, 34, 8, 6, 90, 5, 243])"
   ]
  },
  {
   "cell_type": "code",
   "execution_count": null,
   "metadata": {},
   "outputs": [],
   "source": []
  }
 ],
 "metadata": {
  "kernelspec": {
   "display_name": "learn-env",
   "language": "python",
   "name": "learn-env"
  },
  "language_info": {
   "codemirror_mode": {
    "name": "ipython",
    "version": 3
   },
   "file_extension": ".py",
   "mimetype": "text/x-python",
   "name": "python",
   "nbconvert_exporter": "python",
   "pygments_lexer": "ipython3",
   "version": "3.8.5"
  }
 },
 "nbformat": 4,
 "nbformat_minor": 4
}
