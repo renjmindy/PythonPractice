{
 "cells": [
  {
   "cell_type": "markdown",
   "id": "phantom-fiber",
   "metadata": {},
   "source": [
    "Write java Program to Find Smallest and Largest Element in an Array.\n",
    "\n",
    "**Note** \n",
    "\n",
    "Number can not be repeated in the array.\n",
    "\n",
    "**Example**\n",
    "\n",
    "1\n",
    "2\n",
    "3\n",
    "4\n",
    "5\n",
    "6\n",
    "\n",
    "int[] arr1={7,5,6,1,4,2}; Missing number : 3\n",
    "\n",
    "int[] arr2={5,3,1,2}; Missing number : 4"
   ]
  },
  {
   "cell_type": "code",
   "execution_count": 1,
   "id": "innovative-roots",
   "metadata": {},
   "outputs": [],
   "source": [
    "def cal_missNum(a):\n",
    "    \n",
    "    a.sort()\n",
    "    \n",
    "    for i in range(len(a)-1):\n",
    "        if a[i+1] - a[i] > 1:\n",
    "            return a[i] + 1"
   ]
  },
  {
   "cell_type": "code",
   "execution_count": 2,
   "id": "sharing-accountability",
   "metadata": {},
   "outputs": [
    {
     "data": {
      "text/plain": [
       "3"
      ]
     },
     "execution_count": 2,
     "metadata": {},
     "output_type": "execute_result"
    }
   ],
   "source": [
    "cal_missNum([7,5,6,1,4,2])"
   ]
  },
  {
   "cell_type": "code",
   "execution_count": 3,
   "id": "clear-juice",
   "metadata": {},
   "outputs": [
    {
     "data": {
      "text/plain": [
       "4"
      ]
     },
     "execution_count": 3,
     "metadata": {},
     "output_type": "execute_result"
    }
   ],
   "source": [
    "cal_missNum([5,3,1,2])"
   ]
  },
  {
   "cell_type": "code",
   "execution_count": null,
   "id": "hundred-nightlife",
   "metadata": {},
   "outputs": [],
   "source": []
  }
 ],
 "metadata": {
  "kernelspec": {
   "display_name": "learn-env",
   "language": "python",
   "name": "learn-env"
  },
  "language_info": {
   "codemirror_mode": {
    "name": "ipython",
    "version": 3
   },
   "file_extension": ".py",
   "mimetype": "text/x-python",
   "name": "python",
   "nbconvert_exporter": "python",
   "pygments_lexer": "ipython3",
   "version": "3.8.8"
  }
 },
 "nbformat": 4,
 "nbformat_minor": 5
}
