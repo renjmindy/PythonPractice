{
 "cells": [
  {
   "cell_type": "markdown",
   "id": "grave-orchestra",
   "metadata": {},
   "source": [
    "A quadratic equation a x² + b x + c = 0 has either 0, 1, or 2 distinct solutions for real values of x. Given a, b and c, you should return the number of solutions to the equation.\n",
    "\n",
    "**Examples**\n",
    "\n",
    "solutions(1, 0, -1) --> 2\n",
    "\n",
    "// x² - 1 = 0 has two solutions (x = 1 and x = -1).\n",
    "\n",
    "solutions(1, 0, 0) --> 1\n",
    "\n",
    "// x² = 0 has one solution (x = 0).\n",
    "\n",
    "solutions(1, 0, 1) --> 0\n",
    "\n",
    "// x² + 1 = 0 has no real solutions.\n",
    "\n",
    "**Notes**\n",
    "\n",
    "- You do not have to calculate the solutions, just return how many there are.\n",
    "\n",
    "- 'a' will always be non-zero."
   ]
  },
  {
   "cell_type": "code",
   "execution_count": 1,
   "id": "sealed-garlic",
   "metadata": {},
   "outputs": [],
   "source": [
    "def cal_sols(a, b, c):\n",
    "    \n",
    "    return 2 if (b**2) - (4*a*c) > 0 else (1 if (b**2) - (4*a*c) == 0 else 0)"
   ]
  },
  {
   "cell_type": "code",
   "execution_count": 2,
   "id": "iraqi-decade",
   "metadata": {},
   "outputs": [
    {
     "data": {
      "text/plain": [
       "2"
      ]
     },
     "execution_count": 2,
     "metadata": {},
     "output_type": "execute_result"
    }
   ],
   "source": [
    "cal_sols(1, 0, -1)"
   ]
  },
  {
   "cell_type": "code",
   "execution_count": 5,
   "id": "exclusive-saudi",
   "metadata": {},
   "outputs": [
    {
     "data": {
      "text/plain": [
       "1"
      ]
     },
     "execution_count": 5,
     "metadata": {},
     "output_type": "execute_result"
    }
   ],
   "source": [
    "cal_sols(1, 0, 0)"
   ]
  },
  {
   "cell_type": "code",
   "execution_count": 4,
   "id": "everyday-marathon",
   "metadata": {},
   "outputs": [
    {
     "data": {
      "text/plain": [
       "0"
      ]
     },
     "execution_count": 4,
     "metadata": {},
     "output_type": "execute_result"
    }
   ],
   "source": [
    "cal_sols(1, 0, 1)"
   ]
  },
  {
   "cell_type": "code",
   "execution_count": null,
   "id": "convinced-bahamas",
   "metadata": {},
   "outputs": [],
   "source": []
  }
 ],
 "metadata": {
  "kernelspec": {
   "display_name": "learn-env",
   "language": "python",
   "name": "learn-env"
  },
  "language_info": {
   "codemirror_mode": {
    "name": "ipython",
    "version": 3
   },
   "file_extension": ".py",
   "mimetype": "text/x-python",
   "name": "python",
   "nbconvert_exporter": "python",
   "pygments_lexer": "ipython3",
   "version": "3.8.8"
  }
 },
 "nbformat": 4,
 "nbformat_minor": 5
}
