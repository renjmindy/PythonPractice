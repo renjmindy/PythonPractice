{
 "cells": [
  {
   "cell_type": "markdown",
   "metadata": {},
   "source": [
    "The additive persistence of an integer, n, is the number of times you have to replace n with the sum of its digits until n becomes a single-digit integer.\n",
    "\n",
    "The multiplicative persistence of an integer, n, is the number of times you have to replace n with the product of its digits until n becomes a single-digit integer.\n",
    "\n",
    "Create two functions that take an integer as an argument and:\n",
    "\n",
    "Return its additive persistence.\n",
    "\n",
    "Return its multiplicative persistence.\n",
    "\n",
    "**Examples: Additive Persistence**\n",
    "\n",
    "additivePersistence(1679583) ➞ 3\n",
    "\n",
    "// 1 + 6 + 7 + 9 + 5 + 8 + 3 = 39\n",
    "\n",
    "// 3 + 9 = 12\n",
    "\n",
    "// 1 + 2 = 3\n",
    "\n",
    "// It takes 3 iterations to reach a single-digit number.\n",
    "\n",
    "additivePersistence(123456) ➞ 2\n",
    "\n",
    "// 1 + 2 + 3 + 4 + 5 + 6 = 21\n",
    "\n",
    "// 2 + 1 = 3\n",
    "\n",
    "additivePersistence(6) ➞ 0\n",
    "\n",
    "// Because 6 is already a single-digit integer.\n",
    "\n",
    "**Examples: Multiplicative Persistence**\n",
    "\n",
    "multiplicativePersistence(77) ➞ 4\n",
    "\n",
    "// 7 x 7 = 49\n",
    "\n",
    "// 4 x 9 = 36\n",
    "\n",
    "// 3 x 6 = 18\n",
    "\n",
    "// 1 x 8 = 8\n",
    "\n",
    "// It takes 4 iterations to reach a single-digit number.\n",
    "\n",
    "multiplicativePersistence(123456) ➞ 2\n",
    "\n",
    "// 1 x 2 x 3 x 4 x 5 x 6 = 720\n",
    "\n",
    "// 7 x 2 x 0 = 0\n",
    "\n",
    "multiplicativePersistence(4) ➞ 0\n",
    "\n",
    "// Because 4 is already a single-digit integer.\n",
    "\n",
    "**Notes**\n",
    "\n",
    "The input n is never negative."
   ]
  },
  {
   "cell_type": "code",
   "execution_count": 1,
   "metadata": {},
   "outputs": [],
   "source": [
    "def cal_addPersistence(n):\n",
    "    \n",
    "    nlist = list(str(n))\n",
    "    #print(nlist)\n",
    "    counter = 0\n",
    "    \n",
    "    if len(nlist) <= 1:\n",
    "        return 0\n",
    "    else:\n",
    "        while len(nlist) > 1:\n",
    "            counter += 1\n",
    "            sumN = 0\n",
    "            sumN = sum([int(i) for i in nlist])\n",
    "            nlist = list(str(sumN))\n",
    "            #print(nlist)\n",
    "        return counter"
   ]
  },
  {
   "cell_type": "code",
   "execution_count": 2,
   "metadata": {},
   "outputs": [
    {
     "data": {
      "text/plain": [
       "3"
      ]
     },
     "execution_count": 2,
     "metadata": {},
     "output_type": "execute_result"
    }
   ],
   "source": [
    "cal_addPersistence(1679583)"
   ]
  },
  {
   "cell_type": "code",
   "execution_count": 3,
   "metadata": {},
   "outputs": [
    {
     "data": {
      "text/plain": [
       "2"
      ]
     },
     "execution_count": 3,
     "metadata": {},
     "output_type": "execute_result"
    }
   ],
   "source": [
    "cal_addPersistence(123456)"
   ]
  },
  {
   "cell_type": "code",
   "execution_count": 4,
   "metadata": {},
   "outputs": [
    {
     "data": {
      "text/plain": [
       "0"
      ]
     },
     "execution_count": 4,
     "metadata": {},
     "output_type": "execute_result"
    }
   ],
   "source": [
    "cal_addPersistence(6)"
   ]
  },
  {
   "cell_type": "code",
   "execution_count": 5,
   "metadata": {},
   "outputs": [],
   "source": [
    "from math import prod\n",
    "\n",
    "def cal_mulPersistence(n):\n",
    "    \n",
    "    nlist = list(str(n))\n",
    "    #print(nlist)\n",
    "    counter = 0\n",
    "    \n",
    "    if len(nlist) <= 1:\n",
    "        return 0\n",
    "    else:\n",
    "        while len(nlist) > 1:\n",
    "            counter += 1\n",
    "            prodN = 0\n",
    "            prodN = prod([int(i) for i in nlist])\n",
    "            nlist = list(str(prodN))\n",
    "            #print(nlist)\n",
    "        return counter"
   ]
  },
  {
   "cell_type": "code",
   "execution_count": 6,
   "metadata": {},
   "outputs": [
    {
     "data": {
      "text/plain": [
       "4"
      ]
     },
     "execution_count": 6,
     "metadata": {},
     "output_type": "execute_result"
    }
   ],
   "source": [
    "cal_mulPersistence(77)"
   ]
  },
  {
   "cell_type": "code",
   "execution_count": 7,
   "metadata": {},
   "outputs": [
    {
     "data": {
      "text/plain": [
       "2"
      ]
     },
     "execution_count": 7,
     "metadata": {},
     "output_type": "execute_result"
    }
   ],
   "source": [
    "cal_mulPersistence(123456)"
   ]
  },
  {
   "cell_type": "code",
   "execution_count": 8,
   "metadata": {},
   "outputs": [
    {
     "data": {
      "text/plain": [
       "0"
      ]
     },
     "execution_count": 8,
     "metadata": {},
     "output_type": "execute_result"
    }
   ],
   "source": [
    "cal_mulPersistence(4)"
   ]
  },
  {
   "cell_type": "code",
   "execution_count": null,
   "metadata": {},
   "outputs": [],
   "source": []
  }
 ],
 "metadata": {
  "kernelspec": {
   "display_name": "learn-env",
   "language": "python",
   "name": "learn-env"
  },
  "language_info": {
   "codemirror_mode": {
    "name": "ipython",
    "version": 3
   },
   "file_extension": ".py",
   "mimetype": "text/x-python",
   "name": "python",
   "nbconvert_exporter": "python",
   "pygments_lexer": "ipython3",
   "version": "3.8.5"
  }
 },
 "nbformat": 4,
 "nbformat_minor": 4
}
