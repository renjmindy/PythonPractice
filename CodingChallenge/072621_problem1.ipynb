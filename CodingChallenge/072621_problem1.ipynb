{
 "cells": [
  {
   "cell_type": "markdown",
   "metadata": {},
   "source": [
    "Find the Contiguous Subarray with Sum to a Given Value in an array.\n",
    "\n",
    "Given an array of positive integer and given value X, find Contiguous sub array whose sum is equal to X.\n",
    "\n",
    "**example**\n",
    "\n",
    "1\n",
    "2\n",
    "3\n",
    "4\n",
    "5\n",
    "6\n",
    "\n",
    "arr[]={14, 12, 70, 15, 99, 65, 21, 90};\n",
    "\n",
    "X =97.\n",
    "\n",
    "Sum found between index 1 to 3\n",
    "\n",
    "Elements are 12, 17 and 15"
   ]
  },
  {
   "cell_type": "code",
   "execution_count": 1,
   "metadata": {},
   "outputs": [],
   "source": [
    "def cal_sumINsubarray(arr, n):\n",
    "    \n",
    "    nlist = []\n",
    "    mlist = []\n",
    "    \n",
    "    minVal = min(arr)\n",
    "    maxVal = max(arr)\n",
    "    \n",
    "    minIdx = arr.index(minVal)\n",
    "    maxIdx = arr.index(maxVal)\n",
    "    \n",
    "    if n - maxVal in arr and abs(arr.index(n - maxVal) - maxIdx) == 1:\n",
    "        nlist.append(maxIdx)\n",
    "        nlist.append(arr.index(n - maxVal))\n",
    "    elif n - minVal in arr and abs(arr.index(n - minVal) - minIdx) == 1:\n",
    "        nlist.append(minIdx)\n",
    "        nlist.append(arr.index(n - minVal))\n",
    "    else:\n",
    "        a = 0\n",
    "        b = n\n",
    "        c = 0\n",
    "        while a < len(arr):\n",
    "            if b > minVal:\n",
    "                b -= arr[a]\n",
    "                nlist.append(a)\n",
    "                #print(a, b, arr[a])\n",
    "                a += 1\n",
    "            elif b == minVal:\n",
    "                #print(a, b)\n",
    "                nlist.append(arr.index(minVal))\n",
    "                break\n",
    "            else:\n",
    "                b = n\n",
    "                c += 1\n",
    "                a = c\n",
    "                nlist.clear()\n",
    "        \n",
    "    snlist = sorted(nlist)\n",
    "    #print(snlist)\n",
    "    if (snlist.index(snlist[-1]) - snlist.index(snlist[0])) == (len(snlist) - 1):\n",
    "        mlist = [arr[i] for i in snlist]\n",
    "        return mlist"
   ]
  },
  {
   "cell_type": "code",
   "execution_count": 2,
   "metadata": {},
   "outputs": [
    {
     "data": {
      "text/plain": [
       "[12, 70, 15]"
      ]
     },
     "execution_count": 2,
     "metadata": {},
     "output_type": "execute_result"
    }
   ],
   "source": [
    "cal_sumINsubarray([14, 12, 70, 15, 99, 65, 21, 90], 97)"
   ]
  },
  {
   "cell_type": "code",
   "execution_count": null,
   "metadata": {},
   "outputs": [],
   "source": []
  }
 ],
 "metadata": {
  "kernelspec": {
   "display_name": "learn-env",
   "language": "python",
   "name": "learn-env"
  },
  "language_info": {
   "codemirror_mode": {
    "name": "ipython",
    "version": 3
   },
   "file_extension": ".py",
   "mimetype": "text/x-python",
   "name": "python",
   "nbconvert_exporter": "python",
   "pygments_lexer": "ipython3",
   "version": "3.8.5"
  }
 },
 "nbformat": 4,
 "nbformat_minor": 4
}
