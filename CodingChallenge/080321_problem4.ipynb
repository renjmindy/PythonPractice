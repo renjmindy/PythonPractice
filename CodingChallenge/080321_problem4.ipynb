{
 "cells": [
  {
   "cell_type": "markdown",
   "id": "sitting-juice",
   "metadata": {},
   "source": [
    "Create a function that takes a number as an argument and returns \"Fizz\", \"Buzz\" or \"FizzBuzz\".\n",
    "\n",
    "* If the number is a multiple of 3 the output should be \"Fizz\".\n",
    "\n",
    "* If the number given is a multiple of 5, the output should be \"Buzz\".\n",
    "\n",
    "* If the number given is a multiple of both 3 and 5, the output should be \"FizzBuzz\".\n",
    "\n",
    "* If the number is not a multiple of either 3 or 5, the number should be output on its own as shown in the examples below.\n",
    "\n",
    "The output should always be a string even if it is not a multiple of 3 or 5.\n",
    "\n",
    "**Examples**\n",
    "\n",
    "<code>\n",
    "    \n",
    "    fizz_buzz(3) ➞ \"Fizz\"\n",
    "\n",
    "    fizz_buzz(5) ➞ \"Buzz\"\n",
    "\n",
    "    fizz_buzz(15) ➞ \"FizzBuzz\"\n",
    "\n",
    "    fizz_buzz(4) ➞ \"4\"\n",
    "\n",
    "</code>"
   ]
  },
  {
   "cell_type": "code",
   "execution_count": 1,
   "id": "spectacular-father",
   "metadata": {},
   "outputs": [],
   "source": [
    "def cal_fb(n):\n",
    "    \n",
    "    return ('Fizz'*(not n%3) + 'Buzz'*(not n%5)) if n%3 == 0 or n%5 == 0 else str(n) "
   ]
  },
  {
   "cell_type": "code",
   "execution_count": 2,
   "id": "dental-penetration",
   "metadata": {},
   "outputs": [
    {
     "data": {
      "text/plain": [
       "'Fizz'"
      ]
     },
     "execution_count": 2,
     "metadata": {},
     "output_type": "execute_result"
    }
   ],
   "source": [
    "cal_fb(3)"
   ]
  },
  {
   "cell_type": "code",
   "execution_count": 3,
   "id": "offensive-roller",
   "metadata": {},
   "outputs": [
    {
     "data": {
      "text/plain": [
       "'Buzz'"
      ]
     },
     "execution_count": 3,
     "metadata": {},
     "output_type": "execute_result"
    }
   ],
   "source": [
    "cal_fb(5)"
   ]
  },
  {
   "cell_type": "code",
   "execution_count": 4,
   "id": "liable-contact",
   "metadata": {},
   "outputs": [
    {
     "data": {
      "text/plain": [
       "'FizzBuzz'"
      ]
     },
     "execution_count": 4,
     "metadata": {},
     "output_type": "execute_result"
    }
   ],
   "source": [
    "cal_fb(15)"
   ]
  },
  {
   "cell_type": "code",
   "execution_count": 5,
   "id": "sublime-conclusion",
   "metadata": {},
   "outputs": [
    {
     "data": {
      "text/plain": [
       "'4'"
      ]
     },
     "execution_count": 5,
     "metadata": {},
     "output_type": "execute_result"
    }
   ],
   "source": [
    "cal_fb(4)"
   ]
  },
  {
   "cell_type": "code",
   "execution_count": null,
   "id": "cleared-bleeding",
   "metadata": {},
   "outputs": [],
   "source": []
  }
 ],
 "metadata": {
  "kernelspec": {
   "display_name": "learn-env",
   "language": "python",
   "name": "learn-env"
  },
  "language_info": {
   "codemirror_mode": {
    "name": "ipython",
    "version": 3
   },
   "file_extension": ".py",
   "mimetype": "text/x-python",
   "name": "python",
   "nbconvert_exporter": "python",
   "pygments_lexer": "ipython3",
   "version": "3.8.8"
  }
 },
 "nbformat": 4,
 "nbformat_minor": 5
}
