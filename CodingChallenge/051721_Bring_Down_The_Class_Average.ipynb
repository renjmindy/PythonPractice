{
 "cells": [
  {
   "cell_type": "markdown",
   "metadata": {},
   "source": [
    "What is the percentage you can score on a test, which single-handedly brings down the class average by 5%? Given an array of your classmates scores, create a function that returns the answer. Round to the nearest percent.\n",
    "\n",
    "**Examples**\n",
    "\n",
    "takeDownAverage([\"95%\", \"83%\", \"90%\", \"87%\", \"88%\", \"93%\"]) ➞ \"54%\"\n",
    "\n",
    "takeDownAverage([\"10%\"]) ➞ \"0%\"\n",
    "\n",
    "takeDownAverage([\"53%\", \"79%\"]) ➞ \"51%\"\n",
    "\n",
    "**Notes**\n",
    "\n",
    "No tests will include empty arrays or require negative percentages.\n",
    "\n",
    "Note that you need to return a string."
   ]
  },
  {
   "cell_type": "code",
   "execution_count": 1,
   "metadata": {},
   "outputs": [],
   "source": [
    "def cal_classAverage(arr):\n",
    "    \n",
    "    nlist = []\n",
    "    \n",
    "    for a in arr:\n",
    "        nlist.append(int(a.replace('%', '')))\n",
    "        \n",
    "    return str(round(((sum(nlist)/len(nlist)) - 5) * (len(nlist) + 1)) - sum(nlist)) + '%'"
   ]
  },
  {
   "cell_type": "code",
   "execution_count": 2,
   "metadata": {},
   "outputs": [
    {
     "data": {
      "text/plain": [
       "'54%'"
      ]
     },
     "execution_count": 2,
     "metadata": {},
     "output_type": "execute_result"
    }
   ],
   "source": [
    "cal_classAverage([\"95%\", \"83%\", \"90%\", \"87%\", \"88%\", \"93%\"])"
   ]
  },
  {
   "cell_type": "code",
   "execution_count": 3,
   "metadata": {},
   "outputs": [
    {
     "data": {
      "text/plain": [
       "'0%'"
      ]
     },
     "execution_count": 3,
     "metadata": {},
     "output_type": "execute_result"
    }
   ],
   "source": [
    "cal_classAverage([\"10%\"])"
   ]
  },
  {
   "cell_type": "code",
   "execution_count": 4,
   "metadata": {},
   "outputs": [
    {
     "data": {
      "text/plain": [
       "'51%'"
      ]
     },
     "execution_count": 4,
     "metadata": {},
     "output_type": "execute_result"
    }
   ],
   "source": [
    "cal_classAverage([\"53%\", \"79%\"])"
   ]
  },
  {
   "cell_type": "code",
   "execution_count": null,
   "metadata": {},
   "outputs": [],
   "source": []
  }
 ],
 "metadata": {
  "kernelspec": {
   "display_name": "learn-env",
   "language": "python",
   "name": "learn-env"
  },
  "language_info": {
   "codemirror_mode": {
    "name": "ipython",
    "version": 3
   },
   "file_extension": ".py",
   "mimetype": "text/x-python",
   "name": "python",
   "nbconvert_exporter": "python",
   "pygments_lexer": "ipython3",
   "version": "3.8.5"
  }
 },
 "nbformat": 4,
 "nbformat_minor": 4
}
