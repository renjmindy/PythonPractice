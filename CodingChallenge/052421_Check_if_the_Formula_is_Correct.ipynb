{
 "cells": [
  {
   "cell_type": "markdown",
   "metadata": {},
   "source": [
    "Create a function that takes a string and returns true or false depending on whether or not the formula is correct.\n",
    "\n",
    "**Examples**\n",
    "\n",
    "formula(\"6 * 4 = 24\") ➞ true\n",
    "\n",
    "formula(\"18 / 17 = 2\") ➞ false\n",
    "\n",
    "formula(\"16 * 10 = 160 = 14 + 120\") ➞ false\n",
    "\n",
    "**Notes**\n",
    "\n",
    "You have to figure out what a is.\n",
    "\n",
    "You do not need to dynamically find the value of a (it's a constant and the same across all tests).\n",
    "\n",
    "Ignore the spaces."
   ]
  },
  {
   "cell_type": "code",
   "execution_count": 1,
   "metadata": {},
   "outputs": [],
   "source": [
    "import operator\n",
    "\n",
    "ops = {'+' : operator.add, '-' : operator.sub,\n",
    "       '*' : operator.mul, '/' : operator.truediv,  # use operator.div for Python 2\n",
    "       '%' : operator.mod, '^' : operator.xor}\n",
    "\n",
    "def eval_binary_expr(op1, oper, op2):\n",
    "    \n",
    "    op1, op2 = int(op1), int(op2)\n",
    "    return ops.get(oper)(op1, op2)\n",
    "    \n",
    "def cal_formula(s):\n",
    "    \n",
    "    slist = list(s.split('='))\n",
    "    olist = ['+', '-', '*', '/']\n",
    "    mlist = []\n",
    "    nlist = []\n",
    "    rlist = []\n",
    "    clist = []\n",
    "    \n",
    "    mlist = [s.replace(' ', '') for s in slist if any(o in s for o in olist)]\n",
    "    nlist = [int(s) for s in slist if all(o not in s for o in olist)]\n",
    "    \n",
    "    #print(mlist, nlist)\n",
    "    \n",
    "    for m in mlist:\n",
    "        #print(m, m[0], m[1], m[2])\n",
    "        plist = list(m.split(a) for a in m if any(o in a for o in olist))\n",
    "        qlist = list(b for b in m for o in olist if b == o)\n",
    "        #print(plist, plist[0][0], plist[0][1], qlist[0])\n",
    "        rlist.append(eval_binary_expr(plist[0][0], qlist[0], plist[0][1]))\n",
    "        \n",
    "    for i, j in enumerate(rlist):\n",
    "        if len(nlist) == 1:\n",
    "            if j == nlist[0]:\n",
    "                clist.append(1)\n",
    "            else:\n",
    "                clist.append(-1)\n",
    "        else:\n",
    "            clist.append(0)\n",
    "    \n",
    "    if -1 in clist:\n",
    "        return False\n",
    "    else:\n",
    "        return True"
   ]
  },
  {
   "cell_type": "code",
   "execution_count": 2,
   "metadata": {},
   "outputs": [
    {
     "data": {
      "text/plain": [
       "True"
      ]
     },
     "execution_count": 2,
     "metadata": {},
     "output_type": "execute_result"
    }
   ],
   "source": [
    "cal_formula(\"6 * 4 = 24\")"
   ]
  },
  {
   "cell_type": "code",
   "execution_count": 3,
   "metadata": {},
   "outputs": [
    {
     "data": {
      "text/plain": [
       "False"
      ]
     },
     "execution_count": 3,
     "metadata": {},
     "output_type": "execute_result"
    }
   ],
   "source": [
    "cal_formula(\"18 / 17 = 2\")"
   ]
  },
  {
   "cell_type": "code",
   "execution_count": 4,
   "metadata": {},
   "outputs": [
    {
     "data": {
      "text/plain": [
       "False"
      ]
     },
     "execution_count": 4,
     "metadata": {},
     "output_type": "execute_result"
    }
   ],
   "source": [
    "cal_formula(\"16 * 10 = 160 = 14 + 120\")"
   ]
  },
  {
   "cell_type": "code",
   "execution_count": null,
   "metadata": {},
   "outputs": [],
   "source": []
  }
 ],
 "metadata": {
  "kernelspec": {
   "display_name": "learn-env",
   "language": "python",
   "name": "learn-env"
  },
  "language_info": {
   "codemirror_mode": {
    "name": "ipython",
    "version": 3
   },
   "file_extension": ".py",
   "mimetype": "text/x-python",
   "name": "python",
   "nbconvert_exporter": "python",
   "pygments_lexer": "ipython3",
   "version": "3.8.5"
  }
 },
 "nbformat": 4,
 "nbformat_minor": 4
}
