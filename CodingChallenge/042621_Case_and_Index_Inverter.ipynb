{
 "cells": [
  {
   "cell_type": "markdown",
   "metadata": {},
   "source": [
    "Write a recursive function that takes a string input and returns the string in a reversed case and order.\n",
    "\n",
    "**Examples**\n",
    "\n",
    "invert(\"dLROW YM sI HsEt\") ➞ \"TeSh iS my worlD\"\n",
    "\n",
    "invert(\"ytInIUgAsnOc\") ➞ \"CoNSaGuiNiTY\"\n",
    "\n",
    "invert(\"step on NO PETS\") ➞ \"step on NO PETS\"\n",
    "\n",
    "invert(\"XeLPMoC YTiReTXeD\") ➞ \"dExtErIty cOmplEx\"\n",
    "\n",
    "**Notes**\n",
    "\n",
    "No empty strings and will neither contain special characters nor punctuation.\n",
    "\n",
    "You are expected to solve this challenge using a recursive approach.\n",
    "\n",
    "You can check on the Resources tab for more details about recursion in Java."
   ]
  },
  {
   "cell_type": "code",
   "execution_count": 1,
   "metadata": {},
   "outputs": [],
   "source": [
    "def cal_caseANDindex(s):\n",
    "    \n",
    "    slist = list(s)\n",
    "    nlist = []\n",
    "    \n",
    "    for s in slist:\n",
    "        if s.islower():\n",
    "            nlist.append(s.upper())\n",
    "        else:\n",
    "            nlist.append(s.lower())\n",
    "            \n",
    "    return ''.join(nlist[::-1])"
   ]
  },
  {
   "cell_type": "code",
   "execution_count": 2,
   "metadata": {},
   "outputs": [
    {
     "data": {
      "text/plain": [
       "'TeSh iS my worlD'"
      ]
     },
     "execution_count": 2,
     "metadata": {},
     "output_type": "execute_result"
    }
   ],
   "source": [
    "cal_caseANDindex(\"dLROW YM sI HsEt\")"
   ]
  },
  {
   "cell_type": "code",
   "execution_count": 3,
   "metadata": {},
   "outputs": [
    {
     "data": {
      "text/plain": [
       "'CoNSaGuiNiTY'"
      ]
     },
     "execution_count": 3,
     "metadata": {},
     "output_type": "execute_result"
    }
   ],
   "source": [
    "cal_caseANDindex(\"ytInIUgAsnOc\")"
   ]
  },
  {
   "cell_type": "code",
   "execution_count": 4,
   "metadata": {},
   "outputs": [
    {
     "data": {
      "text/plain": [
       "'step on NO PETS'"
      ]
     },
     "execution_count": 4,
     "metadata": {},
     "output_type": "execute_result"
    }
   ],
   "source": [
    "cal_caseANDindex(\"step on NO PETS\")"
   ]
  },
  {
   "cell_type": "code",
   "execution_count": 5,
   "metadata": {},
   "outputs": [
    {
     "data": {
      "text/plain": [
       "'dExtErIty cOmplEx'"
      ]
     },
     "execution_count": 5,
     "metadata": {},
     "output_type": "execute_result"
    }
   ],
   "source": [
    "cal_caseANDindex(\"XeLPMoC YTiReTXeD\")"
   ]
  },
  {
   "cell_type": "code",
   "execution_count": null,
   "metadata": {},
   "outputs": [],
   "source": []
  }
 ],
 "metadata": {
  "kernelspec": {
   "display_name": "learn-env",
   "language": "python",
   "name": "learn-env"
  },
  "language_info": {
   "codemirror_mode": {
    "name": "ipython",
    "version": 3
   },
   "file_extension": ".py",
   "mimetype": "text/x-python",
   "name": "python",
   "nbconvert_exporter": "python",
   "pygments_lexer": "ipython3",
   "version": "3.8.5"
  }
 },
 "nbformat": 4,
 "nbformat_minor": 4
}
