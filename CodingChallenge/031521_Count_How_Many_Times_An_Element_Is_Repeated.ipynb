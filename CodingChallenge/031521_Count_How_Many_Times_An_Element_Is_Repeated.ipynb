{
 "cells": [
  {
   "cell_type": "markdown",
   "metadata": {},
   "source": [
    "Given an array, create a function that returns an object detailing how many times each element was repeated. Sort the object by value in descending order.\n",
    "\n",
    "**Examples**\n",
    "\n",
    "countRepetitions([\"cat\", \"dog\", \"cat\", \"cow\", \"cow\", \"cow\"]) ➞ {\"cow\"=3, \"cat\"=2, \"dog\"=1}\n",
    "\n",
    "countRepetitions([1, 5, 5, 5, 12, 12, 0, 0, 0, 0, 0, 0]) ➞ {0=6, 5=3, 12=2, 1=1}\n",
    "\n",
    "countRepetitions([\"Infinity\", \"null\", \"Infinity\", \"null\", \"null\"]) ➞ {\"null\"=3, \"Infinity\"=2}\n",
    "\n",
    "**Notes**\n",
    "\n",
    "The array elements can be anything from string to numeric types.\n",
    "\n",
    "The returned map object should be sorted in descending order by value."
   ]
  },
  {
   "cell_type": "code",
   "execution_count": 1,
   "metadata": {},
   "outputs": [],
   "source": [
    "from collections import Counter\n",
    "def cal_countRepetitions(s):\n",
    "    \n",
    "    return {k:v for k, v in sorted(dict(Counter(s)).items(), key=lambda x:x[1], reverse=True)}"
   ]
  },
  {
   "cell_type": "code",
   "execution_count": 2,
   "metadata": {},
   "outputs": [
    {
     "data": {
      "text/plain": [
       "{'cow': 3, 'cat': 2, 'dog': 1}"
      ]
     },
     "execution_count": 2,
     "metadata": {},
     "output_type": "execute_result"
    }
   ],
   "source": [
    "cal_countRepetitions([\"cat\", \"dog\", \"cat\", \"cow\", \"cow\", \"cow\"])"
   ]
  },
  {
   "cell_type": "code",
   "execution_count": 3,
   "metadata": {},
   "outputs": [
    {
     "data": {
      "text/plain": [
       "{0: 6, 5: 3, 12: 2, 1: 1}"
      ]
     },
     "execution_count": 3,
     "metadata": {},
     "output_type": "execute_result"
    }
   ],
   "source": [
    "cal_countRepetitions([1, 5, 5, 5, 12, 12, 0, 0, 0, 0, 0, 0])"
   ]
  },
  {
   "cell_type": "code",
   "execution_count": 4,
   "metadata": {},
   "outputs": [
    {
     "data": {
      "text/plain": [
       "{'null': 3, 'Infinity': 2}"
      ]
     },
     "execution_count": 4,
     "metadata": {},
     "output_type": "execute_result"
    }
   ],
   "source": [
    "cal_countRepetitions([\"Infinity\", \"null\", \"Infinity\", \"null\", \"null\"])"
   ]
  },
  {
   "cell_type": "code",
   "execution_count": null,
   "metadata": {},
   "outputs": [],
   "source": []
  }
 ],
 "metadata": {
  "kernelspec": {
   "display_name": "learn-env",
   "language": "python",
   "name": "learn-env"
  },
  "language_info": {
   "codemirror_mode": {
    "name": "ipython",
    "version": 3
   },
   "file_extension": ".py",
   "mimetype": "text/x-python",
   "name": "python",
   "nbconvert_exporter": "python",
   "pygments_lexer": "ipython3",
   "version": "3.8.5"
  }
 },
 "nbformat": 4,
 "nbformat_minor": 4
}
