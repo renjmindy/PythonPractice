{
 "cells": [
  {
   "cell_type": "markdown",
   "metadata": {},
   "source": [
    "Create a function that determines the minimum number of characters needed to make a strong password.\n",
    "\n",
    "A password is considered strong if it satisfies the following criteria:\n",
    "\n",
    "* Its length is at least 6.\n",
    "\n",
    "* It contains at least one digit.\n",
    "\n",
    "* It contains at least one lowercase English character.\n",
    "\n",
    "* It contains at least one uppercase English character.\n",
    "\n",
    "* It contains at least one special character: !@#\\$\\%\\^\\&\\*\\(\\)\\-\\+\n",
    "\n",
    "Types of characters in a form you can paste into your solution:\n",
    "\n",
    "<code>\n",
    "\n",
    "    static final String numbers = \"0123456789\";\n",
    "\n",
    "    static final String lower_case = \"abcdefghijklmnopqrstuvwxyz\";\n",
    "\n",
    "    static final String upper_case = \"ABCDEFGHIJKLMNOPQRSTUVWXYZ\";\n",
    "\n",
    "    static final String special_characters = \"!@#$%^&*()-+\";\n",
    "\n",
    "</code>"
   ]
  },
  {
   "cell_type": "code",
   "execution_count": null,
   "metadata": {},
   "outputs": [],
   "source": [
    "def cal_minPassword(s):\n",
    "    \n",
    "    slist = list(s.split(''))\n",
    "    \n",
    "    count_dig = 0\n",
    "    count_low = 0\n",
    "    count_upp = 0\n",
    "    count_spe = 0\n",
    "    count_out = 0\n",
    "    \n",
    "    symList = ['!',\"'\",'@','#','$','%','^','&','*','(',')','-','+']\n",
    "    \n",
    "    if len(slist) >= 6:\n",
    "        for s in slist:\n",
    "            if s.isdigit():\n",
    "                count_dig += 1\n",
    "            elif s.islower():\n",
    "                count_low += 1\n",
    "            elif s.isupper():\n",
    "                count_upp += 1\n",
    "            elif s in symList:\n",
    "                count_spe += 1\n",
    "            else:\n",
    "                count_out += 1\n",
    "    else:\n",
    "        return False\n",
    "    \n",
    "    if count_dig >= 1 and count_low >= 1 and count_upp >= 1 and count_spe >= 1:\n",
    "        return True\n",
    "    else:\n",
    "        return False"
   ]
  }
 ],
 "metadata": {
  "kernelspec": {
   "display_name": "learn-env",
   "language": "python",
   "name": "learn-env"
  },
  "language_info": {
   "codemirror_mode": {
    "name": "ipython",
    "version": 3
   },
   "file_extension": ".py",
   "mimetype": "text/x-python",
   "name": "python",
   "nbconvert_exporter": "python",
   "pygments_lexer": "ipython3",
   "version": "3.8.5"
  }
 },
 "nbformat": 4,
 "nbformat_minor": 4
}
