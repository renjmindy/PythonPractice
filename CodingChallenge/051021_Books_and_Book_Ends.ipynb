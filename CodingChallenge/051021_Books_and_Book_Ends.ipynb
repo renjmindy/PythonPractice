{
 "cells": [
  {
   "cell_type": "markdown",
   "metadata": {},
   "source": [
    "Suppose a pair of identical characters serve as bookends for all characters in between them. Write a function that returns the total number of unique characters (books, so to speak) between all pairs of book ends.\n",
    "\n",
    "The function will look like:\n",
    "\n",
    "countUniqueBooks(\"stringSequence\", \"bookEnd\")\n",
    "\n",
    "**Examples**\n",
    "\n",
    "countUniqueBooks(\"AZYWABBCATTTA\", 'A') ➞ 4\n",
    "\n",
    "// 1st bookend group: \"AZYWA\" : 3 unique books: \"Z\", \"Y\", \"W\"\n",
    "\n",
    "// 2nd bookend group: \"ATTTA\": 1 unique book: \"T\"\n",
    "\n",
    "// \"ABBCA\" not included since the first \"A\" was used in the 1st bookend group.\n",
    "\n",
    "countUniqueBooks(\"$AA$BBCATT$C$$B$\", '$') ➞ 3\n",
    "\n",
    "countUniqueBooks(\"ZZABCDEF\", 'Z') ➞ 0\n",
    "\n",
    "**Notes**\n",
    "\n",
    "No book characters will be identical to the bookend character.\n",
    "\n",
    "There will always be an even number of bookends.\n",
    "\n",
    "Once a bookend is used to complete a pair, a new bookend must be found to create another pair.\n",
    "\n",
    "Return 0 if bookends contain zero books."
   ]
  },
  {
   "cell_type": "code",
   "execution_count": 1,
   "metadata": {},
   "outputs": [],
   "source": [
    "def cal_books(arr, s):\n",
    "    \n",
    "    alist = list(arr)\n",
    "    nini = -1\n",
    "    nend = -1\n",
    "    suml = 0\n",
    "    \n",
    "    for i, j in enumerate(alist):\n",
    "        if j == s:\n",
    "            if nini < 0:\n",
    "                nini = i\n",
    "            else:\n",
    "                nend = i\n",
    "                #print(list(set(alist[nini+1:nend])))\n",
    "                suml += len(list(set(alist[nini+1:nend])))\n",
    "                nini = -1\n",
    "                nend = -1\n",
    "                \n",
    "    return suml"
   ]
  },
  {
   "cell_type": "code",
   "execution_count": 2,
   "metadata": {},
   "outputs": [
    {
     "data": {
      "text/plain": [
       "4"
      ]
     },
     "execution_count": 2,
     "metadata": {},
     "output_type": "execute_result"
    }
   ],
   "source": [
    "cal_books(\"AZYWABBCATTTA\", 'A')"
   ]
  },
  {
   "cell_type": "code",
   "execution_count": 3,
   "metadata": {},
   "outputs": [
    {
     "data": {
      "text/plain": [
       "0"
      ]
     },
     "execution_count": 3,
     "metadata": {},
     "output_type": "execute_result"
    }
   ],
   "source": [
    "cal_books(\"ZZABCDEF\", 'Z')"
   ]
  },
  {
   "cell_type": "code",
   "execution_count": null,
   "metadata": {},
   "outputs": [],
   "source": []
  }
 ],
 "metadata": {
  "kernelspec": {
   "display_name": "learn-env",
   "language": "python",
   "name": "learn-env"
  },
  "language_info": {
   "codemirror_mode": {
    "name": "ipython",
    "version": 3
   },
   "file_extension": ".py",
   "mimetype": "text/x-python",
   "name": "python",
   "nbconvert_exporter": "python",
   "pygments_lexer": "ipython3",
   "version": "3.8.5"
  }
 },
 "nbformat": 4,
 "nbformat_minor": 4
}
