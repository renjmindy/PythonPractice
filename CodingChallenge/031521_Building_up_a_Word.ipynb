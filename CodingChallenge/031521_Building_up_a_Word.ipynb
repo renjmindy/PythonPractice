{
 "cells": [
  {
   "cell_type": "markdown",
   "metadata": {},
   "source": [
    "You are given an input list of strings, ordered by ascending length. Write a function that returns True if, for each pair of consecutive strings, the second string can be formed from the first by adding a **single letter** either at the **beginning or end**.\n",
    "\n",
    "**Examples**\n",
    "\n",
    "<code>\n",
    "    \n",
    "    can_build([\"a\", \"at\", \"ate\", \"late\", \"plate\", \"plates\"]) \n",
    "    ➞ True\n",
    "    \n",
    "    can_build([\"a\", \"at\", \"ate\", \"late\", \"plate\", \"plater\", \"platter\"]) \n",
    "    ➞ False# \"platter\" is formed by adding \"t\" in the middle of \"plater\"\n",
    "    \n",
    "    can_build([\"it\", \"bit\", \"bite\", \"biters\"]) \n",
    "    ➞ False# \"biters\" is formed by adding two letters \n",
    "    \n",
    "    - we can only add one\n",
    "    can_build([\"mean\", \"meany\"]) \n",
    "    ➞ True\n",
    "\n",
    "</code>\n",
    "    \n",
    "**Notes**\n",
    "\n",
    "* Return False a word is **NOT** formed by adding **only one letter**.\n",
    "\n",
    "* Return False if the letter is added to the **middle** of the previous word.\n",
    "\n",
    "* Letters in tests will all be **lower case**."
   ]
  },
  {
   "cell_type": "code",
   "execution_count": 1,
   "metadata": {},
   "outputs": [],
   "source": [
    "def cal_buildAword(s):\n",
    "    \n",
    "    for i in range(0, len(s)-1, 1):\n",
    "        if len(s[i+1]) - len(s[i]) != 1:\n",
    "            return False\n",
    "        \n",
    "    curr = ''\n",
    "    prev = ''\n",
    "    \n",
    "    for i, j in enumerate(s):\n",
    "        if i == 0:\n",
    "            curr = j\n",
    "        else:\n",
    "            prev = curr\n",
    "            curr = j\n",
    "            print(prev, '-->', curr)\n",
    "            if curr[1:] != prev and curr[0:-1] != prev:\n",
    "                return False\n",
    "            \n",
    "    return True"
   ]
  },
  {
   "cell_type": "code",
   "execution_count": 2,
   "metadata": {},
   "outputs": [
    {
     "name": "stdout",
     "output_type": "stream",
     "text": [
      "a --> at\n",
      "at --> ate\n",
      "ate --> late\n",
      "late --> plate\n",
      "plate --> plates\n"
     ]
    },
    {
     "data": {
      "text/plain": [
       "True"
      ]
     },
     "execution_count": 2,
     "metadata": {},
     "output_type": "execute_result"
    }
   ],
   "source": [
    "cal_buildAword([\"a\", \"at\", \"ate\", \"late\", \"plate\", \"plates\"])"
   ]
  },
  {
   "cell_type": "code",
   "execution_count": 3,
   "metadata": {},
   "outputs": [
    {
     "name": "stdout",
     "output_type": "stream",
     "text": [
      "a --> at\n",
      "at --> ate\n",
      "ate --> late\n",
      "late --> plate\n",
      "plate --> plater\n",
      "plater --> platter\n"
     ]
    },
    {
     "data": {
      "text/plain": [
       "False"
      ]
     },
     "execution_count": 3,
     "metadata": {},
     "output_type": "execute_result"
    }
   ],
   "source": [
    "cal_buildAword([\"a\", \"at\", \"ate\", \"late\", \"plate\", \"plater\", \"platter\"])"
   ]
  },
  {
   "cell_type": "code",
   "execution_count": 4,
   "metadata": {},
   "outputs": [
    {
     "data": {
      "text/plain": [
       "False"
      ]
     },
     "execution_count": 4,
     "metadata": {},
     "output_type": "execute_result"
    }
   ],
   "source": [
    "cal_buildAword([\"it\", \"bit\", \"bite\", \"biters\"])"
   ]
  },
  {
   "cell_type": "code",
   "execution_count": 5,
   "metadata": {},
   "outputs": [
    {
     "name": "stdout",
     "output_type": "stream",
     "text": [
      "mean --> meany\n"
     ]
    },
    {
     "data": {
      "text/plain": [
       "True"
      ]
     },
     "execution_count": 5,
     "metadata": {},
     "output_type": "execute_result"
    }
   ],
   "source": [
    "cal_buildAword([\"mean\", \"meany\"])"
   ]
  },
  {
   "cell_type": "code",
   "execution_count": null,
   "metadata": {},
   "outputs": [],
   "source": []
  }
 ],
 "metadata": {
  "kernelspec": {
   "display_name": "learn-env",
   "language": "python",
   "name": "learn-env"
  },
  "language_info": {
   "codemirror_mode": {
    "name": "ipython",
    "version": 3
   },
   "file_extension": ".py",
   "mimetype": "text/x-python",
   "name": "python",
   "nbconvert_exporter": "python",
   "pygments_lexer": "ipython3",
   "version": "3.8.5"
  }
 },
 "nbformat": 4,
 "nbformat_minor": 4
}
