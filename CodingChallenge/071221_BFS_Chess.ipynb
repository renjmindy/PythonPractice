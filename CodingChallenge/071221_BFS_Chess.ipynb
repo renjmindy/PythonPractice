{
 "cells": [
  {
   "cell_type": "markdown",
   "metadata": {},
   "source": [
    "You will be given the location of a knight, and an end location. The knight can move in a \"L\" shape. \"L\" shape movement means that the knight can change it's x coordinate by 2 and it's y coordinate by 1 or it can change it's y coordinate by 2 and it's x coordinate by 1 (you can add and subtract from the x/y).\n",
    "\n",
    "For example, if the knight is at the position (0, 0), it can move to:\n",
    "\n",
    "(1,2), (1,-2), (2,1), (2,-1), (-1,2), (-1,-2), (-2,1), (-2, -1)\n",
    "Your job is to return the least amount of steps needed to go from the position K (knight's start position) to E (end). You will only be given the knight starter coordinates (x1, y1) and the end coordinates (x2, y2).\n",
    "\n",
    "Constrains: 1 <= x1,y1,x2,y2 <= 8\n",
    "\n",
    "\n",
    "**Examples**\n",
    "\n",
    "knightBFS(1, 1, 8, 8) ➞ 6\n",
    "\n",
    "knightBFS(1, 1, 3, 2) ➞ 1\n",
    "\n",
    "knightBFS(8, 8, 3, 3) ➞ 4\n",
    "\n",
    "\n",
    "**Notes**\n",
    "\n",
    "This is a simplified version of this problem.\n",
    "\n",
    "This travel will always be possible.\n",
    "\n",
    "The chessboard is 8x8."
   ]
  },
  {
   "cell_type": "code",
   "execution_count": 1,
   "metadata": {},
   "outputs": [],
   "source": [
    "def cal_steps(x1, y1, x2, y2):\n",
    "    \n",
    "    delta_x = abs(x2 - x1)\n",
    "    delta_y = abs(y2 - y1)\n",
    "    delta_s = delta_x + delta_y\n",
    "    \n",
    "    i, j = divmod(delta_s, 3)\n",
    "    \n",
    "    return i + j"
   ]
  },
  {
   "cell_type": "code",
   "execution_count": 2,
   "metadata": {},
   "outputs": [
    {
     "data": {
      "text/plain": [
       "6"
      ]
     },
     "execution_count": 2,
     "metadata": {},
     "output_type": "execute_result"
    }
   ],
   "source": [
    "cal_steps(1, 1, 8, 8)"
   ]
  },
  {
   "cell_type": "code",
   "execution_count": 3,
   "metadata": {},
   "outputs": [
    {
     "data": {
      "text/plain": [
       "1"
      ]
     },
     "execution_count": 3,
     "metadata": {},
     "output_type": "execute_result"
    }
   ],
   "source": [
    "cal_steps(1, 1, 3, 2)"
   ]
  },
  {
   "cell_type": "code",
   "execution_count": 4,
   "metadata": {},
   "outputs": [
    {
     "data": {
      "text/plain": [
       "4"
      ]
     },
     "execution_count": 4,
     "metadata": {},
     "output_type": "execute_result"
    }
   ],
   "source": [
    "cal_steps(8, 8, 3, 3)"
   ]
  },
  {
   "cell_type": "code",
   "execution_count": null,
   "metadata": {},
   "outputs": [],
   "source": []
  }
 ],
 "metadata": {
  "kernelspec": {
   "display_name": "learn-env",
   "language": "python",
   "name": "learn-env"
  },
  "language_info": {
   "codemirror_mode": {
    "name": "ipython",
    "version": 3
   },
   "file_extension": ".py",
   "mimetype": "text/x-python",
   "name": "python",
   "nbconvert_exporter": "python",
   "pygments_lexer": "ipython3",
   "version": "3.8.5"
  }
 },
 "nbformat": 4,
 "nbformat_minor": 4
}
