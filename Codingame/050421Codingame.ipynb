{
 "cells": [
  {
   "cell_type": "markdown",
   "id": "efficient-injection",
   "metadata": {},
   "source": [
    "Write a simaple calculator that operates in **unary** to sum a sequence of positive integers.\n",
    "\n",
    "Unary is the **bijective numeration** base **1**, using the digit 1 to represent 1 but lacking a zero digit. It is a positional numbering system, but trivially so, since every position, as a power of 1, is a ones place, regardless of left or right direction.\n",
    "\n",
    "Starting from 1, the first five numbers in unary are 1, 11, 111, 1111 and 11111.\n",
    "\n",
    "`Input`\n",
    "\n",
    "Line 1: An integer **count** representing the number of input values\n",
    "\n",
    "Line 2: A string of **unary** values, separated by spaces\n",
    "\n",
    "`Output`\n",
    "\n",
    "Line 1: A string in unary notation representing the **summation**\n",
    "\n",
    "`Constraints`\n",
    "\n",
    "2 <= count < 20\n",
    "\n",
    "1 <= length of each `unary` representation < 25\n",
    "\n",
    "`Example`\n",
    "\n",
    "`Input`\n",
    "\n",
    "5\n",
    "\n",
    "1 11 111 1111 11111\n",
    "\n",
    "`Output`\n",
    "\n",
    "111111111111111"
   ]
  },
  {
   "cell_type": "code",
   "execution_count": null,
   "id": "invalid-strip",
   "metadata": {},
   "outputs": [],
   "source": [
    "import sys\n",
    "import math\n",
    "\n",
    "# Auto-generated code below aims at helping you parse\n",
    "# the standard input according to the problem statement.\n",
    "\n",
    "count = int(input())\n",
    "\n",
    "uList = []\n",
    "\n",
    "for unary in input().split():\n",
    "    uList.append(unary)\n",
    "\n",
    "# Write an answer using print\n",
    "# To debug: print(\"Debug message...\", file=sys.stderr, flush=True)\n",
    "\n",
    "summation = ''.join(uList)\n",
    "\n",
    "print(f\"summation: {summation}\")"
   ]
  },
  {
   "cell_type": "code",
   "execution_count": 1,
   "id": "silver-accused",
   "metadata": {},
   "outputs": [
    {
     "name": "stdout",
     "output_type": "stream",
     "text": [
      "summation: 111111111111111\n"
     ]
    }
   ],
   "source": [
    "count = 5\n",
    "uList = ['1', '11', '111', '1111', '11111']\n",
    "summation = ''.join(uList)\n",
    "print(f\"summation: {summation}\")"
   ]
  },
  {
   "cell_type": "code",
   "execution_count": null,
   "id": "surprised-archives",
   "metadata": {},
   "outputs": [],
   "source": []
  }
 ],
 "metadata": {
  "kernelspec": {
   "display_name": "learn-env",
   "language": "python",
   "name": "learn-env"
  },
  "language_info": {
   "codemirror_mode": {
    "name": "ipython",
    "version": 3
   },
   "file_extension": ".py",
   "mimetype": "text/x-python",
   "name": "python",
   "nbconvert_exporter": "python",
   "pygments_lexer": "ipython3",
   "version": "3.8.8"
  }
 },
 "nbformat": 4,
 "nbformat_minor": 5
}
