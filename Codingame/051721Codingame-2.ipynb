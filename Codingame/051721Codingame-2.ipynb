{
 "cells": [
  {
   "cell_type": "markdown",
   "id": "incredible-geology",
   "metadata": {},
   "source": [
    "**The program:**\n",
    "\n",
    "You are given a text grid of size `N` by `N`.\n",
    "\n",
    "Your program must choose words which are placed on the main and the secondary diagonals of the given grid.\n",
    "\n",
    "The main diagonal is laid from the top-left to the bottom-right corner.\n",
    "The secondary diagonal is laid from the top-right to the bottom-left corner.\n",
    "\n",
    "``\n",
    "Input:\n",
    "``\n",
    "\n",
    "Line 1: An integer number `N` representing the grid size.\n",
    "\n",
    "Next `N` lines: `N` characters.\n",
    "\n",
    "``\n",
    "Output:\n",
    "``\n",
    "\n",
    "Two words from the diagonals separated by a whitespace.\n",
    "\n",
    "``\n",
    "Constraints:\n",
    "``\n",
    "\n",
    "0 < `N` <= 10\n",
    "\n",
    "A grid contains only latin lowercase letters.\n",
    "\n",
    "``\n",
    "Example:\n",
    "``\n",
    "\n",
    "**Input**\n",
    "\n",
    "4\n",
    "\n",
    "mooa\n",
    "\n",
    "oano\n",
    "\n",
    "otio\n",
    "\n",
    "ioon\n",
    "\n",
    "**Output**\n",
    "\n",
    "main anti"
   ]
  },
  {
   "cell_type": "code",
   "execution_count": 1,
   "id": "clinical-reaction",
   "metadata": {},
   "outputs": [
    {
     "name": "stdout",
     "output_type": "stream",
     "text": [
      "4\n",
      "mooa\n",
      "oano\n",
      "otio\n",
      "ioon\n",
      "answer main anti\n"
     ]
    }
   ],
   "source": [
    "import sys\n",
    "import math\n",
    "\n",
    "# Auto-generated code below aims at helping you parse\n",
    "# the standard input according to the problem statement.\n",
    "\n",
    "n = int(input())\n",
    "\n",
    "ans1 = []\n",
    "ans2 = []\n",
    "\n",
    "for i in range(n):\n",
    "    line = input()\n",
    "    slist = list(line)\n",
    "    ans1.append(slist[i])\n",
    "    ans2.append(slist[len(slist)-i-1])\n",
    "\n",
    "# Write an answer using print\n",
    "# To debug: print(\"Debug message...\", file=sys.stderr, flush=True)\n",
    "\n",
    "print(f\"answer {''.join(ans1)} {''.join(ans2)}\")"
   ]
  },
  {
   "cell_type": "code",
   "execution_count": null,
   "id": "digital-twins",
   "metadata": {},
   "outputs": [],
   "source": []
  }
 ],
 "metadata": {
  "kernelspec": {
   "display_name": "learn-env",
   "language": "python",
   "name": "learn-env"
  },
  "language_info": {
   "codemirror_mode": {
    "name": "ipython",
    "version": 3
   },
   "file_extension": ".py",
   "mimetype": "text/x-python",
   "name": "python",
   "nbconvert_exporter": "python",
   "pygments_lexer": "ipython3",
   "version": "3.8.8"
  }
 },
 "nbformat": 4,
 "nbformat_minor": 5
}
