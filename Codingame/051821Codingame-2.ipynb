{
 "cells": [
  {
   "cell_type": "markdown",
   "id": "mounted-disabled",
   "metadata": {},
   "source": [
    "**The program:**\n",
    "\n",
    "You have intercepted an enemy communication, but the signal is encrypted. However, you know that the message was encrypted using the following algorithm:\n",
    "\n",
    "For every letter in the message, write an integer `E` representing the distance of that letter from the letter `z` in the English alphabet. For spaces, write a value of `-1`\n",
    "\n",
    "You must decrypt this communication, or risk losing the war!\n",
    "\n",
    "``\n",
    "Input:\n",
    "``\n",
    "\n",
    "**Line 1:** An integer `N` for the number of letters to decrypt. \n",
    "\n",
    "**Next `N` lines:** An integer `E` representing a single letter of the message.\n",
    "\n",
    "``\n",
    "Output:\n",
    "``\n",
    "\n",
    "**Line 1:** A lowercase string representing the decrypted message.\n",
    "\n",
    "``\n",
    "Constraints:\n",
    "``\n",
    "\n",
    "1 <= `N` <= 100\n",
    "\n",
    "``\n",
    "Example:\n",
    "``\n",
    "\n",
    "Input\n",
    "\n",
    "5 \n",
    "\n",
    "18\n",
    "\n",
    "21\n",
    "\n",
    "14\n",
    "\n",
    "14\n",
    "\n",
    "11\n",
    "\n",
    "Output\n",
    "\n",
    "hello"
   ]
  },
  {
   "cell_type": "code",
   "execution_count": 1,
   "id": "artistic-permit",
   "metadata": {},
   "outputs": [
    {
     "name": "stdout",
     "output_type": "stream",
     "text": [
      "5\n",
      "18\n",
      "21\n",
      "14\n",
      "14\n",
      "11\n",
      "answer: hello\n"
     ]
    }
   ],
   "source": [
    "import sys\n",
    "import math\n",
    "\n",
    "# Auto-generated code below aims at helping you parse\n",
    "# the standard input according to the problem statement.\n",
    "\n",
    "alphabet = {25:'a', 24:'b', 23:'c', 22:'d', 21:'e', 20:'f', 19:'g', 18:'h', 17:'i', 16:'j', 15:'k', 14:'l', 13:'m', 12:'n', \n",
    "            11:'o', 10:'p', 9:'q', 8:'r', 7:'s', 6:'t', 5:'u', 4:'v', 3:'w', 2:'x', 1:'y', 0:'z'}\n",
    "\n",
    "n = int(input())\n",
    "\n",
    "sList = []\n",
    "\n",
    "for i in range(n):\n",
    "    e = int(input())\n",
    "    sList.append(alphabet[e])\n",
    "\n",
    "# Write an answer using print\n",
    "# To debug: print(\"Debug message...\", file=sys.stderr, flush=True)\n",
    "\n",
    "print(f\"answer: {''.join(sList)}\")"
   ]
  },
  {
   "cell_type": "code",
   "execution_count": null,
   "id": "following-reset",
   "metadata": {},
   "outputs": [],
   "source": []
  }
 ],
 "metadata": {
  "kernelspec": {
   "display_name": "learn-env",
   "language": "python",
   "name": "learn-env"
  },
  "language_info": {
   "codemirror_mode": {
    "name": "ipython",
    "version": 3
   },
   "file_extension": ".py",
   "mimetype": "text/x-python",
   "name": "python",
   "nbconvert_exporter": "python",
   "pygments_lexer": "ipython3",
   "version": "3.8.8"
  }
 },
 "nbformat": 4,
 "nbformat_minor": 5
}
