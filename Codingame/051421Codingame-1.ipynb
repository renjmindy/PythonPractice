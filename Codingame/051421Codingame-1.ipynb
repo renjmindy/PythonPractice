{
 "cells": [
  {
   "cell_type": "markdown",
   "id": "underlying-insured",
   "metadata": {},
   "source": [
    "The game model is **REVERSE**: You don't have access to the statement. You have to guess what to do by observing the following set of tests:\n",
    "\n",
    "``\n",
    "01 Test 1\n",
    "``\n",
    "\n",
    "``\n",
    "Input\n",
    "``\n",
    "\n",
    "B\n",
    "\n",
    "``\n",
    "Expected Output\n",
    "``\n",
    "\n",
    ">> AB\n",
    "\n",
    "``\n",
    "02 Test 2\n",
    "``\n",
    "\n",
    "``\n",
    "Input\n",
    "``\n",
    "\n",
    "d\n",
    "\n",
    "``\n",
    "Expected Output\n",
    "``\n",
    "\n",
    ">> abcd\n",
    "\n",
    "``\n",
    "03 Test 3\n",
    "``\n",
    "\n",
    "``\n",
    "Input\n",
    "``\n",
    "\n",
    "5\n",
    "\n",
    "``\n",
    "Expected Output\n",
    "``\n",
    "\n",
    ">> 012345\n",
    "\n",
    "``\n",
    "04 Test 4\n",
    "``\n",
    "\n",
    "``\n",
    "Input\n",
    "``\n",
    "\n",
    "Bd5\n",
    "\n",
    "``\n",
    "Expected Output\n",
    "``\n",
    "\n",
    ">> ABabcd012345\n",
    "\n",
    "``\n",
    "05 Test 5\n",
    "``\n",
    "\n",
    "``\n",
    "Input\n",
    "``\n",
    "\n",
    "Zz9\n",
    "\n",
    "``\n",
    "Expected Output\n",
    "``\n",
    "\n",
    ">> ABCDEFGHIJKLMNOPQRSTUVWXYZabcdefghijklmnopqrstuvwxyz0123456789"
   ]
  },
  {
   "cell_type": "code",
   "execution_count": 1,
   "id": "loaded-picking",
   "metadata": {},
   "outputs": [],
   "source": [
    "def print_everything():\n",
    "\n",
    "    import sys\n",
    "    import math\n",
    "\n",
    "    # Auto-generated code below aims at helping you parse\n",
    "    # the standard input according to the problem statement.\n",
    "\n",
    "    s = input()\n",
    "\n",
    "    # Write an answer using print\n",
    "    # To debug: print(\"Debug message...\", file=sys.stderr, flush=True)\n",
    "    \n",
    "    ucase = \"ABCDEFGHIJKLMNOPQRSTUVWXYZ\"\n",
    "    lcase = \"abcdefghijklmnopqrstuvwxyz\"\n",
    "    \n",
    "    uList = list(ucase)\n",
    "    lList = list(lcase)\n",
    "    sList = list(s)\n",
    "    ansList = []\n",
    "    \n",
    "    for i in sList:\n",
    "        if i.islower() == True:\n",
    "            for j in range(0, len(lList), 1):\n",
    "                if i == lList[j]:\n",
    "                    ansList.append(''.join(lList[0:j+1]))\n",
    "        elif i.isupper() == True:\n",
    "            for j in range(0, len(uList), 1):\n",
    "                if i == uList[j]:\n",
    "                    ansList.append(''.join(uList[0:j+1]))\n",
    "        else:\n",
    "            if i.isdigit() == True:\n",
    "                for j in range(0, int(i)+1, 1):\n",
    "                    ansList.append(str(j))\n",
    "\n",
    "    #print(ansList)\n",
    "    print(f\"answer: {''.join(ansList)}\")\n",
    "    \n",
    "    pass"
   ]
  },
  {
   "cell_type": "code",
   "execution_count": 2,
   "id": "white-dependence",
   "metadata": {},
   "outputs": [
    {
     "name": "stdout",
     "output_type": "stream",
     "text": [
      "B\n",
      "answer: AB\n"
     ]
    }
   ],
   "source": [
    "print_everything()"
   ]
  },
  {
   "cell_type": "code",
   "execution_count": 3,
   "id": "periodic-personal",
   "metadata": {},
   "outputs": [
    {
     "name": "stdout",
     "output_type": "stream",
     "text": [
      "d\n",
      "answer: abcd\n"
     ]
    }
   ],
   "source": [
    "print_everything()"
   ]
  },
  {
   "cell_type": "code",
   "execution_count": 4,
   "id": "modern-duncan",
   "metadata": {},
   "outputs": [
    {
     "name": "stdout",
     "output_type": "stream",
     "text": [
      "5\n",
      "answer: 012345\n"
     ]
    }
   ],
   "source": [
    "print_everything()"
   ]
  },
  {
   "cell_type": "code",
   "execution_count": 5,
   "id": "helpful-mount",
   "metadata": {},
   "outputs": [
    {
     "name": "stdout",
     "output_type": "stream",
     "text": [
      "Bd5\n",
      "answer: ABabcd012345\n"
     ]
    }
   ],
   "source": [
    "print_everything()"
   ]
  },
  {
   "cell_type": "code",
   "execution_count": 6,
   "id": "heavy-artwork",
   "metadata": {},
   "outputs": [
    {
     "name": "stdout",
     "output_type": "stream",
     "text": [
      "Zz9\n",
      "answer: ABCDEFGHIJKLMNOPQRSTUVWXYZabcdefghijklmnopqrstuvwxyz0123456789\n"
     ]
    }
   ],
   "source": [
    "print_everything()"
   ]
  },
  {
   "cell_type": "code",
   "execution_count": null,
   "id": "bacterial-mountain",
   "metadata": {},
   "outputs": [],
   "source": []
  }
 ],
 "metadata": {
  "kernelspec": {
   "display_name": "learn-env",
   "language": "python",
   "name": "learn-env"
  },
  "language_info": {
   "codemirror_mode": {
    "name": "ipython",
    "version": 3
   },
   "file_extension": ".py",
   "mimetype": "text/x-python",
   "name": "python",
   "nbconvert_exporter": "python",
   "pygments_lexer": "ipython3",
   "version": "3.8.8"
  }
 },
 "nbformat": 4,
 "nbformat_minor": 5
}
