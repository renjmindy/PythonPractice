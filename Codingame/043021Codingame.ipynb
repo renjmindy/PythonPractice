{
 "cells": [
  {
   "cell_type": "markdown",
   "id": "recovered-coach",
   "metadata": {},
   "source": [
    "In golf course, each hole has a \"pair\" value which is the maximum number of swings that players should ideally need to clear the hole.\n",
    "\n",
    "Once a player has cleared the hole, the pair is subtracted from the player's effective swing count, resulting in the player's score for that hole (i.e. 2 swings for a pair 3 scores -1)\n",
    "\n",
    "The final score for a player on a course is the total of his scores for each hole in the course.\n",
    "\n",
    "Given a score card for a 18-hole course, your program must output the player's score.\n",
    "\n",
    "`Input`\n",
    "\n",
    "Line 1: 18 numbers separated by spaces, representing the pairs for each hole.\n",
    "\n",
    "Line 2: 18 numbers separated by spaces, representing the player's swing count for each hole.\n",
    "\n",
    "`Output`\n",
    "\n",
    "Line 1: the player's final score for the course.\n",
    "\n",
    "`Example`\n",
    "\n",
    "`Input`\n",
    "\n",
    "4 4 3 4 4 5 4 3 5 4 3 4 5 4 4 3 4 5\n",
    "\n",
    "4 3 2 4 3 4 3 3 4 4 3 4 6 4 5 3 3 4\n",
    "\n",
    "`Output`\n",
    "\n",
    "-6"
   ]
  },
  {
   "cell_type": "code",
   "execution_count": null,
   "id": "employed-catering",
   "metadata": {},
   "outputs": [],
   "source": [
    "import sys\n",
    "import math\n",
    "\n",
    "# Auto generated code below aims at helping you parse\n",
    "# the standard input according to the problem statement.\n",
    "\n",
    "for i in input().split():\n",
    "    pList.append(int(i))\n",
    "    \n",
    "for i in input().split():\n",
    "    sList.append(int(i))\n",
    "\n",
    "# Write an answer using print\n",
    "# To debug: print(\"Debug messages...\", file=sys.stderr, flush=True)\n",
    "\n",
    "score = 0\n",
    "\n",
    "for i in range(0, len(sList), 1):\n",
    "    score += (sList[i] - pList[i])\n",
    "    \n",
    "print(f\"answer: {score}\")"
   ]
  }
 ],
 "metadata": {
  "kernelspec": {
   "display_name": "learn-env",
   "language": "python",
   "name": "learn-env"
  },
  "language_info": {
   "codemirror_mode": {
    "name": "ipython",
    "version": 3
   },
   "file_extension": ".py",
   "mimetype": "text/x-python",
   "name": "python",
   "nbconvert_exporter": "python",
   "pygments_lexer": "ipython3",
   "version": "3.8.8"
  }
 },
 "nbformat": 4,
 "nbformat_minor": 5
}
