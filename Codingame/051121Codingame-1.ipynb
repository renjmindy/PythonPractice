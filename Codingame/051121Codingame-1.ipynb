{
 "cells": [
  {
   "cell_type": "markdown",
   "id": "split-segment",
   "metadata": {},
   "source": [
    "Find the point closest to (0,0).\n",
    "\n",
    "You are given a list of points, and you must find the point closest to the origin.\n",
    "\n",
    "If two points have the same distance, return the one that was given first in th list.\n",
    "\n",
    "The distance to use between two points is the Euclidean distance.\n",
    "\n",
    "For two points `A` and `B`, the distance is sqrt((A.x - B.x)^2 + (A.y - B.y)^2)\n",
    "\n",
    "The result may differ between languages due to floating point errors if you use sqrt.\n",
    "\n",
    "Then, calculate the shortest distance without using sqrt.\n",
    "\n",
    "``\n",
    "Input\n",
    "``\n",
    "\n",
    "Line 1: `N` the number of input points\n",
    "\n",
    "Next `N` lines: `x` and `y`, separated by a space, for each point\n",
    "\n",
    "``\n",
    "Output\n",
    "``\n",
    "\n",
    "`x` `y` of the point closest to (0,0)\n",
    "\n",
    "``\n",
    "Constraints\n",
    "``\n",
    "\n",
    "1 <= N <= 100\n",
    "\n",
    "-1000000 <= `x`, `y` <= 1000000\n",
    "\n",
    "``\n",
    "Example\n",
    "``\n",
    "\n",
    "``\n",
    "Input\n",
    "``\n",
    "\n",
    "3\n",
    "\n",
    "2 2\n",
    "\n",
    "-1 1\n",
    "\n",
    "-3 -3\n",
    "\n",
    "``\n",
    "Output\n",
    "``\n",
    "\n",
    "-1 1"
   ]
  },
  {
   "cell_type": "code",
   "execution_count": null,
   "id": "absent-hungary",
   "metadata": {},
   "outputs": [],
   "source": [
    "import sys\n",
    "import math\n",
    "\n",
    "# Auto-generated code below aims at helping you parse\n",
    "# the standard input according to the problem statement.\n",
    "\n",
    "n = int(input())\n",
    "\n",
    "for i in range(n):\n",
    "    x, y = [int(j) for j in input().split()]\n",
    "\n",
    "# Write an answer using print\n",
    "# To debug: print(\"Debug message...\", file=sys.stderr, flush=True)\n",
    "\n",
    "print(\"1 1\")"
   ]
  },
  {
   "cell_type": "code",
   "execution_count": 1,
   "id": "religious-sample",
   "metadata": {},
   "outputs": [],
   "source": [
    "def shorest_dist(N, P):\n",
    "    \n",
    "    iMin = -1\n",
    "    dMin = 1000000\n",
    "    \n",
    "    for i in range(0, N, 1):\n",
    "        d = P[i][0]**2 + P[i][1]**2\n",
    "        if d < dMin:\n",
    "            iMin = i\n",
    "            dMin = d\n",
    "            \n",
    "    return P[iMin]"
   ]
  },
  {
   "cell_type": "code",
   "execution_count": 2,
   "id": "accessory-indication",
   "metadata": {},
   "outputs": [
    {
     "data": {
      "text/plain": [
       "(-1, 1)"
      ]
     },
     "execution_count": 2,
     "metadata": {},
     "output_type": "execute_result"
    }
   ],
   "source": [
    "N = 3\n",
    "P = [(2, 2), (-1, 1), (-3, -3)]\n",
    "shorest_dist(N, P)"
   ]
  },
  {
   "cell_type": "code",
   "execution_count": null,
   "id": "intimate-rochester",
   "metadata": {},
   "outputs": [],
   "source": []
  }
 ],
 "metadata": {
  "kernelspec": {
   "display_name": "learn-env",
   "language": "python",
   "name": "learn-env"
  },
  "language_info": {
   "codemirror_mode": {
    "name": "ipython",
    "version": 3
   },
   "file_extension": ".py",
   "mimetype": "text/x-python",
   "name": "python",
   "nbconvert_exporter": "python",
   "pygments_lexer": "ipython3",
   "version": "3.8.8"
  }
 },
 "nbformat": 4,
 "nbformat_minor": 5
}
