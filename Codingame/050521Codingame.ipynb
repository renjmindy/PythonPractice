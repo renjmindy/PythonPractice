{
 "cells": [
  {
   "cell_type": "markdown",
   "id": "valued-stamp",
   "metadata": {},
   "source": [
    "The Collatz conjecture is a opened mathematics problem: given a number `N`, the repetition of the following operation will always eventually reach the loop \n",
    "`1 => 4 => 2 => 1 ...`\n",
    "\n",
    "* If `N` is even, `N` becomes `N`/2\n",
    "\n",
    "* If `N` is odd, `N` becomes 3*`N`+1\n",
    "\n",
    "Can you try it with the given number and print the number of steps it took to reach 1?\n",
    "\n",
    "`Input`\n",
    "\n",
    "A starting number `N`\n",
    "\n",
    "`Output`\n",
    "\n",
    "The number of steps to reach 1\n",
    "\n",
    "`Constraints`\n",
    "\n",
    "0 < `N` <= 10^12\n",
    "\n",
    "`Example`\n",
    "\n",
    "`Input`\n",
    "\n",
    "16\n",
    "\n",
    "`Output`\n",
    "\n",
    "4"
   ]
  },
  {
   "cell_type": "code",
   "execution_count": 1,
   "id": "partial-dubai",
   "metadata": {},
   "outputs": [],
   "source": [
    "import sys\n",
    "import math\n",
    "\n",
    "def collatz_conjecture_math():\n",
    "\n",
    "    # Auto-generated code below aims at helping you parse\n",
    "    # the standard input according to the problem statement.\n",
    "\n",
    "    n = int(input())\n",
    "\n",
    "    while n == 0 or n == 1:\n",
    "        print('please re-select a positive number greater than one!')\n",
    "        n = int(input())\n",
    "    \n",
    "    # Write an answer using print\n",
    "    # To debug: print(\"Debug message...\", file=sys.stderr, flush=True)\n",
    "\n",
    "    def Log2(x):\n",
    "        return (math.log10(x) / math.log10(2));\n",
    "\n",
    "    def isPowerOfTwo(x):\n",
    "        return (math.ceil(Log2(x)) == math.floor(Log2(x)));\n",
    "\n",
    "    if isPowerOfTwo(n):\n",
    "        print(f\"answer: {int(Log2(n))}\")\n",
    "    else:\n",
    "        counter = 0\n",
    "        while n != 1:\n",
    "            if n % 2 != 0:\n",
    "                n *= 3\n",
    "                n += 1\n",
    "                counter += 1\n",
    "            else:\n",
    "                n /= 2\n",
    "                counter += 1\n",
    "         \n",
    "        print(f\"ends up to {int(n)}\")\n",
    "        print(f\"answer: {counter}\")\n",
    "        \n",
    "    pass"
   ]
  },
  {
   "cell_type": "code",
   "execution_count": 2,
   "id": "ordinary-governor",
   "metadata": {},
   "outputs": [
    {
     "name": "stdout",
     "output_type": "stream",
     "text": [
      "0\n",
      "please re-select a positive number greater than one!\n",
      "1\n",
      "please re-select a positive number greater than one!\n",
      "16\n",
      "answer: 4\n"
     ]
    }
   ],
   "source": [
    "collatz_conjecture_math()"
   ]
  },
  {
   "cell_type": "code",
   "execution_count": 3,
   "id": "backed-telescope",
   "metadata": {},
   "outputs": [
    {
     "name": "stdout",
     "output_type": "stream",
     "text": [
      "5\n",
      "ends up to 1\n",
      "answer: 5\n"
     ]
    }
   ],
   "source": [
    "collatz_conjecture_math()"
   ]
  },
  {
   "cell_type": "code",
   "execution_count": 4,
   "id": "liked-affair",
   "metadata": {},
   "outputs": [
    {
     "name": "stdout",
     "output_type": "stream",
     "text": [
      "10\n",
      "ends up to 1\n",
      "answer: 6\n"
     ]
    }
   ],
   "source": [
    "collatz_conjecture_math()"
   ]
  },
  {
   "cell_type": "code",
   "execution_count": 5,
   "id": "exempt-ethnic",
   "metadata": {},
   "outputs": [
    {
     "name": "stdout",
     "output_type": "stream",
     "text": [
      "15\n",
      "ends up to 1\n",
      "answer: 17\n"
     ]
    }
   ],
   "source": [
    "collatz_conjecture_math()"
   ]
  },
  {
   "cell_type": "code",
   "execution_count": null,
   "id": "banner-foundation",
   "metadata": {},
   "outputs": [],
   "source": []
  }
 ],
 "metadata": {
  "kernelspec": {
   "display_name": "learn-env",
   "language": "python",
   "name": "learn-env"
  },
  "language_info": {
   "codemirror_mode": {
    "name": "ipython",
    "version": 3
   },
   "file_extension": ".py",
   "mimetype": "text/x-python",
   "name": "python",
   "nbconvert_exporter": "python",
   "pygments_lexer": "ipython3",
   "version": "3.8.8"
  }
 },
 "nbformat": 4,
 "nbformat_minor": 5
}
