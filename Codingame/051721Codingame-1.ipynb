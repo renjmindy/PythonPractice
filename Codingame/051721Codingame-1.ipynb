{
 "cells": [
  {
   "cell_type": "markdown",
   "id": "national-federal",
   "metadata": {},
   "source": [
    "We are given two integers `a` and `b`. For those two integers we look for positive integers which divide both `a` and `b` (without leaving a remainder). If there does not exist such an integer besides 1, we call `a` and `b` **coprime**.\n",
    "\n",
    "``\n",
    "Input\n",
    "``\n",
    "\n",
    "Line 1: A positive integer `a`.\n",
    "\n",
    "Line 2: A positive integer `b`.\n",
    "\n",
    "``\n",
    "Output\n",
    "``\n",
    "\n",
    "The string \"**true**\" when the given integers are coprime or \"**false**\" when they are not.\n",
    "\n",
    "``\n",
    "Constraints\n",
    "``\n",
    "\n",
    "1 <= `a`, `b` <= 2 * 10^7\n",
    "\n",
    "``\n",
    "Example\n",
    "``\n",
    "\n",
    "``\n",
    "Input\n",
    "``\n",
    "\n",
    "5 \n",
    "\n",
    "6\n",
    "\n",
    "``\n",
    "Output\n",
    "``\n",
    "\n",
    "true"
   ]
  },
  {
   "cell_type": "code",
   "execution_count": 1,
   "id": "warming-technique",
   "metadata": {},
   "outputs": [
    {
     "name": "stdout",
     "output_type": "stream",
     "text": [
      "5\n",
      "6\n",
      "answer: true\n"
     ]
    }
   ],
   "source": [
    "import sys\n",
    "import math\n",
    "\n",
    "# Auto-generated code below aims at helping you parse\n",
    "# the standard input according to the problem statement.\n",
    "\n",
    "a = int(input())\n",
    "b = int(input())\n",
    "\n",
    "# Write an answer using print\n",
    "# To debug: print(\"Debug message...\", file=sys.stderr, flush=True)\n",
    "\n",
    "ans = False\n",
    "\n",
    "for i in range(2, a*b):\n",
    "    if a*b % i == 0:\n",
    "        ans = True\n",
    "        break\n",
    "    \n",
    "if ans == True:\n",
    "    print(\"answer: true\")\n",
    "else:\n",
    "    print(\"answer: false\")"
   ]
  },
  {
   "cell_type": "code",
   "execution_count": null,
   "id": "horizontal-junior",
   "metadata": {},
   "outputs": [],
   "source": []
  }
 ],
 "metadata": {
  "kernelspec": {
   "display_name": "learn-env",
   "language": "python",
   "name": "learn-env"
  },
  "language_info": {
   "codemirror_mode": {
    "name": "ipython",
    "version": 3
   },
   "file_extension": ".py",
   "mimetype": "text/x-python",
   "name": "python",
   "nbconvert_exporter": "python",
   "pygments_lexer": "ipython3",
   "version": "3.8.8"
  }
 },
 "nbformat": 4,
 "nbformat_minor": 5
}
