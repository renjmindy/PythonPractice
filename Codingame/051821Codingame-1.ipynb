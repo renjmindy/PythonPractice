{
 "cells": [
  {
   "cell_type": "markdown",
   "id": "controlling-hybrid",
   "metadata": {},
   "source": [
    "**The program:**\n",
    "\n",
    "You must output the minimum number of bits required to code given numbers.\n",
    "\n",
    "``\n",
    "Input:\n",
    "``\n",
    "\n",
    "Line 1: An integer `N` for the number of tests.\n",
    "\n",
    "**N Following lines:** An integer `X` which represents a number of to process.\n",
    "\n",
    "``\n",
    "Output:\n",
    "``\n",
    "\n",
    "For each number to process, the minimum number of bits required to code it.\n",
    "\n",
    "``\n",
    "Constraints:\n",
    "``\n",
    "\n",
    "0 < `N` < 100\n",
    "\n",
    "0 <= `X` < 1000\n",
    "\n",
    "``\n",
    "Example:\n",
    "``\n",
    "\n",
    "**Input**\n",
    "\n",
    "2\n",
    "\n",
    "1\n",
    "\n",
    "6\n",
    "\n",
    "**Output**\n",
    "\n",
    "1\n",
    "\n",
    "3"
   ]
  },
  {
   "cell_type": "code",
   "execution_count": 1,
   "id": "right-revision",
   "metadata": {},
   "outputs": [
    {
     "name": "stdout",
     "output_type": "stream",
     "text": [
      "2\n",
      "1\n",
      "result: 1\n",
      "6\n",
      "result: 3\n"
     ]
    }
   ],
   "source": [
    "import sys\n",
    "import math\n",
    "\n",
    "# Auto-generated code below aims at helping you parse\n",
    "# the standard input according to the problem statement.\n",
    "\n",
    "n = int(input())\n",
    "\n",
    "ans = 0\n",
    "\n",
    "for i in range(n):\n",
    "    x = int(input())\n",
    "    if x > 1:\n",
    "        ans = (x - 1) // 2\n",
    "        \n",
    "    ans += 1\n",
    "\n",
    "# Write an answer using print\n",
    "# To debug: print(\"Debug message...\", file=sys.stderr, flush=True)\n",
    "\n",
    "    print(f\"result: {ans}\")"
   ]
  },
  {
   "cell_type": "code",
   "execution_count": null,
   "id": "suffering-diabetes",
   "metadata": {},
   "outputs": [],
   "source": []
  }
 ],
 "metadata": {
  "kernelspec": {
   "display_name": "learn-env",
   "language": "python",
   "name": "learn-env"
  },
  "language_info": {
   "codemirror_mode": {
    "name": "ipython",
    "version": 3
   },
   "file_extension": ".py",
   "mimetype": "text/x-python",
   "name": "python",
   "nbconvert_exporter": "python",
   "pygments_lexer": "ipython3",
   "version": "3.8.8"
  }
 },
 "nbformat": 4,
 "nbformat_minor": 5
}
