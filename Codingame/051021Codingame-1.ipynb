{
 "cells": [
  {
   "cell_type": "markdown",
   "id": "organized-headquarters",
   "metadata": {},
   "source": [
    "Your program must determine if a given string would be a safe password. Here, a password is considered safe if:\n",
    "\n",
    "* It contains at least 8 characters\n",
    "\n",
    "* It contains at least 1 digit (0-9)\n",
    "\n",
    "* It contains at least 1 lowercase letter (a-z)\n",
    "\n",
    "* It contains at least 1 uppercase letter (A-Z)\n",
    "\n",
    "``\n",
    "Input\n",
    "``\n",
    "\n",
    "Line 1: `P` a string containing a password\n",
    "\n",
    "``\n",
    "Output\n",
    "``\n",
    "\n",
    "Line 1: `true` if `P` is a safe password, `false` otherwise\n",
    "\n",
    "``\n",
    "Constraints\n",
    "``\n",
    "\n",
    "0 < `P`.length < 100\n",
    "\n",
    "``\n",
    "Example\n",
    "``\n",
    "\n",
    "``\n",
    "Input\n",
    "``\n",
    "\n",
    "11/12/1978\n",
    "\n",
    "``\n",
    "Output\n",
    "``\n",
    "\n",
    "false"
   ]
  },
  {
   "cell_type": "code",
   "execution_count": 1,
   "id": "bacterial-martin",
   "metadata": {},
   "outputs": [],
   "source": [
    "def passwordCheck():\n",
    "\n",
    "    import sys\n",
    "    import math\n",
    "\n",
    "    # Auto-generated code below aims at helping you parse\n",
    "    # the standard input according to the problem statement.\n",
    "\n",
    "    s = input()\n",
    "\n",
    "    # Write an answer using print\n",
    "    # To debug: print(\"Debug message...\", file=sys.stderr, flush=True)\n",
    "    \n",
    "    found = False\n",
    "    foundDigit = False\n",
    "    foundLower = False\n",
    "    foundUpper = False\n",
    "    \n",
    "    sList = list(s)\n",
    "    \n",
    "    if len(sList) >= 8:\n",
    "        for i in sList:\n",
    "            if i.isdigit():\n",
    "                foundDigit = True\n",
    "            elif i.islower():\n",
    "                foundLower = True\n",
    "            elif i.isupper():\n",
    "                foundUpper = True\n",
    "            else:\n",
    "                continue\n",
    "                \n",
    "        if foundDigit and foundLower and foundUpper:\n",
    "            found = True\n",
    "\n",
    "    if found:\n",
    "        checkPassword = 'true'\n",
    "    else:\n",
    "        checkPassword = 'false'\n",
    "    \n",
    "    \n",
    "    print(f\"true/false: {checkPassword}!!!\")\n",
    "    \n",
    "    pass"
   ]
  },
  {
   "cell_type": "code",
   "execution_count": 2,
   "id": "aerial-activity",
   "metadata": {},
   "outputs": [
    {
     "name": "stdout",
     "output_type": "stream",
     "text": [
      "11/12/1978\n",
      "true/false: false!!!\n"
     ]
    }
   ],
   "source": [
    "passwordCheck()"
   ]
  },
  {
   "cell_type": "code",
   "execution_count": 3,
   "id": "ahead-logistics",
   "metadata": {},
   "outputs": [
    {
     "name": "stdout",
     "output_type": "stream",
     "text": [
      "IamPassword1234\n",
      "true/false: true!!!\n"
     ]
    }
   ],
   "source": [
    "passwordCheck()"
   ]
  },
  {
   "cell_type": "code",
   "execution_count": null,
   "id": "integral-percentage",
   "metadata": {},
   "outputs": [],
   "source": []
  }
 ],
 "metadata": {
  "kernelspec": {
   "display_name": "learn-env",
   "language": "python",
   "name": "learn-env"
  },
  "language_info": {
   "codemirror_mode": {
    "name": "ipython",
    "version": 3
   },
   "file_extension": ".py",
   "mimetype": "text/x-python",
   "name": "python",
   "nbconvert_exporter": "python",
   "pygments_lexer": "ipython3",
   "version": "3.8.8"
  }
 },
 "nbformat": 4,
 "nbformat_minor": 5
}
