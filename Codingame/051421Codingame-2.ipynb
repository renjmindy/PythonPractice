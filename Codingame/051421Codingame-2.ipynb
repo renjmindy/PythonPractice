{
 "cells": [
  {
   "cell_type": "markdown",
   "id": "professional-warrior",
   "metadata": {},
   "source": [
    "The game model is **REVERSE**: You don't have access to the statement. You have to guess what to do by observing the following set of tests:\n",
    "\n",
    "``\n",
    "01 Test 1\n",
    "``\n",
    "\n",
    "``\n",
    "Input\n",
    "``\n",
    "\n",
    "3\n",
    "\n",
    "4\n",
    "\n",
    "``\n",
    "Expected Output\n",
    "``\n",
    "\n",
    ">> 21\n",
    "\n",
    "``\n",
    "02 Test 2\n",
    "``\n",
    "\n",
    "``\n",
    "Input\n",
    "``\n",
    "\n",
    "2 \n",
    "\n",
    "8\n",
    "\n",
    "``\n",
    "Expected Output\n",
    "``\n",
    "\n",
    ">> 20\n",
    "\n",
    "``\n",
    "03 Test 3\n",
    "``\n",
    "\n",
    "``\n",
    "Input\n",
    "``\n",
    "\n",
    "0\n",
    "\n",
    "8\n",
    "\n",
    "``\n",
    "Expected Output\n",
    "``\n",
    "\n",
    ">> 0\n",
    "\n",
    "``\n",
    "04 Test 4\n",
    "``\n",
    "\n",
    "``\n",
    "Input\n",
    "``\n",
    "\n",
    "27 \n",
    "\n",
    "6\n",
    "\n",
    "``\n",
    "Expected Output\n",
    "``\n",
    "\n",
    ">> 891"
   ]
  },
  {
   "cell_type": "code",
   "execution_count": 1,
   "id": "seven-subject",
   "metadata": {},
   "outputs": [],
   "source": [
    "def guess_number():\n",
    "\n",
    "    import sys\n",
    "    import math\n",
    "\n",
    "    # Auto-generated code below aims at helping you parse\n",
    "    # the standard input according to the problem statement.\n",
    "\n",
    "    x = input()\n",
    "    y = input()\n",
    "\n",
    "    # Write an answer using print\n",
    "    # To debug: print(\"Debug message...\", file=sys.stderr, flush=True)\n",
    "    \n",
    "    ans = 0\n",
    "    \n",
    "    ans = (int(x) + int(y)) * int(x)\n",
    "    \n",
    "    print(f\"answer: {ans}\")\n",
    "    \n",
    "    pass"
   ]
  },
  {
   "cell_type": "code",
   "execution_count": 2,
   "id": "facial-configuration",
   "metadata": {},
   "outputs": [
    {
     "name": "stdout",
     "output_type": "stream",
     "text": [
      "3\n",
      "4\n",
      "answer: 21\n"
     ]
    }
   ],
   "source": [
    "guess_number()"
   ]
  },
  {
   "cell_type": "code",
   "execution_count": 3,
   "id": "awful-spouse",
   "metadata": {},
   "outputs": [
    {
     "name": "stdout",
     "output_type": "stream",
     "text": [
      "2\n",
      "8\n",
      "answer: 20\n"
     ]
    }
   ],
   "source": [
    "guess_number()"
   ]
  },
  {
   "cell_type": "code",
   "execution_count": 4,
   "id": "lasting-population",
   "metadata": {},
   "outputs": [
    {
     "name": "stdout",
     "output_type": "stream",
     "text": [
      "0\n",
      "8\n",
      "answer: 0\n"
     ]
    }
   ],
   "source": [
    "guess_number()"
   ]
  },
  {
   "cell_type": "code",
   "execution_count": 5,
   "id": "formal-massage",
   "metadata": {},
   "outputs": [
    {
     "name": "stdout",
     "output_type": "stream",
     "text": [
      "27\n",
      "6\n",
      "answer: 891\n"
     ]
    }
   ],
   "source": [
    "guess_number()"
   ]
  },
  {
   "cell_type": "code",
   "execution_count": null,
   "id": "collected-tennis",
   "metadata": {},
   "outputs": [],
   "source": []
  }
 ],
 "metadata": {
  "kernelspec": {
   "display_name": "learn-env",
   "language": "python",
   "name": "learn-env"
  },
  "language_info": {
   "codemirror_mode": {
    "name": "ipython",
    "version": 3
   },
   "file_extension": ".py",
   "mimetype": "text/x-python",
   "name": "python",
   "nbconvert_exporter": "python",
   "pygments_lexer": "ipython3",
   "version": "3.8.8"
  }
 },
 "nbformat": 4,
 "nbformat_minor": 5
}
