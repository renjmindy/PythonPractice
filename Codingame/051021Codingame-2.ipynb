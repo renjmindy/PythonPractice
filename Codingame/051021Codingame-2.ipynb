{
 "cells": [
  {
   "cell_type": "markdown",
   "id": "indian-philadelphia",
   "metadata": {},
   "source": [
    "You must output for each participant in a race the traveled **distance** (in **meters**) at a given speed `S` (centimeters/second) in given amount of time `T` (minutes).\n",
    "\n",
    "``\n",
    "Input\n",
    "``\n",
    "\n",
    "Line 1: An integer `N` for the number of participants\n",
    "\n",
    "Next `N` lines: Two space separated integers `S` and `T` representing respectively the speed `S` and the time `T`\n",
    "\n",
    "``\n",
    "Output\n",
    "``\n",
    "\n",
    "`N` Lines: An integer representing the **distance** traveled\n",
    "\n",
    "``\n",
    "Constraints\n",
    "``\n",
    "\n",
    "0 <= `S` <= 150\n",
    "\n",
    "0 <= `T` <= 100000\n",
    "\n",
    "``\n",
    "Example\n",
    "``\n",
    "\n",
    "``\n",
    "Input\n",
    "``\n",
    "\n",
    "1\n",
    "\n",
    "20 10\n",
    "\n",
    "``\n",
    "Output\n",
    "``\n",
    "\n",
    "120"
   ]
  },
  {
   "cell_type": "code",
   "execution_count": null,
   "id": "adverse-bridal",
   "metadata": {},
   "outputs": [],
   "source": [
    "import sys\n",
    "import math\n",
    "\n",
    "# Auto-generated code below aims at helping you parse\n",
    "# the standard input according to the problem statement.\n",
    "\n",
    "n = int(input())\n",
    "\n",
    "for i in range(n):\n",
    "    s, t = [int(j) for j in input().split()]\n",
    "\n",
    "# Write an answer using print\n",
    "# To debug: print(\"Debug message...\", file=sys.stderr, flush=True)\n",
    "\n",
    "print(\"answer\")"
   ]
  },
  {
   "cell_type": "code",
   "execution_count": 1,
   "id": "registered-visitor",
   "metadata": {},
   "outputs": [],
   "source": [
    "def calculate_dist(n, s, t):\n",
    "    \n",
    "    d = []\n",
    "    \n",
    "    for i in range(0, n, 1):\n",
    "        s[i] /= 100\n",
    "        t[i] *= 60\n",
    "        d.append(int(s[i]*t[i]))\n",
    "        \n",
    "    return d"
   ]
  },
  {
   "cell_type": "code",
   "execution_count": 2,
   "id": "central-contact",
   "metadata": {},
   "outputs": [
    {
     "data": {
      "text/plain": [
       "[120]"
      ]
     },
     "execution_count": 2,
     "metadata": {},
     "output_type": "execute_result"
    }
   ],
   "source": [
    "n = 1\n",
    "s = [20]\n",
    "t = [10]\n",
    "calculate_dist(n, s, t)"
   ]
  },
  {
   "cell_type": "code",
   "execution_count": null,
   "id": "announced-government",
   "metadata": {},
   "outputs": [],
   "source": []
  }
 ],
 "metadata": {
  "kernelspec": {
   "display_name": "learn-env",
   "language": "python",
   "name": "learn-env"
  },
  "language_info": {
   "codemirror_mode": {
    "name": "ipython",
    "version": 3
   },
   "file_extension": ".py",
   "mimetype": "text/x-python",
   "name": "python",
   "nbconvert_exporter": "python",
   "pygments_lexer": "ipython3",
   "version": "3.8.8"
  }
 },
 "nbformat": 4,
 "nbformat_minor": 5
}
