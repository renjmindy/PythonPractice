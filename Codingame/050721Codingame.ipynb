{
 "cells": [
  {
   "cell_type": "markdown",
   "id": "caring-projection",
   "metadata": {},
   "source": [
    "The game mode is **REVERSE**: You do not have access to the statement. You have to guess what to do by observing the following set of tests:\n",
    "\n",
    "## Test 1\n",
    "\n",
    "``\n",
    "Input\n",
    "``\n",
    "\n",
    "3\n",
    "\n",
    "Tokyo 37\n",
    "\n",
    "Paris 10\n",
    "\n",
    "London 9\n",
    "\n",
    "Lon\n",
    "\n",
    "``\n",
    "Expected Output\n",
    "``\n",
    "\n",
    "9\n",
    "\n",
    "## Test 2\n",
    "\n",
    "``\n",
    "Input\n",
    "``\n",
    "\n",
    "4\n",
    "\n",
    "Shanghai 25\n",
    "\n",
    "Madrid 6\n",
    "\n",
    "Bangkok 10\n",
    "\n",
    "Manila 13\n",
    "\n",
    "Ma\n",
    "\n",
    "``\n",
    "Expected Output\n",
    "``\n",
    "\n",
    "19\n",
    "\n",
    "### Test 3\n",
    "\n",
    "``\n",
    "Input\n",
    "``\n",
    "\n",
    "2\n",
    "\n",
    "Toronto 6\n",
    "\n",
    "Rome 4\n",
    "\n",
    "Mex\n",
    "\n",
    "``\n",
    "Expected Output\n",
    "``\n",
    "\n",
    "0\n",
    "\n",
    "## Test 4\n",
    "\n",
    "``\n",
    "Input\n",
    "``\n",
    "\n",
    "3\n",
    "\n",
    "Osaka 19\n",
    "\n",
    "Wuhan 8\n",
    "\n",
    "Sydney 4\n",
    "\n",
    "sak\n",
    "\n",
    "``\n",
    "Expected Output\n",
    "``\n",
    "\n",
    "19"
   ]
  },
  {
   "cell_type": "code",
   "execution_count": null,
   "id": "robust-administrator",
   "metadata": {},
   "outputs": [],
   "source": [
    "import sys\n",
    "import math\n",
    "\n",
    "# Auto-generated code below aims at helping you parse\n",
    "# the standard input according to the problem statement.\n",
    "\n",
    "n = int(input())\n",
    "\n",
    "for i in range(0, n, 1):\n",
    "    inputs = input().split()\n",
    "    city = inputs[0]\n",
    "    population = int(inputs[1])\n",
    "search = input()\n",
    "\n",
    "# Write an answer using print\n",
    "# To debug: print(\"Debug message...\", file=sys.stderr, flush=True)\n",
    "\n",
    "print(\"total\")"
   ]
  },
  {
   "cell_type": "code",
   "execution_count": 1,
   "id": "civic-japanese",
   "metadata": {},
   "outputs": [],
   "source": [
    "def search(n, city, population, stra=''):\n",
    "    \n",
    "    total = 0\n",
    "    \n",
    "    for i in range(0, n, 1):\n",
    "        cList = list(city[i])\n",
    "        if stra[0].isupper():\n",
    "            if stra == ''.join(cList[0:len(stra)]):\n",
    "                total += population[i]\n",
    "            else:\n",
    "                total += 0   \n",
    "        else:\n",
    "            if stra[0] in cList:\n",
    "                for j in range(0, len(cList), 1):\n",
    "                    if stra[0] == cList[j]:\n",
    "                        if stra == ''.join(cList[j:len(stra)+1]):\n",
    "                            total += population[i]\n",
    "                        else:\n",
    "                            total += 0\n",
    "            else:\n",
    "                total += 0\n",
    "            \n",
    "    return total"
   ]
  },
  {
   "cell_type": "code",
   "execution_count": 2,
   "id": "individual-pencil",
   "metadata": {},
   "outputs": [
    {
     "name": "stdout",
     "output_type": "stream",
     "text": [
      "total: 9\n"
     ]
    }
   ],
   "source": [
    "n = 3\n",
    "city = ['Tokyo', 'Paris', 'London']\n",
    "population = [37, 10, 9]\n",
    "stra = 'Lon'\n",
    "print(f\"total: {search(n, city, population, stra)}\")"
   ]
  },
  {
   "cell_type": "code",
   "execution_count": 3,
   "id": "wrapped-bahamas",
   "metadata": {},
   "outputs": [
    {
     "name": "stdout",
     "output_type": "stream",
     "text": [
      "total: 19\n"
     ]
    }
   ],
   "source": [
    "n = 4\n",
    "city = ['Shanghai', 'Madrid', 'Bangkok', 'Manila']\n",
    "population = [25, 6, 10, 13]\n",
    "stra = 'Ma'\n",
    "print(f\"total: {search(n, city, population, stra)}\")"
   ]
  },
  {
   "cell_type": "code",
   "execution_count": 4,
   "id": "entitled-heath",
   "metadata": {},
   "outputs": [
    {
     "name": "stdout",
     "output_type": "stream",
     "text": [
      "total: 0\n"
     ]
    }
   ],
   "source": [
    "n = 2\n",
    "city = ['Toronto', 'Rome']\n",
    "population = [6, 4]\n",
    "stra = 'Mex'\n",
    "print(f\"total: {search(n, city, population, stra)}\")"
   ]
  },
  {
   "cell_type": "code",
   "execution_count": 5,
   "id": "quality-species",
   "metadata": {},
   "outputs": [
    {
     "name": "stdout",
     "output_type": "stream",
     "text": [
      "total: 19\n"
     ]
    }
   ],
   "source": [
    "n = 3\n",
    "city = ['Osaka', 'Wuhan', 'Sydney'] \n",
    "population = [19, 8, 4]\n",
    "stra = 'sak'\n",
    "print(f\"total: {search(n, city, population, stra)}\")"
   ]
  },
  {
   "cell_type": "code",
   "execution_count": null,
   "id": "modified-employee",
   "metadata": {},
   "outputs": [],
   "source": []
  }
 ],
 "metadata": {
  "kernelspec": {
   "display_name": "learn-env",
   "language": "python",
   "name": "learn-env"
  },
  "language_info": {
   "codemirror_mode": {
    "name": "ipython",
    "version": 3
   },
   "file_extension": ".py",
   "mimetype": "text/x-python",
   "name": "python",
   "nbconvert_exporter": "python",
   "pygments_lexer": "ipython3",
   "version": "3.8.8"
  }
 },
 "nbformat": 4,
 "nbformat_minor": 5
}
