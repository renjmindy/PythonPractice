{
 "cells": [
  {
   "cell_type": "markdown",
   "metadata": {},
   "source": [
    "**Amazon Simple Storage Service (Amazon S3)** is an object storage service that offers scalability, data availability, security, and performance.\n",
    "\n",
    "\n",
    "Amazon S3 is designed for 99.999999999% (11 9's) of durability, and stores data for millions of applications for companies all around the world.\n",
    "\n",
    "\n",
    "An **Amazon S3 bucket** is a storage location to hold files. S3 files are referred to as **objects**.\n",
    "\n",
    "\n",
    "\n",
    "**Boto 3** Boto3 is the Amazon Web Services (AWS) Software Development Kit (SDK) for Python, which allows Python developers to write software that makes use of services like Amazon S3 and Amazon EC2.\n"
   ]
  },
  {
   "cell_type": "markdown",
   "metadata": {},
   "source": [
    "**Create an Amazon S3 bucket**\n",
    "\n",
    "The name of an Amazon S3 bucket must be unique across all regions of the AWS platform. The bucket can be located in a specific region to minimize latency or to address regulatory requirements."
   ]
  },
  {
   "cell_type": "code",
   "execution_count": null,
   "metadata": {},
   "outputs": [],
   "source": [
    "import logging\n",
    "import boto3\n",
    "from botocore.exceptions import ClientError"
   ]
  },
  {
   "cell_type": "code",
   "execution_count": null,
   "metadata": {},
   "outputs": [],
   "source": [
    "AWS_ACCESS_KEY_ID = ''\n",
    "AWS_SECRET_ACCESS_KEY = ''\n",
    "\n",
    "s3_client = boto3.client('s3', 'us-east-2',\n",
    "                          aws_access_key_id = AWS_ACCESS_KEY_ID,\n",
    "                          aws_secret_key_id = AWS_SECRET_ACCESS_KEY)\n",
    "\n",
    "location = {'LocationConstraint': 'us-east-2'}\n",
    "s3_client.create_bucket(Bucket = 'mindy-coursera', \n",
    "CreateBucketConfiguration = location)"
   ]
  },
  {
   "cell_type": "markdown",
   "metadata": {},
   "source": [
    "## Listing Buckets"
   ]
  },
  {
   "cell_type": "code",
   "execution_count": null,
   "metadata": {},
   "outputs": [],
   "source": [
    "response = s3_client.list_buckets()\n",
    "\n",
    "for bucket in response['Buckets']:\n",
    "    print(bucket['Name'])"
   ]
  },
  {
   "cell_type": "markdown",
   "metadata": {},
   "source": [
    "## Uploading files\n"
   ]
  },
  {
   "cell_type": "code",
   "execution_count": null,
   "metadata": {},
   "outputs": [],
   "source": [
    "file_name = 'flower_image.jpeg'\n",
    "bucket_name = 'mindy-coursera'\n",
    "object_name = file_name\n",
    "\n",
    "response = s3_client.upload_file(file_name, bucket_name, object_name)"
   ]
  },
  {
   "cell_type": "markdown",
   "metadata": {},
   "source": [
    "## Upload as File Object"
   ]
  },
  {
   "cell_type": "code",
   "execution_count": null,
   "metadata": {},
   "outputs": [],
   "source": [
    "with open(file_name, 'rb') as f:\n",
    "    s3_client.upload_fileobj(f, bucket_name, 'flower_image_file_obj.jpeg')"
   ]
  },
  {
   "cell_type": "markdown",
   "metadata": {},
   "source": [
    "## Extra Args\n",
    "Both upload_file and upload_fileobj accept an optional ExtraArgs parameter that can be used for various purposes.\n",
    "\n",
    "Some Important ExtraArgs\n"
   ]
  },
  {
   "cell_type": "code",
   "execution_count": null,
   "metadata": {},
   "outputs": [],
   "source": [
    "file_name = 'flower_image.jpeg'\n",
    "bucket_name = 'mindy-coursera'\n",
    "object_name = 'flower_image_public.jpeg'\n",
    "\n",
    "response = s3_client.upload_file(file_name, bucket_name, object_name, \n",
    "                                 ExtraArgs = {'ACL':'public-read'})"
   ]
  },
  {
   "cell_type": "markdown",
   "metadata": {},
   "source": [
    "## Downloading files\n",
    "\n",
    "The methods provided by the AWS SDK for Python to download files are similar to those provided to upload files.\n",
    "\n",
    "\n",
    "The download_file method accepts the names of the bucket and object to download and the filename to save the file to."
   ]
  },
  {
   "cell_type": "code",
   "execution_count": null,
   "metadata": {},
   "outputs": [],
   "source": [
    "s3_client.download_file(bucket_name, 'flower_image_public.jpeg', 'flower_image_s3.jpeg')"
   ]
  },
  {
   "cell_type": "code",
   "execution_count": null,
   "metadata": {},
   "outputs": [],
   "source": [
    "with open('flower_image_write.jpeg', 'wb') as f:\n",
    "    s3_client.download_fileobj(bucket_name, object_name, f)"
   ]
  },
  {
   "cell_type": "markdown",
   "metadata": {},
   "source": [
    "## File transfer configuration\n",
    "\n",
    "\n",
    "When uploading, downloading, or copying a file or S3 object, the AWS SDK for Python automatically manages retries and multipart and non-multipart transfers.\n",
    "\n",
    "The management operations are performed by using reasonable default settings that are well-suited for most scenarios. To handle a special case, the default settings can be configured to meet requirements.\n",
    "\n",
    "## Multipart transfers\n",
    "\n",
    "Multipart transfers occur when the file size exceeds the value of the multipart_threshold attribute.\n"
   ]
  },
  {
   "cell_type": "code",
   "execution_count": null,
   "metadata": {},
   "outputs": [],
   "source": [
    "from boto3.s3.transfer import TransferConfig \n",
    "GB = 1024**3\n",
    "config = TransferConfig(multipart_threshold = 5*GB)\n",
    "s3_client.upload_file(file_name, bucket_name, 'flower_multi_transfer.jpeg', Config = config)"
   ]
  },
  {
   "cell_type": "markdown",
   "metadata": {},
   "source": [
    "## Presigned URLs\n",
    "\n",
    "A user who does not have AWS credentials or permission to access an S3 object can be granted temporary access by using a presigned URL.\n",
    "\n",
    "A presigned URL is generated by an AWS user who has access to the object. The generated URL is then given to the unauthorized user. The presigned URL can be entered in a browser or used by a program or HTML webpage. The credentials used by the presigned URL are those of the AWS user who generated the URL.\n",
    "\n",
    "A presigned URL remains valid for a limited period of time which is specified when the URL is generated."
   ]
  },
  {
   "cell_type": "code",
   "execution_count": null,
   "metadata": {},
   "outputs": [],
   "source": [
    "response_pre_signed = s3_client.generate_presigned_url('get_object', \n",
    "Params = {'Bucket':bucket_name, 'Key':'flower_multi_transfer.jpeg'}, \n",
    "ExpiresIn = 3600)\n",
    "print(response_pre_signed)"
   ]
  },
  {
   "cell_type": "markdown",
   "metadata": {},
   "source": [
    "## Bucket policies\n",
    "\n",
    "An S3 bucket can have an optional policy that grants access permissions to other AWS accounts or AWS Identity and Access Management (IAM) users. Bucket policies are defined using the same JSON format as a resource-based IAM policy."
   ]
  },
  {
   "cell_type": "markdown",
   "metadata": {},
   "source": [
    "## Retrieve a Bucket Policy"
   ]
  },
  {
   "cell_type": "code",
   "execution_count": null,
   "metadata": {},
   "outputs": [],
   "source": [
    "result = s3_client.get_bucket_policy(Bucket = 'mindy-coursera')\n",
    "print(result['Policy'])"
   ]
  },
  {
   "cell_type": "markdown",
   "metadata": {},
   "source": [
    "## Set a bucket policy\n",
    "\n",
    "A bucket's policy can be set by calling the put_bucket_policy method.\n",
    "\n",
    "The policy is defined in the same JSON format as an IAM policy. \n",
    "\n"
   ]
  },
  {
   "cell_type": "markdown",
   "metadata": {},
   "source": [
    "## Policy Format\n",
    "\n",
    "The **Sid (statement ID)** is an optional identifier that you provide for the policy statement. You can assign a Sid value to each statement in a statement array.\n",
    "\n",
    "The **Effect** element is required and specifies whether the statement results in an allow or an explicit deny. Valid values for Effect are Allow and Deny.\n",
    "\n",
    "By default, access to resources is denied. \n",
    "\n",
    "Use the **Principal** element in a policy to specify the principal that is allowed or denied access to a resource.\n",
    "\n",
    "You can specify any of the following principals in a policy:\n",
    "\n",
    "- AWS account and root user\n",
    "- IAM users\n",
    "- Federated users (using web identity or SAML federation)\n",
    "- IAM roles\n",
    "- Assumed-role sessions\n",
    "- AWS services\n",
    "- Anonymous users\n",
    "\n",
    "\n",
    "The **Action** element describes the specific action or actions that will be allowed or denied. \n",
    "\n",
    "We specify a value using a service namespace as an action prefix (iam, ec2, sqs, sns, s3, etc.) followed by the name of the action to allow or deny.\n",
    "\n",
    "The **Resource** element specifies the object or objects that the statement covers. We specify a resource using an ARN. Amazon Resource Names (ARNs) uniquely identify AWS resources."
   ]
  },
  {
   "cell_type": "markdown",
   "metadata": {},
   "source": [
    "Let's define a policy that enables any user to retrieve any object stored in the bucket identified by the bucket_name variable."
   ]
  },
  {
   "cell_type": "code",
   "execution_count": null,
   "metadata": {},
   "outputs": [],
   "source": [
    "import json\n",
    "bucket_name = 'mindy-coursera'\n",
    "bucket_policy = {\n",
    "    'Version':'2012-10-17',\n",
    "    'Statement':[{\n",
    "        'Sid':'AddPerm',\n",
    "        'Effect':'Allow',\n",
    "        'Principal':'*',\n",
    "        'Action':['s3:GetObject'],\n",
    "        'Resource':f'arn:aws:s3:::{bucket_name}/*'\n",
    "    }]\n",
    "}\n",
    "\n",
    "bucket_policy = json.dumps(bucket_policy)\n",
    "s3_client.put_bucket_policy(Bucket = bucket_name, Policy = bucket_policy)"
   ]
  },
  {
   "cell_type": "code",
   "execution_count": null,
   "metadata": {},
   "outputs": [],
   "source": [
    "result = s3_client.get_bucket_policy(Bucket = 'mindy-coursera')\n",
    "print(result['Policy'])"
   ]
  },
  {
   "cell_type": "markdown",
   "metadata": {},
   "source": [
    "## Delete a bucket policy\n"
   ]
  },
  {
   "cell_type": "code",
   "execution_count": null,
   "metadata": {},
   "outputs": [],
   "source": [
    "s3_client.delete_bucket_policy(Bucket = 'mindy-coursera')"
   ]
  },
  {
   "cell_type": "markdown",
   "metadata": {},
   "source": [
    "## CORS Configuration\n",
    "\n",
    "Cross Origin Resource Sharing (CORS) enables client web applications in one domain to access resources in another domain. An S3 bucket can be configured to enable cross-origin requests. The configuration defines rules that specify the allowed origins, HTTP methods (GET, PUT, etc.), and other elements."
   ]
  },
  {
   "cell_type": "markdown",
   "metadata": {},
   "source": [
    "## Retrieve a bucket CORS configuration\n",
    "\n",
    "Retrieve a bucket's CORS configuration by calling the AWS SDK for Python get_bucket_cors method.\n"
   ]
  },
  {
   "cell_type": "code",
   "execution_count": null,
   "metadata": {},
   "outputs": [],
   "source": [
    "response = s3_client.get_bucket_cors(Bucket = 'mindy-coursera')\n",
    "print(response(['CORSRules']))"
   ]
  },
  {
   "cell_type": "markdown",
   "metadata": {},
   "source": [
    "## Set Bucket CORS"
   ]
  },
  {
   "cell_type": "code",
   "execution_count": null,
   "metadata": {},
   "outputs": [],
   "source": [
    "cors_configuration = {\n",
    "    'CORSRules':[\n",
    "        {'AllowedHeaders':['Authorization'],\n",
    "         'AllowedMethods':['GET', 'PUT'],\n",
    "         'AllowedOrigins':[\"*\"],\n",
    "         'ExposeHeaders':['GET', 'PUT'],\n",
    "         'MaxAgeSeconds':3000\n",
    "        }\n",
    "    ]\n",
    "}\n",
    "\n",
    "s3_client.put_bucket_cors(Bucket = bucket_name, CORSConfiguration = cors_configuration)"
   ]
  },
  {
   "cell_type": "code",
   "execution_count": null,
   "metadata": {},
   "outputs": [],
   "source": [
    "response = s3_client.get_bucket_cors(Bucket = 'mindy-coursera')\n",
    "print(response(['CORSRules']))"
   ]
  }
 ],
 "metadata": {
  "interpreter": {
   "hash": "026bef784f9c2188dd086f810eba4fbdf22b75f78dee2e790c269b540c1adf50"
  },
  "kernelspec": {
   "display_name": "Python 3.9.7 64-bit",
   "name": "python3"
  },
  "language_info": {
   "codemirror_mode": {
    "name": "ipython",
    "version": 3
   },
   "file_extension": ".py",
   "mimetype": "text/x-python",
   "name": "python",
   "nbconvert_exporter": "python",
   "pygments_lexer": "ipython3",
   "version": "3.9.7"
  }
 },
 "nbformat": 4,
 "nbformat_minor": 4
}
