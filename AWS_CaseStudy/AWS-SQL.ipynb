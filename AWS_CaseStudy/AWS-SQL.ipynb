{
 "cells": [
  {
   "cell_type": "markdown",
   "id": "saved-bacon",
   "metadata": {},
   "source": [
    "### Amazon Customer Reviews Dataset columns\n",
    "\n",
    "For this notebook, we will query a subset of reviews for the `Digital Software`, `Digital Video Games`, and `Gift Card` product categories.\n",
    "\n",
    "* marketplace: 2-letter country code (in this case all \"US\").\n",
    "\n",
    "* customer_id: Random identifier that can be used to aggregate reviews written by a single author.\n",
    "\n",
    "* review_id: A unique ID for the review.\n",
    "\n",
    "* product_id: The Amazon Standard Identification Number (ASIN). http://www.amazon.com/dp/<ASIN> links to the product's detail page.\n",
    "\n",
    "* product_parent: The parent of that ASIN. Multiple ASINs (color or format variations of the same product) can roll up into a single parent.\n",
    "    \n",
    "* product_title: Title description of the product.\n",
    "\n",
    "* product_category: Broad product category that can be used to group reviews (in this case digital videos).\n",
    "\n",
    "* star_rating: The review's rating (1 to 5 stars).\n",
    "\n",
    "* helpful_votes: Number of helpful votes for the review.\n",
    "\n",
    "* total_votes: Number of total votes the review received.\n",
    "\n",
    "* vine: Was the review written as part of the Vine program?\n",
    "    \n",
    "* verified_purchase: Was the review from a verified purchase?\n",
    "\n",
    "* review_headline: The title of the review itself.\n",
    "\n",
    "* review_body: The text of the review.\n",
    "\n",
    "* review_date: The date the review was written.\n",
    "    \n",
    "* year: The year derived from the review date."
   ]
  },
  {
   "cell_type": "markdown",
   "id": "laden-banner",
   "metadata": {},
   "source": [
    "## 1. Which Product Categories are Highest Rated by Average Rating?"
   ]
  },
  {
   "cell_type": "code",
   "execution_count": null,
   "id": "purple-phoenix",
   "metadata": {},
   "outputs": [],
   "source": [
    "# SQL statement\n",
    "statement = \"\"\"\n",
    "    SELECT product_category, AVG(star_rating) AS Avg_Star_Rating \n",
    "    FROM {}.{} \n",
    "    WHERE product_category in ('Digital Software', 'Digital Video Games', 'Gift Card')\n",
    "    GROUP BY product_category\n",
    "    ORDER BY Avg_Star_Rating DESC\n",
    "\"\"\".format(\n",
    "    database_name, table_name\n",
    ")\n",
    "\n",
    "print(statement)\n",
    "\n",
    "df = pd.read_sql(statement, conn)\n",
    "df.head(5)"
   ]
  },
  {
   "cell_type": "markdown",
   "id": "naked-hanging",
   "metadata": {},
   "source": [
    "## 2. Which Product Categories Have the Most Reviews?"
   ]
  },
  {
   "cell_type": "code",
   "execution_count": null,
   "id": "swedish-introduction",
   "metadata": {},
   "outputs": [],
   "source": [
    "# SQL statement\n",
    "statement = \"\"\"\n",
    "    SELECT product_category, COUNT(star_rating) AS Count_Star_Rating\n",
    "    FROM {}.{}\n",
    "    WHERE product_category in ('Digital Software', 'Digital Video Games', 'Gift Card')\n",
    "    GROUP BY product_category\n",
    "    ORDER BY Count_Star_Rating DESC\n",
    "\"\"\".format(\n",
    "    database_name, table_name\n",
    ")\n",
    "\n",
    "print(statement)\n",
    "\n",
    "df = pd.read_sql(statement, conn)\n",
    "df.head(5)"
   ]
  },
  {
   "cell_type": "markdown",
   "id": "noted-native",
   "metadata": {},
   "source": [
    "## 3. When did each product category become available in the Amazon catalog based on the date of the first review?"
   ]
  },
  {
   "cell_type": "code",
   "execution_count": null,
   "id": "collective-mouse",
   "metadata": {},
   "outputs": [],
   "source": [
    "# SQL statement\n",
    "statement = \"\"\"\n",
    "    SELECT product_category, MIN(year) AS first_review_year\n",
    "    FROM {}.{}\n",
    "    WHERE product_category in ('Digital Software', 'Digital Video Games', 'Gift Card')\n",
    "    GROUP BY product_category\n",
    "    ORDER BY first_review_year \n",
    "\"\"\".format(\n",
    "    database_name, table_name\n",
    ")\n",
    "\n",
    "print(statement)\n",
    "\n",
    "df = pd.read_sql(statement, conn)\n",
    "df.head(5)"
   ]
  },
  {
   "cell_type": "markdown",
   "id": "entitled-dealer",
   "metadata": {},
   "source": [
    "## 4. What is the breakdown of ratings (1-5) per product category?"
   ]
  },
  {
   "cell_type": "code",
   "execution_count": null,
   "id": "promotional-masters",
   "metadata": {},
   "outputs": [],
   "source": [
    "# SQL statement\n",
    "statement = \"\"\"\n",
    "    SELECT product_category, star_rating, COUNT(*) AS Count_Review\n",
    "    FROM {}.{}\n",
    "    WHERE product_category in ('Digital_Software', 'Gift_Card', 'Digital_Video_Games') \n",
    "    GROUP BY product_category, star_rating\n",
    "    ORDER BY product_category ASC, star_rating DESC, Count_Review \n",
    "\"\"\".format(\n",
    "    database_name, table_name\n",
    ")\n",
    "\n",
    "print(statement)\n",
    "\n",
    "df = pd.read_sql(statement, conn)\n",
    "df.head(5)"
   ]
  },
  {
   "cell_type": "markdown",
   "id": "elder-thompson",
   "metadata": {},
   "source": [
    "## 5. How Many Reviews per Star Rating? (5, 4, 3, 2, 1)"
   ]
  },
  {
   "cell_type": "code",
   "execution_count": null,
   "id": "planned-generator",
   "metadata": {},
   "outputs": [],
   "source": [
    "# SQL statement\n",
    "statement = \"\"\"\n",
    "    SELECT star_rating, COUNT(*) AS Count_Review\n",
    "    FROM {}.{}\n",
    "    WHERE product_category in ('Digital_Software', 'Gift_Card', 'Digital_Video_Games') \n",
    "    GROUP BY star_rating\n",
    "    ORDER BY star_rating DESC, Count_Review \n",
    "\"\"\".format(\n",
    "    database_name, table_name\n",
    ")\n",
    "\n",
    "print(statement)\n",
    "\n",
    "df = pd.read_sql(statement, conn)\n",
    "df.head(5)"
   ]
  },
  {
   "cell_type": "markdown",
   "id": "coupled-population",
   "metadata": {},
   "source": [
    "## 6. How Did Star Ratings Change Over Time?"
   ]
  },
  {
   "cell_type": "code",
   "execution_count": null,
   "id": "broke-humidity",
   "metadata": {},
   "outputs": [],
   "source": [
    "# SQL statement\n",
    "statement = \"\"\"\n",
    "    SELECT year, ROUND(AVG(star_rating), 4) AS Avg_Star_Rating\n",
    "    FROM {}.{}\n",
    "    WHERE product_category in ('Digital_Software', 'Gift_Card', 'Digital_Video_Games') \n",
    "    GROUP BY year\n",
    "    ORDER BY year\n",
    "\"\"\".format(\n",
    "    database_name, table_name\n",
    ")\n",
    "\n",
    "print(statement)\n",
    "\n",
    "df = pd.read_sql(statement, conn)\n",
    "df.head(5)"
   ]
  },
  {
   "cell_type": "markdown",
   "id": "expected-right",
   "metadata": {},
   "source": [
    "## 7. Which Star Ratings (1-5) are Most Helpful?"
   ]
  },
  {
   "cell_type": "code",
   "execution_count": null,
   "id": "animated-minimum",
   "metadata": {},
   "outputs": [],
   "source": [
    "# SQL statement\n",
    "statement = \"\"\"\n",
    "    SELECT star_rating, AVG(helpful_votes) AS Avg_Helpful_Vote\n",
    "    FROM {}.{}\n",
    "    WHERE product_category in ('Digital_Software', 'Gift_Card', 'Digital_Video_Games') \n",
    "    GROUP BY star_rating\n",
    "    ORDER BY star_rating ASC\n",
    "\"\"\".format(\n",
    "    database_name, table_name\n",
    ")\n",
    "\n",
    "print(statement)\n",
    "\n",
    "df = pd.read_sql(statement, conn)\n",
    "df.head(5)"
   ]
  },
  {
   "cell_type": "markdown",
   "id": "domestic-generic",
   "metadata": {},
   "source": [
    "## 8. Which Products have Most Helpful Reviews? How Long are the Most Helpful Reviews?"
   ]
  },
  {
   "cell_type": "code",
   "execution_count": null,
   "id": "descending-scope",
   "metadata": {},
   "outputs": [],
   "source": [
    "# SQL statement\n",
    "statement = \"\"\"\n",
    "    SELECT product_title, SUM(helpful_votes) AS Sum_Helpful_Vote, \n",
    "           AVG(star_rating) AS Avg_Star_Rating,\n",
    "           LENGTH(review_body) AS Lenth_Review_Body,\n",
    "           SUBSTR(review_body, 1, 100) AS Substr_Review_Body\n",
    "    FROM {}.{}\n",
    "    WHERE product_category in ('Digital_Software', 'Gift_Card', 'Digital_Video_Games') \n",
    "    GROUP BY product_title\n",
    "    ORDER BY Sum_Helpful_Vote DESC\n",
    "\"\"\".format(\n",
    "    database_name, table_name\n",
    ")\n",
    "\n",
    "print(statement)\n",
    "\n",
    "df = pd.read_sql(statement, conn)\n",
    "df.head(5)"
   ]
  },
  {
   "cell_type": "markdown",
   "id": "joint-fields",
   "metadata": {},
   "source": [
    "The following illustrates the syntax of the `OFFSET` and `FETCH` clauses:\n",
    "\n",
    "`ORDER BY` column_list [ASC |DESC]\n",
    "\n",
    "`OFFSET` offset_row_count {ROW | ROWS}\n",
    "\n",
    "`FETCH` {FIRST | NEXT} fetch_row_count {ROW | ROWS} ONLY"
   ]
  },
  {
   "cell_type": "code",
   "execution_count": null,
   "id": "dense-alignment",
   "metadata": {},
   "outputs": [],
   "source": [
    "# SQL statement \n",
    "statement = \"\"\"\n",
    "    SELECT product_title, helpful_votes, star_rating,\n",
    "           LENGTH(review_body) AS Lenth_Review_Body,\n",
    "           SUBSTR(review_body, 1, 100) AS Substr_Review_Body\n",
    "    FROM {}.{}\n",
    "    WHERE product_category in ('Digital_Software', 'Gift_Card', 'Digital_Video_Games') \n",
    "    ORDER BY helpful_vote DESC\n",
    "    LIMIT 10\n",
    "\"\"\".format(\n",
    "    database_name, table_name\n",
    ")\n",
    "\n",
    "print(statement)\n",
    "\n",
    "df = pd.read_sql(statement, conn)\n",
    "df.head(5)"
   ]
  },
  {
   "cell_type": "markdown",
   "id": "brief-meaning",
   "metadata": {},
   "source": [
    "## 9. What is the Ratio of Positive (5, 4) to Negative (3, 2 ,1) Reviews?"
   ]
  },
  {
   "cell_type": "code",
   "execution_count": null,
   "id": "cognitive-irish",
   "metadata": {},
   "outputs": [],
   "source": [
    "# SQL statement\n",
    "statement = \"\"\"\n",
    "    SELECT (CAST(Count_Positive_Review)/CAST(Count_Negative_Review)) AS Ratio_Positive2Negative_Sentiment\n",
    "    FROM (\n",
    "    SELECT COUNT(*) AS Count_Positive_Review\n",
    "    FROM {}.{}\n",
    "    WHERE star_rating >= 4 AND product_category in ('Digital_Software', 'Gift_Card', 'Digital_Video_Games')\n",
    "    ),(\n",
    "    SELECT COUNT(*) AS Count_Negative_Review\n",
    "    FROM {}.{}\n",
    "    WHERE star_rating <= 3 AND product_category in ('Digital_Software', 'Gift_Card', 'Digital_Video_Games')\n",
    "    )\n",
    "\"\"\".format(\n",
    "    database_name, table_name\n",
    ")\n",
    "\n",
    "print(statement)\n",
    "\n",
    "df = pd.read_sql(statement, conn)\n",
    "df.head(5)"
   ]
  },
  {
   "cell_type": "markdown",
   "id": "brief-gateway",
   "metadata": {},
   "source": [
    "## 10. Which Customers are Abusing the Review System by Repeatedly Reviewing the Same Product? What Was Their Average Star Rating for Each Product?"
   ]
  },
  {
   "cell_type": "code",
   "execution_count": null,
   "id": "criminal-decision",
   "metadata": {},
   "outputs": [],
   "source": [
    "# SQL statement\n",
    "statement = \"\"\"\n",
    "    SELECT customer_id, product_category, product_title, \n",
    "           COUNT(*) AS Count_Review, \n",
    "           ROUND(AVG(star_rating), 4) AS Avg_Star_Rating\n",
    "    FROM {}.{}\n",
    "    WHERE product_category in ('Digital_Software', 'Gift_Card', 'Digital_Video_Games')\n",
    "    GROUP BY customer_id, product_category, product_title\n",
    "    HAVING Count_Review > 1\n",
    "    ORDER BY Count_Review DESC\n",
    "    LIMIT 5\n",
    "\"\"\".format(\n",
    "    database_name, table_name\n",
    ")\n",
    "\n",
    "print(statement)\n",
    "\n",
    "df = pd.read_sql(statement, conn)\n",
    "df.head(5)"
   ]
  },
  {
   "cell_type": "markdown",
   "id": "light-fortune",
   "metadata": {},
   "source": [
    "## 11. What is the distribution of review lengths (number of words)?"
   ]
  },
  {
   "cell_type": "code",
   "execution_count": null,
   "id": "russian-fisher",
   "metadata": {},
   "outputs": [],
   "source": [
    "# SQL statement\n",
    "statement = \"\"\"\n",
    "    SELECT CARDINALITY(SPLIT(review_body, ' ')) AS num_words\n",
    "    FROM {}.{}\n",
    "    WHERE product_category in ('Digital_Software', 'Gift_Card', 'Digital_Video_Games')\n",
    "\"\"\".format(\n",
    "    database_name, table_name\n",
    ")\n",
    "\n",
    "print(statement)\n",
    "\n",
    "df = pd.read_sql(statement, conn)\n",
    "df.head(5)"
   ]
  }
 ],
 "metadata": {
  "kernelspec": {
   "display_name": "learn-env",
   "language": "python",
   "name": "learn-env"
  },
  "language_info": {
   "codemirror_mode": {
    "name": "ipython",
    "version": 3
   },
   "file_extension": ".py",
   "mimetype": "text/x-python",
   "name": "python",
   "nbconvert_exporter": "python",
   "pygments_lexer": "ipython3",
   "version": "3.8.8"
  }
 },
 "nbformat": 4,
 "nbformat_minor": 5
}
