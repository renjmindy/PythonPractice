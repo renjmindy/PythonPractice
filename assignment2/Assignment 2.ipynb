{
 "cells": [
  {
   "cell_type": "markdown",
   "metadata": {},
   "source": [
    "# Q1: \n",
    "Write a function that returns the maximum of two numbers."
   ]
  },
  {
   "cell_type": "code",
   "execution_count": 1,
   "metadata": {},
   "outputs": [],
   "source": [
    "def find_max(a, b):\n",
    "    numList = []\n",
    "    numList.append(a)\n",
    "    numList.append(b)\n",
    "    return max(numList)"
   ]
  },
  {
   "cell_type": "code",
   "execution_count": 2,
   "metadata": {},
   "outputs": [
    {
     "data": {
      "text/plain": [
       "100"
      ]
     },
     "execution_count": 2,
     "metadata": {},
     "output_type": "execute_result"
    }
   ],
   "source": [
    "find_max(5, 100)"
   ]
  },
  {
   "cell_type": "markdown",
   "metadata": {},
   "source": [
    "# Q2: \n",
    "Write a function called fizz_buzz that takes a number.  \n",
    "\n",
    "    1. If the number is divisible by 3, it should return “Fizz”.  \n",
    "\n",
    "    2. If it is divisible by 5, it should return “Buzz”.  \n",
    "\n",
    "    3. If it is divisible by both 3 and 5, it should return “FizzBuzz”.  \n",
    "\n",
    "    4. Otherwise, it should return the same number.  "
   ]
  },
  {
   "cell_type": "code",
   "execution_count": 3,
   "metadata": {},
   "outputs": [],
   "source": [
    "def fizz_buzz(num): \n",
    "    \n",
    "    name = \"\"\n",
    "    \n",
    "    if (num % 3 == 0 and num % 5 != 0): name = \"Fizz\" \n",
    "    elif (num % 5 == 0 and num % 3 != 0): name = \"Buzz\" \n",
    "    elif (num % 5 == 0 and num % 3 == 0): name = \"FizzBuzz\"     \n",
    "    else: name = str(num) \n",
    "        \n",
    "    return name"
   ]
  },
  {
   "cell_type": "code",
   "execution_count": 4,
   "metadata": {},
   "outputs": [
    {
     "name": "stdout",
     "output_type": "stream",
     "text": [
      "Fizz\n",
      "FizzBuzz\n",
      "Buzz\n",
      "32\n"
     ]
    }
   ],
   "source": [
    "print(fizz_buzz(27))\n",
    "print(fizz_buzz(30)) \n",
    "print(fizz_buzz(35))\n",
    "print(fizz_buzz(32))"
   ]
  },
  {
   "cell_type": "markdown",
   "metadata": {},
   "source": [
    "# Q3: \n",
    "Write a function for checking the speed of drivers. This function should have one parameter:  speed.  \n",
    "\n",
    "    1. If speed is less than 70, it should print “Ok”.  \n",
    "\n",
    "    2. Otherwise, for every 5km above the speed limit (70), it should give the driver one demerit point and print the total number of demerit points. For example, if the speed is 80, it  should print: “Points: 2”.  \n",
    "\n",
    "    3. If the driver gets more than 12 points, the function should print: “License suspended”  "
   ]
  },
  {
   "cell_type": "code",
   "execution_count": 5,
   "metadata": {},
   "outputs": [],
   "source": [
    "def checkSpeed(speed):\n",
    "    \n",
    "    sign = \"\"\n",
    "    \n",
    "    if speed < 70: sign = \"ok\"\n",
    "    else: \n",
    "        a = (speed-70)//5 \n",
    "        if a <= 12: sign = f\"Points: {a}\"\n",
    "        else: sign = \"License suspended\"\n",
    "            \n",
    "    return sign"
   ]
  },
  {
   "cell_type": "code",
   "execution_count": 6,
   "metadata": {},
   "outputs": [
    {
     "name": "stdout",
     "output_type": "stream",
     "text": [
      "ok\n",
      "Points: 2\n",
      "Points: 6\n",
      "Points: 10\n",
      "License suspended\n"
     ]
    }
   ],
   "source": [
    "print(checkSpeed(60))\n",
    "print(checkSpeed(80))\n",
    "print(checkSpeed(100))\n",
    "print(checkSpeed(120))\n",
    "print(checkSpeed(140))"
   ]
  },
  {
   "cell_type": "markdown",
   "metadata": {},
   "source": [
    "# Q4:\n",
    "Write a function called showNumbers that takes a parameter called limit. It should print all  the numbers between 0 and limit with a label to identify the even and odd numbers. For  example, if the limit is 3, it should print:  \n",
    "\n",
    "* 0 EVEN  \n",
    "\n",
    "* 1 ODD  \n",
    "\n",
    "* 2 EVEN  \n",
    "\n",
    "* 3 ODD  "
   ]
  },
  {
   "cell_type": "code",
   "execution_count": 7,
   "metadata": {},
   "outputs": [],
   "source": [
    "def showNumbers(limit):\n",
    "    \n",
    "    a = 0\n",
    "    sign = \"\"\n",
    "    \n",
    "    while a <= limit:\n",
    "        \n",
    "        if a % 2 == 0: \n",
    "            sign = f\"{a} EVEN\" \n",
    "            print(sign)\n",
    "        else: \n",
    "            sign = f\"{a} ODD\"\n",
    "            print(sign)\n",
    "            \n",
    "        a += 1\n",
    "        \n",
    "    pass"
   ]
  },
  {
   "cell_type": "code",
   "execution_count": 8,
   "metadata": {},
   "outputs": [
    {
     "name": "stdout",
     "output_type": "stream",
     "text": [
      "0 EVEN\n",
      "1 ODD\n",
      "2 EVEN\n",
      "3 ODD\n"
     ]
    }
   ],
   "source": [
    "showNumbers(3)"
   ]
  },
  {
   "cell_type": "code",
   "execution_count": 9,
   "metadata": {},
   "outputs": [
    {
     "name": "stdout",
     "output_type": "stream",
     "text": [
      "0 EVEN\n",
      "1 ODD\n",
      "2 EVEN\n",
      "3 ODD\n",
      "4 EVEN\n",
      "5 ODD\n",
      "6 EVEN\n",
      "7 ODD\n",
      "8 EVEN\n",
      "9 ODD\n",
      "10 EVEN\n"
     ]
    }
   ],
   "source": [
    "showNumbers(10)"
   ]
  },
  {
   "cell_type": "markdown",
   "metadata": {},
   "source": [
    "# Q5: \n",
    "Write a function that returns the sum of multiples of 3 and 5 between 0 and limit (parameter).  For example, if limit is 20, it should return the sum of 3, 5, 6, 9, 10, 12, 15, 18, 20.  "
   ]
  },
  {
   "cell_type": "code",
   "execution_count": 10,
   "metadata": {},
   "outputs": [],
   "source": [
    "def multiples(limit):\n",
    "    \n",
    "    a = 0\n",
    "    \n",
    "    for i in range(0, limit+1):\n",
    "        \n",
    "        if i % 3 == 0: a += i\n",
    "        elif i % 5 == 0: a += i\n",
    "        else: a += 0\n",
    "            \n",
    "    return a"
   ]
  },
  {
   "cell_type": "code",
   "execution_count": 11,
   "metadata": {},
   "outputs": [
    {
     "data": {
      "text/plain": [
       "98"
      ]
     },
     "execution_count": 11,
     "metadata": {},
     "output_type": "execute_result"
    }
   ],
   "source": [
    "multiples(20)"
   ]
  },
  {
   "cell_type": "code",
   "execution_count": 12,
   "metadata": {},
   "outputs": [
    {
     "data": {
      "text/plain": [
       "33"
      ]
     },
     "execution_count": 12,
     "metadata": {},
     "output_type": "execute_result"
    }
   ],
   "source": [
    "multiples(10)"
   ]
  },
  {
   "cell_type": "markdown",
   "metadata": {},
   "source": [
    "# Q6:\n",
    "Write a function called show_stars(rows). If rows is 5, it should print the following:  \n",
    "\n",
    "o *  \n",
    "\n",
    "o **  \n",
    "\n",
    "o ***  \n",
    "\n",
    "o ****  \n",
    "\n",
    "o *****  "
   ]
  },
  {
   "cell_type": "code",
   "execution_count": 13,
   "metadata": {},
   "outputs": [],
   "source": [
    "def show_stars(rows):\n",
    "    \n",
    "    for i in range(1, rows+1):\n",
    "        for j in range(1, i+1):\n",
    "            print(end=\"* \")\n",
    "        print()\n",
    "        \n",
    "    pass"
   ]
  },
  {
   "cell_type": "code",
   "execution_count": 14,
   "metadata": {},
   "outputs": [
    {
     "name": "stdout",
     "output_type": "stream",
     "text": [
      "* \n",
      "* * \n",
      "* * * \n",
      "* * * * \n",
      "* * * * * \n"
     ]
    }
   ],
   "source": [
    "show_stars(5)"
   ]
  },
  {
   "cell_type": "code",
   "execution_count": 15,
   "metadata": {},
   "outputs": [
    {
     "name": "stdout",
     "output_type": "stream",
     "text": [
      "* \n",
      "* * \n",
      "* * * \n",
      "* * * * \n",
      "* * * * * \n",
      "* * * * * * \n",
      "* * * * * * * \n",
      "* * * * * * * * \n",
      "* * * * * * * * * \n",
      "* * * * * * * * * * \n"
     ]
    }
   ],
   "source": [
    "show_stars(10)"
   ]
  },
  {
   "cell_type": "markdown",
   "metadata": {},
   "source": [
    "# Q7:\n",
    "Write a function that prints all the prime numbers between 0 and limit where limit is a  parameter. "
   ]
  },
  {
   "cell_type": "code",
   "execution_count": 16,
   "metadata": {},
   "outputs": [],
   "source": [
    "def prime_numbers(limit):\n",
    "    \n",
    "    primeList = []\n",
    "    \n",
    "    for i in range(2, limit+1):\n",
    "        is_prime = True\n",
    "        for j in range(2, i):\n",
    "            if i % j == 0: \n",
    "                is_prime = False\n",
    "                break\n",
    "            else: is_prime = True\n",
    "        \n",
    "        if is_prime: primeList.append(i)\n",
    "        \n",
    "    return primeList"
   ]
  },
  {
   "cell_type": "code",
   "execution_count": 17,
   "metadata": {},
   "outputs": [
    {
     "data": {
      "text/plain": [
       "[2, 3, 5, 7, 11, 13, 17, 19, 23, 29, 31, 37, 41, 43, 47]"
      ]
     },
     "execution_count": 17,
     "metadata": {},
     "output_type": "execute_result"
    }
   ],
   "source": [
    "prime_numbers(50)"
   ]
  },
  {
   "cell_type": "code",
   "execution_count": null,
   "metadata": {},
   "outputs": [],
   "source": []
  }
 ],
 "metadata": {
  "kernelspec": {
   "display_name": "learn-env",
   "language": "python",
   "name": "learn-env"
  },
  "language_info": {
   "codemirror_mode": {
    "name": "ipython",
    "version": 3
   },
   "file_extension": ".py",
   "mimetype": "text/x-python",
   "name": "python",
   "nbconvert_exporter": "python",
   "pygments_lexer": "ipython3",
   "version": "3.8.5"
  }
 },
 "nbformat": 4,
 "nbformat_minor": 4
}
